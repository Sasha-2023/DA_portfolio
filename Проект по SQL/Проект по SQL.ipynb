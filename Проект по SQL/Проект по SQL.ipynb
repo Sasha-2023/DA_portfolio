{
 "cells": [
  {
   "cell_type": "markdown",
   "id": "63626ce3",
   "metadata": {},
   "source": [
    "# Проект по SQL"
   ]
  },
  {
   "cell_type": "markdown",
   "id": "a2cd4bf0",
   "metadata": {},
   "source": [
    "#### Компания купила крупный сервис для чтения книг по подписке. Первая задача — проанализировать базу данных. В ней — информация о книгах, издательствах, авторах, а также пользовательские обзоры книг. Эти данные помогут сформулировать ценностное предложение для нового продукта."
   ]
  },
  {
   "cell_type": "markdown",
   "id": "7a409cfa",
   "metadata": {},
   "source": [
    "### Задания\n",
    "\n",
    "- Посчитать, сколько книг вышло после 1 января 2000 года;\n",
    "- Для каждой книги посчитать количество обзоров и среднюю оценку;\n",
    "- Определить издательство, которое выпустило наибольшее число книг толще 50 страниц — для исключения из анализа брошюр;\n",
    "- Определить автора с самой высокой средней оценкой книг — учитываются только книги с 50 и более оценками;\n",
    "- Посчитайть среднее количество обзоров от пользователей, которые поставили больше 50 оценок."
   ]
  },
  {
   "cell_type": "code",
   "execution_count": 1,
   "id": "e6848a50",
   "metadata": {},
   "outputs": [],
   "source": [
    "# импортируем библиотеки\n",
    "import pandas as pd\n",
    "from sqlalchemy import create_engine"
   ]
  },
  {
   "cell_type": "code",
   "execution_count": 2,
   "id": "fd0a1db6",
   "metadata": {},
   "outputs": [],
   "source": [
    "# устанавливаем параметры\n",
    "db_config = {'user': 'praktikum_student', # имя пользователя\n",
    "             'pwd': 'Sdf4$2;d-d30pp', # пароль\n",
    "             'host': 'rc1b-wcoijxj3yxfsf3fs.mdb.yandexcloud.net',\n",
    "             'port': 6432, # порт подключения\n",
    "             'db': 'data-analyst-final-project-db'} # название базы данных\n",
    "\n",
    "connection_string = 'postgresql://{}:{}@{}:{}/{}'.format(db_config['user'],\n",
    "                     db_config['pwd'],\n",
    "                     db_config['host'],\n",
    "                     db_config['port'],\n",
    "                     db_config['db'])\n",
    "\n",
    "# сохраняем коннектор\n",
    "engine = create_engine(connection_string, connect_args={'sslmode':'require'})"
   ]
  },
  {
   "cell_type": "markdown",
   "id": "416cdcb6",
   "metadata": {},
   "source": [
    "#### 1 Посчитаем, сколько книг вышло после 1 января 2000 года."
   ]
  },
  {
   "cell_type": "code",
   "execution_count": 3,
   "id": "45037d86",
   "metadata": {},
   "outputs": [],
   "source": [
    "query = '''SELECT COUNT(DISTINCT book_id) AS \"количество\"\n",
    "           FROM books\n",
    "           WHERE publication_date > '2000-01-01'\n",
    "           '''"
   ]
  },
  {
   "cell_type": "code",
   "execution_count": 4,
   "id": "278ad8ef",
   "metadata": {},
   "outputs": [],
   "source": [
    "result = pd.io.sql.read_sql(query, con = engine) "
   ]
  },
  {
   "cell_type": "code",
   "execution_count": 5,
   "id": "56f57ccd",
   "metadata": {},
   "outputs": [
    {
     "name": "stdout",
     "output_type": "stream",
     "text": [
      "   количество\n",
      "0         819\n"
     ]
    }
   ],
   "source": [
    "print(result)"
   ]
  },
  {
   "cell_type": "markdown",
   "id": "25d25b30",
   "metadata": {},
   "source": [
    "После 1 января 2000 года вышло 819 книг."
   ]
  },
  {
   "cell_type": "markdown",
   "id": "58c14500",
   "metadata": {},
   "source": [
    "#### 2 Посчитаем количество обзоров и среднюю оценку для каждой книги."
   ]
  },
  {
   "cell_type": "code",
   "execution_count": 6,
   "id": "19bde684",
   "metadata": {},
   "outputs": [],
   "source": [
    "query = '''SELECT title AS \"название\", COUNT(DISTINCT review_id) AS \"количество рецензий\",\n",
    "           ROUND(AVG(rating), 2) AS \"средняя оценка\"\n",
    "           FROM reviews INNER JOIN ratings ON reviews.book_id=ratings.book_id\n",
    "                        RIGHT JOIN books ON ratings.book_id=books.book_id\n",
    "           GROUP BY books.title\n",
    "           '''"
   ]
  },
  {
   "cell_type": "code",
   "execution_count": 7,
   "id": "a4538f9e",
   "metadata": {},
   "outputs": [],
   "source": [
    "result = pd.io.sql.read_sql(query, con = engine) "
   ]
  },
  {
   "cell_type": "code",
   "execution_count": 8,
   "id": "c403b772",
   "metadata": {},
   "outputs": [
    {
     "name": "stdout",
     "output_type": "stream",
     "text": [
      "                                              название  количество рецензий  \\\n",
      "0                                         'Salem's Lot                    2   \n",
      "1                   1 000 Places to See Before You Die                    1   \n",
      "2    13 Little Blue Envelopes (Little Blue Envelope...                    3   \n",
      "3    1491: New Revelations of the Americas Before C...                    2   \n",
      "4                                                 1776                    4   \n",
      "..                                                 ...                  ...   \n",
      "994           Wyrd Sisters (Discworld  #6; Witches #2)                    3   \n",
      "995                        Xenocide (Ender's Saga  #3)                    3   \n",
      "996                                    Year of Wonders                    4   \n",
      "997                        You Suck (A Love Story  #2)                    2   \n",
      "998  Zen and the Art of Motorcycle Maintenance: An ...                    4   \n",
      "\n",
      "     средняя оценка  \n",
      "0              3.67  \n",
      "1              2.50  \n",
      "2              4.67  \n",
      "3              4.50  \n",
      "4              4.00  \n",
      "..              ...  \n",
      "994            3.67  \n",
      "995            3.40  \n",
      "996            3.20  \n",
      "997            4.50  \n",
      "998            3.83  \n",
      "\n",
      "[999 rows x 3 columns]\n"
     ]
    }
   ],
   "source": [
    "print(result)"
   ]
  },
  {
   "cell_type": "markdown",
   "id": "48800291",
   "metadata": {},
   "source": [
    "Для каждой книги найдено количество обзоров и средняя оценка."
   ]
  },
  {
   "cell_type": "markdown",
   "id": "061640bc",
   "metadata": {},
   "source": [
    "#### 3 Определим издательство, которое выпустило наибольшее число книг толще 50 страниц."
   ]
  },
  {
   "cell_type": "code",
   "execution_count": 9,
   "id": "11a99370",
   "metadata": {},
   "outputs": [],
   "source": [
    "query = '''SELECT publisher AS \"издательство\", COUNT(book_id) AS \"количество книг толще 50-ти страниц\"\n",
    "           FROM publishers INNER JOIN (\n",
    "                                      SELECT *\n",
    "                                      FROM books\n",
    "                                      WHERE num_pages > 50\n",
    "                                      ) AS big_books\n",
    "                                      ON publishers.publisher_id=big_books.publisher_id\n",
    "           GROUP BY publisher\n",
    "           ORDER BY 2 DESC\n",
    "           LIMIT 1\n",
    "                      \n",
    "           '''"
   ]
  },
  {
   "cell_type": "code",
   "execution_count": 10,
   "id": "4c6d9184",
   "metadata": {},
   "outputs": [],
   "source": [
    "result = pd.io.sql.read_sql(query, con = engine)"
   ]
  },
  {
   "cell_type": "code",
   "execution_count": 11,
   "id": "85fe60e0",
   "metadata": {},
   "outputs": [
    {
     "name": "stdout",
     "output_type": "stream",
     "text": [
      "    издательство  количество книг толще 50-ти страниц\n",
      "0  Penguin Books                                   42\n"
     ]
    }
   ],
   "source": [
    "print(result)"
   ]
  },
  {
   "cell_type": "markdown",
   "id": "9458e20e",
   "metadata": {},
   "source": [
    "Наибольшее число книг толще 50 страниц выпустило издательство Penguin Books (42 шт)."
   ]
  },
  {
   "cell_type": "markdown",
   "id": "2b0cf62e",
   "metadata": {},
   "source": [
    "#### 4 Определим автора с самой высокой средней оценкой книг, учитываем книги с 50-ю и более оценками."
   ]
  },
  {
   "cell_type": "code",
   "execution_count": 12,
   "id": "70de94ce",
   "metadata": {},
   "outputs": [],
   "source": [
    "query = '''SELECT author AS \"автор\", round(AVG(avg), 2) AS \"средняя оценка книг\"\n",
    "           FROM authors INNER JOIN books ON authors.author_id=books.author_id\n",
    "                        INNER JOIN (\n",
    "                                   SELECT book_id, AVG(rating)\n",
    "                                   FROM ratings\n",
    "                                   GROUP BY book_id\n",
    "                                   HAVING COUNT(rating_id) > 50\n",
    "                                   ) AS rated_books\n",
    "                                   ON books.book_id=rated_books.book_id\n",
    "           GROUP BY author\n",
    "           ORDER BY 2 DESC\n",
    "           LIMIT 1\n",
    "                      \n",
    "           '''"
   ]
  },
  {
   "cell_type": "code",
   "execution_count": 13,
   "id": "684e3afe",
   "metadata": {},
   "outputs": [],
   "source": [
    "result = pd.io.sql.read_sql(query, con = engine)"
   ]
  },
  {
   "cell_type": "code",
   "execution_count": 14,
   "id": "8ef92d9e",
   "metadata": {},
   "outputs": [
    {
     "name": "stdout",
     "output_type": "stream",
     "text": [
      "                        автор  средняя оценка книг\n",
      "0  J.K. Rowling/Mary GrandPré                 4.28\n"
     ]
    }
   ],
   "source": [
    "print(result)"
   ]
  },
  {
   "cell_type": "markdown",
   "id": "79fbf3b4",
   "metadata": {},
   "source": [
    " Автор с самой высокой средней оценкой книг, учитывая книги с 50-ю и более оценками - J.K. Rowling/Mary GrandPré (4.28)."
   ]
  },
  {
   "cell_type": "markdown",
   "id": "52e40858",
   "metadata": {},
   "source": [
    "#### 5 Посчитаем среднее количество обзоров от пользователей, которые поставили больше 50-ти оценок."
   ]
  },
  {
   "cell_type": "code",
   "execution_count": 15,
   "id": "9b298bb7",
   "metadata": {},
   "outputs": [],
   "source": [
    "query = '''SELECT ROUND(AVG(count)) AS \"среднее количество обзоров\"\n",
    "           FROM (\n",
    "                SELECT COUNT(review_id)\n",
    "                FROM reviews INNER JOIN (\n",
    "                                        SELECT username\n",
    "                                        FROM ratings\n",
    "                                        GROUP BY username\n",
    "                                        HAVING COUNT(rating_id) > 50\n",
    "                                        ) AS active_users\n",
    "                                        ON reviews.username=active_users.username                                   \n",
    "                GROUP BY active_users.username\n",
    "                ) AS active_users_cnt_rev         \n",
    "                                \n",
    "               '''"
   ]
  },
  {
   "cell_type": "code",
   "execution_count": 16,
   "id": "7de4caf4",
   "metadata": {},
   "outputs": [],
   "source": [
    "result = pd.io.sql.read_sql(query, con = engine)"
   ]
  },
  {
   "cell_type": "code",
   "execution_count": 17,
   "id": "cce7b449",
   "metadata": {},
   "outputs": [
    {
     "name": "stdout",
     "output_type": "stream",
     "text": [
      "   среднее количество обзоров\n",
      "0                        24.0\n"
     ]
    }
   ],
   "source": [
    "print(result)"
   ]
  },
  {
   "cell_type": "markdown",
   "id": "b4643140",
   "metadata": {},
   "source": [
    "Среднее количество обзоров от пользователей, поставивших больше 50-ти оценок - 24 шт."
   ]
  },
  {
   "cell_type": "markdown",
   "id": "7a40a753",
   "metadata": {},
   "source": [
    "### Итоговый вывод:\n",
    "\n",
    "- После 1 января 2000 года вышло 819 книг.\n",
    "- Для каждой книги найдено количество обзоров и средняя оценка.\n",
    "- Наибольшее число книг толще 50 страниц выпустило издательство Penguin Books (42 шт).\n",
    "- Автор с самой высокой средней оценкой книг, учитывая книги с 50-ю и более оценками - J.K. Rowling/Mary GrandPré (4.28).\n",
    "- Среднее количество обзоров от пользователей, поставивших больше 50-ти оценок - 24 шт."
   ]
  }
 ],
 "metadata": {
  "ExecuteTimeLog": [
   {
    "duration": 440,
    "start_time": "2023-02-10T03:51:53.176Z"
   },
   {
    "duration": 4440,
    "start_time": "2023-02-10T03:51:53.619Z"
   },
   {
    "duration": 3,
    "start_time": "2023-02-10T03:51:58.060Z"
   },
   {
    "duration": 48,
    "start_time": "2023-02-10T03:51:58.065Z"
   },
   {
    "duration": 6,
    "start_time": "2023-02-10T03:51:58.115Z"
   },
   {
    "duration": 8,
    "start_time": "2023-02-10T03:51:58.122Z"
   },
   {
    "duration": 36,
    "start_time": "2023-02-10T03:51:58.131Z"
   },
   {
    "duration": 7,
    "start_time": "2023-02-10T03:51:58.168Z"
   },
   {
    "duration": 6,
    "start_time": "2023-02-10T03:51:58.176Z"
   },
   {
    "duration": 10,
    "start_time": "2023-02-10T03:51:58.184Z"
   },
   {
    "duration": 4,
    "start_time": "2023-02-10T03:51:58.196Z"
   },
   {
    "duration": 7,
    "start_time": "2023-02-10T03:51:58.201Z"
   },
   {
    "duration": 12,
    "start_time": "2023-02-10T03:51:58.209Z"
   },
   {
    "duration": 4,
    "start_time": "2023-02-10T03:51:58.223Z"
   },
   {
    "duration": 4,
    "start_time": "2023-02-10T03:51:58.229Z"
   },
   {
    "duration": 14,
    "start_time": "2023-02-10T03:51:58.235Z"
   },
   {
    "duration": 5,
    "start_time": "2023-02-10T03:51:58.250Z"
   }
  ],
  "kernelspec": {
   "display_name": "Python 3 (ipykernel)",
   "language": "python",
   "name": "python3"
  },
  "language_info": {
   "codemirror_mode": {
    "name": "ipython",
    "version": 3
   },
   "file_extension": ".py",
   "mimetype": "text/x-python",
   "name": "python",
   "nbconvert_exporter": "python",
   "pygments_lexer": "ipython3",
   "version": "3.9.13"
  },
  "toc": {
   "base_numbering": 1,
   "nav_menu": {},
   "number_sections": true,
   "sideBar": true,
   "skip_h1_title": true,
   "title_cell": "Table of Contents",
   "title_sidebar": "Contents",
   "toc_cell": false,
   "toc_position": {},
   "toc_section_display": true,
   "toc_window_display": true
  }
 },
 "nbformat": 4,
 "nbformat_minor": 5
}
