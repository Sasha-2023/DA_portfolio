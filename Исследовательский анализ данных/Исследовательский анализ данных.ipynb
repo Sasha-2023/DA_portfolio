{
 "cells": [
  {
   "cell_type": "markdown",
   "metadata": {},
   "source": [
    "# Проект \"Исследовательский анализ данных\""
   ]
  },
  {
   "cell_type": "markdown",
   "metadata": {},
   "source": [
    "# Исследование объявлений о продаже квартир\n",
    "\n",
    "В вашем распоряжении данные сервиса Яндекс.Недвижимость — архив объявлений о продаже квартир в Санкт-Петербурге и соседних населённых пунктов за несколько лет. Нужно научиться определять рыночную стоимость объектов недвижимости. Ваша задача — установить параметры. Это позволит построить автоматизированную систему: она отследит аномалии и мошенническую деятельность. \n",
    "\n",
    "По каждой квартире на продажу доступны два вида данных. Первые вписаны пользователем, вторые — получены автоматически на основе картографических данных. Например, расстояние до центра, аэропорта, ближайшего парка и водоёма. "
   ]
  },
  {
   "cell_type": "markdown",
   "metadata": {},
   "source": [
    "### Откройте файл с данными и изучите общую информацию. "
   ]
  },
  {
   "cell_type": "code",
   "execution_count": 1,
   "metadata": {
    "scrolled": false
   },
   "outputs": [
    {
     "name": "stdout",
     "output_type": "stream",
     "text": [
      "   total_images  last_price  total_area first_day_exposition  rooms  \\\n",
      "0            20  13000000.0      108.00  2019-03-07T00:00:00      3   \n",
      "1             7   3350000.0       40.40  2018-12-04T00:00:00      1   \n",
      "2            10   5196000.0       56.00  2015-08-20T00:00:00      2   \n",
      "3             0  64900000.0      159.00  2015-07-24T00:00:00      3   \n",
      "4             2  10000000.0      100.00  2018-06-19T00:00:00      2   \n",
      "5            10   2890000.0       30.40  2018-09-10T00:00:00      1   \n",
      "6             6   3700000.0       37.30  2017-11-02T00:00:00      1   \n",
      "7             5   7915000.0       71.60  2019-04-18T00:00:00      2   \n",
      "8            20   2900000.0       33.16  2018-05-23T00:00:00      1   \n",
      "9            18   5400000.0       61.00  2017-02-26T00:00:00      3   \n",
      "\n",
      "   ceiling_height  floors_total  living_area  floor is_apartment  ...  \\\n",
      "0            2.70          16.0        51.00      8          NaN  ...   \n",
      "1             NaN          11.0        18.60      1          NaN  ...   \n",
      "2             NaN           5.0        34.30      4          NaN  ...   \n",
      "3             NaN          14.0          NaN      9          NaN  ...   \n",
      "4            3.03          14.0        32.00     13          NaN  ...   \n",
      "5             NaN          12.0        14.40      5          NaN  ...   \n",
      "6             NaN          26.0        10.60      6          NaN  ...   \n",
      "7             NaN          24.0          NaN     22          NaN  ...   \n",
      "8             NaN          27.0        15.43     26          NaN  ...   \n",
      "9            2.50           9.0        43.60      7          NaN  ...   \n",
      "\n",
      "   kitchen_area  balcony              locality_name  airports_nearest  \\\n",
      "0         25.00      NaN            Санкт-Петербург           18863.0   \n",
      "1         11.00      2.0             посёлок Шушары           12817.0   \n",
      "2          8.30      0.0            Санкт-Петербург           21741.0   \n",
      "3           NaN      0.0            Санкт-Петербург           28098.0   \n",
      "4         41.00      NaN            Санкт-Петербург           31856.0   \n",
      "5          9.10      NaN  городской посёлок Янино-1               NaN   \n",
      "6         14.40      1.0          посёлок Парголово           52996.0   \n",
      "7         18.90      2.0            Санкт-Петербург           23982.0   \n",
      "8          8.81      NaN             посёлок Мурино               NaN   \n",
      "9          6.50      2.0            Санкт-Петербург           50898.0   \n",
      "\n",
      "  cityCenters_nearest  parks_around3000  parks_nearest  ponds_around3000  \\\n",
      "0             16028.0               1.0          482.0               2.0   \n",
      "1             18603.0               0.0            NaN               0.0   \n",
      "2             13933.0               1.0           90.0               2.0   \n",
      "3              6800.0               2.0           84.0               3.0   \n",
      "4              8098.0               2.0          112.0               1.0   \n",
      "5                 NaN               NaN            NaN               NaN   \n",
      "6             19143.0               0.0            NaN               0.0   \n",
      "7             11634.0               0.0            NaN               0.0   \n",
      "8                 NaN               NaN            NaN               NaN   \n",
      "9             15008.0               0.0            NaN               0.0   \n",
      "\n",
      "   ponds_nearest  days_exposition  \n",
      "0          755.0              NaN  \n",
      "1            NaN             81.0  \n",
      "2          574.0            558.0  \n",
      "3          234.0            424.0  \n",
      "4           48.0            121.0  \n",
      "5            NaN             55.0  \n",
      "6            NaN            155.0  \n",
      "7            NaN              NaN  \n",
      "8            NaN            189.0  \n",
      "9            NaN            289.0  \n",
      "\n",
      "[10 rows x 22 columns]\n",
      "<class 'pandas.core.frame.DataFrame'>\n",
      "RangeIndex: 23699 entries, 0 to 23698\n",
      "Data columns (total 22 columns):\n",
      " #   Column                Non-Null Count  Dtype  \n",
      "---  ------                --------------  -----  \n",
      " 0   total_images          23699 non-null  int64  \n",
      " 1   last_price            23699 non-null  float64\n",
      " 2   total_area            23699 non-null  float64\n",
      " 3   first_day_exposition  23699 non-null  object \n",
      " 4   rooms                 23699 non-null  int64  \n",
      " 5   ceiling_height        14504 non-null  float64\n",
      " 6   floors_total          23613 non-null  float64\n",
      " 7   living_area           21796 non-null  float64\n",
      " 8   floor                 23699 non-null  int64  \n",
      " 9   is_apartment          2775 non-null   object \n",
      " 10  studio                23699 non-null  bool   \n",
      " 11  open_plan             23699 non-null  bool   \n",
      " 12  kitchen_area          21421 non-null  float64\n",
      " 13  balcony               12180 non-null  float64\n",
      " 14  locality_name         23650 non-null  object \n",
      " 15  airports_nearest      18157 non-null  float64\n",
      " 16  cityCenters_nearest   18180 non-null  float64\n",
      " 17  parks_around3000      18181 non-null  float64\n",
      " 18  parks_nearest         8079 non-null   float64\n",
      " 19  ponds_around3000      18181 non-null  float64\n",
      " 20  ponds_nearest         9110 non-null   float64\n",
      " 21  days_exposition       20518 non-null  float64\n",
      "dtypes: bool(2), float64(14), int64(3), object(3)\n",
      "memory usage: 3.7+ MB\n"
     ]
    },
    {
     "data": {
      "image/png": "[encoded data removed]",
      "text/plain": [
       "<Figure size 1080x1440 with 20 Axes>"
      ]
     },
     "metadata": {
      "needs_background": "light"
     },
     "output_type": "display_data"
    }
   ],
   "source": [
    "# загрузим и изучим данные\n",
    "import pandas as pd\n",
    "import matplotlib.pyplot as plt\n",
    "df = pd.read_csv('/datasets/real_estate_data.csv', sep='\\t')\n",
    "print(df.head(10))\n",
    "df.info()\n",
    "df.hist(figsize=(15, 20), bins=30)\n",
    "plt.show()\n",
    "\n"
   ]
  },
  {
   "cell_type": "markdown",
   "metadata": {},
   "source": [
    "### Предобработка данных"
   ]
  },
  {
   "cell_type": "code",
   "execution_count": 2,
   "metadata": {},
   "outputs": [
    {
     "data": {
      "text/html": [
       "<style  type=\"text/css\" >\n",
       "#T_262ba_row0_col0,#T_262ba_row1_col0,#T_262ba_row2_col0,#T_262ba_row3_col0,#T_262ba_row4_col0,#T_262ba_row6_col0,#T_262ba_row8_col0,#T_262ba_row10_col0,#T_262ba_row11_col0,#T_262ba_row14_col0{\n",
       "            background-color:  #3b4cc0;\n",
       "            color:  #f1f1f1;\n",
       "        }#T_262ba_row5_col0{\n",
       "            background-color:  #cdd9ec;\n",
       "            color:  #000000;\n",
       "        }#T_262ba_row7_col0{\n",
       "            background-color:  #5673e0;\n",
       "            color:  #000000;\n",
       "        }#T_262ba_row9_col0{\n",
       "            background-color:  #b40426;\n",
       "            color:  #f1f1f1;\n",
       "        }#T_262ba_row12_col0{\n",
       "            background-color:  #5e7de7;\n",
       "            color:  #000000;\n",
       "        }#T_262ba_row13_col0{\n",
       "            background-color:  #ead4c8;\n",
       "            color:  #000000;\n",
       "        }#T_262ba_row15_col0,#T_262ba_row16_col0,#T_262ba_row17_col0,#T_262ba_row19_col0{\n",
       "            background-color:  #90b2fe;\n",
       "            color:  #000000;\n",
       "        }#T_262ba_row18_col0{\n",
       "            background-color:  #f4987a;\n",
       "            color:  #000000;\n",
       "        }#T_262ba_row20_col0{\n",
       "            background-color:  #f7aa8c;\n",
       "            color:  #000000;\n",
       "        }#T_262ba_row21_col0{\n",
       "            background-color:  #688aef;\n",
       "            color:  #000000;\n",
       "        }</style><table id=\"T_262ba_\" ><thead>    <tr>        <th class=\"blank level0\" ></th>        <th class=\"col_heading level0 col0\" >0</th>    </tr></thead><tbody>\n",
       "                <tr>\n",
       "                        <th id=\"T_262ba_level0_row0\" class=\"row_heading level0 row0\" >total_images</th>\n",
       "                        <td id=\"T_262ba_row0_col0\" class=\"data row0 col0\" >0.000000</td>\n",
       "            </tr>\n",
       "            <tr>\n",
       "                        <th id=\"T_262ba_level0_row1\" class=\"row_heading level0 row1\" >last_price</th>\n",
       "                        <td id=\"T_262ba_row1_col0\" class=\"data row1 col0\" >0.000000</td>\n",
       "            </tr>\n",
       "            <tr>\n",
       "                        <th id=\"T_262ba_level0_row2\" class=\"row_heading level0 row2\" >total_area</th>\n",
       "                        <td id=\"T_262ba_row2_col0\" class=\"data row2 col0\" >0.000000</td>\n",
       "            </tr>\n",
       "            <tr>\n",
       "                        <th id=\"T_262ba_level0_row3\" class=\"row_heading level0 row3\" >first_day_exposition</th>\n",
       "                        <td id=\"T_262ba_row3_col0\" class=\"data row3 col0\" >0.000000</td>\n",
       "            </tr>\n",
       "            <tr>\n",
       "                        <th id=\"T_262ba_level0_row4\" class=\"row_heading level0 row4\" >rooms</th>\n",
       "                        <td id=\"T_262ba_row4_col0\" class=\"data row4 col0\" >0.000000</td>\n",
       "            </tr>\n",
       "            <tr>\n",
       "                        <th id=\"T_262ba_level0_row5\" class=\"row_heading level0 row5\" >ceiling_height</th>\n",
       "                        <td id=\"T_262ba_row5_col0\" class=\"data row5 col0\" >39.000000</td>\n",
       "            </tr>\n",
       "            <tr>\n",
       "                        <th id=\"T_262ba_level0_row6\" class=\"row_heading level0 row6\" >floors_total</th>\n",
       "                        <td id=\"T_262ba_row6_col0\" class=\"data row6 col0\" >0.000000</td>\n",
       "            </tr>\n",
       "            <tr>\n",
       "                        <th id=\"T_262ba_level0_row7\" class=\"row_heading level0 row7\" >living_area</th>\n",
       "                        <td id=\"T_262ba_row7_col0\" class=\"data row7 col0\" >8.000000</td>\n",
       "            </tr>\n",
       "            <tr>\n",
       "                        <th id=\"T_262ba_level0_row8\" class=\"row_heading level0 row8\" >floor</th>\n",
       "                        <td id=\"T_262ba_row8_col0\" class=\"data row8 col0\" >0.000000</td>\n",
       "            </tr>\n",
       "            <tr>\n",
       "                        <th id=\"T_262ba_level0_row9\" class=\"row_heading level0 row9\" >is_apartment</th>\n",
       "                        <td id=\"T_262ba_row9_col0\" class=\"data row9 col0\" >88.000000</td>\n",
       "            </tr>\n",
       "            <tr>\n",
       "                        <th id=\"T_262ba_level0_row10\" class=\"row_heading level0 row10\" >studio</th>\n",
       "                        <td id=\"T_262ba_row10_col0\" class=\"data row10 col0\" >0.000000</td>\n",
       "            </tr>\n",
       "            <tr>\n",
       "                        <th id=\"T_262ba_level0_row11\" class=\"row_heading level0 row11\" >open_plan</th>\n",
       "                        <td id=\"T_262ba_row11_col0\" class=\"data row11 col0\" >0.000000</td>\n",
       "            </tr>\n",
       "            <tr>\n",
       "                        <th id=\"T_262ba_level0_row12\" class=\"row_heading level0 row12\" >kitchen_area</th>\n",
       "                        <td id=\"T_262ba_row12_col0\" class=\"data row12 col0\" >10.000000</td>\n",
       "            </tr>\n",
       "            <tr>\n",
       "                        <th id=\"T_262ba_level0_row13\" class=\"row_heading level0 row13\" >balcony</th>\n",
       "                        <td id=\"T_262ba_row13_col0\" class=\"data row13 col0\" >49.000000</td>\n",
       "            </tr>\n",
       "            <tr>\n",
       "                        <th id=\"T_262ba_level0_row14\" class=\"row_heading level0 row14\" >locality_name</th>\n",
       "                        <td id=\"T_262ba_row14_col0\" class=\"data row14 col0\" >0.000000</td>\n",
       "            </tr>\n",
       "            <tr>\n",
       "                        <th id=\"T_262ba_level0_row15\" class=\"row_heading level0 row15\" >airports_nearest</th>\n",
       "                        <td id=\"T_262ba_row15_col0\" class=\"data row15 col0\" >23.000000</td>\n",
       "            </tr>\n",
       "            <tr>\n",
       "                        <th id=\"T_262ba_level0_row16\" class=\"row_heading level0 row16\" >cityCenters_nearest</th>\n",
       "                        <td id=\"T_262ba_row16_col0\" class=\"data row16 col0\" >23.000000</td>\n",
       "            </tr>\n",
       "            <tr>\n",
       "                        <th id=\"T_262ba_level0_row17\" class=\"row_heading level0 row17\" >parks_around3000</th>\n",
       "                        <td id=\"T_262ba_row17_col0\" class=\"data row17 col0\" >23.000000</td>\n",
       "            </tr>\n",
       "            <tr>\n",
       "                        <th id=\"T_262ba_level0_row18\" class=\"row_heading level0 row18\" >parks_nearest</th>\n",
       "                        <td id=\"T_262ba_row18_col0\" class=\"data row18 col0\" >66.000000</td>\n",
       "            </tr>\n",
       "            <tr>\n",
       "                        <th id=\"T_262ba_level0_row19\" class=\"row_heading level0 row19\" >ponds_around3000</th>\n",
       "                        <td id=\"T_262ba_row19_col0\" class=\"data row19 col0\" >23.000000</td>\n",
       "            </tr>\n",
       "            <tr>\n",
       "                        <th id=\"T_262ba_level0_row20\" class=\"row_heading level0 row20\" >ponds_nearest</th>\n",
       "                        <td id=\"T_262ba_row20_col0\" class=\"data row20 col0\" >62.000000</td>\n",
       "            </tr>\n",
       "            <tr>\n",
       "                        <th id=\"T_262ba_level0_row21\" class=\"row_heading level0 row21\" >days_exposition</th>\n",
       "                        <td id=\"T_262ba_row21_col0\" class=\"data row21 col0\" >13.000000</td>\n",
       "            </tr>\n",
       "    </tbody></table>"
      ],
      "text/plain": [
       "<pandas.io.formats.style.Styler at 0x7fb71828caf0>"
      ]
     },
     "execution_count": 2,
     "metadata": {},
     "output_type": "execute_result"
    }
   ],
   "source": [
    "# находим количество пропусков в каждом столбце\n",
    "\n",
    "pd.DataFrame(round(df.isna().mean()*100,)).style.background_gradient('coolwarm')"
   ]
  },
  {
   "cell_type": "code",
   "execution_count": 3,
   "metadata": {},
   "outputs": [],
   "source": [
    "# в столбце с количеством балконов заполняем пропуски нулями, т.к. в соответствующих квартирах их, скорее всего, нет\n",
    "df['balcony'] = df['balcony'].fillna(0)\n",
    "\n",
    "# меняем пропуски в названиях населенных пунктов на \"Не определено\"\n",
    "df['locality_name'] = df['locality_name'].fillna('Не определено')\n",
    "\n",
    "# в столбце с количеством парков заполняем пропуски нулями, т.к. в рядом с соответствующими квартирами их, скорее всего, нет\n",
    "df['parks_around3000'] = df['parks_around3000'].fillna(0)\n",
    "\n",
    "# в столбце с количеством озёр заполняем пропуски нулями, т.к. в рядом с соответствующими квартирами их, скорее всего, нет\n",
    "df['ponds_around3000'] = df['ponds_around3000'].fillna(0)\n",
    "\n",
    "# заполняем пропуски в количестве этажей медианным значением. Это не сильно повлияет на выводы, т.к. пропусков не много\n",
    "df['floors_total'] = df['floors_total'].fillna(df['floors_total'].median())\n",
    "\n",
    "# заполняем пропуски в количестве дней показа медианнымзначением. Это не сильно повлияет на выводы, т.к. пропусков не много\n",
    "df['days_exposition'] = df['days_exposition'].fillna(df['days_exposition'].median())"
   ]
  },
  {
   "cell_type": "markdown",
   "metadata": {},
   "source": [
    "Пропуски в таких столбцах как 'balcony' и 'is_apartment' могли возникнуть из за того, что в квартире не было балконов, она не была апартаментами и продавец не стал заполнять соответствующие ячейки.\n",
    "\n",
    "В таких столбцах как 'kitchen_area' и 'ceiling_height' продавец мог не внести значения, чтобы не отпугнуть вероятных покупателей низким потолком или маленькой кухней.\n",
    "\n",
    "Большую часть таких пропусков можно отнести к неслучайным.\n",
    "\n",
    "При этом пропуски в таких столбцах как 'days_exposition', 'parks_nearest' и 'ponds_nearest' не заполняются продавцом и, скорее всего, носят случайный характер."
   ]
  },
  {
   "cell_type": "code",
   "execution_count": 4,
   "metadata": {},
   "outputs": [
    {
     "name": "stderr",
     "output_type": "stream",
     "text": [
      "/opt/conda/lib/python3.9/site-packages/numpy/lib/nanfunctions.py:1117: RuntimeWarning: Mean of empty slice\n",
      "  return np.nanmean(a, axis, out=out, keepdims=keepdims)\n",
      "/opt/conda/lib/python3.9/site-packages/numpy/lib/nanfunctions.py:1117: RuntimeWarning: Mean of empty slice\n",
      "  return np.nanmean(a, axis, out=out, keepdims=keepdims)\n",
      "/opt/conda/lib/python3.9/site-packages/numpy/lib/nanfunctions.py:1117: RuntimeWarning: Mean of empty slice\n",
      "  return np.nanmean(a, axis, out=out, keepdims=keepdims)\n",
      "/opt/conda/lib/python3.9/site-packages/numpy/lib/nanfunctions.py:1117: RuntimeWarning: Mean of empty slice\n",
      "  return np.nanmean(a, axis, out=out, keepdims=keepdims)\n",
      "/opt/conda/lib/python3.9/site-packages/numpy/lib/nanfunctions.py:1117: RuntimeWarning: Mean of empty slice\n",
      "  return np.nanmean(a, axis, out=out, keepdims=keepdims)\n",
      "/opt/conda/lib/python3.9/site-packages/numpy/lib/nanfunctions.py:1117: RuntimeWarning: Mean of empty slice\n",
      "  return np.nanmean(a, axis, out=out, keepdims=keepdims)\n",
      "/opt/conda/lib/python3.9/site-packages/numpy/lib/nanfunctions.py:1117: RuntimeWarning: Mean of empty slice\n",
      "  return np.nanmean(a, axis, out=out, keepdims=keepdims)\n",
      "/opt/conda/lib/python3.9/site-packages/numpy/lib/nanfunctions.py:1117: RuntimeWarning: Mean of empty slice\n",
      "  return np.nanmean(a, axis, out=out, keepdims=keepdims)\n",
      "/opt/conda/lib/python3.9/site-packages/numpy/lib/nanfunctions.py:1117: RuntimeWarning: Mean of empty slice\n",
      "  return np.nanmean(a, axis, out=out, keepdims=keepdims)\n",
      "/opt/conda/lib/python3.9/site-packages/numpy/lib/nanfunctions.py:1117: RuntimeWarning: Mean of empty slice\n",
      "  return np.nanmean(a, axis, out=out, keepdims=keepdims)\n",
      "/opt/conda/lib/python3.9/site-packages/numpy/lib/nanfunctions.py:1117: RuntimeWarning: Mean of empty slice\n",
      "  return np.nanmean(a, axis, out=out, keepdims=keepdims)\n",
      "/opt/conda/lib/python3.9/site-packages/numpy/lib/nanfunctions.py:1117: RuntimeWarning: Mean of empty slice\n",
      "  return np.nanmean(a, axis, out=out, keepdims=keepdims)\n",
      "/opt/conda/lib/python3.9/site-packages/numpy/lib/nanfunctions.py:1117: RuntimeWarning: Mean of empty slice\n",
      "  return np.nanmean(a, axis, out=out, keepdims=keepdims)\n",
      "/opt/conda/lib/python3.9/site-packages/numpy/lib/nanfunctions.py:1117: RuntimeWarning: Mean of empty slice\n",
      "  return np.nanmean(a, axis, out=out, keepdims=keepdims)\n",
      "/opt/conda/lib/python3.9/site-packages/numpy/lib/nanfunctions.py:1117: RuntimeWarning: Mean of empty slice\n",
      "  return np.nanmean(a, axis, out=out, keepdims=keepdims)\n",
      "/opt/conda/lib/python3.9/site-packages/numpy/lib/nanfunctions.py:1117: RuntimeWarning: Mean of empty slice\n",
      "  return np.nanmean(a, axis, out=out, keepdims=keepdims)\n",
      "/opt/conda/lib/python3.9/site-packages/numpy/lib/nanfunctions.py:1117: RuntimeWarning: Mean of empty slice\n",
      "  return np.nanmean(a, axis, out=out, keepdims=keepdims)\n",
      "/opt/conda/lib/python3.9/site-packages/numpy/lib/nanfunctions.py:1117: RuntimeWarning: Mean of empty slice\n",
      "  return np.nanmean(a, axis, out=out, keepdims=keepdims)\n",
      "/opt/conda/lib/python3.9/site-packages/numpy/lib/nanfunctions.py:1117: RuntimeWarning: Mean of empty slice\n",
      "  return np.nanmean(a, axis, out=out, keepdims=keepdims)\n",
      "/opt/conda/lib/python3.9/site-packages/numpy/lib/nanfunctions.py:1117: RuntimeWarning: Mean of empty slice\n",
      "  return np.nanmean(a, axis, out=out, keepdims=keepdims)\n",
      "/opt/conda/lib/python3.9/site-packages/numpy/lib/nanfunctions.py:1117: RuntimeWarning: Mean of empty slice\n",
      "  return np.nanmean(a, axis, out=out, keepdims=keepdims)\n",
      "/opt/conda/lib/python3.9/site-packages/numpy/lib/nanfunctions.py:1117: RuntimeWarning: Mean of empty slice\n",
      "  return np.nanmean(a, axis, out=out, keepdims=keepdims)\n",
      "/opt/conda/lib/python3.9/site-packages/numpy/lib/nanfunctions.py:1117: RuntimeWarning: Mean of empty slice\n",
      "  return np.nanmean(a, axis, out=out, keepdims=keepdims)\n",
      "/opt/conda/lib/python3.9/site-packages/numpy/lib/nanfunctions.py:1117: RuntimeWarning: Mean of empty slice\n",
      "  return np.nanmean(a, axis, out=out, keepdims=keepdims)\n",
      "/opt/conda/lib/python3.9/site-packages/numpy/lib/nanfunctions.py:1117: RuntimeWarning: Mean of empty slice\n",
      "  return np.nanmean(a, axis, out=out, keepdims=keepdims)\n",
      "/opt/conda/lib/python3.9/site-packages/numpy/lib/nanfunctions.py:1117: RuntimeWarning: Mean of empty slice\n",
      "  return np.nanmean(a, axis, out=out, keepdims=keepdims)\n",
      "/opt/conda/lib/python3.9/site-packages/numpy/lib/nanfunctions.py:1117: RuntimeWarning: Mean of empty slice\n",
      "  return np.nanmean(a, axis, out=out, keepdims=keepdims)\n",
      "/opt/conda/lib/python3.9/site-packages/numpy/lib/nanfunctions.py:1117: RuntimeWarning: Mean of empty slice\n",
      "  return np.nanmean(a, axis, out=out, keepdims=keepdims)\n",
      "/opt/conda/lib/python3.9/site-packages/numpy/lib/nanfunctions.py:1117: RuntimeWarning: Mean of empty slice\n",
      "  return np.nanmean(a, axis, out=out, keepdims=keepdims)\n",
      "/opt/conda/lib/python3.9/site-packages/numpy/lib/nanfunctions.py:1117: RuntimeWarning: Mean of empty slice\n",
      "  return np.nanmean(a, axis, out=out, keepdims=keepdims)\n",
      "/opt/conda/lib/python3.9/site-packages/numpy/lib/nanfunctions.py:1117: RuntimeWarning: Mean of empty slice\n",
      "  return np.nanmean(a, axis, out=out, keepdims=keepdims)\n",
      "/opt/conda/lib/python3.9/site-packages/numpy/lib/nanfunctions.py:1117: RuntimeWarning: Mean of empty slice\n",
      "  return np.nanmean(a, axis, out=out, keepdims=keepdims)\n",
      "/opt/conda/lib/python3.9/site-packages/numpy/lib/nanfunctions.py:1117: RuntimeWarning: Mean of empty slice\n",
      "  return np.nanmean(a, axis, out=out, keepdims=keepdims)\n",
      "/opt/conda/lib/python3.9/site-packages/numpy/lib/nanfunctions.py:1117: RuntimeWarning: Mean of empty slice\n",
      "  return np.nanmean(a, axis, out=out, keepdims=keepdims)\n",
      "/opt/conda/lib/python3.9/site-packages/numpy/lib/nanfunctions.py:1117: RuntimeWarning: Mean of empty slice\n",
      "  return np.nanmean(a, axis, out=out, keepdims=keepdims)\n",
      "/opt/conda/lib/python3.9/site-packages/numpy/lib/nanfunctions.py:1117: RuntimeWarning: Mean of empty slice\n",
      "  return np.nanmean(a, axis, out=out, keepdims=keepdims)\n",
      "/opt/conda/lib/python3.9/site-packages/numpy/lib/nanfunctions.py:1117: RuntimeWarning: Mean of empty slice\n",
      "  return np.nanmean(a, axis, out=out, keepdims=keepdims)\n",
      "/opt/conda/lib/python3.9/site-packages/numpy/lib/nanfunctions.py:1117: RuntimeWarning: Mean of empty slice\n",
      "  return np.nanmean(a, axis, out=out, keepdims=keepdims)\n",
      "/opt/conda/lib/python3.9/site-packages/numpy/lib/nanfunctions.py:1117: RuntimeWarning: Mean of empty slice\n",
      "  return np.nanmean(a, axis, out=out, keepdims=keepdims)\n",
      "/opt/conda/lib/python3.9/site-packages/numpy/lib/nanfunctions.py:1117: RuntimeWarning: Mean of empty slice\n",
      "  return np.nanmean(a, axis, out=out, keepdims=keepdims)\n",
      "/opt/conda/lib/python3.9/site-packages/numpy/lib/nanfunctions.py:1117: RuntimeWarning: Mean of empty slice\n",
      "  return np.nanmean(a, axis, out=out, keepdims=keepdims)\n",
      "/opt/conda/lib/python3.9/site-packages/numpy/lib/nanfunctions.py:1117: RuntimeWarning: Mean of empty slice\n",
      "  return np.nanmean(a, axis, out=out, keepdims=keepdims)\n",
      "/opt/conda/lib/python3.9/site-packages/numpy/lib/nanfunctions.py:1117: RuntimeWarning: Mean of empty slice\n",
      "  return np.nanmean(a, axis, out=out, keepdims=keepdims)\n",
      "/opt/conda/lib/python3.9/site-packages/numpy/lib/nanfunctions.py:1117: RuntimeWarning: Mean of empty slice\n",
      "  return np.nanmean(a, axis, out=out, keepdims=keepdims)\n",
      "/opt/conda/lib/python3.9/site-packages/numpy/lib/nanfunctions.py:1117: RuntimeWarning: Mean of empty slice\n",
      "  return np.nanmean(a, axis, out=out, keepdims=keepdims)\n",
      "/opt/conda/lib/python3.9/site-packages/numpy/lib/nanfunctions.py:1117: RuntimeWarning: Mean of empty slice\n",
      "  return np.nanmean(a, axis, out=out, keepdims=keepdims)\n",
      "/opt/conda/lib/python3.9/site-packages/numpy/lib/nanfunctions.py:1117: RuntimeWarning: Mean of empty slice\n",
      "  return np.nanmean(a, axis, out=out, keepdims=keepdims)\n",
      "/opt/conda/lib/python3.9/site-packages/numpy/lib/nanfunctions.py:1117: RuntimeWarning: Mean of empty slice\n",
      "  return np.nanmean(a, axis, out=out, keepdims=keepdims)\n",
      "/opt/conda/lib/python3.9/site-packages/numpy/lib/nanfunctions.py:1117: RuntimeWarning: Mean of empty slice\n",
      "  return np.nanmean(a, axis, out=out, keepdims=keepdims)\n",
      "/opt/conda/lib/python3.9/site-packages/numpy/lib/nanfunctions.py:1117: RuntimeWarning: Mean of empty slice\n",
      "  return np.nanmean(a, axis, out=out, keepdims=keepdims)\n",
      "/opt/conda/lib/python3.9/site-packages/numpy/lib/nanfunctions.py:1117: RuntimeWarning: Mean of empty slice\n",
      "  return np.nanmean(a, axis, out=out, keepdims=keepdims)\n",
      "/opt/conda/lib/python3.9/site-packages/numpy/lib/nanfunctions.py:1117: RuntimeWarning: Mean of empty slice\n",
      "  return np.nanmean(a, axis, out=out, keepdims=keepdims)\n",
      "/opt/conda/lib/python3.9/site-packages/numpy/lib/nanfunctions.py:1117: RuntimeWarning: Mean of empty slice\n",
      "  return np.nanmean(a, axis, out=out, keepdims=keepdims)\n",
      "/opt/conda/lib/python3.9/site-packages/numpy/lib/nanfunctions.py:1117: RuntimeWarning: Mean of empty slice\n",
      "  return np.nanmean(a, axis, out=out, keepdims=keepdims)\n",
      "/opt/conda/lib/python3.9/site-packages/numpy/lib/nanfunctions.py:1117: RuntimeWarning: Mean of empty slice\n",
      "  return np.nanmean(a, axis, out=out, keepdims=keepdims)\n",
      "/opt/conda/lib/python3.9/site-packages/numpy/lib/nanfunctions.py:1117: RuntimeWarning: Mean of empty slice\n",
      "  return np.nanmean(a, axis, out=out, keepdims=keepdims)\n",
      "/opt/conda/lib/python3.9/site-packages/numpy/lib/nanfunctions.py:1117: RuntimeWarning: Mean of empty slice\n",
      "  return np.nanmean(a, axis, out=out, keepdims=keepdims)\n",
      "/opt/conda/lib/python3.9/site-packages/numpy/lib/nanfunctions.py:1117: RuntimeWarning: Mean of empty slice\n",
      "  return np.nanmean(a, axis, out=out, keepdims=keepdims)\n",
      "/opt/conda/lib/python3.9/site-packages/numpy/lib/nanfunctions.py:1117: RuntimeWarning: Mean of empty slice\n",
      "  return np.nanmean(a, axis, out=out, keepdims=keepdims)\n",
      "/opt/conda/lib/python3.9/site-packages/numpy/lib/nanfunctions.py:1117: RuntimeWarning: Mean of empty slice\n",
      "  return np.nanmean(a, axis, out=out, keepdims=keepdims)\n",
      "/opt/conda/lib/python3.9/site-packages/numpy/lib/nanfunctions.py:1117: RuntimeWarning: Mean of empty slice\n",
      "  return np.nanmean(a, axis, out=out, keepdims=keepdims)\n",
      "/opt/conda/lib/python3.9/site-packages/numpy/lib/nanfunctions.py:1117: RuntimeWarning: Mean of empty slice\n",
      "  return np.nanmean(a, axis, out=out, keepdims=keepdims)\n",
      "/opt/conda/lib/python3.9/site-packages/numpy/lib/nanfunctions.py:1117: RuntimeWarning: Mean of empty slice\n",
      "  return np.nanmean(a, axis, out=out, keepdims=keepdims)\n",
      "/opt/conda/lib/python3.9/site-packages/numpy/lib/nanfunctions.py:1117: RuntimeWarning: Mean of empty slice\n",
      "  return np.nanmean(a, axis, out=out, keepdims=keepdims)\n",
      "/opt/conda/lib/python3.9/site-packages/numpy/lib/nanfunctions.py:1117: RuntimeWarning: Mean of empty slice\n",
      "  return np.nanmean(a, axis, out=out, keepdims=keepdims)\n",
      "/opt/conda/lib/python3.9/site-packages/numpy/lib/nanfunctions.py:1117: RuntimeWarning: Mean of empty slice\n",
      "  return np.nanmean(a, axis, out=out, keepdims=keepdims)\n",
      "/opt/conda/lib/python3.9/site-packages/numpy/lib/nanfunctions.py:1117: RuntimeWarning: Mean of empty slice\n",
      "  return np.nanmean(a, axis, out=out, keepdims=keepdims)\n",
      "/opt/conda/lib/python3.9/site-packages/numpy/lib/nanfunctions.py:1117: RuntimeWarning: Mean of empty slice\n",
      "  return np.nanmean(a, axis, out=out, keepdims=keepdims)\n",
      "/opt/conda/lib/python3.9/site-packages/numpy/lib/nanfunctions.py:1117: RuntimeWarning: Mean of empty slice\n",
      "  return np.nanmean(a, axis, out=out, keepdims=keepdims)\n",
      "/opt/conda/lib/python3.9/site-packages/numpy/lib/nanfunctions.py:1117: RuntimeWarning: Mean of empty slice\n",
      "  return np.nanmean(a, axis, out=out, keepdims=keepdims)\n",
      "/opt/conda/lib/python3.9/site-packages/numpy/lib/nanfunctions.py:1117: RuntimeWarning: Mean of empty slice\n",
      "  return np.nanmean(a, axis, out=out, keepdims=keepdims)\n",
      "/opt/conda/lib/python3.9/site-packages/numpy/lib/nanfunctions.py:1117: RuntimeWarning: Mean of empty slice\n",
      "  return np.nanmean(a, axis, out=out, keepdims=keepdims)\n",
      "/opt/conda/lib/python3.9/site-packages/numpy/lib/nanfunctions.py:1117: RuntimeWarning: Mean of empty slice\n",
      "  return np.nanmean(a, axis, out=out, keepdims=keepdims)\n",
      "/opt/conda/lib/python3.9/site-packages/numpy/lib/nanfunctions.py:1117: RuntimeWarning: Mean of empty slice\n",
      "  return np.nanmean(a, axis, out=out, keepdims=keepdims)\n",
      "/opt/conda/lib/python3.9/site-packages/numpy/lib/nanfunctions.py:1117: RuntimeWarning: Mean of empty slice\n",
      "  return np.nanmean(a, axis, out=out, keepdims=keepdims)\n",
      "/opt/conda/lib/python3.9/site-packages/numpy/lib/nanfunctions.py:1117: RuntimeWarning: Mean of empty slice\n",
      "  return np.nanmean(a, axis, out=out, keepdims=keepdims)\n",
      "/opt/conda/lib/python3.9/site-packages/numpy/lib/nanfunctions.py:1117: RuntimeWarning: Mean of empty slice\n",
      "  return np.nanmean(a, axis, out=out, keepdims=keepdims)\n",
      "/opt/conda/lib/python3.9/site-packages/numpy/lib/nanfunctions.py:1117: RuntimeWarning: Mean of empty slice\n",
      "  return np.nanmean(a, axis, out=out, keepdims=keepdims)\n",
      "/opt/conda/lib/python3.9/site-packages/numpy/lib/nanfunctions.py:1117: RuntimeWarning: Mean of empty slice\n",
      "  return np.nanmean(a, axis, out=out, keepdims=keepdims)\n",
      "/opt/conda/lib/python3.9/site-packages/numpy/lib/nanfunctions.py:1117: RuntimeWarning: Mean of empty slice\n",
      "  return np.nanmean(a, axis, out=out, keepdims=keepdims)\n",
      "/opt/conda/lib/python3.9/site-packages/numpy/lib/nanfunctions.py:1117: RuntimeWarning: Mean of empty slice\n",
      "  return np.nanmean(a, axis, out=out, keepdims=keepdims)\n"
     ]
    }
   ],
   "source": [
    "# в столбце 'ceiling_height' заполним пропуски медианным значением для каждого населенного пункта\n",
    "for locality_name in df['locality_name'].unique():\n",
    "    median = df.loc[df['locality_name'] == locality_name, 'ceiling_height'].median()\n",
    "    df.loc[(df['ceiling_height'].isna()) & (df['locality_name'] == locality_name), 'ceiling_height'] = median\n",
    "    \n",
    "# оставшиеся пропуски заполняем медианой по области\n",
    "df.loc[df['ceiling_height'].isna(), 'ceiling_height'] = df['ceiling_height'].median"
   ]
  },
  {
   "cell_type": "code",
   "execution_count": 5,
   "metadata": {},
   "outputs": [
    {
     "name": "stderr",
     "output_type": "stream",
     "text": [
      "/opt/conda/lib/python3.9/site-packages/numpy/lib/nanfunctions.py:1117: RuntimeWarning: Mean of empty slice\n",
      "  return np.nanmean(a, axis, out=out, keepdims=keepdims)\n",
      "/opt/conda/lib/python3.9/site-packages/numpy/lib/nanfunctions.py:1117: RuntimeWarning: Mean of empty slice\n",
      "  return np.nanmean(a, axis, out=out, keepdims=keepdims)\n",
      "/opt/conda/lib/python3.9/site-packages/numpy/lib/nanfunctions.py:1117: RuntimeWarning: Mean of empty slice\n",
      "  return np.nanmean(a, axis, out=out, keepdims=keepdims)\n",
      "/opt/conda/lib/python3.9/site-packages/numpy/lib/nanfunctions.py:1117: RuntimeWarning: Mean of empty slice\n",
      "  return np.nanmean(a, axis, out=out, keepdims=keepdims)\n",
      "/opt/conda/lib/python3.9/site-packages/numpy/lib/nanfunctions.py:1117: RuntimeWarning: Mean of empty slice\n",
      "  return np.nanmean(a, axis, out=out, keepdims=keepdims)\n",
      "/opt/conda/lib/python3.9/site-packages/numpy/lib/nanfunctions.py:1117: RuntimeWarning: Mean of empty slice\n",
      "  return np.nanmean(a, axis, out=out, keepdims=keepdims)\n",
      "/opt/conda/lib/python3.9/site-packages/numpy/lib/nanfunctions.py:1117: RuntimeWarning: Mean of empty slice\n",
      "  return np.nanmean(a, axis, out=out, keepdims=keepdims)\n",
      "/opt/conda/lib/python3.9/site-packages/numpy/lib/nanfunctions.py:1117: RuntimeWarning: Mean of empty slice\n",
      "  return np.nanmean(a, axis, out=out, keepdims=keepdims)\n",
      "/opt/conda/lib/python3.9/site-packages/numpy/lib/nanfunctions.py:1117: RuntimeWarning: Mean of empty slice\n",
      "  return np.nanmean(a, axis, out=out, keepdims=keepdims)\n",
      "/opt/conda/lib/python3.9/site-packages/numpy/lib/nanfunctions.py:1117: RuntimeWarning: Mean of empty slice\n",
      "  return np.nanmean(a, axis, out=out, keepdims=keepdims)\n",
      "/opt/conda/lib/python3.9/site-packages/numpy/lib/nanfunctions.py:1117: RuntimeWarning: Mean of empty slice\n",
      "  return np.nanmean(a, axis, out=out, keepdims=keepdims)\n",
      "/opt/conda/lib/python3.9/site-packages/numpy/lib/nanfunctions.py:1117: RuntimeWarning: Mean of empty slice\n",
      "  return np.nanmean(a, axis, out=out, keepdims=keepdims)\n",
      "/opt/conda/lib/python3.9/site-packages/numpy/lib/nanfunctions.py:1117: RuntimeWarning: Mean of empty slice\n",
      "  return np.nanmean(a, axis, out=out, keepdims=keepdims)\n",
      "/opt/conda/lib/python3.9/site-packages/numpy/lib/nanfunctions.py:1117: RuntimeWarning: Mean of empty slice\n",
      "  return np.nanmean(a, axis, out=out, keepdims=keepdims)\n",
      "/opt/conda/lib/python3.9/site-packages/numpy/lib/nanfunctions.py:1117: RuntimeWarning: Mean of empty slice\n",
      "  return np.nanmean(a, axis, out=out, keepdims=keepdims)\n",
      "/opt/conda/lib/python3.9/site-packages/numpy/lib/nanfunctions.py:1117: RuntimeWarning: Mean of empty slice\n",
      "  return np.nanmean(a, axis, out=out, keepdims=keepdims)\n",
      "/opt/conda/lib/python3.9/site-packages/numpy/lib/nanfunctions.py:1117: RuntimeWarning: Mean of empty slice\n",
      "  return np.nanmean(a, axis, out=out, keepdims=keepdims)\n",
      "/opt/conda/lib/python3.9/site-packages/numpy/lib/nanfunctions.py:1117: RuntimeWarning: Mean of empty slice\n",
      "  return np.nanmean(a, axis, out=out, keepdims=keepdims)\n",
      "/opt/conda/lib/python3.9/site-packages/numpy/lib/nanfunctions.py:1117: RuntimeWarning: Mean of empty slice\n",
      "  return np.nanmean(a, axis, out=out, keepdims=keepdims)\n",
      "/opt/conda/lib/python3.9/site-packages/numpy/lib/nanfunctions.py:1117: RuntimeWarning: Mean of empty slice\n",
      "  return np.nanmean(a, axis, out=out, keepdims=keepdims)\n",
      "/opt/conda/lib/python3.9/site-packages/numpy/lib/nanfunctions.py:1117: RuntimeWarning: Mean of empty slice\n",
      "  return np.nanmean(a, axis, out=out, keepdims=keepdims)\n",
      "/opt/conda/lib/python3.9/site-packages/numpy/lib/nanfunctions.py:1117: RuntimeWarning: Mean of empty slice\n",
      "  return np.nanmean(a, axis, out=out, keepdims=keepdims)\n",
      "/opt/conda/lib/python3.9/site-packages/numpy/lib/nanfunctions.py:1117: RuntimeWarning: Mean of empty slice\n",
      "  return np.nanmean(a, axis, out=out, keepdims=keepdims)\n",
      "/opt/conda/lib/python3.9/site-packages/numpy/lib/nanfunctions.py:1117: RuntimeWarning: Mean of empty slice\n",
      "  return np.nanmean(a, axis, out=out, keepdims=keepdims)\n",
      "/opt/conda/lib/python3.9/site-packages/numpy/lib/nanfunctions.py:1117: RuntimeWarning: Mean of empty slice\n",
      "  return np.nanmean(a, axis, out=out, keepdims=keepdims)\n",
      "/opt/conda/lib/python3.9/site-packages/numpy/lib/nanfunctions.py:1117: RuntimeWarning: Mean of empty slice\n",
      "  return np.nanmean(a, axis, out=out, keepdims=keepdims)\n",
      "/opt/conda/lib/python3.9/site-packages/numpy/lib/nanfunctions.py:1117: RuntimeWarning: Mean of empty slice\n",
      "  return np.nanmean(a, axis, out=out, keepdims=keepdims)\n",
      "/opt/conda/lib/python3.9/site-packages/numpy/lib/nanfunctions.py:1117: RuntimeWarning: Mean of empty slice\n",
      "  return np.nanmean(a, axis, out=out, keepdims=keepdims)\n",
      "/opt/conda/lib/python3.9/site-packages/numpy/lib/nanfunctions.py:1117: RuntimeWarning: Mean of empty slice\n",
      "  return np.nanmean(a, axis, out=out, keepdims=keepdims)\n",
      "/opt/conda/lib/python3.9/site-packages/numpy/lib/nanfunctions.py:1117: RuntimeWarning: Mean of empty slice\n",
      "  return np.nanmean(a, axis, out=out, keepdims=keepdims)\n",
      "/opt/conda/lib/python3.9/site-packages/numpy/lib/nanfunctions.py:1117: RuntimeWarning: Mean of empty slice\n",
      "  return np.nanmean(a, axis, out=out, keepdims=keepdims)\n",
      "/opt/conda/lib/python3.9/site-packages/numpy/lib/nanfunctions.py:1117: RuntimeWarning: Mean of empty slice\n",
      "  return np.nanmean(a, axis, out=out, keepdims=keepdims)\n",
      "/opt/conda/lib/python3.9/site-packages/numpy/lib/nanfunctions.py:1117: RuntimeWarning: Mean of empty slice\n",
      "  return np.nanmean(a, axis, out=out, keepdims=keepdims)\n",
      "/opt/conda/lib/python3.9/site-packages/numpy/lib/nanfunctions.py:1117: RuntimeWarning: Mean of empty slice\n",
      "  return np.nanmean(a, axis, out=out, keepdims=keepdims)\n",
      "/opt/conda/lib/python3.9/site-packages/numpy/lib/nanfunctions.py:1117: RuntimeWarning: Mean of empty slice\n",
      "  return np.nanmean(a, axis, out=out, keepdims=keepdims)\n",
      "/opt/conda/lib/python3.9/site-packages/numpy/lib/nanfunctions.py:1117: RuntimeWarning: Mean of empty slice\n",
      "  return np.nanmean(a, axis, out=out, keepdims=keepdims)\n",
      "/opt/conda/lib/python3.9/site-packages/numpy/lib/nanfunctions.py:1117: RuntimeWarning: Mean of empty slice\n",
      "  return np.nanmean(a, axis, out=out, keepdims=keepdims)\n",
      "/opt/conda/lib/python3.9/site-packages/numpy/lib/nanfunctions.py:1117: RuntimeWarning: Mean of empty slice\n",
      "  return np.nanmean(a, axis, out=out, keepdims=keepdims)\n",
      "/opt/conda/lib/python3.9/site-packages/numpy/lib/nanfunctions.py:1117: RuntimeWarning: Mean of empty slice\n",
      "  return np.nanmean(a, axis, out=out, keepdims=keepdims)\n",
      "/opt/conda/lib/python3.9/site-packages/numpy/lib/nanfunctions.py:1117: RuntimeWarning: Mean of empty slice\n",
      "  return np.nanmean(a, axis, out=out, keepdims=keepdims)\n",
      "/opt/conda/lib/python3.9/site-packages/numpy/lib/nanfunctions.py:1117: RuntimeWarning: Mean of empty slice\n",
      "  return np.nanmean(a, axis, out=out, keepdims=keepdims)\n",
      "/opt/conda/lib/python3.9/site-packages/numpy/lib/nanfunctions.py:1117: RuntimeWarning: Mean of empty slice\n",
      "  return np.nanmean(a, axis, out=out, keepdims=keepdims)\n",
      "/opt/conda/lib/python3.9/site-packages/numpy/lib/nanfunctions.py:1117: RuntimeWarning: Mean of empty slice\n",
      "  return np.nanmean(a, axis, out=out, keepdims=keepdims)\n",
      "/opt/conda/lib/python3.9/site-packages/numpy/lib/nanfunctions.py:1117: RuntimeWarning: Mean of empty slice\n",
      "  return np.nanmean(a, axis, out=out, keepdims=keepdims)\n",
      "/opt/conda/lib/python3.9/site-packages/numpy/lib/nanfunctions.py:1117: RuntimeWarning: Mean of empty slice\n",
      "  return np.nanmean(a, axis, out=out, keepdims=keepdims)\n",
      "/opt/conda/lib/python3.9/site-packages/numpy/lib/nanfunctions.py:1117: RuntimeWarning: Mean of empty slice\n",
      "  return np.nanmean(a, axis, out=out, keepdims=keepdims)\n",
      "/opt/conda/lib/python3.9/site-packages/numpy/lib/nanfunctions.py:1117: RuntimeWarning: Mean of empty slice\n",
      "  return np.nanmean(a, axis, out=out, keepdims=keepdims)\n",
      "/opt/conda/lib/python3.9/site-packages/numpy/lib/nanfunctions.py:1117: RuntimeWarning: Mean of empty slice\n",
      "  return np.nanmean(a, axis, out=out, keepdims=keepdims)\n",
      "/opt/conda/lib/python3.9/site-packages/numpy/lib/nanfunctions.py:1117: RuntimeWarning: Mean of empty slice\n",
      "  return np.nanmean(a, axis, out=out, keepdims=keepdims)\n",
      "/opt/conda/lib/python3.9/site-packages/numpy/lib/nanfunctions.py:1117: RuntimeWarning: Mean of empty slice\n",
      "  return np.nanmean(a, axis, out=out, keepdims=keepdims)\n",
      "/opt/conda/lib/python3.9/site-packages/numpy/lib/nanfunctions.py:1117: RuntimeWarning: Mean of empty slice\n",
      "  return np.nanmean(a, axis, out=out, keepdims=keepdims)\n",
      "/opt/conda/lib/python3.9/site-packages/numpy/lib/nanfunctions.py:1117: RuntimeWarning: Mean of empty slice\n",
      "  return np.nanmean(a, axis, out=out, keepdims=keepdims)\n",
      "/opt/conda/lib/python3.9/site-packages/numpy/lib/nanfunctions.py:1117: RuntimeWarning: Mean of empty slice\n",
      "  return np.nanmean(a, axis, out=out, keepdims=keepdims)\n",
      "/opt/conda/lib/python3.9/site-packages/numpy/lib/nanfunctions.py:1117: RuntimeWarning: Mean of empty slice\n",
      "  return np.nanmean(a, axis, out=out, keepdims=keepdims)\n",
      "/opt/conda/lib/python3.9/site-packages/numpy/lib/nanfunctions.py:1117: RuntimeWarning: Mean of empty slice\n",
      "  return np.nanmean(a, axis, out=out, keepdims=keepdims)\n",
      "/opt/conda/lib/python3.9/site-packages/numpy/lib/nanfunctions.py:1117: RuntimeWarning: Mean of empty slice\n",
      "  return np.nanmean(a, axis, out=out, keepdims=keepdims)\n",
      "/opt/conda/lib/python3.9/site-packages/numpy/lib/nanfunctions.py:1117: RuntimeWarning: Mean of empty slice\n",
      "  return np.nanmean(a, axis, out=out, keepdims=keepdims)\n",
      "/opt/conda/lib/python3.9/site-packages/numpy/lib/nanfunctions.py:1117: RuntimeWarning: Mean of empty slice\n",
      "  return np.nanmean(a, axis, out=out, keepdims=keepdims)\n",
      "/opt/conda/lib/python3.9/site-packages/numpy/lib/nanfunctions.py:1117: RuntimeWarning: Mean of empty slice\n",
      "  return np.nanmean(a, axis, out=out, keepdims=keepdims)\n",
      "/opt/conda/lib/python3.9/site-packages/numpy/lib/nanfunctions.py:1117: RuntimeWarning: Mean of empty slice\n",
      "  return np.nanmean(a, axis, out=out, keepdims=keepdims)\n",
      "/opt/conda/lib/python3.9/site-packages/numpy/lib/nanfunctions.py:1117: RuntimeWarning: Mean of empty slice\n",
      "  return np.nanmean(a, axis, out=out, keepdims=keepdims)\n",
      "/opt/conda/lib/python3.9/site-packages/numpy/lib/nanfunctions.py:1117: RuntimeWarning: Mean of empty slice\n",
      "  return np.nanmean(a, axis, out=out, keepdims=keepdims)\n",
      "/opt/conda/lib/python3.9/site-packages/numpy/lib/nanfunctions.py:1117: RuntimeWarning: Mean of empty slice\n",
      "  return np.nanmean(a, axis, out=out, keepdims=keepdims)\n",
      "/opt/conda/lib/python3.9/site-packages/numpy/lib/nanfunctions.py:1117: RuntimeWarning: Mean of empty slice\n",
      "  return np.nanmean(a, axis, out=out, keepdims=keepdims)\n",
      "/opt/conda/lib/python3.9/site-packages/numpy/lib/nanfunctions.py:1117: RuntimeWarning: Mean of empty slice\n",
      "  return np.nanmean(a, axis, out=out, keepdims=keepdims)\n",
      "/opt/conda/lib/python3.9/site-packages/numpy/lib/nanfunctions.py:1117: RuntimeWarning: Mean of empty slice\n",
      "  return np.nanmean(a, axis, out=out, keepdims=keepdims)\n",
      "/opt/conda/lib/python3.9/site-packages/numpy/lib/nanfunctions.py:1117: RuntimeWarning: Mean of empty slice\n",
      "  return np.nanmean(a, axis, out=out, keepdims=keepdims)\n",
      "/opt/conda/lib/python3.9/site-packages/numpy/lib/nanfunctions.py:1117: RuntimeWarning: Mean of empty slice\n",
      "  return np.nanmean(a, axis, out=out, keepdims=keepdims)\n",
      "/opt/conda/lib/python3.9/site-packages/numpy/lib/nanfunctions.py:1117: RuntimeWarning: Mean of empty slice\n",
      "  return np.nanmean(a, axis, out=out, keepdims=keepdims)\n",
      "/opt/conda/lib/python3.9/site-packages/numpy/lib/nanfunctions.py:1117: RuntimeWarning: Mean of empty slice\n",
      "  return np.nanmean(a, axis, out=out, keepdims=keepdims)\n",
      "/opt/conda/lib/python3.9/site-packages/numpy/lib/nanfunctions.py:1117: RuntimeWarning: Mean of empty slice\n",
      "  return np.nanmean(a, axis, out=out, keepdims=keepdims)\n",
      "/opt/conda/lib/python3.9/site-packages/numpy/lib/nanfunctions.py:1117: RuntimeWarning: Mean of empty slice\n",
      "  return np.nanmean(a, axis, out=out, keepdims=keepdims)\n",
      "/opt/conda/lib/python3.9/site-packages/numpy/lib/nanfunctions.py:1117: RuntimeWarning: Mean of empty slice\n",
      "  return np.nanmean(a, axis, out=out, keepdims=keepdims)\n",
      "/opt/conda/lib/python3.9/site-packages/numpy/lib/nanfunctions.py:1117: RuntimeWarning: Mean of empty slice\n",
      "  return np.nanmean(a, axis, out=out, keepdims=keepdims)\n",
      "/opt/conda/lib/python3.9/site-packages/numpy/lib/nanfunctions.py:1117: RuntimeWarning: Mean of empty slice\n",
      "  return np.nanmean(a, axis, out=out, keepdims=keepdims)\n",
      "/opt/conda/lib/python3.9/site-packages/numpy/lib/nanfunctions.py:1117: RuntimeWarning: Mean of empty slice\n",
      "  return np.nanmean(a, axis, out=out, keepdims=keepdims)\n",
      "/opt/conda/lib/python3.9/site-packages/numpy/lib/nanfunctions.py:1117: RuntimeWarning: Mean of empty slice\n",
      "  return np.nanmean(a, axis, out=out, keepdims=keepdims)\n",
      "/opt/conda/lib/python3.9/site-packages/numpy/lib/nanfunctions.py:1117: RuntimeWarning: Mean of empty slice\n",
      "  return np.nanmean(a, axis, out=out, keepdims=keepdims)\n",
      "/opt/conda/lib/python3.9/site-packages/numpy/lib/nanfunctions.py:1117: RuntimeWarning: Mean of empty slice\n",
      "  return np.nanmean(a, axis, out=out, keepdims=keepdims)\n",
      "/opt/conda/lib/python3.9/site-packages/numpy/lib/nanfunctions.py:1117: RuntimeWarning: Mean of empty slice\n",
      "  return np.nanmean(a, axis, out=out, keepdims=keepdims)\n",
      "/opt/conda/lib/python3.9/site-packages/numpy/lib/nanfunctions.py:1117: RuntimeWarning: Mean of empty slice\n",
      "  return np.nanmean(a, axis, out=out, keepdims=keepdims)\n",
      "/opt/conda/lib/python3.9/site-packages/numpy/lib/nanfunctions.py:1117: RuntimeWarning: Mean of empty slice\n",
      "  return np.nanmean(a, axis, out=out, keepdims=keepdims)\n",
      "/opt/conda/lib/python3.9/site-packages/numpy/lib/nanfunctions.py:1117: RuntimeWarning: Mean of empty slice\n",
      "  return np.nanmean(a, axis, out=out, keepdims=keepdims)\n",
      "/opt/conda/lib/python3.9/site-packages/numpy/lib/nanfunctions.py:1117: RuntimeWarning: Mean of empty slice\n",
      "  return np.nanmean(a, axis, out=out, keepdims=keepdims)\n",
      "/opt/conda/lib/python3.9/site-packages/numpy/lib/nanfunctions.py:1117: RuntimeWarning: Mean of empty slice\n",
      "  return np.nanmean(a, axis, out=out, keepdims=keepdims)\n",
      "/opt/conda/lib/python3.9/site-packages/numpy/lib/nanfunctions.py:1117: RuntimeWarning: Mean of empty slice\n",
      "  return np.nanmean(a, axis, out=out, keepdims=keepdims)\n",
      "/opt/conda/lib/python3.9/site-packages/numpy/lib/nanfunctions.py:1117: RuntimeWarning: Mean of empty slice\n",
      "  return np.nanmean(a, axis, out=out, keepdims=keepdims)\n",
      "/opt/conda/lib/python3.9/site-packages/numpy/lib/nanfunctions.py:1117: RuntimeWarning: Mean of empty slice\n",
      "  return np.nanmean(a, axis, out=out, keepdims=keepdims)\n",
      "/opt/conda/lib/python3.9/site-packages/numpy/lib/nanfunctions.py:1117: RuntimeWarning: Mean of empty slice\n",
      "  return np.nanmean(a, axis, out=out, keepdims=keepdims)\n",
      "/opt/conda/lib/python3.9/site-packages/numpy/lib/nanfunctions.py:1117: RuntimeWarning: Mean of empty slice\n",
      "  return np.nanmean(a, axis, out=out, keepdims=keepdims)\n",
      "/opt/conda/lib/python3.9/site-packages/numpy/lib/nanfunctions.py:1117: RuntimeWarning: Mean of empty slice\n",
      "  return np.nanmean(a, axis, out=out, keepdims=keepdims)\n",
      "/opt/conda/lib/python3.9/site-packages/numpy/lib/nanfunctions.py:1117: RuntimeWarning: Mean of empty slice\n",
      "  return np.nanmean(a, axis, out=out, keepdims=keepdims)\n",
      "/opt/conda/lib/python3.9/site-packages/numpy/lib/nanfunctions.py:1117: RuntimeWarning: Mean of empty slice\n",
      "  return np.nanmean(a, axis, out=out, keepdims=keepdims)\n",
      "/opt/conda/lib/python3.9/site-packages/numpy/lib/nanfunctions.py:1117: RuntimeWarning: Mean of empty slice\n",
      "  return np.nanmean(a, axis, out=out, keepdims=keepdims)\n",
      "/opt/conda/lib/python3.9/site-packages/numpy/lib/nanfunctions.py:1117: RuntimeWarning: Mean of empty slice\n",
      "  return np.nanmean(a, axis, out=out, keepdims=keepdims)\n",
      "/opt/conda/lib/python3.9/site-packages/numpy/lib/nanfunctions.py:1117: RuntimeWarning: Mean of empty slice\n",
      "  return np.nanmean(a, axis, out=out, keepdims=keepdims)\n",
      "/opt/conda/lib/python3.9/site-packages/numpy/lib/nanfunctions.py:1117: RuntimeWarning: Mean of empty slice\n",
      "  return np.nanmean(a, axis, out=out, keepdims=keepdims)\n",
      "/opt/conda/lib/python3.9/site-packages/numpy/lib/nanfunctions.py:1117: RuntimeWarning: Mean of empty slice\n",
      "  return np.nanmean(a, axis, out=out, keepdims=keepdims)\n",
      "/opt/conda/lib/python3.9/site-packages/numpy/lib/nanfunctions.py:1117: RuntimeWarning: Mean of empty slice\n",
      "  return np.nanmean(a, axis, out=out, keepdims=keepdims)\n",
      "/opt/conda/lib/python3.9/site-packages/numpy/lib/nanfunctions.py:1117: RuntimeWarning: Mean of empty slice\n",
      "  return np.nanmean(a, axis, out=out, keepdims=keepdims)\n",
      "/opt/conda/lib/python3.9/site-packages/numpy/lib/nanfunctions.py:1117: RuntimeWarning: Mean of empty slice\n",
      "  return np.nanmean(a, axis, out=out, keepdims=keepdims)\n",
      "/opt/conda/lib/python3.9/site-packages/numpy/lib/nanfunctions.py:1117: RuntimeWarning: Mean of empty slice\n",
      "  return np.nanmean(a, axis, out=out, keepdims=keepdims)\n",
      "/opt/conda/lib/python3.9/site-packages/numpy/lib/nanfunctions.py:1117: RuntimeWarning: Mean of empty slice\n",
      "  return np.nanmean(a, axis, out=out, keepdims=keepdims)\n",
      "/opt/conda/lib/python3.9/site-packages/numpy/lib/nanfunctions.py:1117: RuntimeWarning: Mean of empty slice\n",
      "  return np.nanmean(a, axis, out=out, keepdims=keepdims)\n",
      "/opt/conda/lib/python3.9/site-packages/numpy/lib/nanfunctions.py:1117: RuntimeWarning: Mean of empty slice\n",
      "  return np.nanmean(a, axis, out=out, keepdims=keepdims)\n",
      "/opt/conda/lib/python3.9/site-packages/numpy/lib/nanfunctions.py:1117: RuntimeWarning: Mean of empty slice\n",
      "  return np.nanmean(a, axis, out=out, keepdims=keepdims)\n",
      "/opt/conda/lib/python3.9/site-packages/numpy/lib/nanfunctions.py:1117: RuntimeWarning: Mean of empty slice\n",
      "  return np.nanmean(a, axis, out=out, keepdims=keepdims)\n",
      "/opt/conda/lib/python3.9/site-packages/numpy/lib/nanfunctions.py:1117: RuntimeWarning: Mean of empty slice\n",
      "  return np.nanmean(a, axis, out=out, keepdims=keepdims)\n",
      "/opt/conda/lib/python3.9/site-packages/numpy/lib/nanfunctions.py:1117: RuntimeWarning: Mean of empty slice\n",
      "  return np.nanmean(a, axis, out=out, keepdims=keepdims)\n",
      "/opt/conda/lib/python3.9/site-packages/numpy/lib/nanfunctions.py:1117: RuntimeWarning: Mean of empty slice\n",
      "  return np.nanmean(a, axis, out=out, keepdims=keepdims)\n",
      "/opt/conda/lib/python3.9/site-packages/numpy/lib/nanfunctions.py:1117: RuntimeWarning: Mean of empty slice\n",
      "  return np.nanmean(a, axis, out=out, keepdims=keepdims)\n",
      "/opt/conda/lib/python3.9/site-packages/numpy/lib/nanfunctions.py:1117: RuntimeWarning: Mean of empty slice\n",
      "  return np.nanmean(a, axis, out=out, keepdims=keepdims)\n",
      "/opt/conda/lib/python3.9/site-packages/numpy/lib/nanfunctions.py:1117: RuntimeWarning: Mean of empty slice\n",
      "  return np.nanmean(a, axis, out=out, keepdims=keepdims)\n",
      "/opt/conda/lib/python3.9/site-packages/numpy/lib/nanfunctions.py:1117: RuntimeWarning: Mean of empty slice\n",
      "  return np.nanmean(a, axis, out=out, keepdims=keepdims)\n",
      "/opt/conda/lib/python3.9/site-packages/numpy/lib/nanfunctions.py:1117: RuntimeWarning: Mean of empty slice\n",
      "  return np.nanmean(a, axis, out=out, keepdims=keepdims)\n",
      "/opt/conda/lib/python3.9/site-packages/numpy/lib/nanfunctions.py:1117: RuntimeWarning: Mean of empty slice\n",
      "  return np.nanmean(a, axis, out=out, keepdims=keepdims)\n",
      "/opt/conda/lib/python3.9/site-packages/numpy/lib/nanfunctions.py:1117: RuntimeWarning: Mean of empty slice\n",
      "  return np.nanmean(a, axis, out=out, keepdims=keepdims)\n",
      "/opt/conda/lib/python3.9/site-packages/numpy/lib/nanfunctions.py:1117: RuntimeWarning: Mean of empty slice\n",
      "  return np.nanmean(a, axis, out=out, keepdims=keepdims)\n",
      "/opt/conda/lib/python3.9/site-packages/numpy/lib/nanfunctions.py:1117: RuntimeWarning: Mean of empty slice\n",
      "  return np.nanmean(a, axis, out=out, keepdims=keepdims)\n",
      "/opt/conda/lib/python3.9/site-packages/numpy/lib/nanfunctions.py:1117: RuntimeWarning: Mean of empty slice\n",
      "  return np.nanmean(a, axis, out=out, keepdims=keepdims)\n",
      "/opt/conda/lib/python3.9/site-packages/numpy/lib/nanfunctions.py:1117: RuntimeWarning: Mean of empty slice\n",
      "  return np.nanmean(a, axis, out=out, keepdims=keepdims)\n",
      "/opt/conda/lib/python3.9/site-packages/numpy/lib/nanfunctions.py:1117: RuntimeWarning: Mean of empty slice\n",
      "  return np.nanmean(a, axis, out=out, keepdims=keepdims)\n",
      "/opt/conda/lib/python3.9/site-packages/numpy/lib/nanfunctions.py:1117: RuntimeWarning: Mean of empty slice\n",
      "  return np.nanmean(a, axis, out=out, keepdims=keepdims)\n",
      "/opt/conda/lib/python3.9/site-packages/numpy/lib/nanfunctions.py:1117: RuntimeWarning: Mean of empty slice\n",
      "  return np.nanmean(a, axis, out=out, keepdims=keepdims)\n",
      "/opt/conda/lib/python3.9/site-packages/numpy/lib/nanfunctions.py:1117: RuntimeWarning: Mean of empty slice\n",
      "  return np.nanmean(a, axis, out=out, keepdims=keepdims)\n",
      "/opt/conda/lib/python3.9/site-packages/numpy/lib/nanfunctions.py:1117: RuntimeWarning: Mean of empty slice\n",
      "  return np.nanmean(a, axis, out=out, keepdims=keepdims)\n",
      "/opt/conda/lib/python3.9/site-packages/numpy/lib/nanfunctions.py:1117: RuntimeWarning: Mean of empty slice\n",
      "  return np.nanmean(a, axis, out=out, keepdims=keepdims)\n",
      "/opt/conda/lib/python3.9/site-packages/numpy/lib/nanfunctions.py:1117: RuntimeWarning: Mean of empty slice\n",
      "  return np.nanmean(a, axis, out=out, keepdims=keepdims)\n",
      "/opt/conda/lib/python3.9/site-packages/numpy/lib/nanfunctions.py:1117: RuntimeWarning: Mean of empty slice\n",
      "  return np.nanmean(a, axis, out=out, keepdims=keepdims)\n",
      "/opt/conda/lib/python3.9/site-packages/numpy/lib/nanfunctions.py:1117: RuntimeWarning: Mean of empty slice\n",
      "  return np.nanmean(a, axis, out=out, keepdims=keepdims)\n",
      "/opt/conda/lib/python3.9/site-packages/numpy/lib/nanfunctions.py:1117: RuntimeWarning: Mean of empty slice\n",
      "  return np.nanmean(a, axis, out=out, keepdims=keepdims)\n",
      "/opt/conda/lib/python3.9/site-packages/numpy/lib/nanfunctions.py:1117: RuntimeWarning: Mean of empty slice\n",
      "  return np.nanmean(a, axis, out=out, keepdims=keepdims)\n",
      "/opt/conda/lib/python3.9/site-packages/numpy/lib/nanfunctions.py:1117: RuntimeWarning: Mean of empty slice\n",
      "  return np.nanmean(a, axis, out=out, keepdims=keepdims)\n",
      "/opt/conda/lib/python3.9/site-packages/numpy/lib/nanfunctions.py:1117: RuntimeWarning: Mean of empty slice\n",
      "  return np.nanmean(a, axis, out=out, keepdims=keepdims)\n",
      "/opt/conda/lib/python3.9/site-packages/numpy/lib/nanfunctions.py:1117: RuntimeWarning: Mean of empty slice\n",
      "  return np.nanmean(a, axis, out=out, keepdims=keepdims)\n",
      "/opt/conda/lib/python3.9/site-packages/numpy/lib/nanfunctions.py:1117: RuntimeWarning: Mean of empty slice\n",
      "  return np.nanmean(a, axis, out=out, keepdims=keepdims)\n",
      "/opt/conda/lib/python3.9/site-packages/numpy/lib/nanfunctions.py:1117: RuntimeWarning: Mean of empty slice\n",
      "  return np.nanmean(a, axis, out=out, keepdims=keepdims)\n",
      "/opt/conda/lib/python3.9/site-packages/numpy/lib/nanfunctions.py:1117: RuntimeWarning: Mean of empty slice\n",
      "  return np.nanmean(a, axis, out=out, keepdims=keepdims)\n",
      "/opt/conda/lib/python3.9/site-packages/numpy/lib/nanfunctions.py:1117: RuntimeWarning: Mean of empty slice\n",
      "  return np.nanmean(a, axis, out=out, keepdims=keepdims)\n",
      "/opt/conda/lib/python3.9/site-packages/numpy/lib/nanfunctions.py:1117: RuntimeWarning: Mean of empty slice\n",
      "  return np.nanmean(a, axis, out=out, keepdims=keepdims)\n",
      "/opt/conda/lib/python3.9/site-packages/numpy/lib/nanfunctions.py:1117: RuntimeWarning: Mean of empty slice\n",
      "  return np.nanmean(a, axis, out=out, keepdims=keepdims)\n",
      "/opt/conda/lib/python3.9/site-packages/numpy/lib/nanfunctions.py:1117: RuntimeWarning: Mean of empty slice\n",
      "  return np.nanmean(a, axis, out=out, keepdims=keepdims)\n",
      "/opt/conda/lib/python3.9/site-packages/numpy/lib/nanfunctions.py:1117: RuntimeWarning: Mean of empty slice\n",
      "  return np.nanmean(a, axis, out=out, keepdims=keepdims)\n",
      "/opt/conda/lib/python3.9/site-packages/numpy/lib/nanfunctions.py:1117: RuntimeWarning: Mean of empty slice\n",
      "  return np.nanmean(a, axis, out=out, keepdims=keepdims)\n",
      "/opt/conda/lib/python3.9/site-packages/numpy/lib/nanfunctions.py:1117: RuntimeWarning: Mean of empty slice\n",
      "  return np.nanmean(a, axis, out=out, keepdims=keepdims)\n",
      "/opt/conda/lib/python3.9/site-packages/numpy/lib/nanfunctions.py:1117: RuntimeWarning: Mean of empty slice\n",
      "  return np.nanmean(a, axis, out=out, keepdims=keepdims)\n",
      "/opt/conda/lib/python3.9/site-packages/numpy/lib/nanfunctions.py:1117: RuntimeWarning: Mean of empty slice\n",
      "  return np.nanmean(a, axis, out=out, keepdims=keepdims)\n",
      "/opt/conda/lib/python3.9/site-packages/numpy/lib/nanfunctions.py:1117: RuntimeWarning: Mean of empty slice\n",
      "  return np.nanmean(a, axis, out=out, keepdims=keepdims)\n",
      "/opt/conda/lib/python3.9/site-packages/numpy/lib/nanfunctions.py:1117: RuntimeWarning: Mean of empty slice\n",
      "  return np.nanmean(a, axis, out=out, keepdims=keepdims)\n",
      "/opt/conda/lib/python3.9/site-packages/numpy/lib/nanfunctions.py:1117: RuntimeWarning: Mean of empty slice\n",
      "  return np.nanmean(a, axis, out=out, keepdims=keepdims)\n",
      "/opt/conda/lib/python3.9/site-packages/numpy/lib/nanfunctions.py:1117: RuntimeWarning: Mean of empty slice\n",
      "  return np.nanmean(a, axis, out=out, keepdims=keepdims)\n",
      "/opt/conda/lib/python3.9/site-packages/numpy/lib/nanfunctions.py:1117: RuntimeWarning: Mean of empty slice\n",
      "  return np.nanmean(a, axis, out=out, keepdims=keepdims)\n",
      "/opt/conda/lib/python3.9/site-packages/numpy/lib/nanfunctions.py:1117: RuntimeWarning: Mean of empty slice\n",
      "  return np.nanmean(a, axis, out=out, keepdims=keepdims)\n",
      "/opt/conda/lib/python3.9/site-packages/numpy/lib/nanfunctions.py:1117: RuntimeWarning: Mean of empty slice\n",
      "  return np.nanmean(a, axis, out=out, keepdims=keepdims)\n",
      "/opt/conda/lib/python3.9/site-packages/numpy/lib/nanfunctions.py:1117: RuntimeWarning: Mean of empty slice\n",
      "  return np.nanmean(a, axis, out=out, keepdims=keepdims)\n",
      "/opt/conda/lib/python3.9/site-packages/numpy/lib/nanfunctions.py:1117: RuntimeWarning: Mean of empty slice\n",
      "  return np.nanmean(a, axis, out=out, keepdims=keepdims)\n",
      "/opt/conda/lib/python3.9/site-packages/numpy/lib/nanfunctions.py:1117: RuntimeWarning: Mean of empty slice\n",
      "  return np.nanmean(a, axis, out=out, keepdims=keepdims)\n",
      "/opt/conda/lib/python3.9/site-packages/numpy/lib/nanfunctions.py:1117: RuntimeWarning: Mean of empty slice\n",
      "  return np.nanmean(a, axis, out=out, keepdims=keepdims)\n",
      "/opt/conda/lib/python3.9/site-packages/numpy/lib/nanfunctions.py:1117: RuntimeWarning: Mean of empty slice\n",
      "  return np.nanmean(a, axis, out=out, keepdims=keepdims)\n",
      "/opt/conda/lib/python3.9/site-packages/numpy/lib/nanfunctions.py:1117: RuntimeWarning: Mean of empty slice\n",
      "  return np.nanmean(a, axis, out=out, keepdims=keepdims)\n",
      "/opt/conda/lib/python3.9/site-packages/numpy/lib/nanfunctions.py:1117: RuntimeWarning: Mean of empty slice\n",
      "  return np.nanmean(a, axis, out=out, keepdims=keepdims)\n",
      "/opt/conda/lib/python3.9/site-packages/numpy/lib/nanfunctions.py:1117: RuntimeWarning: Mean of empty slice\n",
      "  return np.nanmean(a, axis, out=out, keepdims=keepdims)\n",
      "/opt/conda/lib/python3.9/site-packages/numpy/lib/nanfunctions.py:1117: RuntimeWarning: Mean of empty slice\n",
      "  return np.nanmean(a, axis, out=out, keepdims=keepdims)\n",
      "/opt/conda/lib/python3.9/site-packages/numpy/lib/nanfunctions.py:1117: RuntimeWarning: Mean of empty slice\n",
      "  return np.nanmean(a, axis, out=out, keepdims=keepdims)\n",
      "/opt/conda/lib/python3.9/site-packages/numpy/lib/nanfunctions.py:1117: RuntimeWarning: Mean of empty slice\n",
      "  return np.nanmean(a, axis, out=out, keepdims=keepdims)\n",
      "/opt/conda/lib/python3.9/site-packages/numpy/lib/nanfunctions.py:1117: RuntimeWarning: Mean of empty slice\n",
      "  return np.nanmean(a, axis, out=out, keepdims=keepdims)\n",
      "/opt/conda/lib/python3.9/site-packages/numpy/lib/nanfunctions.py:1117: RuntimeWarning: Mean of empty slice\n",
      "  return np.nanmean(a, axis, out=out, keepdims=keepdims)\n",
      "/opt/conda/lib/python3.9/site-packages/numpy/lib/nanfunctions.py:1117: RuntimeWarning: Mean of empty slice\n",
      "  return np.nanmean(a, axis, out=out, keepdims=keepdims)\n",
      "/opt/conda/lib/python3.9/site-packages/numpy/lib/nanfunctions.py:1117: RuntimeWarning: Mean of empty slice\n",
      "  return np.nanmean(a, axis, out=out, keepdims=keepdims)\n",
      "/opt/conda/lib/python3.9/site-packages/numpy/lib/nanfunctions.py:1117: RuntimeWarning: Mean of empty slice\n",
      "  return np.nanmean(a, axis, out=out, keepdims=keepdims)\n",
      "/opt/conda/lib/python3.9/site-packages/numpy/lib/nanfunctions.py:1117: RuntimeWarning: Mean of empty slice\n",
      "  return np.nanmean(a, axis, out=out, keepdims=keepdims)\n",
      "/opt/conda/lib/python3.9/site-packages/numpy/lib/nanfunctions.py:1117: RuntimeWarning: Mean of empty slice\n",
      "  return np.nanmean(a, axis, out=out, keepdims=keepdims)\n",
      "/opt/conda/lib/python3.9/site-packages/numpy/lib/nanfunctions.py:1117: RuntimeWarning: Mean of empty slice\n",
      "  return np.nanmean(a, axis, out=out, keepdims=keepdims)\n",
      "/opt/conda/lib/python3.9/site-packages/numpy/lib/nanfunctions.py:1117: RuntimeWarning: Mean of empty slice\n",
      "  return np.nanmean(a, axis, out=out, keepdims=keepdims)\n",
      "/opt/conda/lib/python3.9/site-packages/numpy/lib/nanfunctions.py:1117: RuntimeWarning: Mean of empty slice\n",
      "  return np.nanmean(a, axis, out=out, keepdims=keepdims)\n",
      "/opt/conda/lib/python3.9/site-packages/numpy/lib/nanfunctions.py:1117: RuntimeWarning: Mean of empty slice\n",
      "  return np.nanmean(a, axis, out=out, keepdims=keepdims)\n",
      "/opt/conda/lib/python3.9/site-packages/numpy/lib/nanfunctions.py:1117: RuntimeWarning: Mean of empty slice\n",
      "  return np.nanmean(a, axis, out=out, keepdims=keepdims)\n",
      "/opt/conda/lib/python3.9/site-packages/numpy/lib/nanfunctions.py:1117: RuntimeWarning: Mean of empty slice\n",
      "  return np.nanmean(a, axis, out=out, keepdims=keepdims)\n",
      "/opt/conda/lib/python3.9/site-packages/numpy/lib/nanfunctions.py:1117: RuntimeWarning: Mean of empty slice\n",
      "  return np.nanmean(a, axis, out=out, keepdims=keepdims)\n",
      "/opt/conda/lib/python3.9/site-packages/numpy/lib/nanfunctions.py:1117: RuntimeWarning: Mean of empty slice\n",
      "  return np.nanmean(a, axis, out=out, keepdims=keepdims)\n",
      "/opt/conda/lib/python3.9/site-packages/numpy/lib/nanfunctions.py:1117: RuntimeWarning: Mean of empty slice\n",
      "  return np.nanmean(a, axis, out=out, keepdims=keepdims)\n",
      "/opt/conda/lib/python3.9/site-packages/numpy/lib/nanfunctions.py:1117: RuntimeWarning: Mean of empty slice\n",
      "  return np.nanmean(a, axis, out=out, keepdims=keepdims)\n",
      "/opt/conda/lib/python3.9/site-packages/numpy/lib/nanfunctions.py:1117: RuntimeWarning: Mean of empty slice\n",
      "  return np.nanmean(a, axis, out=out, keepdims=keepdims)\n",
      "/opt/conda/lib/python3.9/site-packages/numpy/lib/nanfunctions.py:1117: RuntimeWarning: Mean of empty slice\n",
      "  return np.nanmean(a, axis, out=out, keepdims=keepdims)\n",
      "/opt/conda/lib/python3.9/site-packages/numpy/lib/nanfunctions.py:1117: RuntimeWarning: Mean of empty slice\n",
      "  return np.nanmean(a, axis, out=out, keepdims=keepdims)\n",
      "/opt/conda/lib/python3.9/site-packages/numpy/lib/nanfunctions.py:1117: RuntimeWarning: Mean of empty slice\n",
      "  return np.nanmean(a, axis, out=out, keepdims=keepdims)\n",
      "/opt/conda/lib/python3.9/site-packages/numpy/lib/nanfunctions.py:1117: RuntimeWarning: Mean of empty slice\n",
      "  return np.nanmean(a, axis, out=out, keepdims=keepdims)\n",
      "/opt/conda/lib/python3.9/site-packages/numpy/lib/nanfunctions.py:1117: RuntimeWarning: Mean of empty slice\n",
      "  return np.nanmean(a, axis, out=out, keepdims=keepdims)\n",
      "/opt/conda/lib/python3.9/site-packages/numpy/lib/nanfunctions.py:1117: RuntimeWarning: Mean of empty slice\n",
      "  return np.nanmean(a, axis, out=out, keepdims=keepdims)\n",
      "/opt/conda/lib/python3.9/site-packages/numpy/lib/nanfunctions.py:1117: RuntimeWarning: Mean of empty slice\n",
      "  return np.nanmean(a, axis, out=out, keepdims=keepdims)\n",
      "/opt/conda/lib/python3.9/site-packages/numpy/lib/nanfunctions.py:1117: RuntimeWarning: Mean of empty slice\n",
      "  return np.nanmean(a, axis, out=out, keepdims=keepdims)\n",
      "/opt/conda/lib/python3.9/site-packages/numpy/lib/nanfunctions.py:1117: RuntimeWarning: Mean of empty slice\n",
      "  return np.nanmean(a, axis, out=out, keepdims=keepdims)\n",
      "/opt/conda/lib/python3.9/site-packages/numpy/lib/nanfunctions.py:1117: RuntimeWarning: Mean of empty slice\n",
      "  return np.nanmean(a, axis, out=out, keepdims=keepdims)\n",
      "/opt/conda/lib/python3.9/site-packages/numpy/lib/nanfunctions.py:1117: RuntimeWarning: Mean of empty slice\n",
      "  return np.nanmean(a, axis, out=out, keepdims=keepdims)\n",
      "/opt/conda/lib/python3.9/site-packages/numpy/lib/nanfunctions.py:1117: RuntimeWarning: Mean of empty slice\n",
      "  return np.nanmean(a, axis, out=out, keepdims=keepdims)\n",
      "/opt/conda/lib/python3.9/site-packages/numpy/lib/nanfunctions.py:1117: RuntimeWarning: Mean of empty slice\n",
      "  return np.nanmean(a, axis, out=out, keepdims=keepdims)\n",
      "/opt/conda/lib/python3.9/site-packages/numpy/lib/nanfunctions.py:1117: RuntimeWarning: Mean of empty slice\n",
      "  return np.nanmean(a, axis, out=out, keepdims=keepdims)\n",
      "/opt/conda/lib/python3.9/site-packages/numpy/lib/nanfunctions.py:1117: RuntimeWarning: Mean of empty slice\n",
      "  return np.nanmean(a, axis, out=out, keepdims=keepdims)\n",
      "/opt/conda/lib/python3.9/site-packages/numpy/lib/nanfunctions.py:1117: RuntimeWarning: Mean of empty slice\n",
      "  return np.nanmean(a, axis, out=out, keepdims=keepdims)\n",
      "/opt/conda/lib/python3.9/site-packages/numpy/lib/nanfunctions.py:1117: RuntimeWarning: Mean of empty slice\n",
      "  return np.nanmean(a, axis, out=out, keepdims=keepdims)\n",
      "/opt/conda/lib/python3.9/site-packages/numpy/lib/nanfunctions.py:1117: RuntimeWarning: Mean of empty slice\n",
      "  return np.nanmean(a, axis, out=out, keepdims=keepdims)\n",
      "/opt/conda/lib/python3.9/site-packages/numpy/lib/nanfunctions.py:1117: RuntimeWarning: Mean of empty slice\n",
      "  return np.nanmean(a, axis, out=out, keepdims=keepdims)\n",
      "/opt/conda/lib/python3.9/site-packages/numpy/lib/nanfunctions.py:1117: RuntimeWarning: Mean of empty slice\n",
      "  return np.nanmean(a, axis, out=out, keepdims=keepdims)\n",
      "/opt/conda/lib/python3.9/site-packages/numpy/lib/nanfunctions.py:1117: RuntimeWarning: Mean of empty slice\n",
      "  return np.nanmean(a, axis, out=out, keepdims=keepdims)\n",
      "/opt/conda/lib/python3.9/site-packages/numpy/lib/nanfunctions.py:1117: RuntimeWarning: Mean of empty slice\n",
      "  return np.nanmean(a, axis, out=out, keepdims=keepdims)\n",
      "/opt/conda/lib/python3.9/site-packages/numpy/lib/nanfunctions.py:1117: RuntimeWarning: Mean of empty slice\n",
      "  return np.nanmean(a, axis, out=out, keepdims=keepdims)\n",
      "/opt/conda/lib/python3.9/site-packages/numpy/lib/nanfunctions.py:1117: RuntimeWarning: Mean of empty slice\n",
      "  return np.nanmean(a, axis, out=out, keepdims=keepdims)\n",
      "/opt/conda/lib/python3.9/site-packages/numpy/lib/nanfunctions.py:1117: RuntimeWarning: Mean of empty slice\n",
      "  return np.nanmean(a, axis, out=out, keepdims=keepdims)\n",
      "/opt/conda/lib/python3.9/site-packages/numpy/lib/nanfunctions.py:1117: RuntimeWarning: Mean of empty slice\n",
      "  return np.nanmean(a, axis, out=out, keepdims=keepdims)\n",
      "/opt/conda/lib/python3.9/site-packages/numpy/lib/nanfunctions.py:1117: RuntimeWarning: Mean of empty slice\n",
      "  return np.nanmean(a, axis, out=out, keepdims=keepdims)\n",
      "/opt/conda/lib/python3.9/site-packages/numpy/lib/nanfunctions.py:1117: RuntimeWarning: Mean of empty slice\n",
      "  return np.nanmean(a, axis, out=out, keepdims=keepdims)\n",
      "/opt/conda/lib/python3.9/site-packages/numpy/lib/nanfunctions.py:1117: RuntimeWarning: Mean of empty slice\n",
      "  return np.nanmean(a, axis, out=out, keepdims=keepdims)\n",
      "/opt/conda/lib/python3.9/site-packages/numpy/lib/nanfunctions.py:1117: RuntimeWarning: Mean of empty slice\n",
      "  return np.nanmean(a, axis, out=out, keepdims=keepdims)\n",
      "/opt/conda/lib/python3.9/site-packages/numpy/lib/nanfunctions.py:1117: RuntimeWarning: Mean of empty slice\n",
      "  return np.nanmean(a, axis, out=out, keepdims=keepdims)\n",
      "/opt/conda/lib/python3.9/site-packages/numpy/lib/nanfunctions.py:1117: RuntimeWarning: Mean of empty slice\n",
      "  return np.nanmean(a, axis, out=out, keepdims=keepdims)\n",
      "/opt/conda/lib/python3.9/site-packages/numpy/lib/nanfunctions.py:1117: RuntimeWarning: Mean of empty slice\n",
      "  return np.nanmean(a, axis, out=out, keepdims=keepdims)\n",
      "/opt/conda/lib/python3.9/site-packages/numpy/lib/nanfunctions.py:1117: RuntimeWarning: Mean of empty slice\n",
      "  return np.nanmean(a, axis, out=out, keepdims=keepdims)\n",
      "/opt/conda/lib/python3.9/site-packages/numpy/lib/nanfunctions.py:1117: RuntimeWarning: Mean of empty slice\n",
      "  return np.nanmean(a, axis, out=out, keepdims=keepdims)\n",
      "/opt/conda/lib/python3.9/site-packages/numpy/lib/nanfunctions.py:1117: RuntimeWarning: Mean of empty slice\n",
      "  return np.nanmean(a, axis, out=out, keepdims=keepdims)\n",
      "/opt/conda/lib/python3.9/site-packages/numpy/lib/nanfunctions.py:1117: RuntimeWarning: Mean of empty slice\n",
      "  return np.nanmean(a, axis, out=out, keepdims=keepdims)\n",
      "/opt/conda/lib/python3.9/site-packages/numpy/lib/nanfunctions.py:1117: RuntimeWarning: Mean of empty slice\n",
      "  return np.nanmean(a, axis, out=out, keepdims=keepdims)\n",
      "/opt/conda/lib/python3.9/site-packages/numpy/lib/nanfunctions.py:1117: RuntimeWarning: Mean of empty slice\n",
      "  return np.nanmean(a, axis, out=out, keepdims=keepdims)\n",
      "/opt/conda/lib/python3.9/site-packages/numpy/lib/nanfunctions.py:1117: RuntimeWarning: Mean of empty slice\n",
      "  return np.nanmean(a, axis, out=out, keepdims=keepdims)\n",
      "/opt/conda/lib/python3.9/site-packages/numpy/lib/nanfunctions.py:1117: RuntimeWarning: Mean of empty slice\n",
      "  return np.nanmean(a, axis, out=out, keepdims=keepdims)\n",
      "/opt/conda/lib/python3.9/site-packages/numpy/lib/nanfunctions.py:1117: RuntimeWarning: Mean of empty slice\n",
      "  return np.nanmean(a, axis, out=out, keepdims=keepdims)\n",
      "/opt/conda/lib/python3.9/site-packages/numpy/lib/nanfunctions.py:1117: RuntimeWarning: Mean of empty slice\n",
      "  return np.nanmean(a, axis, out=out, keepdims=keepdims)\n",
      "/opt/conda/lib/python3.9/site-packages/numpy/lib/nanfunctions.py:1117: RuntimeWarning: Mean of empty slice\n",
      "  return np.nanmean(a, axis, out=out, keepdims=keepdims)\n",
      "/opt/conda/lib/python3.9/site-packages/numpy/lib/nanfunctions.py:1117: RuntimeWarning: Mean of empty slice\n",
      "  return np.nanmean(a, axis, out=out, keepdims=keepdims)\n",
      "/opt/conda/lib/python3.9/site-packages/numpy/lib/nanfunctions.py:1117: RuntimeWarning: Mean of empty slice\n",
      "  return np.nanmean(a, axis, out=out, keepdims=keepdims)\n",
      "/opt/conda/lib/python3.9/site-packages/numpy/lib/nanfunctions.py:1117: RuntimeWarning: Mean of empty slice\n",
      "  return np.nanmean(a, axis, out=out, keepdims=keepdims)\n",
      "/opt/conda/lib/python3.9/site-packages/numpy/lib/nanfunctions.py:1117: RuntimeWarning: Mean of empty slice\n",
      "  return np.nanmean(a, axis, out=out, keepdims=keepdims)\n",
      "/opt/conda/lib/python3.9/site-packages/numpy/lib/nanfunctions.py:1117: RuntimeWarning: Mean of empty slice\n",
      "  return np.nanmean(a, axis, out=out, keepdims=keepdims)\n",
      "/opt/conda/lib/python3.9/site-packages/numpy/lib/nanfunctions.py:1117: RuntimeWarning: Mean of empty slice\n",
      "  return np.nanmean(a, axis, out=out, keepdims=keepdims)\n",
      "/opt/conda/lib/python3.9/site-packages/numpy/lib/nanfunctions.py:1117: RuntimeWarning: Mean of empty slice\n",
      "  return np.nanmean(a, axis, out=out, keepdims=keepdims)\n",
      "/opt/conda/lib/python3.9/site-packages/numpy/lib/nanfunctions.py:1117: RuntimeWarning: Mean of empty slice\n",
      "  return np.nanmean(a, axis, out=out, keepdims=keepdims)\n",
      "/opt/conda/lib/python3.9/site-packages/numpy/lib/nanfunctions.py:1117: RuntimeWarning: Mean of empty slice\n",
      "  return np.nanmean(a, axis, out=out, keepdims=keepdims)\n",
      "/opt/conda/lib/python3.9/site-packages/numpy/lib/nanfunctions.py:1117: RuntimeWarning: Mean of empty slice\n",
      "  return np.nanmean(a, axis, out=out, keepdims=keepdims)\n",
      "/opt/conda/lib/python3.9/site-packages/numpy/lib/nanfunctions.py:1117: RuntimeWarning: Mean of empty slice\n",
      "  return np.nanmean(a, axis, out=out, keepdims=keepdims)\n",
      "/opt/conda/lib/python3.9/site-packages/numpy/lib/nanfunctions.py:1117: RuntimeWarning: Mean of empty slice\n",
      "  return np.nanmean(a, axis, out=out, keepdims=keepdims)\n",
      "/opt/conda/lib/python3.9/site-packages/numpy/lib/nanfunctions.py:1117: RuntimeWarning: Mean of empty slice\n",
      "  return np.nanmean(a, axis, out=out, keepdims=keepdims)\n",
      "/opt/conda/lib/python3.9/site-packages/numpy/lib/nanfunctions.py:1117: RuntimeWarning: Mean of empty slice\n",
      "  return np.nanmean(a, axis, out=out, keepdims=keepdims)\n",
      "/opt/conda/lib/python3.9/site-packages/numpy/lib/nanfunctions.py:1117: RuntimeWarning: Mean of empty slice\n",
      "  return np.nanmean(a, axis, out=out, keepdims=keepdims)\n",
      "/opt/conda/lib/python3.9/site-packages/numpy/lib/nanfunctions.py:1117: RuntimeWarning: Mean of empty slice\n",
      "  return np.nanmean(a, axis, out=out, keepdims=keepdims)\n",
      "/opt/conda/lib/python3.9/site-packages/numpy/lib/nanfunctions.py:1117: RuntimeWarning: Mean of empty slice\n",
      "  return np.nanmean(a, axis, out=out, keepdims=keepdims)\n",
      "/opt/conda/lib/python3.9/site-packages/numpy/lib/nanfunctions.py:1117: RuntimeWarning: Mean of empty slice\n",
      "  return np.nanmean(a, axis, out=out, keepdims=keepdims)\n",
      "/opt/conda/lib/python3.9/site-packages/numpy/lib/nanfunctions.py:1117: RuntimeWarning: Mean of empty slice\n",
      "  return np.nanmean(a, axis, out=out, keepdims=keepdims)\n",
      "/opt/conda/lib/python3.9/site-packages/numpy/lib/nanfunctions.py:1117: RuntimeWarning: Mean of empty slice\n",
      "  return np.nanmean(a, axis, out=out, keepdims=keepdims)\n",
      "/opt/conda/lib/python3.9/site-packages/numpy/lib/nanfunctions.py:1117: RuntimeWarning: Mean of empty slice\n",
      "  return np.nanmean(a, axis, out=out, keepdims=keepdims)\n",
      "/opt/conda/lib/python3.9/site-packages/numpy/lib/nanfunctions.py:1117: RuntimeWarning: Mean of empty slice\n",
      "  return np.nanmean(a, axis, out=out, keepdims=keepdims)\n",
      "/opt/conda/lib/python3.9/site-packages/numpy/lib/nanfunctions.py:1117: RuntimeWarning: Mean of empty slice\n",
      "  return np.nanmean(a, axis, out=out, keepdims=keepdims)\n",
      "/opt/conda/lib/python3.9/site-packages/numpy/lib/nanfunctions.py:1117: RuntimeWarning: Mean of empty slice\n",
      "  return np.nanmean(a, axis, out=out, keepdims=keepdims)\n",
      "/opt/conda/lib/python3.9/site-packages/numpy/lib/nanfunctions.py:1117: RuntimeWarning: Mean of empty slice\n",
      "  return np.nanmean(a, axis, out=out, keepdims=keepdims)\n",
      "/opt/conda/lib/python3.9/site-packages/numpy/lib/nanfunctions.py:1117: RuntimeWarning: Mean of empty slice\n",
      "  return np.nanmean(a, axis, out=out, keepdims=keepdims)\n",
      "/opt/conda/lib/python3.9/site-packages/numpy/lib/nanfunctions.py:1117: RuntimeWarning: Mean of empty slice\n",
      "  return np.nanmean(a, axis, out=out, keepdims=keepdims)\n",
      "/opt/conda/lib/python3.9/site-packages/numpy/lib/nanfunctions.py:1117: RuntimeWarning: Mean of empty slice\n",
      "  return np.nanmean(a, axis, out=out, keepdims=keepdims)\n",
      "/opt/conda/lib/python3.9/site-packages/numpy/lib/nanfunctions.py:1117: RuntimeWarning: Mean of empty slice\n",
      "  return np.nanmean(a, axis, out=out, keepdims=keepdims)\n",
      "/opt/conda/lib/python3.9/site-packages/numpy/lib/nanfunctions.py:1117: RuntimeWarning: Mean of empty slice\n",
      "  return np.nanmean(a, axis, out=out, keepdims=keepdims)\n",
      "/opt/conda/lib/python3.9/site-packages/numpy/lib/nanfunctions.py:1117: RuntimeWarning: Mean of empty slice\n",
      "  return np.nanmean(a, axis, out=out, keepdims=keepdims)\n",
      "/opt/conda/lib/python3.9/site-packages/numpy/lib/nanfunctions.py:1117: RuntimeWarning: Mean of empty slice\n",
      "  return np.nanmean(a, axis, out=out, keepdims=keepdims)\n",
      "/opt/conda/lib/python3.9/site-packages/numpy/lib/nanfunctions.py:1117: RuntimeWarning: Mean of empty slice\n",
      "  return np.nanmean(a, axis, out=out, keepdims=keepdims)\n",
      "/opt/conda/lib/python3.9/site-packages/numpy/lib/nanfunctions.py:1117: RuntimeWarning: Mean of empty slice\n",
      "  return np.nanmean(a, axis, out=out, keepdims=keepdims)\n",
      "/opt/conda/lib/python3.9/site-packages/numpy/lib/nanfunctions.py:1117: RuntimeWarning: Mean of empty slice\n",
      "  return np.nanmean(a, axis, out=out, keepdims=keepdims)\n",
      "/opt/conda/lib/python3.9/site-packages/numpy/lib/nanfunctions.py:1117: RuntimeWarning: Mean of empty slice\n",
      "  return np.nanmean(a, axis, out=out, keepdims=keepdims)\n",
      "/opt/conda/lib/python3.9/site-packages/numpy/lib/nanfunctions.py:1117: RuntimeWarning: Mean of empty slice\n",
      "  return np.nanmean(a, axis, out=out, keepdims=keepdims)\n",
      "/opt/conda/lib/python3.9/site-packages/numpy/lib/nanfunctions.py:1117: RuntimeWarning: Mean of empty slice\n",
      "  return np.nanmean(a, axis, out=out, keepdims=keepdims)\n",
      "/opt/conda/lib/python3.9/site-packages/numpy/lib/nanfunctions.py:1117: RuntimeWarning: Mean of empty slice\n",
      "  return np.nanmean(a, axis, out=out, keepdims=keepdims)\n",
      "/opt/conda/lib/python3.9/site-packages/numpy/lib/nanfunctions.py:1117: RuntimeWarning: Mean of empty slice\n",
      "  return np.nanmean(a, axis, out=out, keepdims=keepdims)\n",
      "/opt/conda/lib/python3.9/site-packages/numpy/lib/nanfunctions.py:1117: RuntimeWarning: Mean of empty slice\n",
      "  return np.nanmean(a, axis, out=out, keepdims=keepdims)\n",
      "/opt/conda/lib/python3.9/site-packages/numpy/lib/nanfunctions.py:1117: RuntimeWarning: Mean of empty slice\n",
      "  return np.nanmean(a, axis, out=out, keepdims=keepdims)\n",
      "/opt/conda/lib/python3.9/site-packages/numpy/lib/nanfunctions.py:1117: RuntimeWarning: Mean of empty slice\n",
      "  return np.nanmean(a, axis, out=out, keepdims=keepdims)\n",
      "/opt/conda/lib/python3.9/site-packages/numpy/lib/nanfunctions.py:1117: RuntimeWarning: Mean of empty slice\n",
      "  return np.nanmean(a, axis, out=out, keepdims=keepdims)\n",
      "/opt/conda/lib/python3.9/site-packages/numpy/lib/nanfunctions.py:1117: RuntimeWarning: Mean of empty slice\n",
      "  return np.nanmean(a, axis, out=out, keepdims=keepdims)\n",
      "/opt/conda/lib/python3.9/site-packages/numpy/lib/nanfunctions.py:1117: RuntimeWarning: Mean of empty slice\n",
      "  return np.nanmean(a, axis, out=out, keepdims=keepdims)\n",
      "/opt/conda/lib/python3.9/site-packages/numpy/lib/nanfunctions.py:1117: RuntimeWarning: Mean of empty slice\n",
      "  return np.nanmean(a, axis, out=out, keepdims=keepdims)\n",
      "/opt/conda/lib/python3.9/site-packages/numpy/lib/nanfunctions.py:1117: RuntimeWarning: Mean of empty slice\n",
      "  return np.nanmean(a, axis, out=out, keepdims=keepdims)\n",
      "/opt/conda/lib/python3.9/site-packages/numpy/lib/nanfunctions.py:1117: RuntimeWarning: Mean of empty slice\n",
      "  return np.nanmean(a, axis, out=out, keepdims=keepdims)\n",
      "/opt/conda/lib/python3.9/site-packages/numpy/lib/nanfunctions.py:1117: RuntimeWarning: Mean of empty slice\n",
      "  return np.nanmean(a, axis, out=out, keepdims=keepdims)\n",
      "/opt/conda/lib/python3.9/site-packages/numpy/lib/nanfunctions.py:1117: RuntimeWarning: Mean of empty slice\n",
      "  return np.nanmean(a, axis, out=out, keepdims=keepdims)\n",
      "/opt/conda/lib/python3.9/site-packages/numpy/lib/nanfunctions.py:1117: RuntimeWarning: Mean of empty slice\n",
      "  return np.nanmean(a, axis, out=out, keepdims=keepdims)\n",
      "/opt/conda/lib/python3.9/site-packages/numpy/lib/nanfunctions.py:1117: RuntimeWarning: Mean of empty slice\n",
      "  return np.nanmean(a, axis, out=out, keepdims=keepdims)\n",
      "/opt/conda/lib/python3.9/site-packages/numpy/lib/nanfunctions.py:1117: RuntimeWarning: Mean of empty slice\n",
      "  return np.nanmean(a, axis, out=out, keepdims=keepdims)\n",
      "/opt/conda/lib/python3.9/site-packages/numpy/lib/nanfunctions.py:1117: RuntimeWarning: Mean of empty slice\n",
      "  return np.nanmean(a, axis, out=out, keepdims=keepdims)\n",
      "/opt/conda/lib/python3.9/site-packages/numpy/lib/nanfunctions.py:1117: RuntimeWarning: Mean of empty slice\n",
      "  return np.nanmean(a, axis, out=out, keepdims=keepdims)\n",
      "/opt/conda/lib/python3.9/site-packages/numpy/lib/nanfunctions.py:1117: RuntimeWarning: Mean of empty slice\n",
      "  return np.nanmean(a, axis, out=out, keepdims=keepdims)\n",
      "/opt/conda/lib/python3.9/site-packages/numpy/lib/nanfunctions.py:1117: RuntimeWarning: Mean of empty slice\n",
      "  return np.nanmean(a, axis, out=out, keepdims=keepdims)\n",
      "/opt/conda/lib/python3.9/site-packages/numpy/lib/nanfunctions.py:1117: RuntimeWarning: Mean of empty slice\n",
      "  return np.nanmean(a, axis, out=out, keepdims=keepdims)\n",
      "/opt/conda/lib/python3.9/site-packages/numpy/lib/nanfunctions.py:1117: RuntimeWarning: Mean of empty slice\n",
      "  return np.nanmean(a, axis, out=out, keepdims=keepdims)\n",
      "/opt/conda/lib/python3.9/site-packages/numpy/lib/nanfunctions.py:1117: RuntimeWarning: Mean of empty slice\n",
      "  return np.nanmean(a, axis, out=out, keepdims=keepdims)\n",
      "/opt/conda/lib/python3.9/site-packages/numpy/lib/nanfunctions.py:1117: RuntimeWarning: Mean of empty slice\n",
      "  return np.nanmean(a, axis, out=out, keepdims=keepdims)\n",
      "/opt/conda/lib/python3.9/site-packages/numpy/lib/nanfunctions.py:1117: RuntimeWarning: Mean of empty slice\n",
      "  return np.nanmean(a, axis, out=out, keepdims=keepdims)\n",
      "/opt/conda/lib/python3.9/site-packages/numpy/lib/nanfunctions.py:1117: RuntimeWarning: Mean of empty slice\n",
      "  return np.nanmean(a, axis, out=out, keepdims=keepdims)\n",
      "/opt/conda/lib/python3.9/site-packages/numpy/lib/nanfunctions.py:1117: RuntimeWarning: Mean of empty slice\n",
      "  return np.nanmean(a, axis, out=out, keepdims=keepdims)\n",
      "/opt/conda/lib/python3.9/site-packages/numpy/lib/nanfunctions.py:1117: RuntimeWarning: Mean of empty slice\n",
      "  return np.nanmean(a, axis, out=out, keepdims=keepdims)\n",
      "/opt/conda/lib/python3.9/site-packages/numpy/lib/nanfunctions.py:1117: RuntimeWarning: Mean of empty slice\n",
      "  return np.nanmean(a, axis, out=out, keepdims=keepdims)\n",
      "/opt/conda/lib/python3.9/site-packages/numpy/lib/nanfunctions.py:1117: RuntimeWarning: Mean of empty slice\n",
      "  return np.nanmean(a, axis, out=out, keepdims=keepdims)\n",
      "/opt/conda/lib/python3.9/site-packages/numpy/lib/nanfunctions.py:1117: RuntimeWarning: Mean of empty slice\n",
      "  return np.nanmean(a, axis, out=out, keepdims=keepdims)\n",
      "/opt/conda/lib/python3.9/site-packages/numpy/lib/nanfunctions.py:1117: RuntimeWarning: Mean of empty slice\n",
      "  return np.nanmean(a, axis, out=out, keepdims=keepdims)\n",
      "/opt/conda/lib/python3.9/site-packages/numpy/lib/nanfunctions.py:1117: RuntimeWarning: Mean of empty slice\n",
      "  return np.nanmean(a, axis, out=out, keepdims=keepdims)\n",
      "/opt/conda/lib/python3.9/site-packages/numpy/lib/nanfunctions.py:1117: RuntimeWarning: Mean of empty slice\n",
      "  return np.nanmean(a, axis, out=out, keepdims=keepdims)\n",
      "/opt/conda/lib/python3.9/site-packages/numpy/lib/nanfunctions.py:1117: RuntimeWarning: Mean of empty slice\n",
      "  return np.nanmean(a, axis, out=out, keepdims=keepdims)\n",
      "/opt/conda/lib/python3.9/site-packages/numpy/lib/nanfunctions.py:1117: RuntimeWarning: Mean of empty slice\n",
      "  return np.nanmean(a, axis, out=out, keepdims=keepdims)\n",
      "/opt/conda/lib/python3.9/site-packages/numpy/lib/nanfunctions.py:1117: RuntimeWarning: Mean of empty slice\n",
      "  return np.nanmean(a, axis, out=out, keepdims=keepdims)\n",
      "/opt/conda/lib/python3.9/site-packages/numpy/lib/nanfunctions.py:1117: RuntimeWarning: Mean of empty slice\n",
      "  return np.nanmean(a, axis, out=out, keepdims=keepdims)\n",
      "/opt/conda/lib/python3.9/site-packages/numpy/lib/nanfunctions.py:1117: RuntimeWarning: Mean of empty slice\n",
      "  return np.nanmean(a, axis, out=out, keepdims=keepdims)\n",
      "/opt/conda/lib/python3.9/site-packages/numpy/lib/nanfunctions.py:1117: RuntimeWarning: Mean of empty slice\n",
      "  return np.nanmean(a, axis, out=out, keepdims=keepdims)\n",
      "/opt/conda/lib/python3.9/site-packages/numpy/lib/nanfunctions.py:1117: RuntimeWarning: Mean of empty slice\n",
      "  return np.nanmean(a, axis, out=out, keepdims=keepdims)\n",
      "/opt/conda/lib/python3.9/site-packages/numpy/lib/nanfunctions.py:1117: RuntimeWarning: Mean of empty slice\n",
      "  return np.nanmean(a, axis, out=out, keepdims=keepdims)\n",
      "/opt/conda/lib/python3.9/site-packages/numpy/lib/nanfunctions.py:1117: RuntimeWarning: Mean of empty slice\n",
      "  return np.nanmean(a, axis, out=out, keepdims=keepdims)\n",
      "/opt/conda/lib/python3.9/site-packages/numpy/lib/nanfunctions.py:1117: RuntimeWarning: Mean of empty slice\n",
      "  return np.nanmean(a, axis, out=out, keepdims=keepdims)\n",
      "/opt/conda/lib/python3.9/site-packages/numpy/lib/nanfunctions.py:1117: RuntimeWarning: Mean of empty slice\n",
      "  return np.nanmean(a, axis, out=out, keepdims=keepdims)\n",
      "/opt/conda/lib/python3.9/site-packages/numpy/lib/nanfunctions.py:1117: RuntimeWarning: Mean of empty slice\n",
      "  return np.nanmean(a, axis, out=out, keepdims=keepdims)\n",
      "/opt/conda/lib/python3.9/site-packages/numpy/lib/nanfunctions.py:1117: RuntimeWarning: Mean of empty slice\n",
      "  return np.nanmean(a, axis, out=out, keepdims=keepdims)\n",
      "/opt/conda/lib/python3.9/site-packages/numpy/lib/nanfunctions.py:1117: RuntimeWarning: Mean of empty slice\n",
      "  return np.nanmean(a, axis, out=out, keepdims=keepdims)\n",
      "/opt/conda/lib/python3.9/site-packages/numpy/lib/nanfunctions.py:1117: RuntimeWarning: Mean of empty slice\n",
      "  return np.nanmean(a, axis, out=out, keepdims=keepdims)\n",
      "/opt/conda/lib/python3.9/site-packages/numpy/lib/nanfunctions.py:1117: RuntimeWarning: Mean of empty slice\n",
      "  return np.nanmean(a, axis, out=out, keepdims=keepdims)\n",
      "/opt/conda/lib/python3.9/site-packages/numpy/lib/nanfunctions.py:1117: RuntimeWarning: Mean of empty slice\n",
      "  return np.nanmean(a, axis, out=out, keepdims=keepdims)\n",
      "/opt/conda/lib/python3.9/site-packages/numpy/lib/nanfunctions.py:1117: RuntimeWarning: Mean of empty slice\n",
      "  return np.nanmean(a, axis, out=out, keepdims=keepdims)\n",
      "/opt/conda/lib/python3.9/site-packages/numpy/lib/nanfunctions.py:1117: RuntimeWarning: Mean of empty slice\n",
      "  return np.nanmean(a, axis, out=out, keepdims=keepdims)\n",
      "/opt/conda/lib/python3.9/site-packages/numpy/lib/nanfunctions.py:1117: RuntimeWarning: Mean of empty slice\n",
      "  return np.nanmean(a, axis, out=out, keepdims=keepdims)\n",
      "/opt/conda/lib/python3.9/site-packages/numpy/lib/nanfunctions.py:1117: RuntimeWarning: Mean of empty slice\n",
      "  return np.nanmean(a, axis, out=out, keepdims=keepdims)\n",
      "/opt/conda/lib/python3.9/site-packages/numpy/lib/nanfunctions.py:1117: RuntimeWarning: Mean of empty slice\n",
      "  return np.nanmean(a, axis, out=out, keepdims=keepdims)\n",
      "/opt/conda/lib/python3.9/site-packages/numpy/lib/nanfunctions.py:1117: RuntimeWarning: Mean of empty slice\n",
      "  return np.nanmean(a, axis, out=out, keepdims=keepdims)\n",
      "/opt/conda/lib/python3.9/site-packages/numpy/lib/nanfunctions.py:1117: RuntimeWarning: Mean of empty slice\n",
      "  return np.nanmean(a, axis, out=out, keepdims=keepdims)\n",
      "/opt/conda/lib/python3.9/site-packages/numpy/lib/nanfunctions.py:1117: RuntimeWarning: Mean of empty slice\n",
      "  return np.nanmean(a, axis, out=out, keepdims=keepdims)\n",
      "/opt/conda/lib/python3.9/site-packages/numpy/lib/nanfunctions.py:1117: RuntimeWarning: Mean of empty slice\n",
      "  return np.nanmean(a, axis, out=out, keepdims=keepdims)\n",
      "/opt/conda/lib/python3.9/site-packages/numpy/lib/nanfunctions.py:1117: RuntimeWarning: Mean of empty slice\n",
      "  return np.nanmean(a, axis, out=out, keepdims=keepdims)\n",
      "/opt/conda/lib/python3.9/site-packages/numpy/lib/nanfunctions.py:1117: RuntimeWarning: Mean of empty slice\n",
      "  return np.nanmean(a, axis, out=out, keepdims=keepdims)\n",
      "/opt/conda/lib/python3.9/site-packages/numpy/lib/nanfunctions.py:1117: RuntimeWarning: Mean of empty slice\n",
      "  return np.nanmean(a, axis, out=out, keepdims=keepdims)\n",
      "/opt/conda/lib/python3.9/site-packages/numpy/lib/nanfunctions.py:1117: RuntimeWarning: Mean of empty slice\n",
      "  return np.nanmean(a, axis, out=out, keepdims=keepdims)\n",
      "/opt/conda/lib/python3.9/site-packages/numpy/lib/nanfunctions.py:1117: RuntimeWarning: Mean of empty slice\n",
      "  return np.nanmean(a, axis, out=out, keepdims=keepdims)\n",
      "/opt/conda/lib/python3.9/site-packages/numpy/lib/nanfunctions.py:1117: RuntimeWarning: Mean of empty slice\n",
      "  return np.nanmean(a, axis, out=out, keepdims=keepdims)\n",
      "/opt/conda/lib/python3.9/site-packages/numpy/lib/nanfunctions.py:1117: RuntimeWarning: Mean of empty slice\n",
      "  return np.nanmean(a, axis, out=out, keepdims=keepdims)\n",
      "/opt/conda/lib/python3.9/site-packages/numpy/lib/nanfunctions.py:1117: RuntimeWarning: Mean of empty slice\n",
      "  return np.nanmean(a, axis, out=out, keepdims=keepdims)\n",
      "/opt/conda/lib/python3.9/site-packages/numpy/lib/nanfunctions.py:1117: RuntimeWarning: Mean of empty slice\n",
      "  return np.nanmean(a, axis, out=out, keepdims=keepdims)\n",
      "/opt/conda/lib/python3.9/site-packages/numpy/lib/nanfunctions.py:1117: RuntimeWarning: Mean of empty slice\n",
      "  return np.nanmean(a, axis, out=out, keepdims=keepdims)\n",
      "/opt/conda/lib/python3.9/site-packages/numpy/lib/nanfunctions.py:1117: RuntimeWarning: Mean of empty slice\n",
      "  return np.nanmean(a, axis, out=out, keepdims=keepdims)\n"
     ]
    }
   ],
   "source": [
    "# в столбце 'cityCenters_nearest' так же заполним пропуски медианным значением для каждого населенного пункта\n",
    "for locality_name in df['locality_name'].unique():\n",
    "    median = df.loc[df['locality_name'] == locality_name, 'cityCenters_nearest'].median()\n",
    "    df.loc[(df['cityCenters_nearest'].isna()) & (df['locality_name'] == locality_name), 'cityCenters_nearest'] = median"
   ]
  },
  {
   "cell_type": "code",
   "execution_count": 6,
   "metadata": {},
   "outputs": [],
   "source": [
    "# меняем цену на тип int для удобства чтения\n",
    "df['last_price'] = pd.to_numeric(df['last_price'], errors='ignore').astype('int')\n",
    "\n",
    "# меняем общую площадь на тип int для удобства чтения\n",
    "df['total_area'] = pd.to_numeric(df['total_area'], errors='ignore').astype('int')\n",
    "\n",
    "# меняем формат даты на формат даты без времени, т.к. время не указано\n",
    "df['first_day_exposition'] = pd.to_datetime(df['first_day_exposition'], format = '%Y.%m.%d')\n",
    "\n",
    "# меняем количество этажей на тип int для удобства чтения\n",
    "df['floors_total'] = pd.to_numeric(df['floors_total'], errors='ignore').astype('int')\n",
    "\n",
    "# меняем количество балконов на тип int для удобства чтения\n",
    "df['balcony'] = pd.to_numeric(df['balcony'], errors='ignore').astype('int')\n",
    "\n",
    "# меняем количество парков на тип int для удобства чтения\n",
    "df['parks_around3000'] = pd.to_numeric(df['parks_around3000'], errors='ignore').astype('int')\n",
    "\n",
    "# меняем количество озёр на тип int для удобства чтения\n",
    "df['ponds_around3000'] = pd.to_numeric(df['ponds_around3000'], errors='ignore').astype('int')\n",
    "\n",
    "# меняем дни показа объявления на тип int для удобства чтения\n",
    "df['days_exposition'] = pd.to_numeric(df['days_exposition'], errors='ignore').astype('int')"
   ]
  },
  {
   "cell_type": "markdown",
   "metadata": {},
   "source": [
    "В столбце 'first_day_exposition' указана только дата без времени, поэтому имеет смысл изменить формат столбца, убрав из него время.\n",
    "\n",
    "В столбцах 'last_price', 'total_area', 'floors_total' и прочих следует изменить фотмат на целочисленный для удобства чтения и обработки данных."
   ]
  },
  {
   "cell_type": "code",
   "execution_count": 7,
   "metadata": {},
   "outputs": [
    {
     "name": "stdout",
     "output_type": "stream",
     "text": [
      "<class 'pandas.core.frame.DataFrame'>\n",
      "RangeIndex: 23699 entries, 0 to 23698\n",
      "Data columns (total 22 columns):\n",
      " #   Column                Non-Null Count  Dtype         \n",
      "---  ------                --------------  -----         \n",
      " 0   total_images          23699 non-null  int64         \n",
      " 1   last_price            23699 non-null  int64         \n",
      " 2   total_area            23699 non-null  int64         \n",
      " 3   first_day_exposition  23699 non-null  datetime64[ns]\n",
      " 4   rooms                 23699 non-null  int64         \n",
      " 5   ceiling_height        23699 non-null  object        \n",
      " 6   floors_total          23699 non-null  int64         \n",
      " 7   living_area           21796 non-null  float64       \n",
      " 8   floor                 23699 non-null  int64         \n",
      " 9   is_apartment          2775 non-null   object        \n",
      " 10  studio                23699 non-null  bool          \n",
      " 11  open_plan             23699 non-null  bool          \n",
      " 12  kitchen_area          21421 non-null  float64       \n",
      " 13  balcony               23699 non-null  int64         \n",
      " 14  locality_name         23699 non-null  object        \n",
      " 15  airports_nearest      18157 non-null  float64       \n",
      " 16  cityCenters_nearest   18313 non-null  float64       \n",
      " 17  parks_around3000      23699 non-null  int64         \n",
      " 18  parks_nearest         8079 non-null   float64       \n",
      " 19  ponds_around3000      23699 non-null  int64         \n",
      " 20  ponds_nearest         9110 non-null   float64       \n",
      " 21  days_exposition       23699 non-null  int64         \n",
      "dtypes: bool(2), datetime64[ns](1), float64(6), int64(10), object(3)\n",
      "memory usage: 3.7+ MB\n"
     ]
    }
   ],
   "source": [
    "# проверяем результат\n",
    "df.info()"
   ]
  },
  {
   "cell_type": "code",
   "execution_count": 8,
   "metadata": {},
   "outputs": [
    {
     "data": {
      "text/plain": [
       "0"
      ]
     },
     "execution_count": 8,
     "metadata": {},
     "output_type": "execute_result"
    }
   ],
   "source": [
    "# найдём количество явных дубликатов\n",
    "df.duplicated().sum()"
   ]
  },
  {
   "cell_type": "markdown",
   "metadata": {},
   "source": [
    "Явные дубликаты отсутствуют"
   ]
  },
  {
   "cell_type": "code",
   "execution_count": 9,
   "metadata": {},
   "outputs": [
    {
     "name": "stdout",
     "output_type": "stream",
     "text": [
      "['Санкт-Петербург' 'посёлок Шушары' 'городской посёлок Янино-1'\n",
      " 'посёлок Парголово' 'посёлок Мурино' 'Ломоносов' 'Сертолово' 'Петергоф'\n",
      " 'Пушкин' 'деревня Кудрово' 'Коммунар' 'Колпино'\n",
      " 'поселок городского типа Красный Бор' 'Гатчина' 'поселок Мурино'\n",
      " 'деревня Фёдоровское' 'Выборг' 'Кронштадт' 'Кировск'\n",
      " 'деревня Новое Девяткино' 'посёлок Металлострой'\n",
      " 'посёлок городского типа Лебяжье' 'посёлок городского типа Сиверский'\n",
      " 'поселок Молодцово' 'поселок городского типа Кузьмоловский'\n",
      " 'садовое товарищество Новая Ропша' 'Павловск' 'деревня Пикколово'\n",
      " 'Всеволожск' 'Волхов' 'Кингисепп' 'Приозерск' 'Сестрорецк'\n",
      " 'деревня Куттузи' 'посёлок Аннино' 'поселок городского типа Ефимовский'\n",
      " 'посёлок Плодовое' 'деревня Заклинье' 'поселок Торковичи'\n",
      " 'поселок Первомайское' 'Красное Село' 'посёлок Понтонный' 'Сясьстрой'\n",
      " 'деревня Старая' 'деревня Лесколово' 'посёлок Новый Свет' 'Сланцы'\n",
      " 'село Путилово' 'Ивангород' 'Мурино' 'Шлиссельбург' 'Никольское'\n",
      " 'Зеленогорск' 'Сосновый Бор' 'поселок Новый Свет' 'деревня Оржицы'\n",
      " 'деревня Кальтино' 'Кудрово' 'поселок Романовка' 'посёлок Бугры'\n",
      " 'поселок Бугры' 'поселок городского типа Рощино' 'Кириши' 'Луга'\n",
      " 'Волосово' 'Отрадное' 'село Павлово' 'поселок Оредеж' 'село Копорье'\n",
      " 'посёлок городского типа Красный Бор' 'посёлок Молодёжное' 'Тихвин'\n",
      " 'посёлок Победа' 'деревня Нурма' 'поселок городского типа Синявино'\n",
      " 'Тосно' 'посёлок городского типа Кузьмоловский' 'посёлок Стрельна'\n",
      " 'Бокситогорск' 'посёлок Александровская' 'деревня Лопухинка' 'Пикалёво'\n",
      " 'поселок Терволово' 'поселок городского типа Советский' 'Подпорожье'\n",
      " 'посёлок Петровское' 'посёлок городского типа Токсово' 'поселок Сельцо'\n",
      " 'посёлок городского типа Вырица' 'деревня Кипень' 'деревня Келози'\n",
      " 'деревня Вартемяги' 'посёлок Тельмана' 'поселок Севастьяново'\n",
      " 'городской поселок Большая Ижора' 'Не определено'\n",
      " 'городской посёлок Павлово' 'деревня Агалатово' 'посёлок Новогорелово'\n",
      " 'городской посёлок Лесогорский' 'деревня Лаголово' 'поселок Цвелодубово'\n",
      " 'поселок городского типа Рахья' 'поселок городского типа Вырица'\n",
      " 'деревня Белогорка' 'поселок Заводской' 'городской посёлок Новоселье'\n",
      " 'деревня Большие Колпаны' 'деревня Горбунки' 'деревня Батово'\n",
      " 'деревня Заневка' 'деревня Иссад' 'Приморск'\n",
      " 'городской посёлок Фёдоровское' 'деревня Мистолово' 'Новая Ладога'\n",
      " 'поселок Зимитицы' 'поселок Барышево' 'деревня Разметелево'\n",
      " 'поселок городского типа имени Свердлова' 'деревня Пеники'\n",
      " 'поселок Рябово' 'деревня Пудомяги' 'поселок станции Корнево'\n",
      " 'деревня Низино' 'деревня Бегуницы' 'посёлок Поляны'\n",
      " 'городской посёлок Мга' 'поселок Елизаветино'\n",
      " 'посёлок городского типа Кузнечное' 'деревня Колтуши'\n",
      " 'поселок Запорожское' 'посёлок городского типа Рощино'\n",
      " 'деревня Гостилицы' 'деревня Малое Карлино' 'посёлок Мичуринское'\n",
      " 'посёлок городского типа имени Морозова' 'посёлок Песочный'\n",
      " 'посёлок Сосново' 'деревня Аро' 'поселок Ильичёво'\n",
      " 'посёлок городского типа Тайцы' 'деревня Малое Верево' 'деревня Извара'\n",
      " 'поселок станции Вещево' 'село Паша' 'деревня Калитино'\n",
      " 'посёлок городского типа Ульяновка' 'деревня Чудской Бор'\n",
      " 'поселок городского типа Дубровка' 'деревня Мины' 'поселок Войсковицы'\n",
      " 'посёлок городского типа имени Свердлова' 'деревня Коркино'\n",
      " 'посёлок Ропша' 'поселок городского типа Приладожский' 'посёлок Щеглово'\n",
      " 'посёлок Гаврилово' 'Лодейное Поле' 'деревня Рабитицы'\n",
      " 'поселок городского типа Никольский' 'деревня Кузьмолово'\n",
      " 'деревня Малые Колпаны' 'поселок Тельмана' 'посёлок Петро-Славянка'\n",
      " 'городской посёлок Назия' 'посёлок Репино' 'посёлок Ильичёво'\n",
      " 'поселок Углово' 'поселок Старая Малукса' 'садовое товарищество Рахья'\n",
      " 'поселок Аннино' 'поселок Победа' 'деревня Меньково'\n",
      " 'деревня Старые Бегуницы' 'посёлок Сапёрный' 'поселок Семрино'\n",
      " 'поселок Гаврилово' 'поселок Глажево' 'поселок Кобринское'\n",
      " 'деревня Гарболово' 'деревня Юкки' 'поселок станции Приветнинское'\n",
      " 'деревня Мануйлово' 'деревня Пчева' 'поселок Поляны' 'поселок Цвылёво'\n",
      " 'поселок Мельниково' 'посёлок Пудость' 'посёлок Усть-Луга' 'Светогорск'\n",
      " 'Любань' 'поселок Селезнёво' 'поселок городского типа Рябово'\n",
      " 'Каменногорск' 'деревня Кривко' 'поселок Глебычево' 'деревня Парицы'\n",
      " 'поселок Жилпосёлок' 'посёлок городского типа Мга'\n",
      " 'городской поселок Янино-1' 'посёлок Войскорово' 'село Никольское'\n",
      " 'посёлок Терволово' 'поселок Стеклянный' 'посёлок городского типа Важины'\n",
      " 'посёлок Мыза-Ивановка' 'село Русско-Высоцкое'\n",
      " 'поселок городского типа Лебяжье' 'поселок городского типа Форносово'\n",
      " 'село Старая Ладога' 'поселок Житково' 'городской посёлок Виллози'\n",
      " 'деревня Лампово' 'деревня Шпаньково' 'деревня Лаврики' 'посёлок Сумино'\n",
      " 'посёлок Возрождение' 'деревня Старосиверская' 'посёлок Кикерино'\n",
      " 'поселок Возрождение' 'деревня Старое Хинколово' 'посёлок Пригородный'\n",
      " 'посёлок Торфяное' 'городской посёлок Будогощь' 'поселок Суходолье'\n",
      " 'поселок Красная Долина' 'деревня Хапо-Ое'\n",
      " 'поселок городского типа Дружная Горка' 'поселок Лисий Нос'\n",
      " 'деревня Яльгелево' 'посёлок Стеклянный' 'село Рождествено'\n",
      " 'деревня Старополье' 'посёлок Левашово' 'деревня Сяськелево'\n",
      " 'деревня Камышовка'\n",
      " 'садоводческое некоммерческое товарищество Лесная Поляна'\n",
      " 'деревня Хязельки' 'поселок Жилгородок' 'посёлок городского типа Павлово'\n",
      " 'деревня Ялгино' 'поселок Новый Учхоз' 'городской посёлок Рощино'\n",
      " 'поселок Гончарово' 'поселок Почап' 'посёлок Сапёрное'\n",
      " 'посёлок Платформа 69-й километр' 'поселок Каложицы' 'деревня Фалилеево'\n",
      " 'деревня Пельгора' 'поселок городского типа Лесогорский'\n",
      " 'деревня Торошковичи' 'посёлок Белоостров' 'посёлок Алексеевка'\n",
      " 'поселок Серебрянский' 'поселок Лукаши' 'поселок Петровское'\n",
      " 'деревня Щеглово' 'поселок Мичуринское' 'деревня Тарасово'\n",
      " 'поселок Кингисеппский' 'посёлок при железнодорожной станции Вещево'\n",
      " 'поселок Ушаки' 'деревня Котлы' 'деревня Сижно' 'деревня Торосово'\n",
      " 'посёлок Форт Красная Горка' 'поселок городского типа Токсово'\n",
      " 'деревня Новолисино' 'посёлок станции Громово' 'деревня Глинка'\n",
      " 'посёлок Мельниково' 'поселок городского типа Назия'\n",
      " 'деревня Старая Пустошь' 'поселок Коммунары' 'поселок Починок'\n",
      " 'посёлок городского типа Вознесенье' 'деревня Разбегаево'\n",
      " 'посёлок городского типа Рябово' 'поселок Гладкое'\n",
      " 'посёлок при железнодорожной станции Приветнинское' 'поселок Тёсово-4'\n",
      " 'посёлок Жилгородок' 'деревня Бор' 'посёлок Коробицыно'\n",
      " 'деревня Большая Вруда' 'деревня Курковицы' 'посёлок Лисий Нос'\n",
      " 'городской посёлок Советский' 'посёлок Кобралово' 'деревня Суоранда'\n",
      " 'поселок Кобралово' 'поселок городского типа Кондратьево'\n",
      " 'коттеджный поселок Счастье' 'поселок Любань' 'деревня Реброво'\n",
      " 'деревня Зимитицы' 'деревня Тойворово' 'поселок Семиозерье'\n",
      " 'поселок Лесное' 'поселок Совхозный' 'поселок Усть-Луга'\n",
      " 'посёлок Ленинское' 'посёлок Суйда' 'посёлок городского типа Форносово'\n",
      " 'деревня Нижние Осельки' 'посёлок станции Свирь' 'поселок Перово'\n",
      " 'Высоцк' 'поселок Гарболово' 'село Шум' 'поселок Котельский'\n",
      " 'поселок станции Лужайка' 'деревня Большая Пустомержа'\n",
      " 'поселок Красносельское' 'деревня Вахнова Кара' 'деревня Пижма'\n",
      " 'коттеджный поселок Кивеннапа Север' 'поселок Коробицыно'\n",
      " 'поселок Ромашки' 'посёлок Перово' 'деревня Каськово' 'деревня Куровицы'\n",
      " 'посёлок Плоское' 'поселок Сумино'\n",
      " 'поселок городского типа Большая Ижора' 'поселок Кирпичное'\n",
      " 'деревня Ям-Тесово' 'деревня Раздолье' 'деревня Терпилицы'\n",
      " 'посёлок Шугозеро' 'деревня Ваганово' 'поселок Пушное'\n",
      " 'садовое товарищество Садко' 'посёлок Усть-Ижора' 'деревня Выскатка'\n",
      " 'городской посёлок Свирьстрой' 'поселок Громово' 'деревня Кисельня'\n",
      " 'посёлок Старая Малукса' 'деревня Трубников Бор' 'поселок Калитино'\n",
      " 'посёлок Высокоключевой' 'садовое товарищество Приладожский'\n",
      " 'посёлок Пансионат Зелёный Бор' 'деревня Ненимяки'\n",
      " 'поселок Пансионат Зелёный Бор' 'деревня Снегирёвка' 'деревня Рапполово'\n",
      " 'деревня Пустынка' 'поселок Рабитицы' 'деревня Большой Сабск'\n",
      " 'деревня Русско' 'деревня Лупполово' 'деревня Большое Рейзино'\n",
      " 'деревня Малая Романовка' 'поселок Дружноселье' 'поселок Пчевжа'\n",
      " 'поселок Володарское' 'деревня Нижняя' 'коттеджный посёлок Лесное'\n",
      " 'деревня Тихковицы' 'деревня Борисова Грива' 'посёлок Дзержинского']\n",
      "\n",
      "365\n"
     ]
    }
   ],
   "source": [
    "# найдём все уникальные названия населенных пунктов\n",
    "print(df['locality_name'].unique())\n",
    "\n",
    "# и их количество.\n",
    "print()\n",
    "print(df['locality_name'].nunique())"
   ]
  },
  {
   "cell_type": "code",
   "execution_count": 10,
   "metadata": {},
   "outputs": [],
   "source": [
    "# устраним неявные дубликаты\n",
    "df['locality_name'] = df['locality_name'].apply(lambda x: x.replace('поселок городского типа', 'поселок'))\n",
    "df['locality_name'] = df['locality_name'].apply(lambda x: x.replace('посёлок городского типа', 'поселок'))\n",
    "df['locality_name'] = df['locality_name'].apply(lambda x: x.replace('городской поселок', 'поселок'))\n",
    "df['locality_name'] = df['locality_name'].apply(lambda x: x.replace('городской посёлок', 'поселок'))\n",
    "df['locality_name'] = df['locality_name'].apply(lambda x: x.replace('посёлок', 'поселок'))"
   ]
  },
  {
   "cell_type": "code",
   "execution_count": 11,
   "metadata": {},
   "outputs": [
    {
     "name": "stdout",
     "output_type": "stream",
     "text": [
      "323\n"
     ]
    }
   ],
   "source": [
    "# найдем количество уникальных названий населенных пунктов после удаления дубликатов\n",
    "print(df['locality_name'].nunique())"
   ]
  },
  {
   "cell_type": "markdown",
   "metadata": {},
   "source": [
    "Найдём и устраним аномальные значения"
   ]
  },
  {
   "cell_type": "code",
   "execution_count": 12,
   "metadata": {},
   "outputs": [
    {
     "name": "stdout",
     "output_type": "stream",
     "text": [
      "197\n"
     ]
    }
   ],
   "source": [
    "# в столбце с количеством комнат встречаются нулевые значения. Найдём их количество\n",
    "print(len(df.query('rooms == 0')))\n"
   ]
  },
  {
   "cell_type": "code",
   "execution_count": 13,
   "metadata": {},
   "outputs": [],
   "source": [
    "# удалим эти строки\n",
    "df = df.loc[(df['rooms'] != 0)]"
   ]
  },
  {
   "cell_type": "code",
   "execution_count": 14,
   "metadata": {},
   "outputs": [
    {
     "name": "stdout",
     "output_type": "stream",
     "text": [
      "0\n"
     ]
    }
   ],
   "source": [
    "# проверим результат\n",
    "print(len(df.query('rooms == 0')))"
   ]
  },
  {
   "cell_type": "code",
   "execution_count": 15,
   "metadata": {},
   "outputs": [
    {
     "data": {
      "text/html": [
       "<div>\n",
       "<style scoped>\n",
       "    .dataframe tbody tr th:only-of-type {\n",
       "        vertical-align: middle;\n",
       "    }\n",
       "\n",
       "    .dataframe tbody tr th {\n",
       "        vertical-align: top;\n",
       "    }\n",
       "\n",
       "    .dataframe thead th {\n",
       "        text-align: right;\n",
       "    }\n",
       "</style>\n",
       "<table border=\"1\" class=\"dataframe\">\n",
       "  <thead>\n",
       "    <tr style=\"text-align: right;\">\n",
       "      <th></th>\n",
       "      <th>total_images</th>\n",
       "      <th>last_price</th>\n",
       "      <th>total_area</th>\n",
       "      <th>first_day_exposition</th>\n",
       "      <th>rooms</th>\n",
       "      <th>ceiling_height</th>\n",
       "      <th>floors_total</th>\n",
       "      <th>living_area</th>\n",
       "      <th>floor</th>\n",
       "      <th>is_apartment</th>\n",
       "      <th>...</th>\n",
       "      <th>balcony</th>\n",
       "      <th>locality_name</th>\n",
       "      <th>airports_nearest</th>\n",
       "      <th>cityCenters_nearest</th>\n",
       "      <th>parks_around3000</th>\n",
       "      <th>parks_nearest</th>\n",
       "      <th>ponds_around3000</th>\n",
       "      <th>ponds_nearest</th>\n",
       "      <th>days_exposition</th>\n",
       "      <th>good_ceiling_height</th>\n",
       "    </tr>\n",
       "  </thead>\n",
       "  <tbody>\n",
       "    <tr>\n",
       "      <th>313</th>\n",
       "      <td>1</td>\n",
       "      <td>2450000</td>\n",
       "      <td>49</td>\n",
       "      <td>2016-03-09</td>\n",
       "      <td>3</td>\n",
       "      <td>13.85</td>\n",
       "      <td>5</td>\n",
       "      <td>34.0</td>\n",
       "      <td>2</td>\n",
       "      <td>NaN</td>\n",
       "      <td>...</td>\n",
       "      <td>1</td>\n",
       "      <td>поселок Новый Свет</td>\n",
       "      <td>NaN</td>\n",
       "      <td>NaN</td>\n",
       "      <td>0</td>\n",
       "      <td>NaN</td>\n",
       "      <td>0</td>\n",
       "      <td>NaN</td>\n",
       "      <td>189</td>\n",
       "      <td>13.85</td>\n",
       "    </tr>\n",
       "    <tr>\n",
       "      <th>355</th>\n",
       "      <td>17</td>\n",
       "      <td>3600000</td>\n",
       "      <td>55</td>\n",
       "      <td>2018-07-12</td>\n",
       "      <td>2</td>\n",
       "      <td>25.0</td>\n",
       "      <td>5</td>\n",
       "      <td>32.0</td>\n",
       "      <td>2</td>\n",
       "      <td>False</td>\n",
       "      <td>...</td>\n",
       "      <td>2</td>\n",
       "      <td>Гатчина</td>\n",
       "      <td>NaN</td>\n",
       "      <td>NaN</td>\n",
       "      <td>0</td>\n",
       "      <td>NaN</td>\n",
       "      <td>0</td>\n",
       "      <td>NaN</td>\n",
       "      <td>259</td>\n",
       "      <td>25.00</td>\n",
       "    </tr>\n",
       "    <tr>\n",
       "      <th>2158</th>\n",
       "      <td>15</td>\n",
       "      <td>1500000</td>\n",
       "      <td>42</td>\n",
       "      <td>2017-12-23</td>\n",
       "      <td>2</td>\n",
       "      <td>27.0</td>\n",
       "      <td>2</td>\n",
       "      <td>29.0</td>\n",
       "      <td>2</td>\n",
       "      <td>NaN</td>\n",
       "      <td>...</td>\n",
       "      <td>0</td>\n",
       "      <td>деревня Мины</td>\n",
       "      <td>NaN</td>\n",
       "      <td>NaN</td>\n",
       "      <td>0</td>\n",
       "      <td>NaN</td>\n",
       "      <td>0</td>\n",
       "      <td>NaN</td>\n",
       "      <td>95</td>\n",
       "      <td>27.00</td>\n",
       "    </tr>\n",
       "    <tr>\n",
       "      <th>3148</th>\n",
       "      <td>14</td>\n",
       "      <td>2900000</td>\n",
       "      <td>75</td>\n",
       "      <td>2018-11-12</td>\n",
       "      <td>3</td>\n",
       "      <td>32.0</td>\n",
       "      <td>3</td>\n",
       "      <td>53.0</td>\n",
       "      <td>2</td>\n",
       "      <td>NaN</td>\n",
       "      <td>...</td>\n",
       "      <td>0</td>\n",
       "      <td>Волхов</td>\n",
       "      <td>NaN</td>\n",
       "      <td>NaN</td>\n",
       "      <td>0</td>\n",
       "      <td>NaN</td>\n",
       "      <td>0</td>\n",
       "      <td>NaN</td>\n",
       "      <td>95</td>\n",
       "      <td>32.00</td>\n",
       "    </tr>\n",
       "    <tr>\n",
       "      <th>3474</th>\n",
       "      <td>3</td>\n",
       "      <td>1400000</td>\n",
       "      <td>30</td>\n",
       "      <td>2018-03-16</td>\n",
       "      <td>1</td>\n",
       "      <td>8.0</td>\n",
       "      <td>5</td>\n",
       "      <td>15.3</td>\n",
       "      <td>2</td>\n",
       "      <td>False</td>\n",
       "      <td>...</td>\n",
       "      <td>0</td>\n",
       "      <td>деревня Нурма</td>\n",
       "      <td>NaN</td>\n",
       "      <td>NaN</td>\n",
       "      <td>0</td>\n",
       "      <td>NaN</td>\n",
       "      <td>0</td>\n",
       "      <td>NaN</td>\n",
       "      <td>125</td>\n",
       "      <td>8.00</td>\n",
       "    </tr>\n",
       "    <tr>\n",
       "      <th>4643</th>\n",
       "      <td>0</td>\n",
       "      <td>4300000</td>\n",
       "      <td>45</td>\n",
       "      <td>2018-02-01</td>\n",
       "      <td>2</td>\n",
       "      <td>25.0</td>\n",
       "      <td>9</td>\n",
       "      <td>30.0</td>\n",
       "      <td>2</td>\n",
       "      <td>NaN</td>\n",
       "      <td>...</td>\n",
       "      <td>1</td>\n",
       "      <td>Санкт-Петербург</td>\n",
       "      <td>12016.0</td>\n",
       "      <td>13256.0</td>\n",
       "      <td>1</td>\n",
       "      <td>658.0</td>\n",
       "      <td>1</td>\n",
       "      <td>331.0</td>\n",
       "      <td>181</td>\n",
       "      <td>25.00</td>\n",
       "    </tr>\n",
       "    <tr>\n",
       "      <th>5076</th>\n",
       "      <td>0</td>\n",
       "      <td>3850000</td>\n",
       "      <td>30</td>\n",
       "      <td>2018-10-03</td>\n",
       "      <td>1</td>\n",
       "      <td>24.0</td>\n",
       "      <td>5</td>\n",
       "      <td>19.5</td>\n",
       "      <td>1</td>\n",
       "      <td>True</td>\n",
       "      <td>...</td>\n",
       "      <td>0</td>\n",
       "      <td>Санкт-Петербург</td>\n",
       "      <td>29686.0</td>\n",
       "      <td>8389.0</td>\n",
       "      <td>3</td>\n",
       "      <td>397.0</td>\n",
       "      <td>1</td>\n",
       "      <td>578.0</td>\n",
       "      <td>7</td>\n",
       "      <td>24.00</td>\n",
       "    </tr>\n",
       "    <tr>\n",
       "      <th>5246</th>\n",
       "      <td>0</td>\n",
       "      <td>2500000</td>\n",
       "      <td>54</td>\n",
       "      <td>2017-10-13</td>\n",
       "      <td>2</td>\n",
       "      <td>27.0</td>\n",
       "      <td>5</td>\n",
       "      <td>30.0</td>\n",
       "      <td>3</td>\n",
       "      <td>NaN</td>\n",
       "      <td>...</td>\n",
       "      <td>2</td>\n",
       "      <td>деревня Мины</td>\n",
       "      <td>NaN</td>\n",
       "      <td>NaN</td>\n",
       "      <td>0</td>\n",
       "      <td>NaN</td>\n",
       "      <td>0</td>\n",
       "      <td>NaN</td>\n",
       "      <td>540</td>\n",
       "      <td>27.00</td>\n",
       "    </tr>\n",
       "    <tr>\n",
       "      <th>5669</th>\n",
       "      <td>4</td>\n",
       "      <td>4400000</td>\n",
       "      <td>50</td>\n",
       "      <td>2017-08-08</td>\n",
       "      <td>2</td>\n",
       "      <td>26.0</td>\n",
       "      <td>9</td>\n",
       "      <td>21.3</td>\n",
       "      <td>3</td>\n",
       "      <td>NaN</td>\n",
       "      <td>...</td>\n",
       "      <td>2</td>\n",
       "      <td>Санкт-Петербург</td>\n",
       "      <td>28981.0</td>\n",
       "      <td>10912.0</td>\n",
       "      <td>1</td>\n",
       "      <td>305.0</td>\n",
       "      <td>0</td>\n",
       "      <td>NaN</td>\n",
       "      <td>267</td>\n",
       "      <td>26.00</td>\n",
       "    </tr>\n",
       "    <tr>\n",
       "      <th>5807</th>\n",
       "      <td>17</td>\n",
       "      <td>8150000</td>\n",
       "      <td>80</td>\n",
       "      <td>2019-01-09</td>\n",
       "      <td>2</td>\n",
       "      <td>27.0</td>\n",
       "      <td>36</td>\n",
       "      <td>41.0</td>\n",
       "      <td>13</td>\n",
       "      <td>NaN</td>\n",
       "      <td>...</td>\n",
       "      <td>5</td>\n",
       "      <td>Санкт-Петербург</td>\n",
       "      <td>18732.0</td>\n",
       "      <td>20444.0</td>\n",
       "      <td>0</td>\n",
       "      <td>NaN</td>\n",
       "      <td>3</td>\n",
       "      <td>80.0</td>\n",
       "      <td>38</td>\n",
       "      <td>27.00</td>\n",
       "    </tr>\n",
       "    <tr>\n",
       "      <th>5863</th>\n",
       "      <td>20</td>\n",
       "      <td>5650000</td>\n",
       "      <td>45</td>\n",
       "      <td>2018-08-15</td>\n",
       "      <td>1</td>\n",
       "      <td>8.3</td>\n",
       "      <td>16</td>\n",
       "      <td>19.3</td>\n",
       "      <td>14</td>\n",
       "      <td>NaN</td>\n",
       "      <td>...</td>\n",
       "      <td>1</td>\n",
       "      <td>Санкт-Петербург</td>\n",
       "      <td>13069.0</td>\n",
       "      <td>10763.0</td>\n",
       "      <td>0</td>\n",
       "      <td>NaN</td>\n",
       "      <td>1</td>\n",
       "      <td>613.0</td>\n",
       "      <td>14</td>\n",
       "      <td>8.30</td>\n",
       "    </tr>\n",
       "    <tr>\n",
       "      <th>6246</th>\n",
       "      <td>6</td>\n",
       "      <td>3300000</td>\n",
       "      <td>44</td>\n",
       "      <td>2019-03-25</td>\n",
       "      <td>2</td>\n",
       "      <td>25.0</td>\n",
       "      <td>5</td>\n",
       "      <td>31.3</td>\n",
       "      <td>5</td>\n",
       "      <td>NaN</td>\n",
       "      <td>...</td>\n",
       "      <td>0</td>\n",
       "      <td>Кронштадт</td>\n",
       "      <td>68923.0</td>\n",
       "      <td>50649.0</td>\n",
       "      <td>1</td>\n",
       "      <td>417.0</td>\n",
       "      <td>2</td>\n",
       "      <td>73.0</td>\n",
       "      <td>95</td>\n",
       "      <td>25.00</td>\n",
       "    </tr>\n",
       "    <tr>\n",
       "      <th>9379</th>\n",
       "      <td>5</td>\n",
       "      <td>3950000</td>\n",
       "      <td>42</td>\n",
       "      <td>2017-03-26</td>\n",
       "      <td>3</td>\n",
       "      <td>25.0</td>\n",
       "      <td>5</td>\n",
       "      <td>30.0</td>\n",
       "      <td>2</td>\n",
       "      <td>NaN</td>\n",
       "      <td>...</td>\n",
       "      <td>0</td>\n",
       "      <td>Санкт-Петербург</td>\n",
       "      <td>11647.0</td>\n",
       "      <td>13581.0</td>\n",
       "      <td>0</td>\n",
       "      <td>NaN</td>\n",
       "      <td>0</td>\n",
       "      <td>NaN</td>\n",
       "      <td>95</td>\n",
       "      <td>25.00</td>\n",
       "    </tr>\n",
       "    <tr>\n",
       "      <th>10067</th>\n",
       "      <td>5</td>\n",
       "      <td>2100000</td>\n",
       "      <td>36</td>\n",
       "      <td>2016-04-29</td>\n",
       "      <td>1</td>\n",
       "      <td>13.85</td>\n",
       "      <td>5</td>\n",
       "      <td>17.5</td>\n",
       "      <td>5</td>\n",
       "      <td>NaN</td>\n",
       "      <td>...</td>\n",
       "      <td>0</td>\n",
       "      <td>поселок Новый Свет</td>\n",
       "      <td>NaN</td>\n",
       "      <td>NaN</td>\n",
       "      <td>0</td>\n",
       "      <td>NaN</td>\n",
       "      <td>0</td>\n",
       "      <td>NaN</td>\n",
       "      <td>206</td>\n",
       "      <td>13.85</td>\n",
       "    </tr>\n",
       "    <tr>\n",
       "      <th>10069</th>\n",
       "      <td>6</td>\n",
       "      <td>2000000</td>\n",
       "      <td>46</td>\n",
       "      <td>2017-09-25</td>\n",
       "      <td>2</td>\n",
       "      <td>13.85</td>\n",
       "      <td>5</td>\n",
       "      <td>30.0</td>\n",
       "      <td>1</td>\n",
       "      <td>NaN</td>\n",
       "      <td>...</td>\n",
       "      <td>0</td>\n",
       "      <td>поселок Новый Свет</td>\n",
       "      <td>NaN</td>\n",
       "      <td>NaN</td>\n",
       "      <td>0</td>\n",
       "      <td>NaN</td>\n",
       "      <td>0</td>\n",
       "      <td>NaN</td>\n",
       "      <td>10</td>\n",
       "      <td>13.85</td>\n",
       "    </tr>\n",
       "    <tr>\n",
       "      <th>10773</th>\n",
       "      <td>8</td>\n",
       "      <td>3800000</td>\n",
       "      <td>58</td>\n",
       "      <td>2017-10-13</td>\n",
       "      <td>2</td>\n",
       "      <td>27.0</td>\n",
       "      <td>10</td>\n",
       "      <td>30.1</td>\n",
       "      <td>3</td>\n",
       "      <td>False</td>\n",
       "      <td>...</td>\n",
       "      <td>2</td>\n",
       "      <td>поселок Мурино</td>\n",
       "      <td>NaN</td>\n",
       "      <td>NaN</td>\n",
       "      <td>0</td>\n",
       "      <td>NaN</td>\n",
       "      <td>0</td>\n",
       "      <td>NaN</td>\n",
       "      <td>71</td>\n",
       "      <td>27.00</td>\n",
       "    </tr>\n",
       "    <tr>\n",
       "      <th>11285</th>\n",
       "      <td>0</td>\n",
       "      <td>1950000</td>\n",
       "      <td>37</td>\n",
       "      <td>2019-03-20</td>\n",
       "      <td>1</td>\n",
       "      <td>25.0</td>\n",
       "      <td>5</td>\n",
       "      <td>17.0</td>\n",
       "      <td>4</td>\n",
       "      <td>False</td>\n",
       "      <td>...</td>\n",
       "      <td>2</td>\n",
       "      <td>Луга</td>\n",
       "      <td>NaN</td>\n",
       "      <td>NaN</td>\n",
       "      <td>0</td>\n",
       "      <td>NaN</td>\n",
       "      <td>0</td>\n",
       "      <td>NaN</td>\n",
       "      <td>18</td>\n",
       "      <td>25.00</td>\n",
       "    </tr>\n",
       "    <tr>\n",
       "      <th>14382</th>\n",
       "      <td>9</td>\n",
       "      <td>1700000</td>\n",
       "      <td>35</td>\n",
       "      <td>2015-12-04</td>\n",
       "      <td>1</td>\n",
       "      <td>25.0</td>\n",
       "      <td>5</td>\n",
       "      <td>20.0</td>\n",
       "      <td>2</td>\n",
       "      <td>False</td>\n",
       "      <td>...</td>\n",
       "      <td>1</td>\n",
       "      <td>поселок Новый Свет</td>\n",
       "      <td>NaN</td>\n",
       "      <td>NaN</td>\n",
       "      <td>0</td>\n",
       "      <td>NaN</td>\n",
       "      <td>0</td>\n",
       "      <td>NaN</td>\n",
       "      <td>206</td>\n",
       "      <td>25.00</td>\n",
       "    </tr>\n",
       "    <tr>\n",
       "      <th>15061</th>\n",
       "      <td>19</td>\n",
       "      <td>5600000</td>\n",
       "      <td>56</td>\n",
       "      <td>2018-05-11</td>\n",
       "      <td>2</td>\n",
       "      <td>14.0</td>\n",
       "      <td>14</td>\n",
       "      <td>32.4</td>\n",
       "      <td>5</td>\n",
       "      <td>NaN</td>\n",
       "      <td>...</td>\n",
       "      <td>2</td>\n",
       "      <td>Санкт-Петербург</td>\n",
       "      <td>14814.0</td>\n",
       "      <td>13610.0</td>\n",
       "      <td>0</td>\n",
       "      <td>NaN</td>\n",
       "      <td>0</td>\n",
       "      <td>NaN</td>\n",
       "      <td>315</td>\n",
       "      <td>14.00</td>\n",
       "    </tr>\n",
       "    <tr>\n",
       "      <th>15743</th>\n",
       "      <td>14</td>\n",
       "      <td>5600000</td>\n",
       "      <td>67</td>\n",
       "      <td>2016-11-11</td>\n",
       "      <td>3</td>\n",
       "      <td>8.0</td>\n",
       "      <td>16</td>\n",
       "      <td>41.0</td>\n",
       "      <td>1</td>\n",
       "      <td>NaN</td>\n",
       "      <td>...</td>\n",
       "      <td>0</td>\n",
       "      <td>Санкт-Петербург</td>\n",
       "      <td>32691.0</td>\n",
       "      <td>11035.0</td>\n",
       "      <td>1</td>\n",
       "      <td>723.0</td>\n",
       "      <td>0</td>\n",
       "      <td>NaN</td>\n",
       "      <td>474</td>\n",
       "      <td>8.00</td>\n",
       "    </tr>\n",
       "    <tr>\n",
       "      <th>17442</th>\n",
       "      <td>0</td>\n",
       "      <td>5350000</td>\n",
       "      <td>54</td>\n",
       "      <td>2015-06-16</td>\n",
       "      <td>2</td>\n",
       "      <td>8.0</td>\n",
       "      <td>5</td>\n",
       "      <td>29.0</td>\n",
       "      <td>2</td>\n",
       "      <td>NaN</td>\n",
       "      <td>...</td>\n",
       "      <td>1</td>\n",
       "      <td>Красное Село</td>\n",
       "      <td>24638.0</td>\n",
       "      <td>28062.0</td>\n",
       "      <td>0</td>\n",
       "      <td>NaN</td>\n",
       "      <td>0</td>\n",
       "      <td>NaN</td>\n",
       "      <td>469</td>\n",
       "      <td>8.00</td>\n",
       "    </tr>\n",
       "    <tr>\n",
       "      <th>17496</th>\n",
       "      <td>15</td>\n",
       "      <td>6700000</td>\n",
       "      <td>92</td>\n",
       "      <td>2019-02-19</td>\n",
       "      <td>3</td>\n",
       "      <td>20.0</td>\n",
       "      <td>17</td>\n",
       "      <td>53.2</td>\n",
       "      <td>14</td>\n",
       "      <td>NaN</td>\n",
       "      <td>...</td>\n",
       "      <td>5</td>\n",
       "      <td>Санкт-Петербург</td>\n",
       "      <td>16295.0</td>\n",
       "      <td>15092.0</td>\n",
       "      <td>1</td>\n",
       "      <td>967.0</td>\n",
       "      <td>0</td>\n",
       "      <td>NaN</td>\n",
       "      <td>95</td>\n",
       "      <td>20.00</td>\n",
       "    </tr>\n",
       "    <tr>\n",
       "      <th>17857</th>\n",
       "      <td>1</td>\n",
       "      <td>3900000</td>\n",
       "      <td>56</td>\n",
       "      <td>2017-12-22</td>\n",
       "      <td>3</td>\n",
       "      <td>27.0</td>\n",
       "      <td>5</td>\n",
       "      <td>33.0</td>\n",
       "      <td>4</td>\n",
       "      <td>False</td>\n",
       "      <td>...</td>\n",
       "      <td>0</td>\n",
       "      <td>Санкт-Петербург</td>\n",
       "      <td>41030.0</td>\n",
       "      <td>15543.0</td>\n",
       "      <td>0</td>\n",
       "      <td>NaN</td>\n",
       "      <td>0</td>\n",
       "      <td>NaN</td>\n",
       "      <td>73</td>\n",
       "      <td>27.00</td>\n",
       "    </tr>\n",
       "    <tr>\n",
       "      <th>18545</th>\n",
       "      <td>6</td>\n",
       "      <td>3750000</td>\n",
       "      <td>43</td>\n",
       "      <td>2019-03-18</td>\n",
       "      <td>2</td>\n",
       "      <td>25.0</td>\n",
       "      <td>5</td>\n",
       "      <td>29.0</td>\n",
       "      <td>3</td>\n",
       "      <td>False</td>\n",
       "      <td>...</td>\n",
       "      <td>0</td>\n",
       "      <td>Санкт-Петербург</td>\n",
       "      <td>27054.0</td>\n",
       "      <td>8033.0</td>\n",
       "      <td>1</td>\n",
       "      <td>540.0</td>\n",
       "      <td>0</td>\n",
       "      <td>NaN</td>\n",
       "      <td>12</td>\n",
       "      <td>25.00</td>\n",
       "    </tr>\n",
       "    <tr>\n",
       "      <th>20478</th>\n",
       "      <td>11</td>\n",
       "      <td>8000000</td>\n",
       "      <td>45</td>\n",
       "      <td>2017-07-18</td>\n",
       "      <td>1</td>\n",
       "      <td>27.0</td>\n",
       "      <td>4</td>\n",
       "      <td>22.0</td>\n",
       "      <td>2</td>\n",
       "      <td>NaN</td>\n",
       "      <td>...</td>\n",
       "      <td>1</td>\n",
       "      <td>Санкт-Петербург</td>\n",
       "      <td>18975.0</td>\n",
       "      <td>3246.0</td>\n",
       "      <td>0</td>\n",
       "      <td>NaN</td>\n",
       "      <td>3</td>\n",
       "      <td>449.0</td>\n",
       "      <td>429</td>\n",
       "      <td>27.00</td>\n",
       "    </tr>\n",
       "    <tr>\n",
       "      <th>20507</th>\n",
       "      <td>12</td>\n",
       "      <td>5950000</td>\n",
       "      <td>60</td>\n",
       "      <td>2018-02-19</td>\n",
       "      <td>2</td>\n",
       "      <td>22.6</td>\n",
       "      <td>14</td>\n",
       "      <td>35.0</td>\n",
       "      <td>11</td>\n",
       "      <td>NaN</td>\n",
       "      <td>...</td>\n",
       "      <td>1</td>\n",
       "      <td>Санкт-Петербург</td>\n",
       "      <td>27028.0</td>\n",
       "      <td>12570.0</td>\n",
       "      <td>0</td>\n",
       "      <td>NaN</td>\n",
       "      <td>0</td>\n",
       "      <td>NaN</td>\n",
       "      <td>40</td>\n",
       "      <td>22.60</td>\n",
       "    </tr>\n",
       "    <tr>\n",
       "      <th>21377</th>\n",
       "      <td>19</td>\n",
       "      <td>4900000</td>\n",
       "      <td>42</td>\n",
       "      <td>2017-04-18</td>\n",
       "      <td>1</td>\n",
       "      <td>27.5</td>\n",
       "      <td>24</td>\n",
       "      <td>37.7</td>\n",
       "      <td>19</td>\n",
       "      <td>False</td>\n",
       "      <td>...</td>\n",
       "      <td>2</td>\n",
       "      <td>Санкт-Петербург</td>\n",
       "      <td>42742.0</td>\n",
       "      <td>9760.0</td>\n",
       "      <td>0</td>\n",
       "      <td>NaN</td>\n",
       "      <td>0</td>\n",
       "      <td>NaN</td>\n",
       "      <td>61</td>\n",
       "      <td>27.50</td>\n",
       "    </tr>\n",
       "    <tr>\n",
       "      <th>21824</th>\n",
       "      <td>20</td>\n",
       "      <td>2450000</td>\n",
       "      <td>44</td>\n",
       "      <td>2019-02-12</td>\n",
       "      <td>2</td>\n",
       "      <td>27.0</td>\n",
       "      <td>2</td>\n",
       "      <td>38.0</td>\n",
       "      <td>2</td>\n",
       "      <td>False</td>\n",
       "      <td>...</td>\n",
       "      <td>2</td>\n",
       "      <td>поселок Большая Ижора</td>\n",
       "      <td>NaN</td>\n",
       "      <td>NaN</td>\n",
       "      <td>0</td>\n",
       "      <td>NaN</td>\n",
       "      <td>0</td>\n",
       "      <td>NaN</td>\n",
       "      <td>95</td>\n",
       "      <td>27.00</td>\n",
       "    </tr>\n",
       "    <tr>\n",
       "      <th>22309</th>\n",
       "      <td>20</td>\n",
       "      <td>5300000</td>\n",
       "      <td>45</td>\n",
       "      <td>2017-09-30</td>\n",
       "      <td>1</td>\n",
       "      <td>10.3</td>\n",
       "      <td>16</td>\n",
       "      <td>15.5</td>\n",
       "      <td>15</td>\n",
       "      <td>NaN</td>\n",
       "      <td>...</td>\n",
       "      <td>0</td>\n",
       "      <td>Санкт-Петербург</td>\n",
       "      <td>36353.0</td>\n",
       "      <td>11936.0</td>\n",
       "      <td>2</td>\n",
       "      <td>440.0</td>\n",
       "      <td>2</td>\n",
       "      <td>450.0</td>\n",
       "      <td>136</td>\n",
       "      <td>10.30</td>\n",
       "    </tr>\n",
       "    <tr>\n",
       "      <th>22336</th>\n",
       "      <td>19</td>\n",
       "      <td>9999000</td>\n",
       "      <td>92</td>\n",
       "      <td>2019-04-05</td>\n",
       "      <td>2</td>\n",
       "      <td>32.0</td>\n",
       "      <td>6</td>\n",
       "      <td>55.5</td>\n",
       "      <td>5</td>\n",
       "      <td>False</td>\n",
       "      <td>...</td>\n",
       "      <td>4</td>\n",
       "      <td>Санкт-Петербург</td>\n",
       "      <td>18838.0</td>\n",
       "      <td>3506.0</td>\n",
       "      <td>0</td>\n",
       "      <td>NaN</td>\n",
       "      <td>3</td>\n",
       "      <td>511.0</td>\n",
       "      <td>95</td>\n",
       "      <td>32.00</td>\n",
       "    </tr>\n",
       "    <tr>\n",
       "      <th>22869</th>\n",
       "      <td>0</td>\n",
       "      <td>15000000</td>\n",
       "      <td>25</td>\n",
       "      <td>2018-07-25</td>\n",
       "      <td>1</td>\n",
       "      <td>100.0</td>\n",
       "      <td>5</td>\n",
       "      <td>14.0</td>\n",
       "      <td>5</td>\n",
       "      <td>True</td>\n",
       "      <td>...</td>\n",
       "      <td>5</td>\n",
       "      <td>Санкт-Петербург</td>\n",
       "      <td>34963.0</td>\n",
       "      <td>8283.0</td>\n",
       "      <td>1</td>\n",
       "      <td>223.0</td>\n",
       "      <td>3</td>\n",
       "      <td>30.0</td>\n",
       "      <td>19</td>\n",
       "      <td>100.00</td>\n",
       "    </tr>\n",
       "    <tr>\n",
       "      <th>22938</th>\n",
       "      <td>14</td>\n",
       "      <td>4000000</td>\n",
       "      <td>98</td>\n",
       "      <td>2018-03-15</td>\n",
       "      <td>4</td>\n",
       "      <td>27.0</td>\n",
       "      <td>2</td>\n",
       "      <td>73.0</td>\n",
       "      <td>2</td>\n",
       "      <td>True</td>\n",
       "      <td>...</td>\n",
       "      <td>1</td>\n",
       "      <td>деревня Нижняя</td>\n",
       "      <td>NaN</td>\n",
       "      <td>NaN</td>\n",
       "      <td>0</td>\n",
       "      <td>NaN</td>\n",
       "      <td>0</td>\n",
       "      <td>NaN</td>\n",
       "      <td>27</td>\n",
       "      <td>27.00</td>\n",
       "    </tr>\n",
       "  </tbody>\n",
       "</table>\n",
       "<p>32 rows × 23 columns</p>\n",
       "</div>"
      ],
      "text/plain": [
       "       total_images  last_price  total_area first_day_exposition  rooms  \\\n",
       "313               1     2450000          49           2016-03-09      3   \n",
       "355              17     3600000          55           2018-07-12      2   \n",
       "2158             15     1500000          42           2017-12-23      2   \n",
       "3148             14     2900000          75           2018-11-12      3   \n",
       "3474              3     1400000          30           2018-03-16      1   \n",
       "4643              0     4300000          45           2018-02-01      2   \n",
       "5076              0     3850000          30           2018-10-03      1   \n",
       "5246              0     2500000          54           2017-10-13      2   \n",
       "5669              4     4400000          50           2017-08-08      2   \n",
       "5807             17     8150000          80           2019-01-09      2   \n",
       "5863             20     5650000          45           2018-08-15      1   \n",
       "6246              6     3300000          44           2019-03-25      2   \n",
       "9379              5     3950000          42           2017-03-26      3   \n",
       "10067             5     2100000          36           2016-04-29      1   \n",
       "10069             6     2000000          46           2017-09-25      2   \n",
       "10773             8     3800000          58           2017-10-13      2   \n",
       "11285             0     1950000          37           2019-03-20      1   \n",
       "14382             9     1700000          35           2015-12-04      1   \n",
       "15061            19     5600000          56           2018-05-11      2   \n",
       "15743            14     5600000          67           2016-11-11      3   \n",
       "17442             0     5350000          54           2015-06-16      2   \n",
       "17496            15     6700000          92           2019-02-19      3   \n",
       "17857             1     3900000          56           2017-12-22      3   \n",
       "18545             6     3750000          43           2019-03-18      2   \n",
       "20478            11     8000000          45           2017-07-18      1   \n",
       "20507            12     5950000          60           2018-02-19      2   \n",
       "21377            19     4900000          42           2017-04-18      1   \n",
       "21824            20     2450000          44           2019-02-12      2   \n",
       "22309            20     5300000          45           2017-09-30      1   \n",
       "22336            19     9999000          92           2019-04-05      2   \n",
       "22869             0    15000000          25           2018-07-25      1   \n",
       "22938            14     4000000          98           2018-03-15      4   \n",
       "\n",
       "      ceiling_height  floors_total  living_area  floor is_apartment  ...  \\\n",
       "313            13.85             5         34.0      2          NaN  ...   \n",
       "355             25.0             5         32.0      2        False  ...   \n",
       "2158            27.0             2         29.0      2          NaN  ...   \n",
       "3148            32.0             3         53.0      2          NaN  ...   \n",
       "3474             8.0             5         15.3      2        False  ...   \n",
       "4643            25.0             9         30.0      2          NaN  ...   \n",
       "5076            24.0             5         19.5      1         True  ...   \n",
       "5246            27.0             5         30.0      3          NaN  ...   \n",
       "5669            26.0             9         21.3      3          NaN  ...   \n",
       "5807            27.0            36         41.0     13          NaN  ...   \n",
       "5863             8.3            16         19.3     14          NaN  ...   \n",
       "6246            25.0             5         31.3      5          NaN  ...   \n",
       "9379            25.0             5         30.0      2          NaN  ...   \n",
       "10067          13.85             5         17.5      5          NaN  ...   \n",
       "10069          13.85             5         30.0      1          NaN  ...   \n",
       "10773           27.0            10         30.1      3        False  ...   \n",
       "11285           25.0             5         17.0      4        False  ...   \n",
       "14382           25.0             5         20.0      2        False  ...   \n",
       "15061           14.0            14         32.4      5          NaN  ...   \n",
       "15743            8.0            16         41.0      1          NaN  ...   \n",
       "17442            8.0             5         29.0      2          NaN  ...   \n",
       "17496           20.0            17         53.2     14          NaN  ...   \n",
       "17857           27.0             5         33.0      4        False  ...   \n",
       "18545           25.0             5         29.0      3        False  ...   \n",
       "20478           27.0             4         22.0      2          NaN  ...   \n",
       "20507           22.6            14         35.0     11          NaN  ...   \n",
       "21377           27.5            24         37.7     19        False  ...   \n",
       "21824           27.0             2         38.0      2        False  ...   \n",
       "22309           10.3            16         15.5     15          NaN  ...   \n",
       "22336           32.0             6         55.5      5        False  ...   \n",
       "22869          100.0             5         14.0      5         True  ...   \n",
       "22938           27.0             2         73.0      2         True  ...   \n",
       "\n",
       "       balcony          locality_name  airports_nearest  cityCenters_nearest  \\\n",
       "313          1     поселок Новый Свет               NaN                  NaN   \n",
       "355          2                Гатчина               NaN                  NaN   \n",
       "2158         0           деревня Мины               NaN                  NaN   \n",
       "3148         0                 Волхов               NaN                  NaN   \n",
       "3474         0          деревня Нурма               NaN                  NaN   \n",
       "4643         1        Санкт-Петербург           12016.0              13256.0   \n",
       "5076         0        Санкт-Петербург           29686.0               8389.0   \n",
       "5246         2           деревня Мины               NaN                  NaN   \n",
       "5669         2        Санкт-Петербург           28981.0              10912.0   \n",
       "5807         5        Санкт-Петербург           18732.0              20444.0   \n",
       "5863         1        Санкт-Петербург           13069.0              10763.0   \n",
       "6246         0              Кронштадт           68923.0              50649.0   \n",
       "9379         0        Санкт-Петербург           11647.0              13581.0   \n",
       "10067        0     поселок Новый Свет               NaN                  NaN   \n",
       "10069        0     поселок Новый Свет               NaN                  NaN   \n",
       "10773        2         поселок Мурино               NaN                  NaN   \n",
       "11285        2                   Луга               NaN                  NaN   \n",
       "14382        1     поселок Новый Свет               NaN                  NaN   \n",
       "15061        2        Санкт-Петербург           14814.0              13610.0   \n",
       "15743        0        Санкт-Петербург           32691.0              11035.0   \n",
       "17442        1           Красное Село           24638.0              28062.0   \n",
       "17496        5        Санкт-Петербург           16295.0              15092.0   \n",
       "17857        0        Санкт-Петербург           41030.0              15543.0   \n",
       "18545        0        Санкт-Петербург           27054.0               8033.0   \n",
       "20478        1        Санкт-Петербург           18975.0               3246.0   \n",
       "20507        1        Санкт-Петербург           27028.0              12570.0   \n",
       "21377        2        Санкт-Петербург           42742.0               9760.0   \n",
       "21824        2  поселок Большая Ижора               NaN                  NaN   \n",
       "22309        0        Санкт-Петербург           36353.0              11936.0   \n",
       "22336        4        Санкт-Петербург           18838.0               3506.0   \n",
       "22869        5        Санкт-Петербург           34963.0               8283.0   \n",
       "22938        1         деревня Нижняя               NaN                  NaN   \n",
       "\n",
       "      parks_around3000  parks_nearest  ponds_around3000  ponds_nearest  \\\n",
       "313                  0            NaN                 0            NaN   \n",
       "355                  0            NaN                 0            NaN   \n",
       "2158                 0            NaN                 0            NaN   \n",
       "3148                 0            NaN                 0            NaN   \n",
       "3474                 0            NaN                 0            NaN   \n",
       "4643                 1          658.0                 1          331.0   \n",
       "5076                 3          397.0                 1          578.0   \n",
       "5246                 0            NaN                 0            NaN   \n",
       "5669                 1          305.0                 0            NaN   \n",
       "5807                 0            NaN                 3           80.0   \n",
       "5863                 0            NaN                 1          613.0   \n",
       "6246                 1          417.0                 2           73.0   \n",
       "9379                 0            NaN                 0            NaN   \n",
       "10067                0            NaN                 0            NaN   \n",
       "10069                0            NaN                 0            NaN   \n",
       "10773                0            NaN                 0            NaN   \n",
       "11285                0            NaN                 0            NaN   \n",
       "14382                0            NaN                 0            NaN   \n",
       "15061                0            NaN                 0            NaN   \n",
       "15743                1          723.0                 0            NaN   \n",
       "17442                0            NaN                 0            NaN   \n",
       "17496                1          967.0                 0            NaN   \n",
       "17857                0            NaN                 0            NaN   \n",
       "18545                1          540.0                 0            NaN   \n",
       "20478                0            NaN                 3          449.0   \n",
       "20507                0            NaN                 0            NaN   \n",
       "21377                0            NaN                 0            NaN   \n",
       "21824                0            NaN                 0            NaN   \n",
       "22309                2          440.0                 2          450.0   \n",
       "22336                0            NaN                 3          511.0   \n",
       "22869                1          223.0                 3           30.0   \n",
       "22938                0            NaN                 0            NaN   \n",
       "\n",
       "       days_exposition  good_ceiling_height  \n",
       "313                189                13.85  \n",
       "355                259                25.00  \n",
       "2158                95                27.00  \n",
       "3148                95                32.00  \n",
       "3474               125                 8.00  \n",
       "4643               181                25.00  \n",
       "5076                 7                24.00  \n",
       "5246               540                27.00  \n",
       "5669               267                26.00  \n",
       "5807                38                27.00  \n",
       "5863                14                 8.30  \n",
       "6246                95                25.00  \n",
       "9379                95                25.00  \n",
       "10067              206                13.85  \n",
       "10069               10                13.85  \n",
       "10773               71                27.00  \n",
       "11285               18                25.00  \n",
       "14382              206                25.00  \n",
       "15061              315                14.00  \n",
       "15743              474                 8.00  \n",
       "17442              469                 8.00  \n",
       "17496               95                20.00  \n",
       "17857               73                27.00  \n",
       "18545               12                25.00  \n",
       "20478              429                27.00  \n",
       "20507               40                22.60  \n",
       "21377               61                27.50  \n",
       "21824               95                27.00  \n",
       "22309              136                10.30  \n",
       "22336               95                32.00  \n",
       "22869               19               100.00  \n",
       "22938               27                27.00  \n",
       "\n",
       "[32 rows x 23 columns]"
      ]
     },
     "execution_count": 15,
     "metadata": {},
     "output_type": "execute_result"
    }
   ],
   "source": [
    "# в столбце с высотой потолков встречаются аномально большие значения. Выведем их на экран\n",
    "\n",
    "df['good_ceiling_height'] = pd.to_numeric(df['ceiling_height'], errors='coerce')\n",
    "df.query('good_ceiling_height > 7')\n"
   ]
  },
  {
   "cell_type": "code",
   "execution_count": 16,
   "metadata": {},
   "outputs": [],
   "source": [
    "# присутствуют значения от 20 до 40, которые могли возникнуть из за неправильно поставленой точки. Разделим их на 10\n",
    "df.loc[(20 < df['good_ceiling_height']) & (df['good_ceiling_height'] < 40), ['good_ceiling_height']] = df.loc[(20 < df['good_ceiling_height']) & (df['good_ceiling_height'] < 40), ['good_ceiling_height']] / 10"
   ]
  },
  {
   "cell_type": "code",
   "execution_count": 17,
   "metadata": {},
   "outputs": [],
   "source": [
    "# удалим оставшиеся аномальные значения\n",
    "df = df.loc[(df['good_ceiling_height'] < 7)]"
   ]
  },
  {
   "cell_type": "code",
   "execution_count": 18,
   "metadata": {},
   "outputs": [
    {
     "data": {
      "text/html": [
       "<div>\n",
       "<style scoped>\n",
       "    .dataframe tbody tr th:only-of-type {\n",
       "        vertical-align: middle;\n",
       "    }\n",
       "\n",
       "    .dataframe tbody tr th {\n",
       "        vertical-align: top;\n",
       "    }\n",
       "\n",
       "    .dataframe thead th {\n",
       "        text-align: right;\n",
       "    }\n",
       "</style>\n",
       "<table border=\"1\" class=\"dataframe\">\n",
       "  <thead>\n",
       "    <tr style=\"text-align: right;\">\n",
       "      <th></th>\n",
       "      <th>total_images</th>\n",
       "      <th>last_price</th>\n",
       "      <th>total_area</th>\n",
       "      <th>first_day_exposition</th>\n",
       "      <th>rooms</th>\n",
       "      <th>ceiling_height</th>\n",
       "      <th>floors_total</th>\n",
       "      <th>living_area</th>\n",
       "      <th>floor</th>\n",
       "      <th>is_apartment</th>\n",
       "      <th>...</th>\n",
       "      <th>balcony</th>\n",
       "      <th>locality_name</th>\n",
       "      <th>airports_nearest</th>\n",
       "      <th>cityCenters_nearest</th>\n",
       "      <th>parks_around3000</th>\n",
       "      <th>parks_nearest</th>\n",
       "      <th>ponds_around3000</th>\n",
       "      <th>ponds_nearest</th>\n",
       "      <th>days_exposition</th>\n",
       "      <th>good_ceiling_height</th>\n",
       "    </tr>\n",
       "  </thead>\n",
       "  <tbody>\n",
       "  </tbody>\n",
       "</table>\n",
       "<p>0 rows × 23 columns</p>\n",
       "</div>"
      ],
      "text/plain": [
       "Empty DataFrame\n",
       "Columns: [total_images, last_price, total_area, first_day_exposition, rooms, ceiling_height, floors_total, living_area, floor, is_apartment, studio, open_plan, kitchen_area, balcony, locality_name, airports_nearest, cityCenters_nearest, parks_around3000, parks_nearest, ponds_around3000, ponds_nearest, days_exposition, good_ceiling_height]\n",
       "Index: []\n",
       "\n",
       "[0 rows x 23 columns]"
      ]
     },
     "execution_count": 18,
     "metadata": {},
     "output_type": "execute_result"
    }
   ],
   "source": [
    "# проверим, остались ли аномальные значения\n",
    "df.query('good_ceiling_height > 7')"
   ]
  },
  {
   "cell_type": "markdown",
   "metadata": {},
   "source": [
    "Логика возникновения части аномальных значений, таких как маловероятная высота потолков, была понятна. Эти значения удалось исправить. Те аномалии, чья логика не ясна и количество не велико, следует удалить."
   ]
  },
  {
   "cell_type": "markdown",
   "metadata": {},
   "source": [
    "### Посчитайте и добавьте в таблицу новые столбцы"
   ]
  },
  {
   "cell_type": "code",
   "execution_count": 19,
   "metadata": {},
   "outputs": [
    {
     "name": "stdout",
     "output_type": "stream",
     "text": [
      "0    120370.37\n",
      "1     83750.00\n",
      "2     92785.71\n",
      "3    408176.10\n",
      "4    100000.00\n",
      "Name: square_meter_price, dtype: float64\n"
     ]
    }
   ],
   "source": [
    "# создаем столбец с ценой квадратного метра\n",
    "df['square_meter_price'] = (df['last_price'] / df['total_area']).round(2)\n",
    "print(df['square_meter_price'].head(5))"
   ]
  },
  {
   "cell_type": "code",
   "execution_count": 20,
   "metadata": {},
   "outputs": [
    {
     "name": "stdout",
     "output_type": "stream",
     "text": [
      "0    3\n",
      "1    1\n",
      "2    3\n",
      "3    4\n",
      "4    1\n",
      "Name: publication_week_day, dtype: int64\n"
     ]
    }
   ],
   "source": [
    "# создаем столбец с днём недели, когда обёявление было опубликовано\n",
    "df['publication_week_day'] = df['first_day_exposition'].dt.weekday\n",
    "print(df['publication_week_day'].head(5))"
   ]
  },
  {
   "cell_type": "code",
   "execution_count": 21,
   "metadata": {},
   "outputs": [
    {
     "name": "stdout",
     "output_type": "stream",
     "text": [
      "0     3\n",
      "1    12\n",
      "2     8\n",
      "3     7\n",
      "4     6\n",
      "Name: publication_month, dtype: int64\n"
     ]
    }
   ],
   "source": [
    "# создаем столбец с месяцем, когда обёявление было опубликовано\n",
    "df['publication_month'] = df['first_day_exposition'].dt.month\n",
    "print(df['publication_month'].head(5))"
   ]
  },
  {
   "cell_type": "code",
   "execution_count": 22,
   "metadata": {},
   "outputs": [],
   "source": [
    "# создаем столбец с годом, когда обёявление было опубликовано\n",
    "df['publication_year'] = df['first_day_exposition'].dt.year\n",
    "#print(df['publication_year'].head(5))"
   ]
  },
  {
   "cell_type": "code",
   "execution_count": 23,
   "metadata": {},
   "outputs": [],
   "source": [
    "# создаем столбец с типом этажа квартиры\n",
    "def floor_type(row):\n",
    "    floor = row['floor']\n",
    "    floors_total = row['floors_total']\n",
    "    \n",
    "    if floor == 1:\n",
    "        return 'Первый'\n",
    "    if floor == floors_total:\n",
    "        return 'Последний'\n",
    "    else:\n",
    "        return 'Другой'\n",
    "     \n",
    "row_columns = ['floor'], ['floors_total']\n",
    "row = pd.Series(row_columns)\n",
    "\n",
    "df['floor_type'] = df.apply(floor_type, axis=1)\n",
    "#print(df['floor_type'].head(10))"
   ]
  },
  {
   "cell_type": "code",
   "execution_count": 24,
   "metadata": {},
   "outputs": [],
   "source": [
    "# создаем столбец с расстоянием до центра в километрах\n",
    "def cityCenters_km(row):\n",
    "    cityCenters_nearest = row['cityCenters_nearest']\n",
    "   \n",
    "    return (pd.to_numeric(cityCenters_nearest, errors='ignore') / 1000)\n",
    "     \n",
    "row_columns = ['cityCenters_nearest']\n",
    "row = pd.Series(row_columns)\n",
    "\n",
    "df['cityCenters_km'] = df.apply(cityCenters_km, axis=1)\n",
    "df['cityCenters_km'] = df['cityCenters_km'].round(0)\n",
    "#print(df['cityCenters_km'].head(10))"
   ]
  },
  {
   "cell_type": "code",
   "execution_count": 25,
   "metadata": {},
   "outputs": [
    {
     "name": "stdout",
     "output_type": "stream",
     "text": [
      "<class 'pandas.core.frame.DataFrame'>\n",
      "Int64Index: 23372 entries, 0 to 23698\n",
      "Data columns (total 29 columns):\n",
      " #   Column                Non-Null Count  Dtype         \n",
      "---  ------                --------------  -----         \n",
      " 0   total_images          23372 non-null  int64         \n",
      " 1   last_price            23372 non-null  int64         \n",
      " 2   total_area            23372 non-null  int64         \n",
      " 3   first_day_exposition  23372 non-null  datetime64[ns]\n",
      " 4   rooms                 23372 non-null  int64         \n",
      " 5   ceiling_height        23372 non-null  object        \n",
      " 6   floors_total          23372 non-null  int64         \n",
      " 7   living_area           21506 non-null  float64       \n",
      " 8   floor                 23372 non-null  int64         \n",
      " 9   is_apartment          2755 non-null   object        \n",
      " 10  studio                23372 non-null  bool          \n",
      " 11  open_plan             23372 non-null  bool          \n",
      " 12  kitchen_area          21320 non-null  float64       \n",
      " 13  balcony               23372 non-null  int64         \n",
      " 14  locality_name         23372 non-null  object        \n",
      " 15  airports_nearest      18028 non-null  float64       \n",
      " 16  cityCenters_nearest   18183 non-null  float64       \n",
      " 17  parks_around3000      23372 non-null  int64         \n",
      " 18  parks_nearest         8046 non-null   float64       \n",
      " 19  ponds_around3000      23372 non-null  int64         \n",
      " 20  ponds_nearest         9037 non-null   float64       \n",
      " 21  days_exposition       23372 non-null  int64         \n",
      " 22  good_ceiling_height   23372 non-null  float64       \n",
      " 23  square_meter_price    23372 non-null  float64       \n",
      " 24  publication_week_day  23372 non-null  int64         \n",
      " 25  publication_month     23372 non-null  int64         \n",
      " 26  publication_year      23372 non-null  int64         \n",
      " 27  floor_type            23372 non-null  object        \n",
      " 28  cityCenters_km        18183 non-null  float64       \n",
      "dtypes: bool(2), datetime64[ns](1), float64(9), int64(13), object(4)\n",
      "memory usage: 5.0+ MB\n"
     ]
    }
   ],
   "source": [
    "df.info()"
   ]
  },
  {
   "cell_type": "markdown",
   "metadata": {},
   "source": [
    "### Проведите исследовательский анализ данных"
   ]
  },
  {
   "cell_type": "code",
   "execution_count": 26,
   "metadata": {},
   "outputs": [
    {
     "data": {
      "image/png": "[encoded data removed]",
      "text/plain": [
       "<Figure size 720x360 with 1 Axes>"
      ]
     },
     "metadata": {
      "needs_background": "light"
     },
     "output_type": "display_data"
    }
   ],
   "source": [
    "# построим гистограммы следующих столбцов\n",
    "\n",
    "df['last_price'].hist(legend='last_price', figsize=(10, 5), range=(0, 20000000), bins=50)\n",
    "plt.show()"
   ]
  },
  {
   "cell_type": "code",
   "execution_count": 27,
   "metadata": {},
   "outputs": [
    {
     "data": {
      "image/png": "[encoded data removed]",
      "text/plain": [
       "<Figure size 720x360 with 1 Axes>"
      ]
     },
     "metadata": {
      "needs_background": "light"
     },
     "output_type": "display_data"
    }
   ],
   "source": [
    "df['total_area'].hist(legend='total_area', figsize=(10, 5), range=(0, 250), bins=50)\n",
    "plt.show()"
   ]
  },
  {
   "cell_type": "code",
   "execution_count": 28,
   "metadata": {},
   "outputs": [
    {
     "data": {
      "image/png": "[encoded data removed]",
      "text/plain": [
       "<Figure size 720x360 with 1 Axes>"
      ]
     },
     "metadata": {
      "needs_background": "light"
     },
     "output_type": "display_data"
    }
   ],
   "source": [
    "df['rooms'].hist(legend='rooms', figsize=(10, 5), bins=50)\n",
    "plt.show()"
   ]
  },
  {
   "cell_type": "code",
   "execution_count": 29,
   "metadata": {},
   "outputs": [
    {
     "data": {
      "image/png": "[encoded data removed]",
      "text/plain": [
       "<Figure size 720x360 with 1 Axes>"
      ]
     },
     "metadata": {
      "needs_background": "light"
     },
     "output_type": "display_data"
    }
   ],
   "source": [
    "df['ceiling_height'].sort_values().hist(legend='ceiling_height', figsize=(10, 5), range=(2, 6), bins=10)\n",
    "plt.show()"
   ]
  },
  {
   "cell_type": "code",
   "execution_count": 30,
   "metadata": {},
   "outputs": [
    {
     "data": {
      "image/png": "[encoded data removed]",
      "text/plain": [
       "<Figure size 720x360 with 1 Axes>"
      ]
     },
     "metadata": {
      "needs_background": "light"
     },
     "output_type": "display_data"
    }
   ],
   "source": [
    "df['floors_total'].hist(legend='floors_total', figsize=(10, 5), range=(0,10), bins=10)\n",
    "plt.show()"
   ]
  },
  {
   "cell_type": "code",
   "execution_count": 31,
   "metadata": {},
   "outputs": [
    {
     "data": {
      "image/png": "[encoded data removed]",
      "text/plain": [
       "<Figure size 720x360 with 1 Axes>"
      ]
     },
     "metadata": {
      "needs_background": "light"
     },
     "output_type": "display_data"
    }
   ],
   "source": [
    "df['living_area'].hist(legend='living_area', figsize=(10, 5), range=(0, 300), bins=50)\n",
    "plt.show()\n"
   ]
  },
  {
   "cell_type": "code",
   "execution_count": 32,
   "metadata": {},
   "outputs": [
    {
     "data": {
      "image/png": "[encoded data removed]",
      "text/plain": [
       "<Figure size 720x360 with 1 Axes>"
      ]
     },
     "metadata": {
      "needs_background": "light"
     },
     "output_type": "display_data"
    }
   ],
   "source": [
    "df['floor'].hist(legend='floor', figsize=(10, 5), bins=50)\n",
    "plt.show()"
   ]
  },
  {
   "cell_type": "code",
   "execution_count": 33,
   "metadata": {},
   "outputs": [
    {
     "data": {
      "image/png": "[encoded data removed]",
      "text/plain": [
       "<Figure size 720x360 with 1 Axes>"
      ]
     },
     "metadata": {
      "needs_background": "light"
     },
     "output_type": "display_data"
    }
   ],
   "source": [
    "df['kitchen_area'].hist(legend='kitchen_area', figsize=(10, 5), range=(0, 50), bins=50)\n",
    "plt.show()"
   ]
  },
  {
   "cell_type": "code",
   "execution_count": 34,
   "metadata": {},
   "outputs": [
    {
     "data": {
      "image/png": "[encoded data removed]",
      "text/plain": [
       "<Figure size 720x360 with 1 Axes>"
      ]
     },
     "metadata": {
      "needs_background": "light"
     },
     "output_type": "display_data"
    }
   ],
   "source": [
    "df['airports_nearest'].hist(legend='airports_nearest', figsize=(10, 5), bins=50)\n",
    "plt.show()"
   ]
  },
  {
   "cell_type": "code",
   "execution_count": 35,
   "metadata": {},
   "outputs": [
    {
     "data": {
      "image/png": "[encoded data removed]",
      "text/plain": [
       "<Figure size 720x360 with 1 Axes>"
      ]
     },
     "metadata": {
      "needs_background": "light"
     },
     "output_type": "display_data"
    }
   ],
   "source": [
    "df['cityCenters_nearest'].hist(legend='cityCenters_nearest', figsize=(10, 5), bins=50)\n",
    "plt.show()"
   ]
  },
  {
   "cell_type": "code",
   "execution_count": 36,
   "metadata": {},
   "outputs": [
    {
     "data": {
      "image/png": "[encoded data removed]",
      "text/plain": [
       "<Figure size 720x360 with 1 Axes>"
      ]
     },
     "metadata": {
      "needs_background": "light"
     },
     "output_type": "display_data"
    }
   ],
   "source": [
    "df['parks_nearest'].hist(legend='parks_nearest', figsize=(10, 5), bins=50)\n",
    "plt.show()"
   ]
  },
  {
   "cell_type": "code",
   "execution_count": 37,
   "metadata": {},
   "outputs": [
    {
     "data": {
      "image/png": "[encoded data removed]",
      "text/plain": [
       "<Figure size 720x360 with 1 Axes>"
      ]
     },
     "metadata": {
      "needs_background": "light"
     },
     "output_type": "display_data"
    }
   ],
   "source": [
    "df['first_day_exposition'].hist(legend='first_day_exposition', figsize=(10, 5), bins=50)\n",
    "plt.show()"
   ]
  },
  {
   "cell_type": "code",
   "execution_count": 38,
   "metadata": {},
   "outputs": [
    {
     "data": {
      "image/png": "[encoded data removed]",
      "text/plain": [
       "<Figure size 720x360 with 1 Axes>"
      ]
     },
     "metadata": {
      "needs_background": "light"
     },
     "output_type": "display_data"
    }
   ],
   "source": [
    "df['floor_type'].hist(legend='floor_type', figsize=(10, 5), bins=50)\n",
    "plt.show()"
   ]
  },
  {
   "cell_type": "code",
   "execution_count": 39,
   "metadata": {},
   "outputs": [
    {
     "data": {
      "image/png": "[encoded data removed]",
      "text/plain": [
       "<Figure size 720x360 with 1 Axes>"
      ]
     },
     "metadata": {
      "needs_background": "light"
     },
     "output_type": "display_data"
    }
   ],
   "source": [
    "df['publication_week_day'].hist(legend='floor_type', figsize=(10, 5), bins=50)\n",
    "plt.show()"
   ]
  },
  {
   "cell_type": "code",
   "execution_count": 40,
   "metadata": {},
   "outputs": [
    {
     "data": {
      "image/png": "[encoded data removed]",
      "text/plain": [
       "<Figure size 720x360 with 1 Axes>"
      ]
     },
     "metadata": {
      "needs_background": "light"
     },
     "output_type": "display_data"
    }
   ],
   "source": [
    "df['publication_month'].hist(legend='floor_type', figsize=(10, 5), bins=50)\n",
    "plt.show()"
   ]
  },
  {
   "cell_type": "code",
   "execution_count": 41,
   "metadata": {},
   "outputs": [
    {
     "data": {
      "image/png": "[encoded data removed]",
      "text/plain": [
       "<Figure size 720x360 with 1 Axes>"
      ]
     },
     "metadata": {
      "needs_background": "light"
     },
     "output_type": "display_data"
    }
   ],
   "source": [
    "df['publication_year'].hist(legend='floor_type', figsize=(10, 5), bins=50)\n",
    "plt.show()"
   ]
  },
  {
   "cell_type": "markdown",
   "metadata": {},
   "source": [
    "Чаще всего встречаются объекты, имеющщие:\n",
    "\n",
    "- цену от 3 000 000 до 6 000 000\n",
    "- общую площадь от 30 до 80\n",
    "- до 3-х комнат\n",
    "- потолки около 3-х метров\n",
    "- этаж от 2-го до 5-го, чаще всего не первый и не последний\n",
    "- 5 или 9 этажей в доме\n",
    "- дату публикации с 2017-го по 2018-й год в будние дни\n"
   ]
  },
  {
   "cell_type": "code",
   "execution_count": 42,
   "metadata": {},
   "outputs": [
    {
     "data": {
      "image/png": "[encoded data removed]",
      "text/plain": [
       "<Figure size 1440x360 with 1 Axes>"
      ]
     },
     "metadata": {
      "needs_background": "light"
     },
     "output_type": "display_data"
    }
   ],
   "source": [
    "# проведем анализ скорости продажи квартир. Гистограмма близка к распределению Пуассона\n",
    "df['days_exposition'].hist(legend='days_exposition', figsize=(20, 5), bins=100)\n",
    "plt.show()"
   ]
  },
  {
   "cell_type": "code",
   "execution_count": 43,
   "metadata": {},
   "outputs": [
    {
     "data": {
      "image/png": "[encoded data removed]",
      "text/plain": [
       "<Figure size 1440x360 with 1 Axes>"
      ]
     },
     "metadata": {
      "needs_background": "light"
     },
     "output_type": "display_data"
    }
   ],
   "source": [
    "# в начале гистограммы виден выброс, рассмотрим этот участок подробнее\n",
    "df['days_exposition'].hist(legend='days_exposition', figsize=(20, 5), bins=100, range=(0, 100))\n",
    "plt.show()"
   ]
  },
  {
   "cell_type": "markdown",
   "metadata": {},
   "source": [
    "Изучим столбец с днями показа обёявлений:"
   ]
  },
  {
   "cell_type": "code",
   "execution_count": 44,
   "metadata": {},
   "outputs": [
    {
     "name": "stdout",
     "output_type": "stream",
     "text": [
      "170.096097894917\n",
      "\n",
      "95.0\n"
     ]
    }
   ],
   "source": [
    "# найдем среднее и медиану\n",
    "print(df['days_exposition'].mean())\n",
    "print()\n",
    "print(df['days_exposition'].median())"
   ]
  },
  {
   "cell_type": "markdown",
   "metadata": {},
   "source": [
    "Продажа квартиры всреднем занимает около полугода. Быстрой можно считать продажу в первую неделю, необычно долгой - занявшую более двух лет."
   ]
  },
  {
   "cell_type": "markdown",
   "metadata": {},
   "source": [
    "Проанализируем, какие факторы больше всего влияют на стоимость объекта:"
   ]
  },
  {
   "cell_type": "code",
   "execution_count": 45,
   "metadata": {},
   "outputs": [
    {
     "data": {
      "text/plain": [
       "<AxesSubplot:xlabel='total_area', ylabel='last_price'>"
      ]
     },
     "execution_count": 45,
     "metadata": {},
     "output_type": "execute_result"
    },
    {
     "data": {
      "image/png": "[encoded data removed]",
      "text/plain": [
       "<Figure size 432x288 with 1 Axes>"
      ]
     },
     "metadata": {
      "needs_background": "light"
     },
     "output_type": "display_data"
    }
   ],
   "source": [
    "# зависит ли стоимость квартиры от общей площади?\n",
    "df.plot(x='total_area', y='last_price', kind='scatter', alpha=0.3)"
   ]
  },
  {
   "cell_type": "code",
   "execution_count": 46,
   "metadata": {},
   "outputs": [
    {
     "name": "stdout",
     "output_type": "stream",
     "text": [
      "0.65\n"
     ]
    }
   ],
   "source": [
    "print(df['total_area'].corr(df['last_price']).round(2))"
   ]
  },
  {
   "cell_type": "markdown",
   "metadata": {},
   "source": [
    "Наблюдается положительная кореляция"
   ]
  },
  {
   "cell_type": "markdown",
   "metadata": {},
   "source": [
    "<font color='blue'> Посчитал кореляцию, где это возможно, некоторые выводы изменились </font>"
   ]
  },
  {
   "cell_type": "code",
   "execution_count": 47,
   "metadata": {},
   "outputs": [
    {
     "data": {
      "text/plain": [
       "<AxesSubplot:xlabel='good_living_area', ylabel='last_price'>"
      ]
     },
     "execution_count": 47,
     "metadata": {},
     "output_type": "execute_result"
    },
    {
     "data": {
      "image/png": "[encoded data removed]",
      "text/plain": [
       "<Figure size 432x288 with 1 Axes>"
      ]
     },
     "metadata": {
      "needs_background": "light"
     },
     "output_type": "display_data"
    }
   ],
   "source": [
    "# зависит ли стоимость квартиры от жилой площади?\n",
    "df['good_living_area'] = pd.to_numeric(df['living_area'].dropna(), errors='raise')\n",
    "df.plot(x='good_living_area', y='last_price', kind='scatter', alpha=0.3)\n"
   ]
  },
  {
   "cell_type": "code",
   "execution_count": 48,
   "metadata": {},
   "outputs": [
    {
     "name": "stdout",
     "output_type": "stream",
     "text": [
      "0.57\n"
     ]
    }
   ],
   "source": [
    "print(df['good_living_area'].corr(df['last_price']).round(2))"
   ]
  },
  {
   "cell_type": "markdown",
   "metadata": {},
   "source": [
    "Наблюдается положительная кореляция"
   ]
  },
  {
   "cell_type": "code",
   "execution_count": 49,
   "metadata": {},
   "outputs": [
    {
     "data": {
      "text/plain": [
       "<AxesSubplot:xlabel='good_kitchen_area', ylabel='last_price'>"
      ]
     },
     "execution_count": 49,
     "metadata": {},
     "output_type": "execute_result"
    },
    {
     "data": {
      "image/png": "[encoded data removed]",
      "text/plain": [
       "<Figure size 432x288 with 1 Axes>"
      ]
     },
     "metadata": {
      "needs_background": "light"
     },
     "output_type": "display_data"
    }
   ],
   "source": [
    "# зависит ли стоимость квартиры от площади кухни?\n",
    "df['good_kitchen_area'] = pd.to_numeric(df['kitchen_area'].dropna(), errors='raise')\n",
    "df.plot(x='good_kitchen_area', y='last_price', kind='scatter', alpha=0.3)"
   ]
  },
  {
   "cell_type": "code",
   "execution_count": 50,
   "metadata": {},
   "outputs": [
    {
     "name": "stdout",
     "output_type": "stream",
     "text": [
      "0.52\n"
     ]
    }
   ],
   "source": [
    "print(df['good_kitchen_area'].corr(df['last_price']).round(2))"
   ]
  },
  {
   "cell_type": "markdown",
   "metadata": {},
   "source": [
    "Наблюдается положительная кореляция"
   ]
  },
  {
   "cell_type": "code",
   "execution_count": 51,
   "metadata": {},
   "outputs": [
    {
     "data": {
      "text/plain": [
       "<AxesSubplot:xlabel='rooms', ylabel='last_price'>"
      ]
     },
     "execution_count": 51,
     "metadata": {},
     "output_type": "execute_result"
    },
    {
     "data": {
      "image/png": "[encoded data removed]",
      "text/plain": [
       "<Figure size 432x288 with 1 Axes>"
      ]
     },
     "metadata": {
      "needs_background": "light"
     },
     "output_type": "display_data"
    }
   ],
   "source": [
    "# зависит ли стоимость квартиры от количества комнат?\n",
    "df.plot(x='rooms', y='last_price', kind='scatter', alpha=0.5)"
   ]
  },
  {
   "cell_type": "code",
   "execution_count": 52,
   "metadata": {},
   "outputs": [
    {
     "name": "stdout",
     "output_type": "stream",
     "text": [
      "0.37\n"
     ]
    }
   ],
   "source": [
    "print(df['rooms'].corr(df['last_price']).round(2))"
   ]
  },
  {
   "cell_type": "markdown",
   "metadata": {},
   "source": [
    "Наблюдается незначительная положительная кореляция"
   ]
  },
  {
   "cell_type": "code",
   "execution_count": 53,
   "metadata": {},
   "outputs": [
    {
     "data": {
      "text/plain": [
       "<AxesSubplot:xlabel='floor_type', ylabel='last_price'>"
      ]
     },
     "execution_count": 53,
     "metadata": {},
     "output_type": "execute_result"
    },
    {
     "data": {
      "image/png": "[encoded data removed]",
      "text/plain": [
       "<Figure size 432x288 with 1 Axes>"
      ]
     },
     "metadata": {
      "needs_background": "light"
     },
     "output_type": "display_data"
    }
   ],
   "source": [
    "# зависит ли стоимость квартиры от типа этажа?\n",
    "df.plot(x='floor_type', y='last_price', kind='scatter', alpha=0.5)"
   ]
  },
  {
   "cell_type": "markdown",
   "metadata": {},
   "source": [
    "На первом и последнем этажах квартиры как правило дешевле, чем на других"
   ]
  },
  {
   "cell_type": "code",
   "execution_count": 54,
   "metadata": {},
   "outputs": [
    {
     "data": {
      "text/plain": [
       "<AxesSubplot:xlabel='publication_week_day', ylabel='last_price'>"
      ]
     },
     "execution_count": 54,
     "metadata": {},
     "output_type": "execute_result"
    },
    {
     "data": {
      "image/png": "[encoded data removed]",
      "text/plain": [
       "<Figure size 432x288 with 1 Axes>"
      ]
     },
     "metadata": {
      "needs_background": "light"
     },
     "output_type": "display_data"
    }
   ],
   "source": [
    "# зависит ли стоимость квартиры от дня недели публикации объявления?\n",
    "df.plot(x='publication_week_day', y='last_price', kind='scatter', alpha=0.5)"
   ]
  },
  {
   "cell_type": "markdown",
   "metadata": {},
   "source": [
    "Выраженной зависимости цены от дня недели публикации не наблюдается"
   ]
  },
  {
   "cell_type": "code",
   "execution_count": 55,
   "metadata": {},
   "outputs": [
    {
     "data": {
      "text/plain": [
       "<AxesSubplot:xlabel='publication_month', ylabel='last_price'>"
      ]
     },
     "execution_count": 55,
     "metadata": {},
     "output_type": "execute_result"
    },
    {
     "data": {
      "image/png": "[encoded data removed]",
      "text/plain": [
       "<Figure size 432x288 with 1 Axes>"
      ]
     },
     "metadata": {
      "needs_background": "light"
     },
     "output_type": "display_data"
    }
   ],
   "source": [
    "# зависит ли стоимость квартиры от месяца публикации объявления?\n",
    "df.plot(x='publication_month', y='last_price', kind='scatter', alpha=0.5)"
   ]
  },
  {
   "cell_type": "markdown",
   "metadata": {},
   "source": [
    "Выраженной зависимости цены от месяца публикации не наблюдается"
   ]
  },
  {
   "cell_type": "code",
   "execution_count": 57,
   "metadata": {},
   "outputs": [
    {
     "data": {
      "text/plain": [
       "<AxesSubplot:xlabel='publication_year', ylabel='last_price'>"
      ]
     },
     "execution_count": 57,
     "metadata": {},
     "output_type": "execute_result"
    },
    {
     "data": {
      "image/png": "[encoded data removed]",
      "text/plain": [
       "<Figure size 432x288 with 1 Axes>"
      ]
     },
     "metadata": {
      "needs_background": "light"
     },
     "output_type": "display_data"
    }
   ],
   "source": [
    "# зависит ли стоимость квартиры от года публикации объявления?\n",
    "df.plot(x='publication_year', y='last_price', kind='scatter', alpha=0.5)"
   ]
  },
  {
   "cell_type": "markdown",
   "metadata": {},
   "source": [
    "Выраженной зависимости цены от года публикации не наблюдается"
   ]
  },
  {
   "cell_type": "code",
   "execution_count": 58,
   "metadata": {
    "scrolled": true
   },
   "outputs": [
    {
     "name": "stdout",
     "output_type": "stream",
     "text": [
      "                   square_meter_price\n",
      "locality_name                        \n",
      "Санкт-Петербург              105132.0\n",
      "Пушкин                       100000.0\n",
      "Сестрорецк                    99917.0\n",
      "поселок Парголово             92282.0\n",
      "поселок Мурино                84969.0\n",
      "Петергоф                      82812.0\n",
      "поселок Шушары                77112.0\n",
      "Колпино                       74861.0\n",
      "Гатчина                       67925.0\n",
      "Всеволожск                    65789.0\n"
     ]
    }
   ],
   "source": [
    "# найдем среднюю цену квадратного метра в 10-ти населенных пунктах с наибольшим числом объявлений\n",
    "# в начале найдем первые 10 населенных пунктов по количеству объявлений\n",
    "top_ten = df.groupby('locality_name').size().sort_values(ascending=False).head(10)\n",
    "#print(top_ten)\n",
    "# затем сравним для них цену квадратного метра\n",
    "print(\n",
    "df.loc[df['locality_name'].isin([\n",
    "    'Санкт-Петербург',\n",
    "    'Всеволожск', \n",
    "    'Пушкин', \n",
    "    'поселок Шушары',\n",
    "    'поселок Мурино', \n",
    "    'Колпино', \n",
    "    'Гатчина', \n",
    "    'Петергоф', \n",
    "    'поселок Парголово', \n",
    "    'Сестрорецк'])]\n",
    "    .pivot_table(index='locality_name', values='square_meter_price', aggfunc='median').round(0)\n",
    "    .sort_values(by='square_meter_price', ascending=False)\n",
    ")"
   ]
  },
  {
   "cell_type": "markdown",
   "metadata": {},
   "source": [
    "Самая высокая цена квадратного метра в Санкт-Петербурге - 105132, самая низкая в Всеволжске - 65789."
   ]
  },
  {
   "cell_type": "code",
   "execution_count": 59,
   "metadata": {},
   "outputs": [
    {
     "data": {
      "text/plain": [
       "<AxesSubplot:xlabel='cityCenters_km', ylabel='last_price'>"
      ]
     },
     "execution_count": 59,
     "metadata": {},
     "output_type": "execute_result"
    },
    {
     "data": {
      "image/png": "[encoded data removed]",
      "text/plain": [
       "<Figure size 432x288 with 1 Axes>"
      ]
     },
     "metadata": {
      "needs_background": "light"
     },
     "output_type": "display_data"
    }
   ],
   "source": [
    "# найдём среднюю цену каждого километра от центра для Санкт-Петербурга\n",
    "spb_price = df.loc[df['locality_name'] == 'Санкт-Петербург'].pivot_table(\n",
    "    index='cityCenters_km',\n",
    "    values='last_price', \n",
    "    aggfunc='mean').reset_index()\n",
    "#print(spb_price)\n",
    "spb_price.plot(x='cityCenters_km', y='last_price', kind='scatter', alpha=1.0, style='o-')"
   ]
  },
  {
   "cell_type": "markdown",
   "metadata": {},
   "source": [
    "Судя по графику, цена квартиры уменьшается по мере отдаления от центра. Но уменьшается она неравномерно: в районе 5-го и 27-го километров наблюдаются выбросы."
   ]
  },
  {
   "cell_type": "markdown",
   "metadata": {},
   "source": [
    "### Общий вывод"
   ]
  },
  {
   "cell_type": "markdown",
   "metadata": {},
   "source": [
    "Исследование данных показало, что цена обекта имеет положительную кореляцию с общей площадью, с жилой площадью и площадью кухни. Также незначительная положительная кореляция цены наблюдается с количеством комнат. Как правило, первые и последние этажи дешевле остальных. Для Санкт-Петербурга цена и расстояние имеют отрицательную кореляцию с выбросами в районе 5-го и 27-го километров. Зависимости от даты публикации не выявлено.\n",
    "\n",
    "Для десяти населенных пунктов с наибольшим количеством объявлений самый дорогой квадратный метр в Санкт-Петербурге, самый дешевый во Всеволожске. \n",
    "\n",
    "Всреднем квартира продаётся за полгода. Быстрой можно считать продажу в первую неделю, необычно долгой - занявшую более двух лет. Наблюдается аномально большое число публикаций, продлившихся около 3-х месяцев."
   ]
  }
 ],
 "metadata": {
  "ExecuteTimeLog": [
   {
    "duration": 120,
    "start_time": "2022-08-16T09:35:39.465Z"
   },
   {
    "duration": 53,
    "start_time": "2022-08-16T09:36:38.585Z"
   },
   {
    "duration": 52,
    "start_time": "2022-08-16T09:36:42.674Z"
   },
   {
    "duration": 48,
    "start_time": "2022-08-16T09:37:31.193Z"
   },
   {
    "duration": 63,
    "start_time": "2022-08-16T09:37:35.633Z"
   },
   {
    "duration": 524,
    "start_time": "2022-08-16T09:37:46.824Z"
   },
   {
    "duration": 40,
    "start_time": "2022-08-16T09:39:49.109Z"
   },
   {
    "duration": 76,
    "start_time": "2022-08-16T09:40:54.053Z"
   },
   {
    "duration": 58,
    "start_time": "2022-08-16T09:41:07.080Z"
   },
   {
    "duration": 49,
    "start_time": "2022-08-16T09:41:23.542Z"
   },
   {
    "duration": 111,
    "start_time": "2022-08-16T09:41:32.133Z"
   },
   {
    "duration": 34,
    "start_time": "2022-08-16T09:41:52.929Z"
   },
   {
    "duration": 51,
    "start_time": "2022-08-16T09:46:41.465Z"
   },
   {
    "duration": 34,
    "start_time": "2022-08-16T09:49:57.440Z"
   },
   {
    "duration": 344,
    "start_time": "2022-08-16T09:55:44.533Z"
   },
   {
    "duration": 101,
    "start_time": "2022-08-16T09:55:48.132Z"
   },
   {
    "duration": 116,
    "start_time": "2022-08-16T09:56:18.220Z"
   },
   {
    "duration": 107,
    "start_time": "2022-08-16T09:56:58.712Z"
   },
   {
    "duration": 127,
    "start_time": "2022-08-16T10:02:07.700Z"
   },
   {
    "duration": 161,
    "start_time": "2022-08-16T10:04:01.572Z"
   },
   {
    "duration": 489,
    "start_time": "2022-08-16T10:10:29.626Z"
   },
   {
    "duration": 367,
    "start_time": "2022-08-16T10:11:43.595Z"
   },
   {
    "duration": 687,
    "start_time": "2022-08-16T10:12:30.552Z"
   },
   {
    "duration": 419,
    "start_time": "2022-08-16T10:12:39.248Z"
   },
   {
    "duration": 526,
    "start_time": "2022-08-16T10:12:45.571Z"
   },
   {
    "duration": 531,
    "start_time": "2022-08-16T10:13:34.256Z"
   },
   {
    "duration": 447,
    "start_time": "2022-08-16T10:13:59.564Z"
   },
   {
    "duration": 265,
    "start_time": "2022-08-16T10:15:50.645Z"
   },
   {
    "duration": 270,
    "start_time": "2022-08-16T10:17:03.021Z"
   },
   {
    "duration": 437,
    "start_time": "2022-08-16T10:17:40.464Z"
   },
   {
    "duration": 547,
    "start_time": "2022-08-16T10:18:20.867Z"
   },
   {
    "duration": 435,
    "start_time": "2022-08-16T10:18:41.409Z"
   },
   {
    "duration": 576,
    "start_time": "2022-08-16T10:24:32.356Z"
   },
   {
    "duration": 554,
    "start_time": "2022-08-16T10:24:46.488Z"
   },
   {
    "duration": 671,
    "start_time": "2022-08-16T10:26:25.020Z"
   },
   {
    "duration": 20,
    "start_time": "2022-08-16T10:30:49.021Z"
   },
   {
    "duration": 25,
    "start_time": "2022-08-16T11:07:20.184Z"
   },
   {
    "duration": 71,
    "start_time": "2022-08-16T11:08:36.417Z"
   },
   {
    "duration": 55,
    "start_time": "2022-08-16T11:09:21.075Z"
   },
   {
    "duration": 354,
    "start_time": "2022-08-16T11:10:15.298Z"
   },
   {
    "duration": 303,
    "start_time": "2022-08-16T11:10:42.779Z"
   },
   {
    "duration": 267,
    "start_time": "2022-08-16T11:11:03.828Z"
   },
   {
    "duration": 417,
    "start_time": "2022-08-16T11:11:18.870Z"
   },
   {
    "duration": 310,
    "start_time": "2022-08-16T11:11:35.573Z"
   },
   {
    "duration": 29,
    "start_time": "2022-08-16T11:12:13.691Z"
   },
   {
    "duration": 672,
    "start_time": "2022-08-16T11:12:27.778Z"
   },
   {
    "duration": 344,
    "start_time": "2022-08-16T11:20:29.779Z"
   },
   {
    "duration": 23,
    "start_time": "2022-08-16T11:21:43.716Z"
   },
   {
    "duration": 1237,
    "start_time": "2022-08-16T11:54:56.024Z"
   },
   {
    "duration": 292,
    "start_time": "2022-08-16T11:54:57.264Z"
   },
   {
    "duration": 0,
    "start_time": "2022-08-16T11:54:57.558Z"
   },
   {
    "duration": 0,
    "start_time": "2022-08-16T11:54:57.560Z"
   },
   {
    "duration": 6,
    "start_time": "2022-08-16T11:56:30.466Z"
   },
   {
    "duration": 23,
    "start_time": "2022-08-16T11:56:50.026Z"
   },
   {
    "duration": 21,
    "start_time": "2022-08-16T12:09:19.086Z"
   },
   {
    "duration": 40,
    "start_time": "2022-08-16T12:09:56.200Z"
   },
   {
    "duration": 24,
    "start_time": "2022-08-16T12:14:45.690Z"
   },
   {
    "duration": 199,
    "start_time": "2022-08-16T12:20:44.286Z"
   },
   {
    "duration": 11,
    "start_time": "2022-08-16T12:22:23.685Z"
   },
   {
    "duration": 11,
    "start_time": "2022-08-16T12:22:42.486Z"
   },
   {
    "duration": 406,
    "start_time": "2022-08-16T12:24:53.782Z"
   },
   {
    "duration": 223,
    "start_time": "2022-08-16T12:27:48.328Z"
   },
   {
    "duration": 14,
    "start_time": "2022-08-16T12:28:33.944Z"
   },
   {
    "duration": 4,
    "start_time": "2022-08-16T12:29:12.257Z"
   },
   {
    "duration": 5,
    "start_time": "2022-08-16T12:29:41.326Z"
   },
   {
    "duration": 7,
    "start_time": "2022-08-16T12:30:45.725Z"
   },
   {
    "duration": 42,
    "start_time": "2022-08-16T14:05:20.222Z"
   },
   {
    "duration": 1426,
    "start_time": "2022-08-16T14:05:42.253Z"
   },
   {
    "duration": 23,
    "start_time": "2022-08-16T14:05:43.681Z"
   },
   {
    "duration": 427,
    "start_time": "2022-08-16T14:05:43.706Z"
   },
   {
    "duration": 0,
    "start_time": "2022-08-16T14:05:44.135Z"
   },
   {
    "duration": 0,
    "start_time": "2022-08-16T14:05:44.136Z"
   },
   {
    "duration": 15,
    "start_time": "2022-08-16T14:06:17.251Z"
   },
   {
    "duration": 575,
    "start_time": "2022-08-16T14:08:16.375Z"
   },
   {
    "duration": 15,
    "start_time": "2022-08-16T14:10:28.363Z"
   },
   {
    "duration": 1180,
    "start_time": "2022-08-16T14:13:37.732Z"
   },
   {
    "duration": 21,
    "start_time": "2022-08-16T14:13:38.914Z"
   },
   {
    "duration": 105,
    "start_time": "2022-08-16T14:13:38.936Z"
   },
   {
    "duration": 0,
    "start_time": "2022-08-16T14:13:39.042Z"
   },
   {
    "duration": 0,
    "start_time": "2022-08-16T14:13:39.043Z"
   },
   {
    "duration": 113,
    "start_time": "2022-08-16T14:17:28.605Z"
   },
   {
    "duration": 135,
    "start_time": "2022-08-16T14:18:04.995Z"
   },
   {
    "duration": 58,
    "start_time": "2022-08-16T14:19:18.594Z"
   },
   {
    "duration": 1140,
    "start_time": "2022-08-16T14:20:50.278Z"
   },
   {
    "duration": 21,
    "start_time": "2022-08-16T14:20:51.420Z"
   },
   {
    "duration": 1117,
    "start_time": "2022-08-16T14:21:44.371Z"
   },
   {
    "duration": 22,
    "start_time": "2022-08-16T14:21:45.490Z"
   },
   {
    "duration": 285,
    "start_time": "2022-08-16T14:21:45.513Z"
   },
   {
    "duration": 451,
    "start_time": "2022-08-16T14:21:45.799Z"
   },
   {
    "duration": 0,
    "start_time": "2022-08-16T14:21:46.251Z"
   },
   {
    "duration": 225,
    "start_time": "2022-08-16T14:23:32.482Z"
   },
   {
    "duration": 19,
    "start_time": "2022-08-16T14:23:59.211Z"
   },
   {
    "duration": 15,
    "start_time": "2022-08-16T14:28:56.024Z"
   },
   {
    "duration": 1124,
    "start_time": "2022-08-16T14:29:38.917Z"
   },
   {
    "duration": 31,
    "start_time": "2022-08-16T14:29:40.042Z"
   },
   {
    "duration": 100,
    "start_time": "2022-08-16T14:29:40.074Z"
   },
   {
    "duration": 1,
    "start_time": "2022-08-16T14:29:40.175Z"
   },
   {
    "duration": 0,
    "start_time": "2022-08-16T14:29:40.177Z"
   },
   {
    "duration": 24,
    "start_time": "2022-08-16T14:32:33.093Z"
   },
   {
    "duration": 66,
    "start_time": "2022-08-16T14:32:50.093Z"
   },
   {
    "duration": 18,
    "start_time": "2022-08-16T14:34:30.454Z"
   },
   {
    "duration": 26,
    "start_time": "2022-08-16T14:37:04.600Z"
   },
   {
    "duration": 26,
    "start_time": "2022-08-16T14:38:32.935Z"
   },
   {
    "duration": 23,
    "start_time": "2022-08-16T14:39:14.231Z"
   },
   {
    "duration": 20,
    "start_time": "2022-08-16T14:39:21.512Z"
   },
   {
    "duration": 1149,
    "start_time": "2022-08-16T15:01:43.154Z"
   },
   {
    "duration": 42,
    "start_time": "2022-08-16T15:01:44.305Z"
   },
   {
    "duration": 64,
    "start_time": "2022-08-16T15:01:44.348Z"
   },
   {
    "duration": 16,
    "start_time": "2022-08-16T15:01:44.413Z"
   },
   {
    "duration": 11,
    "start_time": "2022-08-16T15:01:44.430Z"
   },
   {
    "duration": 590,
    "start_time": "2022-08-16T15:02:14.243Z"
   },
   {
    "duration": 1174,
    "start_time": "2022-08-16T15:02:46.841Z"
   },
   {
    "duration": 30,
    "start_time": "2022-08-16T15:02:48.017Z"
   },
   {
    "duration": 64,
    "start_time": "2022-08-16T15:02:48.048Z"
   },
   {
    "duration": 15,
    "start_time": "2022-08-16T15:02:48.113Z"
   },
   {
    "duration": 11,
    "start_time": "2022-08-16T15:02:48.130Z"
   },
   {
    "duration": 13,
    "start_time": "2022-08-16T15:03:28.503Z"
   },
   {
    "duration": 1146,
    "start_time": "2022-08-16T15:03:53.657Z"
   },
   {
    "duration": 16,
    "start_time": "2022-08-16T15:03:54.804Z"
   },
   {
    "duration": 18,
    "start_time": "2022-08-16T15:03:54.821Z"
   },
   {
    "duration": 67,
    "start_time": "2022-08-16T15:03:54.841Z"
   },
   {
    "duration": 15,
    "start_time": "2022-08-16T15:03:54.910Z"
   },
   {
    "duration": 12,
    "start_time": "2022-08-16T15:03:54.926Z"
   },
   {
    "duration": 1393,
    "start_time": "2022-08-16T17:13:00.265Z"
   },
   {
    "duration": 17,
    "start_time": "2022-08-16T17:13:01.659Z"
   },
   {
    "duration": 29,
    "start_time": "2022-08-16T17:13:01.678Z"
   },
   {
    "duration": 62,
    "start_time": "2022-08-16T17:13:01.709Z"
   },
   {
    "duration": 17,
    "start_time": "2022-08-16T17:13:01.773Z"
   },
   {
    "duration": 20,
    "start_time": "2022-08-16T17:13:01.791Z"
   },
   {
    "duration": 5,
    "start_time": "2022-08-16T17:15:51.973Z"
   },
   {
    "duration": 11,
    "start_time": "2022-08-16T17:57:54.911Z"
   },
   {
    "duration": 85,
    "start_time": "2022-08-16T17:58:38.066Z"
   },
   {
    "duration": 6,
    "start_time": "2022-08-16T17:58:49.577Z"
   },
   {
    "duration": 8,
    "start_time": "2022-08-16T17:58:56.058Z"
   },
   {
    "duration": 6,
    "start_time": "2022-08-16T17:59:05.720Z"
   },
   {
    "duration": 13,
    "start_time": "2022-08-16T17:59:08.705Z"
   },
   {
    "duration": 5,
    "start_time": "2022-08-16T18:00:48.128Z"
   },
   {
    "duration": 357,
    "start_time": "2022-08-16T18:01:51.824Z"
   },
   {
    "duration": 363,
    "start_time": "2022-08-16T18:01:56.462Z"
   },
   {
    "duration": 6,
    "start_time": "2022-08-16T18:02:04.772Z"
   },
   {
    "duration": 6,
    "start_time": "2022-08-16T18:02:09.224Z"
   },
   {
    "duration": 111,
    "start_time": "2022-08-16T18:04:36.269Z"
   },
   {
    "duration": 2,
    "start_time": "2022-08-16T18:05:52.020Z"
   },
   {
    "duration": 6,
    "start_time": "2022-08-16T18:26:40.953Z"
   },
   {
    "duration": 22,
    "start_time": "2022-08-16T18:26:47.971Z"
   },
   {
    "duration": 6,
    "start_time": "2022-08-16T18:26:52.102Z"
   },
   {
    "duration": 10,
    "start_time": "2022-08-16T18:29:33.243Z"
   },
   {
    "duration": 9,
    "start_time": "2022-08-16T18:29:52.576Z"
   },
   {
    "duration": 30,
    "start_time": "2022-08-16T18:31:55.290Z"
   },
   {
    "duration": 7,
    "start_time": "2022-08-16T18:31:55.322Z"
   },
   {
    "duration": 7,
    "start_time": "2022-08-16T18:35:01.103Z"
   },
   {
    "duration": 1665,
    "start_time": "2022-08-16T18:35:08.885Z"
   },
   {
    "duration": 18,
    "start_time": "2022-08-16T18:35:10.552Z"
   },
   {
    "duration": 37,
    "start_time": "2022-08-16T18:35:10.572Z"
   },
   {
    "duration": 74,
    "start_time": "2022-08-16T18:35:10.612Z"
   },
   {
    "duration": 29,
    "start_time": "2022-08-16T18:35:10.687Z"
   },
   {
    "duration": 12,
    "start_time": "2022-08-16T18:35:10.717Z"
   },
   {
    "duration": 25,
    "start_time": "2022-08-16T18:35:10.730Z"
   },
   {
    "duration": 6,
    "start_time": "2022-08-16T18:35:10.756Z"
   },
   {
    "duration": 10,
    "start_time": "2022-08-16T18:35:10.764Z"
   },
   {
    "duration": 47,
    "start_time": "2022-08-19T17:08:08.993Z"
   },
   {
    "duration": 2121,
    "start_time": "2022-08-19T17:08:16.156Z"
   },
   {
    "duration": 28,
    "start_time": "2022-08-19T17:08:18.279Z"
   },
   {
    "duration": 38,
    "start_time": "2022-08-19T17:08:18.309Z"
   },
   {
    "duration": 66,
    "start_time": "2022-08-19T17:08:18.349Z"
   },
   {
    "duration": 21,
    "start_time": "2022-08-19T17:08:18.417Z"
   },
   {
    "duration": 18,
    "start_time": "2022-08-19T17:08:18.440Z"
   },
   {
    "duration": 33,
    "start_time": "2022-08-19T17:08:18.460Z"
   },
   {
    "duration": 17,
    "start_time": "2022-08-19T17:08:18.495Z"
   },
   {
    "duration": 962,
    "start_time": "2022-08-19T17:08:18.514Z"
   },
   {
    "duration": 9,
    "start_time": "2022-08-19T17:08:19.478Z"
   },
   {
    "duration": 1326,
    "start_time": "2022-08-19T17:08:47.356Z"
   },
   {
    "duration": 2958,
    "start_time": "2022-08-19T17:09:04.425Z"
   },
   {
    "duration": 56,
    "start_time": "2022-08-19T17:13:13.327Z"
   },
   {
    "duration": 70,
    "start_time": "2022-08-19T17:13:28.456Z"
   },
   {
    "duration": 8,
    "start_time": "2022-08-19T17:13:48.430Z"
   },
   {
    "duration": 3,
    "start_time": "2022-08-19T17:14:18.672Z"
   },
   {
    "duration": 3,
    "start_time": "2022-08-19T17:14:34.982Z"
   },
   {
    "duration": 1282,
    "start_time": "2022-08-19T17:25:00.409Z"
   },
   {
    "duration": 22,
    "start_time": "2022-08-19T17:25:01.694Z"
   },
   {
    "duration": 25,
    "start_time": "2022-08-19T17:25:01.718Z"
   },
   {
    "duration": 96,
    "start_time": "2022-08-19T17:25:01.745Z"
   },
   {
    "duration": 20,
    "start_time": "2022-08-19T17:25:01.843Z"
   },
   {
    "duration": 26,
    "start_time": "2022-08-19T17:25:01.865Z"
   },
   {
    "duration": 43,
    "start_time": "2022-08-19T17:25:01.893Z"
   },
   {
    "duration": 13,
    "start_time": "2022-08-19T17:25:01.938Z"
   },
   {
    "duration": 1279,
    "start_time": "2022-08-19T17:26:00.795Z"
   },
   {
    "duration": 21,
    "start_time": "2022-08-19T17:26:02.076Z"
   },
   {
    "duration": 28,
    "start_time": "2022-08-19T17:26:02.098Z"
   },
   {
    "duration": 75,
    "start_time": "2022-08-19T17:26:02.128Z"
   },
   {
    "duration": 19,
    "start_time": "2022-08-19T17:26:02.204Z"
   },
   {
    "duration": 30,
    "start_time": "2022-08-19T17:26:02.225Z"
   },
   {
    "duration": 32,
    "start_time": "2022-08-19T17:26:02.256Z"
   },
   {
    "duration": 23,
    "start_time": "2022-08-19T17:26:02.290Z"
   },
   {
    "duration": 1279,
    "start_time": "2022-08-19T17:27:37.678Z"
   },
   {
    "duration": 20,
    "start_time": "2022-08-19T17:27:38.959Z"
   },
   {
    "duration": 28,
    "start_time": "2022-08-19T17:27:38.986Z"
   },
   {
    "duration": 64,
    "start_time": "2022-08-19T17:27:39.016Z"
   },
   {
    "duration": 19,
    "start_time": "2022-08-19T17:27:39.087Z"
   },
   {
    "duration": 21,
    "start_time": "2022-08-19T17:27:39.108Z"
   },
   {
    "duration": 23,
    "start_time": "2022-08-19T17:27:39.131Z"
   },
   {
    "duration": 25,
    "start_time": "2022-08-19T17:27:39.155Z"
   },
   {
    "duration": 239295,
    "start_time": "2022-08-19T17:27:39.181Z"
   },
   {
    "duration": 11,
    "start_time": "2022-08-19T17:31:38.479Z"
   },
   {
    "duration": 77,
    "start_time": "2022-08-19T17:31:45.189Z"
   },
   {
    "duration": 1250,
    "start_time": "2022-08-19T17:34:36.987Z"
   },
   {
    "duration": 19,
    "start_time": "2022-08-19T17:34:38.239Z"
   },
   {
    "duration": 30,
    "start_time": "2022-08-19T17:34:38.259Z"
   },
   {
    "duration": 62,
    "start_time": "2022-08-19T17:34:38.291Z"
   },
   {
    "duration": 18,
    "start_time": "2022-08-19T17:34:38.354Z"
   },
   {
    "duration": 17,
    "start_time": "2022-08-19T17:34:38.374Z"
   },
   {
    "duration": 24,
    "start_time": "2022-08-19T17:34:38.393Z"
   },
   {
    "duration": 6,
    "start_time": "2022-08-19T17:34:38.419Z"
   },
   {
    "duration": 312,
    "start_time": "2022-08-19T17:34:38.427Z"
   },
   {
    "duration": 0,
    "start_time": "2022-08-19T17:34:38.742Z"
   },
   {
    "duration": 96,
    "start_time": "2022-08-19T17:42:36.922Z"
   },
   {
    "duration": 167,
    "start_time": "2022-08-19T17:43:25.499Z"
   },
   {
    "duration": 160,
    "start_time": "2022-08-19T17:43:50.227Z"
   },
   {
    "duration": 1199,
    "start_time": "2022-08-19T17:47:14.137Z"
   },
   {
    "duration": 20,
    "start_time": "2022-08-19T17:47:15.338Z"
   },
   {
    "duration": 35,
    "start_time": "2022-08-19T17:47:15.360Z"
   },
   {
    "duration": 63,
    "start_time": "2022-08-19T17:47:15.396Z"
   },
   {
    "duration": 28,
    "start_time": "2022-08-19T17:47:15.461Z"
   },
   {
    "duration": 8,
    "start_time": "2022-08-19T17:47:15.491Z"
   },
   {
    "duration": 24,
    "start_time": "2022-08-19T17:47:15.500Z"
   },
   {
    "duration": 11,
    "start_time": "2022-08-19T17:47:15.525Z"
   },
   {
    "duration": 1246,
    "start_time": "2022-08-19T17:50:00.135Z"
   },
   {
    "duration": 22,
    "start_time": "2022-08-19T17:50:01.384Z"
   },
   {
    "duration": 39,
    "start_time": "2022-08-19T17:50:01.408Z"
   },
   {
    "duration": 71,
    "start_time": "2022-08-19T17:50:01.449Z"
   },
   {
    "duration": 20,
    "start_time": "2022-08-19T17:50:01.523Z"
   },
   {
    "duration": 23,
    "start_time": "2022-08-19T17:50:01.546Z"
   },
   {
    "duration": 41,
    "start_time": "2022-08-19T17:50:01.571Z"
   },
   {
    "duration": 23,
    "start_time": "2022-08-19T17:50:01.613Z"
   },
   {
    "duration": 240083,
    "start_time": "2022-08-19T17:50:01.638Z"
   },
   {
    "duration": 7,
    "start_time": "2022-08-19T17:54:01.723Z"
   },
   {
    "duration": 67,
    "start_time": "2022-08-19T17:56:17.218Z"
   },
   {
    "duration": 33,
    "start_time": "2022-08-19T17:56:26.957Z"
   },
   {
    "duration": 12,
    "start_time": "2022-08-19T17:56:48.982Z"
   },
   {
    "duration": 6,
    "start_time": "2022-08-19T17:57:23.875Z"
   },
   {
    "duration": 1276,
    "start_time": "2022-08-19T18:02:39.409Z"
   },
   {
    "duration": 20,
    "start_time": "2022-08-19T18:02:40.686Z"
   },
   {
    "duration": 22,
    "start_time": "2022-08-19T18:02:40.708Z"
   },
   {
    "duration": 87,
    "start_time": "2022-08-19T18:02:40.731Z"
   },
   {
    "duration": 19,
    "start_time": "2022-08-19T18:02:40.820Z"
   },
   {
    "duration": 9,
    "start_time": "2022-08-19T18:02:40.840Z"
   },
   {
    "duration": 45,
    "start_time": "2022-08-19T18:02:40.851Z"
   },
   {
    "duration": 7,
    "start_time": "2022-08-19T18:02:40.898Z"
   },
   {
    "duration": 1262,
    "start_time": "2022-08-19T18:03:33.468Z"
   },
   {
    "duration": 20,
    "start_time": "2022-08-19T18:03:34.732Z"
   },
   {
    "duration": 34,
    "start_time": "2022-08-19T18:03:34.753Z"
   },
   {
    "duration": 63,
    "start_time": "2022-08-19T18:03:34.789Z"
   },
   {
    "duration": 18,
    "start_time": "2022-08-19T18:03:34.853Z"
   },
   {
    "duration": 20,
    "start_time": "2022-08-19T18:03:34.872Z"
   },
   {
    "duration": 26,
    "start_time": "2022-08-19T18:03:34.894Z"
   },
   {
    "duration": 6,
    "start_time": "2022-08-19T18:03:34.921Z"
   },
   {
    "duration": 243671,
    "start_time": "2022-08-19T18:03:34.928Z"
   },
   {
    "duration": 9,
    "start_time": "2022-08-19T18:07:38.601Z"
   },
   {
    "duration": 23,
    "start_time": "2022-08-19T18:07:38.611Z"
   },
   {
    "duration": 347,
    "start_time": "2022-08-19T18:08:21.768Z"
   },
   {
    "duration": 16,
    "start_time": "2022-08-19T18:11:14.488Z"
   },
   {
    "duration": 230,
    "start_time": "2022-08-19T18:11:26.210Z"
   },
   {
    "duration": 222,
    "start_time": "2022-08-19T18:11:53.608Z"
   },
   {
    "duration": 238,
    "start_time": "2022-08-19T18:12:48.693Z"
   },
   {
    "duration": 225,
    "start_time": "2022-08-19T18:13:01.174Z"
   },
   {
    "duration": 7,
    "start_time": "2022-08-19T18:13:15.649Z"
   },
   {
    "duration": 17,
    "start_time": "2022-08-19T18:14:19.784Z"
   },
   {
    "duration": 16,
    "start_time": "2022-08-19T18:14:56.989Z"
   },
   {
    "duration": 1226,
    "start_time": "2022-08-19T18:16:14.038Z"
   },
   {
    "duration": 26,
    "start_time": "2022-08-19T18:16:15.266Z"
   },
   {
    "duration": 23,
    "start_time": "2022-08-19T18:16:15.294Z"
   },
   {
    "duration": 82,
    "start_time": "2022-08-19T18:16:15.319Z"
   },
   {
    "duration": 20,
    "start_time": "2022-08-19T18:16:15.403Z"
   },
   {
    "duration": 10,
    "start_time": "2022-08-19T18:16:15.424Z"
   },
   {
    "duration": 24,
    "start_time": "2022-08-19T18:16:15.436Z"
   },
   {
    "duration": 30,
    "start_time": "2022-08-19T18:16:15.461Z"
   },
   {
    "duration": 1217,
    "start_time": "2022-08-19T18:16:48.351Z"
   },
   {
    "duration": 22,
    "start_time": "2022-08-19T18:16:49.569Z"
   },
   {
    "duration": 21,
    "start_time": "2022-08-19T18:16:49.593Z"
   },
   {
    "duration": 75,
    "start_time": "2022-08-19T18:16:49.616Z"
   },
   {
    "duration": 19,
    "start_time": "2022-08-19T18:16:49.692Z"
   },
   {
    "duration": 9,
    "start_time": "2022-08-19T18:16:49.712Z"
   },
   {
    "duration": 24,
    "start_time": "2022-08-19T18:16:49.722Z"
   },
   {
    "duration": 6,
    "start_time": "2022-08-19T18:16:49.748Z"
   },
   {
    "duration": 1232,
    "start_time": "2022-08-19T18:17:23.686Z"
   },
   {
    "duration": 20,
    "start_time": "2022-08-19T18:17:24.920Z"
   },
   {
    "duration": 23,
    "start_time": "2022-08-19T18:17:24.942Z"
   },
   {
    "duration": 80,
    "start_time": "2022-08-19T18:17:24.966Z"
   },
   {
    "duration": 19,
    "start_time": "2022-08-19T18:17:25.048Z"
   },
   {
    "duration": 21,
    "start_time": "2022-08-19T18:17:25.069Z"
   },
   {
    "duration": 23,
    "start_time": "2022-08-19T18:17:25.092Z"
   },
   {
    "duration": 6,
    "start_time": "2022-08-19T18:17:25.117Z"
   },
   {
    "duration": 14,
    "start_time": "2022-08-19T18:17:25.124Z"
   },
   {
    "duration": 5,
    "start_time": "2022-08-19T18:17:25.140Z"
   },
   {
    "duration": 1143,
    "start_time": "2022-08-19T18:21:39.926Z"
   },
   {
    "duration": 25,
    "start_time": "2022-08-19T18:24:22.039Z"
   },
   {
    "duration": 18,
    "start_time": "2022-08-19T18:24:52.698Z"
   },
   {
    "duration": 18,
    "start_time": "2022-08-19T18:25:28.492Z"
   },
   {
    "duration": 19,
    "start_time": "2022-08-19T18:26:04.298Z"
   },
   {
    "duration": 10,
    "start_time": "2022-08-19T18:26:58.415Z"
   },
   {
    "duration": 25,
    "start_time": "2022-08-19T18:27:16.277Z"
   },
   {
    "duration": 1236,
    "start_time": "2022-08-19T18:28:36.245Z"
   },
   {
    "duration": 19,
    "start_time": "2022-08-19T18:28:37.486Z"
   },
   {
    "duration": 25,
    "start_time": "2022-08-19T18:28:37.506Z"
   },
   {
    "duration": 83,
    "start_time": "2022-08-19T18:28:37.534Z"
   },
   {
    "duration": 19,
    "start_time": "2022-08-19T18:28:37.619Z"
   },
   {
    "duration": 8,
    "start_time": "2022-08-19T18:28:37.640Z"
   },
   {
    "duration": 40,
    "start_time": "2022-08-19T18:28:37.649Z"
   },
   {
    "duration": 5,
    "start_time": "2022-08-19T18:28:37.691Z"
   },
   {
    "duration": 11,
    "start_time": "2022-08-19T18:28:37.698Z"
   },
   {
    "duration": 35,
    "start_time": "2022-08-19T18:28:37.710Z"
   },
   {
    "duration": 35,
    "start_time": "2022-08-19T18:31:07.051Z"
   },
   {
    "duration": 33,
    "start_time": "2022-08-19T18:32:44.495Z"
   },
   {
    "duration": 34,
    "start_time": "2022-08-19T18:34:05.949Z"
   },
   {
    "duration": 56,
    "start_time": "2022-08-19T18:40:30.812Z"
   },
   {
    "duration": 35,
    "start_time": "2022-08-19T18:40:43.495Z"
   },
   {
    "duration": 77,
    "start_time": "2022-08-19T18:41:32.650Z"
   },
   {
    "duration": 1236,
    "start_time": "2022-08-19T18:51:49.268Z"
   },
   {
    "duration": 19,
    "start_time": "2022-08-19T18:51:50.506Z"
   },
   {
    "duration": 27,
    "start_time": "2022-08-19T18:51:50.527Z"
   },
   {
    "duration": 78,
    "start_time": "2022-08-19T18:51:50.556Z"
   },
   {
    "duration": 21,
    "start_time": "2022-08-19T18:51:50.635Z"
   },
   {
    "duration": 10,
    "start_time": "2022-08-19T18:51:50.658Z"
   },
   {
    "duration": 38,
    "start_time": "2022-08-19T18:51:50.670Z"
   },
   {
    "duration": 8,
    "start_time": "2022-08-19T18:51:50.709Z"
   },
   {
    "duration": 9,
    "start_time": "2022-08-19T18:51:50.718Z"
   },
   {
    "duration": 105,
    "start_time": "2022-08-19T18:51:50.730Z"
   },
   {
    "duration": 1285,
    "start_time": "2022-08-19T19:05:04.710Z"
   },
   {
    "duration": 26,
    "start_time": "2022-08-19T19:05:05.997Z"
   },
   {
    "duration": 50,
    "start_time": "2022-08-19T19:05:06.025Z"
   },
   {
    "duration": 80,
    "start_time": "2022-08-19T19:05:06.077Z"
   },
   {
    "duration": 18,
    "start_time": "2022-08-19T19:05:06.159Z"
   },
   {
    "duration": 27,
    "start_time": "2022-08-19T19:05:06.181Z"
   },
   {
    "duration": 31,
    "start_time": "2022-08-19T19:05:06.210Z"
   },
   {
    "duration": 22,
    "start_time": "2022-08-19T19:05:06.243Z"
   },
   {
    "duration": 45,
    "start_time": "2022-08-19T19:05:06.267Z"
   },
   {
    "duration": 116,
    "start_time": "2022-08-19T19:05:06.315Z"
   },
   {
    "duration": 19,
    "start_time": "2022-08-19T19:05:55.632Z"
   },
   {
    "duration": 39,
    "start_time": "2022-08-19T19:07:24.145Z"
   },
   {
    "duration": 16,
    "start_time": "2022-08-19T19:09:50.268Z"
   },
   {
    "duration": 17,
    "start_time": "2022-08-19T19:09:55.718Z"
   },
   {
    "duration": 42,
    "start_time": "2022-08-19T19:10:15.484Z"
   },
   {
    "duration": 19,
    "start_time": "2022-08-19T19:11:38.855Z"
   },
   {
    "duration": 28,
    "start_time": "2022-08-19T19:11:56.040Z"
   },
   {
    "duration": 28,
    "start_time": "2022-08-19T19:12:42.108Z"
   },
   {
    "duration": 18,
    "start_time": "2022-08-19T19:12:49.050Z"
   },
   {
    "duration": 54,
    "start_time": "2022-08-19T19:13:17.907Z"
   },
   {
    "duration": 19,
    "start_time": "2022-08-19T19:14:35.795Z"
   },
   {
    "duration": 1304,
    "start_time": "2022-08-19T19:16:15.731Z"
   },
   {
    "duration": 20,
    "start_time": "2022-08-19T19:16:17.037Z"
   },
   {
    "duration": 37,
    "start_time": "2022-08-19T19:16:17.058Z"
   },
   {
    "duration": 71,
    "start_time": "2022-08-19T19:16:17.097Z"
   },
   {
    "duration": 29,
    "start_time": "2022-08-19T19:16:17.170Z"
   },
   {
    "duration": 9,
    "start_time": "2022-08-19T19:16:17.201Z"
   },
   {
    "duration": 24,
    "start_time": "2022-08-19T19:16:17.212Z"
   },
   {
    "duration": 7,
    "start_time": "2022-08-19T19:16:17.238Z"
   },
   {
    "duration": 44,
    "start_time": "2022-08-19T19:16:17.247Z"
   },
   {
    "duration": 47,
    "start_time": "2022-08-19T19:16:17.294Z"
   },
   {
    "duration": 113,
    "start_time": "2022-08-20T07:14:43.102Z"
   },
   {
    "duration": 88,
    "start_time": "2022-08-20T07:14:53.018Z"
   },
   {
    "duration": 80,
    "start_time": "2022-08-20T07:15:22.301Z"
   },
   {
    "duration": 81,
    "start_time": "2022-08-20T07:16:08.237Z"
   },
   {
    "duration": 47,
    "start_time": "2022-08-20T07:17:59.825Z"
   },
   {
    "duration": 1843,
    "start_time": "2022-08-20T07:18:11.775Z"
   },
   {
    "duration": 21,
    "start_time": "2022-08-20T07:18:13.621Z"
   },
   {
    "duration": 44,
    "start_time": "2022-08-20T07:18:13.644Z"
   },
   {
    "duration": 96,
    "start_time": "2022-08-20T07:18:13.690Z"
   },
   {
    "duration": 144,
    "start_time": "2022-08-20T07:18:13.788Z"
   },
   {
    "duration": 9,
    "start_time": "2022-08-20T07:18:13.933Z"
   },
   {
    "duration": 35,
    "start_time": "2022-08-20T07:18:13.944Z"
   },
   {
    "duration": 7,
    "start_time": "2022-08-20T07:18:13.982Z"
   },
   {
    "duration": 11,
    "start_time": "2022-08-20T07:18:13.991Z"
   },
   {
    "duration": 112,
    "start_time": "2022-08-20T07:18:14.004Z"
   },
   {
    "duration": 0,
    "start_time": "2022-08-20T07:18:14.118Z"
   },
   {
    "duration": 53,
    "start_time": "2022-08-20T07:18:55.434Z"
   },
   {
    "duration": 42,
    "start_time": "2022-08-20T07:19:16.234Z"
   },
   {
    "duration": 28,
    "start_time": "2022-08-20T07:20:02.547Z"
   },
   {
    "duration": 23,
    "start_time": "2022-08-20T07:20:45.015Z"
   },
   {
    "duration": 27,
    "start_time": "2022-08-20T07:21:05.453Z"
   },
   {
    "duration": 32,
    "start_time": "2022-08-20T07:22:30.871Z"
   },
   {
    "duration": 22,
    "start_time": "2022-08-20T07:22:49.391Z"
   },
   {
    "duration": 17,
    "start_time": "2022-08-20T07:23:55.793Z"
   },
   {
    "duration": 18,
    "start_time": "2022-08-20T07:25:25.729Z"
   },
   {
    "duration": 17,
    "start_time": "2022-08-20T07:26:42.119Z"
   },
   {
    "duration": 20,
    "start_time": "2022-08-20T07:27:06.773Z"
   },
   {
    "duration": 36,
    "start_time": "2022-08-20T07:28:13.062Z"
   },
   {
    "duration": 30,
    "start_time": "2022-08-20T07:29:00.178Z"
   },
   {
    "duration": 20,
    "start_time": "2022-08-20T07:29:05.630Z"
   },
   {
    "duration": 145,
    "start_time": "2022-08-20T07:29:31.072Z"
   },
   {
    "duration": 16,
    "start_time": "2022-08-20T07:29:42.042Z"
   },
   {
    "duration": 27,
    "start_time": "2022-08-20T07:29:52.134Z"
   },
   {
    "duration": 93,
    "start_time": "2022-08-20T07:30:12.534Z"
   },
   {
    "duration": 16,
    "start_time": "2022-08-20T07:30:18.315Z"
   },
   {
    "duration": 8,
    "start_time": "2022-08-20T07:31:57.176Z"
   },
   {
    "duration": 17,
    "start_time": "2022-08-20T07:34:30.898Z"
   },
   {
    "duration": 1406,
    "start_time": "2022-08-20T07:39:31.399Z"
   },
   {
    "duration": 21,
    "start_time": "2022-08-20T07:39:32.808Z"
   },
   {
    "duration": 41,
    "start_time": "2022-08-20T07:39:32.831Z"
   },
   {
    "duration": 83,
    "start_time": "2022-08-20T07:39:32.874Z"
   },
   {
    "duration": 20,
    "start_time": "2022-08-20T07:39:32.969Z"
   },
   {
    "duration": 10,
    "start_time": "2022-08-20T07:39:32.991Z"
   },
   {
    "duration": 27,
    "start_time": "2022-08-20T07:39:33.003Z"
   },
   {
    "duration": 37,
    "start_time": "2022-08-20T07:39:33.032Z"
   },
   {
    "duration": 12,
    "start_time": "2022-08-20T07:39:33.071Z"
   },
   {
    "duration": 44,
    "start_time": "2022-08-20T07:39:33.085Z"
   },
   {
    "duration": 9,
    "start_time": "2022-08-20T07:39:33.132Z"
   },
   {
    "duration": 87,
    "start_time": "2022-08-20T07:39:33.168Z"
   },
   {
    "duration": 7,
    "start_time": "2022-08-20T07:40:58.261Z"
   },
   {
    "duration": 24,
    "start_time": "2022-08-20T07:41:51.828Z"
   },
   {
    "duration": 7,
    "start_time": "2022-08-20T07:44:34.968Z"
   },
   {
    "duration": 7,
    "start_time": "2022-08-20T07:44:39.247Z"
   },
   {
    "duration": 11,
    "start_time": "2022-08-20T07:45:17.925Z"
   },
   {
    "duration": 54,
    "start_time": "2022-08-21T13:07:23.048Z"
   },
   {
    "duration": 1542,
    "start_time": "2022-08-21T13:07:32.390Z"
   },
   {
    "duration": 29,
    "start_time": "2022-08-21T13:07:33.934Z"
   },
   {
    "duration": 42,
    "start_time": "2022-08-21T13:07:33.965Z"
   },
   {
    "duration": 77,
    "start_time": "2022-08-21T13:07:34.009Z"
   },
   {
    "duration": 34,
    "start_time": "2022-08-21T13:07:34.088Z"
   },
   {
    "duration": 10,
    "start_time": "2022-08-21T13:07:34.124Z"
   },
   {
    "duration": 22,
    "start_time": "2022-08-21T13:07:34.136Z"
   },
   {
    "duration": 6,
    "start_time": "2022-08-21T13:07:34.160Z"
   },
   {
    "duration": 41,
    "start_time": "2022-08-21T13:07:34.168Z"
   },
   {
    "duration": 7,
    "start_time": "2022-08-21T13:07:34.211Z"
   },
   {
    "duration": 6,
    "start_time": "2022-08-21T13:07:34.219Z"
   },
   {
    "duration": 40,
    "start_time": "2022-08-21T13:07:34.227Z"
   },
   {
    "duration": 41,
    "start_time": "2022-08-21T13:07:34.269Z"
   },
   {
    "duration": 7,
    "start_time": "2022-08-21T13:07:34.312Z"
   },
   {
    "duration": 18,
    "start_time": "2022-08-21T13:07:34.321Z"
   },
   {
    "duration": 4,
    "start_time": "2022-08-21T13:07:34.341Z"
   },
   {
    "duration": 67,
    "start_time": "2022-08-21T13:24:44.462Z"
   },
   {
    "duration": 2,
    "start_time": "2022-08-21T13:28:29.469Z"
   },
   {
    "duration": 10,
    "start_time": "2022-08-21T13:28:58.543Z"
   },
   {
    "duration": 11,
    "start_time": "2022-08-21T13:29:11.914Z"
   },
   {
    "duration": 9,
    "start_time": "2022-08-21T13:29:43.315Z"
   },
   {
    "duration": 7,
    "start_time": "2022-08-21T13:30:16.637Z"
   },
   {
    "duration": 7,
    "start_time": "2022-08-21T13:30:24.562Z"
   },
   {
    "duration": 6,
    "start_time": "2022-08-21T13:30:35.308Z"
   },
   {
    "duration": 3,
    "start_time": "2022-08-21T13:35:05.424Z"
   },
   {
    "duration": 6,
    "start_time": "2022-08-21T13:41:37.557Z"
   },
   {
    "duration": 6,
    "start_time": "2022-08-21T13:43:50.596Z"
   },
   {
    "duration": 4,
    "start_time": "2022-08-21T13:44:01.599Z"
   },
   {
    "duration": 4,
    "start_time": "2022-08-21T13:46:40.625Z"
   },
   {
    "duration": 6,
    "start_time": "2022-08-21T13:47:09.177Z"
   },
   {
    "duration": 5,
    "start_time": "2022-08-21T13:52:20.445Z"
   },
   {
    "duration": 5,
    "start_time": "2022-08-21T13:53:33.648Z"
   },
   {
    "duration": 5,
    "start_time": "2022-08-21T13:53:46.450Z"
   },
   {
    "duration": 5,
    "start_time": "2022-08-21T13:54:10.947Z"
   },
   {
    "duration": 4,
    "start_time": "2022-08-21T13:54:12.508Z"
   },
   {
    "duration": 4,
    "start_time": "2022-08-21T13:54:12.939Z"
   },
   {
    "duration": 6,
    "start_time": "2022-08-21T13:57:38.854Z"
   },
   {
    "duration": 6,
    "start_time": "2022-08-21T13:58:06.429Z"
   },
   {
    "duration": 189,
    "start_time": "2022-08-21T14:35:44.876Z"
   },
   {
    "duration": 147,
    "start_time": "2022-08-21T14:35:49.717Z"
   },
   {
    "duration": 146,
    "start_time": "2022-08-21T14:36:14.501Z"
   },
   {
    "duration": 146,
    "start_time": "2022-08-21T14:36:25.197Z"
   },
   {
    "duration": 144,
    "start_time": "2022-08-21T14:36:34.434Z"
   },
   {
    "duration": 15,
    "start_time": "2022-08-21T14:51:56.876Z"
   },
   {
    "duration": 1167,
    "start_time": "2022-08-21T14:52:55.814Z"
   },
   {
    "duration": 4,
    "start_time": "2022-08-21T14:53:14.969Z"
   },
   {
    "duration": 1160,
    "start_time": "2022-08-21T14:53:21.446Z"
   },
   {
    "duration": 1345,
    "start_time": "2022-08-21T14:53:49.461Z"
   },
   {
    "duration": 1175,
    "start_time": "2022-08-21T14:54:10.604Z"
   },
   {
    "duration": 4,
    "start_time": "2022-08-21T14:54:32.061Z"
   },
   {
    "duration": 1257,
    "start_time": "2022-08-21T14:54:37.644Z"
   },
   {
    "duration": 2,
    "start_time": "2022-08-21T14:54:48.444Z"
   },
   {
    "duration": 53,
    "start_time": "2022-08-21T15:00:36.517Z"
   },
   {
    "duration": 92,
    "start_time": "2022-08-21T15:01:12.507Z"
   },
   {
    "duration": 53,
    "start_time": "2022-08-21T15:01:28.207Z"
   },
   {
    "duration": 65,
    "start_time": "2022-08-21T15:03:47.365Z"
   },
   {
    "duration": 244,
    "start_time": "2022-08-21T15:04:02.523Z"
   },
   {
    "duration": 4,
    "start_time": "2022-08-21T15:04:14.809Z"
   },
   {
    "duration": 62,
    "start_time": "2022-08-21T15:04:59.562Z"
   },
   {
    "duration": 4,
    "start_time": "2022-08-21T15:05:38.845Z"
   },
   {
    "duration": 51,
    "start_time": "2022-08-21T15:06:09.694Z"
   },
   {
    "duration": 51,
    "start_time": "2022-08-21T15:07:22.824Z"
   },
   {
    "duration": 100,
    "start_time": "2022-08-21T15:08:02.284Z"
   },
   {
    "duration": 313,
    "start_time": "2022-08-21T15:08:08.001Z"
   },
   {
    "duration": 46,
    "start_time": "2022-08-21T15:09:15.605Z"
   },
   {
    "duration": 49,
    "start_time": "2022-08-21T15:10:01.318Z"
   },
   {
    "duration": 257,
    "start_time": "2022-08-21T15:13:52.649Z"
   },
   {
    "duration": 5,
    "start_time": "2022-08-21T15:13:56.403Z"
   },
   {
    "duration": 262,
    "start_time": "2022-08-21T15:14:05.320Z"
   },
   {
    "duration": 4,
    "start_time": "2022-08-21T15:14:09.702Z"
   },
   {
    "duration": 273,
    "start_time": "2022-08-21T15:14:53.089Z"
   },
   {
    "duration": 341,
    "start_time": "2022-08-21T15:15:17.013Z"
   },
   {
    "duration": 5,
    "start_time": "2022-08-21T15:15:23.817Z"
   },
   {
    "duration": 62,
    "start_time": "2022-08-21T16:53:54.424Z"
   },
   {
    "duration": 1649,
    "start_time": "2022-08-21T16:54:04.074Z"
   },
   {
    "duration": 19,
    "start_time": "2022-08-21T16:54:05.725Z"
   },
   {
    "duration": 21,
    "start_time": "2022-08-21T16:54:05.745Z"
   },
   {
    "duration": 82,
    "start_time": "2022-08-21T16:54:05.768Z"
   },
   {
    "duration": 17,
    "start_time": "2022-08-21T16:54:05.852Z"
   },
   {
    "duration": 8,
    "start_time": "2022-08-21T16:54:05.870Z"
   },
   {
    "duration": 36,
    "start_time": "2022-08-21T16:54:05.880Z"
   },
   {
    "duration": 10,
    "start_time": "2022-08-21T16:54:05.917Z"
   },
   {
    "duration": 9,
    "start_time": "2022-08-21T16:54:05.929Z"
   },
   {
    "duration": 7,
    "start_time": "2022-08-21T16:54:05.941Z"
   },
   {
    "duration": 7,
    "start_time": "2022-08-21T16:54:05.949Z"
   },
   {
    "duration": 65,
    "start_time": "2022-08-21T16:54:05.958Z"
   },
   {
    "duration": 9,
    "start_time": "2022-08-21T16:54:06.025Z"
   },
   {
    "duration": 7,
    "start_time": "2022-08-21T16:54:06.035Z"
   },
   {
    "duration": 15,
    "start_time": "2022-08-21T16:54:06.044Z"
   },
   {
    "duration": 6,
    "start_time": "2022-08-21T16:54:06.061Z"
   },
   {
    "duration": 33,
    "start_time": "2022-08-21T16:54:06.068Z"
   },
   {
    "duration": 14,
    "start_time": "2022-08-21T16:54:06.103Z"
   },
   {
    "duration": 13,
    "start_time": "2022-08-21T16:54:06.119Z"
   },
   {
    "duration": 217,
    "start_time": "2022-08-21T16:54:06.134Z"
   },
   {
    "duration": 276,
    "start_time": "2022-08-21T16:54:06.353Z"
   },
   {
    "duration": 1155,
    "start_time": "2022-08-21T16:56:39.046Z"
   },
   {
    "duration": 20,
    "start_time": "2022-08-21T16:56:40.202Z"
   },
   {
    "duration": 22,
    "start_time": "2022-08-21T16:56:40.224Z"
   },
   {
    "duration": 82,
    "start_time": "2022-08-21T16:56:40.248Z"
   },
   {
    "duration": 19,
    "start_time": "2022-08-21T16:56:40.332Z"
   },
   {
    "duration": 9,
    "start_time": "2022-08-21T16:56:40.353Z"
   },
   {
    "duration": 41,
    "start_time": "2022-08-21T16:56:40.364Z"
   },
   {
    "duration": 9,
    "start_time": "2022-08-21T16:56:40.407Z"
   },
   {
    "duration": 10,
    "start_time": "2022-08-21T16:56:40.418Z"
   },
   {
    "duration": 8,
    "start_time": "2022-08-21T16:56:40.430Z"
   },
   {
    "duration": 7,
    "start_time": "2022-08-21T16:56:40.439Z"
   },
   {
    "duration": 65,
    "start_time": "2022-08-21T16:56:40.447Z"
   },
   {
    "duration": 6,
    "start_time": "2022-08-21T16:56:40.514Z"
   },
   {
    "duration": 6,
    "start_time": "2022-08-21T16:56:40.522Z"
   },
   {
    "duration": 14,
    "start_time": "2022-08-21T16:56:40.529Z"
   },
   {
    "duration": 5,
    "start_time": "2022-08-21T16:56:40.544Z"
   },
   {
    "duration": 5,
    "start_time": "2022-08-21T16:56:40.550Z"
   },
   {
    "duration": 6,
    "start_time": "2022-08-21T16:56:40.556Z"
   },
   {
    "duration": 7,
    "start_time": "2022-08-21T16:56:40.563Z"
   },
   {
    "duration": 234,
    "start_time": "2022-08-21T16:56:40.571Z"
   },
   {
    "duration": 282,
    "start_time": "2022-08-21T16:56:40.807Z"
   },
   {
    "duration": 16178,
    "start_time": "2022-08-21T16:56:41.091Z"
   },
   {
    "duration": 1205,
    "start_time": "2022-08-21T16:59:40.773Z"
   },
   {
    "duration": 19,
    "start_time": "2022-08-21T16:59:41.980Z"
   },
   {
    "duration": 20,
    "start_time": "2022-08-21T16:59:42.000Z"
   },
   {
    "duration": 77,
    "start_time": "2022-08-21T16:59:42.021Z"
   },
   {
    "duration": 18,
    "start_time": "2022-08-21T16:59:42.100Z"
   },
   {
    "duration": 8,
    "start_time": "2022-08-21T16:59:42.119Z"
   },
   {
    "duration": 23,
    "start_time": "2022-08-21T16:59:42.128Z"
   },
   {
    "duration": 5,
    "start_time": "2022-08-21T16:59:42.152Z"
   },
   {
    "duration": 10,
    "start_time": "2022-08-21T16:59:42.159Z"
   },
   {
    "duration": 32,
    "start_time": "2022-08-21T16:59:42.170Z"
   },
   {
    "duration": 6,
    "start_time": "2022-08-21T16:59:42.203Z"
   },
   {
    "duration": 36,
    "start_time": "2022-08-21T16:59:42.211Z"
   },
   {
    "duration": 6,
    "start_time": "2022-08-21T16:59:42.248Z"
   },
   {
    "duration": 5,
    "start_time": "2022-08-21T16:59:42.257Z"
   },
   {
    "duration": 40,
    "start_time": "2022-08-21T16:59:42.264Z"
   },
   {
    "duration": 5,
    "start_time": "2022-08-21T16:59:42.305Z"
   },
   {
    "duration": 5,
    "start_time": "2022-08-21T16:59:42.312Z"
   },
   {
    "duration": 11,
    "start_time": "2022-08-21T16:59:42.319Z"
   },
   {
    "duration": 7,
    "start_time": "2022-08-21T16:59:42.331Z"
   },
   {
    "duration": 212,
    "start_time": "2022-08-21T16:59:42.339Z"
   },
   {
    "duration": 267,
    "start_time": "2022-08-21T16:59:42.553Z"
   },
   {
    "duration": 15355,
    "start_time": "2022-08-21T16:59:42.822Z"
   },
   {
    "duration": 1242,
    "start_time": "2022-08-21T17:00:24.567Z"
   },
   {
    "duration": 18,
    "start_time": "2022-08-21T17:00:25.811Z"
   },
   {
    "duration": 20,
    "start_time": "2022-08-21T17:00:25.830Z"
   },
   {
    "duration": 81,
    "start_time": "2022-08-21T17:00:25.852Z"
   },
   {
    "duration": 22,
    "start_time": "2022-08-21T17:00:25.935Z"
   },
   {
    "duration": 18,
    "start_time": "2022-08-21T17:00:25.959Z"
   },
   {
    "duration": 36,
    "start_time": "2022-08-21T17:00:25.979Z"
   },
   {
    "duration": 6,
    "start_time": "2022-08-21T17:00:26.017Z"
   },
   {
    "duration": 12,
    "start_time": "2022-08-21T17:00:26.024Z"
   },
   {
    "duration": 7,
    "start_time": "2022-08-21T17:00:26.037Z"
   },
   {
    "duration": 9,
    "start_time": "2022-08-21T17:00:26.046Z"
   },
   {
    "duration": 79,
    "start_time": "2022-08-21T17:00:26.057Z"
   },
   {
    "duration": 7,
    "start_time": "2022-08-21T17:00:26.138Z"
   },
   {
    "duration": 6,
    "start_time": "2022-08-21T17:00:26.148Z"
   },
   {
    "duration": 16,
    "start_time": "2022-08-21T17:00:26.156Z"
   },
   {
    "duration": 27,
    "start_time": "2022-08-21T17:00:26.173Z"
   },
   {
    "duration": 8,
    "start_time": "2022-08-21T17:00:26.201Z"
   },
   {
    "duration": 4,
    "start_time": "2022-08-21T17:00:26.210Z"
   },
   {
    "duration": 4,
    "start_time": "2022-08-21T17:00:26.215Z"
   },
   {
    "duration": 222,
    "start_time": "2022-08-21T17:00:26.221Z"
   },
   {
    "duration": 270,
    "start_time": "2022-08-21T17:00:26.445Z"
   },
   {
    "duration": 1175,
    "start_time": "2022-08-21T17:00:50.415Z"
   },
   {
    "duration": 19,
    "start_time": "2022-08-21T17:00:51.592Z"
   },
   {
    "duration": 21,
    "start_time": "2022-08-21T17:00:51.612Z"
   },
   {
    "duration": 73,
    "start_time": "2022-08-21T17:00:51.635Z"
   },
   {
    "duration": 17,
    "start_time": "2022-08-21T17:00:51.710Z"
   },
   {
    "duration": 9,
    "start_time": "2022-08-21T17:00:51.729Z"
   },
   {
    "duration": 22,
    "start_time": "2022-08-21T17:00:51.739Z"
   },
   {
    "duration": 7,
    "start_time": "2022-08-21T17:00:51.762Z"
   },
   {
    "duration": 8,
    "start_time": "2022-08-21T17:00:51.798Z"
   },
   {
    "duration": 7,
    "start_time": "2022-08-21T17:00:51.808Z"
   },
   {
    "duration": 7,
    "start_time": "2022-08-21T17:00:51.817Z"
   },
   {
    "duration": 36,
    "start_time": "2022-08-21T17:00:51.826Z"
   },
   {
    "duration": 7,
    "start_time": "2022-08-21T17:00:51.863Z"
   },
   {
    "duration": 30,
    "start_time": "2022-08-21T17:00:51.871Z"
   },
   {
    "duration": 14,
    "start_time": "2022-08-21T17:00:51.902Z"
   },
   {
    "duration": 9,
    "start_time": "2022-08-21T17:00:51.917Z"
   },
   {
    "duration": 4,
    "start_time": "2022-08-21T17:00:51.928Z"
   },
   {
    "duration": 5,
    "start_time": "2022-08-21T17:00:51.933Z"
   },
   {
    "duration": 8,
    "start_time": "2022-08-21T17:00:51.939Z"
   },
   {
    "duration": 237,
    "start_time": "2022-08-21T17:00:51.948Z"
   },
   {
    "duration": 267,
    "start_time": "2022-08-21T17:00:52.187Z"
   },
   {
    "duration": 15484,
    "start_time": "2022-08-21T17:00:52.456Z"
   },
   {
    "duration": 1217,
    "start_time": "2022-08-21T17:01:48.517Z"
   },
   {
    "duration": 17,
    "start_time": "2022-08-21T17:01:49.736Z"
   },
   {
    "duration": 21,
    "start_time": "2022-08-21T17:01:49.754Z"
   },
   {
    "duration": 83,
    "start_time": "2022-08-21T17:01:49.777Z"
   },
   {
    "duration": 21,
    "start_time": "2022-08-21T17:01:49.862Z"
   },
   {
    "duration": 10,
    "start_time": "2022-08-21T17:01:49.898Z"
   },
   {
    "duration": 25,
    "start_time": "2022-08-21T17:01:49.910Z"
   },
   {
    "duration": 7,
    "start_time": "2022-08-21T17:01:49.937Z"
   },
   {
    "duration": 9,
    "start_time": "2022-08-21T17:01:49.945Z"
   },
   {
    "duration": 9,
    "start_time": "2022-08-21T17:01:49.957Z"
   },
   {
    "duration": 36,
    "start_time": "2022-08-21T17:01:49.967Z"
   },
   {
    "duration": 44,
    "start_time": "2022-08-21T17:01:50.005Z"
   },
   {
    "duration": 7,
    "start_time": "2022-08-21T17:01:50.050Z"
   },
   {
    "duration": 8,
    "start_time": "2022-08-21T17:01:50.058Z"
   },
   {
    "duration": 34,
    "start_time": "2022-08-21T17:01:50.068Z"
   },
   {
    "duration": 6,
    "start_time": "2022-08-21T17:01:50.103Z"
   },
   {
    "duration": 6,
    "start_time": "2022-08-21T17:01:50.111Z"
   },
   {
    "duration": 6,
    "start_time": "2022-08-21T17:01:50.118Z"
   },
   {
    "duration": 6,
    "start_time": "2022-08-21T17:01:50.125Z"
   },
   {
    "duration": 231,
    "start_time": "2022-08-21T17:01:50.132Z"
   },
   {
    "duration": 286,
    "start_time": "2022-08-21T17:01:50.364Z"
   },
   {
    "duration": 15220,
    "start_time": "2022-08-21T17:01:50.652Z"
   },
   {
    "duration": 140271,
    "start_time": "2022-08-21T17:02:05.874Z"
   },
   {
    "duration": 1247,
    "start_time": "2022-08-21T17:05:35.211Z"
   },
   {
    "duration": 17,
    "start_time": "2022-08-21T17:05:36.461Z"
   },
   {
    "duration": 32,
    "start_time": "2022-08-21T17:05:36.480Z"
   },
   {
    "duration": 66,
    "start_time": "2022-08-21T17:05:36.514Z"
   },
   {
    "duration": 33,
    "start_time": "2022-08-21T17:05:36.582Z"
   },
   {
    "duration": 9,
    "start_time": "2022-08-21T17:05:36.616Z"
   },
   {
    "duration": 23,
    "start_time": "2022-08-21T17:05:36.626Z"
   },
   {
    "duration": 15,
    "start_time": "2022-08-21T17:05:36.651Z"
   },
   {
    "duration": 32,
    "start_time": "2022-08-21T17:05:36.668Z"
   },
   {
    "duration": 8,
    "start_time": "2022-08-21T17:05:36.702Z"
   },
   {
    "duration": 7,
    "start_time": "2022-08-21T17:05:36.712Z"
   },
   {
    "duration": 41,
    "start_time": "2022-08-21T17:05:36.720Z"
   },
   {
    "duration": 7,
    "start_time": "2022-08-21T17:05:36.763Z"
   },
   {
    "duration": 7,
    "start_time": "2022-08-21T17:05:36.797Z"
   },
   {
    "duration": 17,
    "start_time": "2022-08-21T17:05:36.806Z"
   },
   {
    "duration": 5,
    "start_time": "2022-08-21T17:05:36.825Z"
   },
   {
    "duration": 5,
    "start_time": "2022-08-21T17:05:36.832Z"
   },
   {
    "duration": 4,
    "start_time": "2022-08-21T17:05:36.839Z"
   },
   {
    "duration": 7,
    "start_time": "2022-08-21T17:05:36.845Z"
   },
   {
    "duration": 241,
    "start_time": "2022-08-21T17:05:36.854Z"
   },
   {
    "duration": 276,
    "start_time": "2022-08-21T17:05:37.097Z"
   },
   {
    "duration": 194,
    "start_time": "2022-08-21T17:05:37.374Z"
   },
   {
    "duration": 190,
    "start_time": "2022-08-21T17:05:37.570Z"
   },
   {
    "duration": 198,
    "start_time": "2022-08-21T17:05:37.761Z"
   },
   {
    "duration": 1762,
    "start_time": "2022-08-21T17:05:37.961Z"
   },
   {
    "duration": 246,
    "start_time": "2022-08-21T17:05:39.725Z"
   },
   {
    "duration": 12931,
    "start_time": "2022-08-21T17:05:39.973Z"
   },
   {
    "duration": 196,
    "start_time": "2022-08-21T17:05:52.906Z"
   },
   {
    "duration": 6794,
    "start_time": "2022-08-21T17:05:53.104Z"
   },
   {
    "duration": 1175,
    "start_time": "2022-08-21T17:07:22.655Z"
   },
   {
    "duration": 20,
    "start_time": "2022-08-21T17:07:23.833Z"
   },
   {
    "duration": 28,
    "start_time": "2022-08-21T17:07:23.855Z"
   },
   {
    "duration": 68,
    "start_time": "2022-08-21T17:07:23.898Z"
   },
   {
    "duration": 30,
    "start_time": "2022-08-21T17:07:23.968Z"
   },
   {
    "duration": 9,
    "start_time": "2022-08-21T17:07:24.000Z"
   },
   {
    "duration": 24,
    "start_time": "2022-08-21T17:07:24.010Z"
   },
   {
    "duration": 6,
    "start_time": "2022-08-21T17:07:24.036Z"
   },
   {
    "duration": 10,
    "start_time": "2022-08-21T17:07:24.043Z"
   },
   {
    "duration": 7,
    "start_time": "2022-08-21T17:07:24.054Z"
   },
   {
    "duration": 5,
    "start_time": "2022-08-21T17:07:24.063Z"
   },
   {
    "duration": 38,
    "start_time": "2022-08-21T17:07:24.098Z"
   },
   {
    "duration": 6,
    "start_time": "2022-08-21T17:07:24.138Z"
   },
   {
    "duration": 9,
    "start_time": "2022-08-21T17:07:24.147Z"
   },
   {
    "duration": 16,
    "start_time": "2022-08-21T17:07:24.157Z"
   },
   {
    "duration": 23,
    "start_time": "2022-08-21T17:07:24.175Z"
   },
   {
    "duration": 4,
    "start_time": "2022-08-21T17:07:24.199Z"
   },
   {
    "duration": 4,
    "start_time": "2022-08-21T17:07:24.205Z"
   },
   {
    "duration": 5,
    "start_time": "2022-08-21T17:07:24.210Z"
   },
   {
    "duration": 243,
    "start_time": "2022-08-21T17:07:24.216Z"
   },
   {
    "duration": 323,
    "start_time": "2022-08-21T17:07:24.461Z"
   },
   {
    "duration": 2,
    "start_time": "2022-08-21T17:07:24.786Z"
   },
   {
    "duration": 4,
    "start_time": "2022-08-21T17:07:24.789Z"
   },
   {
    "duration": 2,
    "start_time": "2022-08-21T17:07:24.798Z"
   },
   {
    "duration": 6,
    "start_time": "2022-08-21T17:07:24.801Z"
   },
   {
    "duration": 7,
    "start_time": "2022-08-21T17:07:24.808Z"
   },
   {
    "duration": 5,
    "start_time": "2022-08-21T17:07:24.816Z"
   },
   {
    "duration": 4,
    "start_time": "2022-08-21T17:07:24.823Z"
   },
   {
    "duration": 6,
    "start_time": "2022-08-21T17:07:24.828Z"
   },
   {
    "duration": 1195,
    "start_time": "2022-08-21T17:07:47.116Z"
   },
   {
    "duration": 18,
    "start_time": "2022-08-21T17:07:48.313Z"
   },
   {
    "duration": 21,
    "start_time": "2022-08-21T17:07:48.333Z"
   },
   {
    "duration": 84,
    "start_time": "2022-08-21T17:07:48.356Z"
   },
   {
    "duration": 18,
    "start_time": "2022-08-21T17:07:48.442Z"
   },
   {
    "duration": 8,
    "start_time": "2022-08-21T17:07:48.461Z"
   },
   {
    "duration": 39,
    "start_time": "2022-08-21T17:07:48.471Z"
   },
   {
    "duration": 7,
    "start_time": "2022-08-21T17:07:48.511Z"
   },
   {
    "duration": 18,
    "start_time": "2022-08-21T17:07:48.519Z"
   },
   {
    "duration": 6,
    "start_time": "2022-08-21T17:07:48.539Z"
   },
   {
    "duration": 5,
    "start_time": "2022-08-21T17:07:48.547Z"
   },
   {
    "duration": 50,
    "start_time": "2022-08-21T17:07:48.554Z"
   },
   {
    "duration": 8,
    "start_time": "2022-08-21T17:07:48.605Z"
   },
   {
    "duration": 7,
    "start_time": "2022-08-21T17:07:48.615Z"
   },
   {
    "duration": 25,
    "start_time": "2022-08-21T17:07:48.624Z"
   },
   {
    "duration": 5,
    "start_time": "2022-08-21T17:07:48.651Z"
   },
   {
    "duration": 5,
    "start_time": "2022-08-21T17:07:48.658Z"
   },
   {
    "duration": 4,
    "start_time": "2022-08-21T17:07:48.664Z"
   },
   {
    "duration": 5,
    "start_time": "2022-08-21T17:07:48.669Z"
   },
   {
    "duration": 218,
    "start_time": "2022-08-21T17:07:48.697Z"
   },
   {
    "duration": 281,
    "start_time": "2022-08-21T17:07:48.917Z"
   },
   {
    "duration": 3,
    "start_time": "2022-08-21T17:07:49.199Z"
   },
   {
    "duration": 8,
    "start_time": "2022-08-21T17:07:49.203Z"
   },
   {
    "duration": 4,
    "start_time": "2022-08-21T17:07:49.213Z"
   },
   {
    "duration": 4,
    "start_time": "2022-08-21T17:07:49.219Z"
   },
   {
    "duration": 6,
    "start_time": "2022-08-21T17:07:49.225Z"
   },
   {
    "duration": 4,
    "start_time": "2022-08-21T17:07:49.232Z"
   },
   {
    "duration": 6,
    "start_time": "2022-08-21T17:07:49.237Z"
   },
   {
    "duration": 4,
    "start_time": "2022-08-21T17:07:49.245Z"
   },
   {
    "duration": 1237,
    "start_time": "2022-08-21T17:08:03.448Z"
   },
   {
    "duration": 19,
    "start_time": "2022-08-21T17:08:04.686Z"
   },
   {
    "duration": 20,
    "start_time": "2022-08-21T17:08:04.707Z"
   },
   {
    "duration": 77,
    "start_time": "2022-08-21T17:08:04.728Z"
   },
   {
    "duration": 18,
    "start_time": "2022-08-21T17:08:04.807Z"
   },
   {
    "duration": 9,
    "start_time": "2022-08-21T17:08:04.826Z"
   },
   {
    "duration": 22,
    "start_time": "2022-08-21T17:08:04.836Z"
   },
   {
    "duration": 11,
    "start_time": "2022-08-21T17:08:04.860Z"
   },
   {
    "duration": 31,
    "start_time": "2022-08-21T17:08:04.873Z"
   },
   {
    "duration": 7,
    "start_time": "2022-08-21T17:08:04.905Z"
   },
   {
    "duration": 7,
    "start_time": "2022-08-21T17:08:04.913Z"
   },
   {
    "duration": 48,
    "start_time": "2022-08-21T17:08:04.922Z"
   },
   {
    "duration": 33,
    "start_time": "2022-08-21T17:08:04.972Z"
   },
   {
    "duration": 6,
    "start_time": "2022-08-21T17:08:05.007Z"
   },
   {
    "duration": 17,
    "start_time": "2022-08-21T17:08:05.014Z"
   },
   {
    "duration": 5,
    "start_time": "2022-08-21T17:08:05.033Z"
   },
   {
    "duration": 10,
    "start_time": "2022-08-21T17:08:05.039Z"
   },
   {
    "duration": 4,
    "start_time": "2022-08-21T17:08:05.050Z"
   },
   {
    "duration": 5,
    "start_time": "2022-08-21T17:08:05.055Z"
   },
   {
    "duration": 242,
    "start_time": "2022-08-21T17:08:05.061Z"
   },
   {
    "duration": 273,
    "start_time": "2022-08-21T17:08:05.304Z"
   },
   {
    "duration": 2,
    "start_time": "2022-08-21T17:08:05.578Z"
   },
   {
    "duration": 13,
    "start_time": "2022-08-21T17:08:05.581Z"
   },
   {
    "duration": 5,
    "start_time": "2022-08-21T17:08:05.595Z"
   },
   {
    "duration": 4,
    "start_time": "2022-08-21T17:08:05.601Z"
   },
   {
    "duration": 3,
    "start_time": "2022-08-21T17:08:05.606Z"
   },
   {
    "duration": 4,
    "start_time": "2022-08-21T17:08:05.610Z"
   },
   {
    "duration": 4,
    "start_time": "2022-08-21T17:08:05.615Z"
   },
   {
    "duration": 18,
    "start_time": "2022-08-21T17:08:05.620Z"
   },
   {
    "duration": 9,
    "start_time": "2022-08-21T17:08:05.639Z"
   },
   {
    "duration": 59613,
    "start_time": "2022-08-21T17:08:05.649Z"
   },
   {
    "duration": 9259,
    "start_time": "2022-08-21T17:09:05.264Z"
   },
   {
    "duration": 397,
    "start_time": "2022-08-21T17:09:14.525Z"
   },
   {
    "duration": 197,
    "start_time": "2022-08-21T17:09:14.923Z"
   },
   {
    "duration": 177,
    "start_time": "2022-08-21T17:16:27.706Z"
   },
   {
    "duration": 167,
    "start_time": "2022-08-21T17:16:33.236Z"
   },
   {
    "duration": 510,
    "start_time": "2022-08-21T17:16:38.084Z"
   },
   {
    "duration": 1850,
    "start_time": "2022-08-21T17:16:43.446Z"
   },
   {
    "duration": 183,
    "start_time": "2022-08-21T17:16:53.694Z"
   },
   {
    "duration": 12772,
    "start_time": "2022-08-21T17:16:57.994Z"
   },
   {
    "duration": 188,
    "start_time": "2022-08-21T17:17:30.157Z"
   },
   {
    "duration": 7129,
    "start_time": "2022-08-21T17:17:33.572Z"
   },
   {
    "duration": 68307,
    "start_time": "2022-08-21T17:21:16.015Z"
   },
   {
    "duration": 1938,
    "start_time": "2022-08-22T12:49:47.518Z"
   },
   {
    "duration": 20,
    "start_time": "2022-08-22T12:49:50.778Z"
   },
   {
    "duration": 29,
    "start_time": "2022-08-22T12:49:52.099Z"
   },
   {
    "duration": 83,
    "start_time": "2022-08-22T12:49:53.985Z"
   },
   {
    "duration": 20,
    "start_time": "2022-08-22T12:49:55.125Z"
   },
   {
    "duration": 13,
    "start_time": "2022-08-22T12:49:56.296Z"
   },
   {
    "duration": 33,
    "start_time": "2022-08-22T12:49:57.993Z"
   },
   {
    "duration": 7,
    "start_time": "2022-08-22T12:49:58.748Z"
   },
   {
    "duration": 9,
    "start_time": "2022-08-22T12:50:00.056Z"
   },
   {
    "duration": 8,
    "start_time": "2022-08-22T12:50:00.744Z"
   },
   {
    "duration": 8,
    "start_time": "2022-08-22T12:50:01.656Z"
   },
   {
    "duration": 49,
    "start_time": "2022-08-22T12:50:03.097Z"
   },
   {
    "duration": 10,
    "start_time": "2022-08-22T12:50:04.706Z"
   },
   {
    "duration": 7,
    "start_time": "2022-08-22T12:50:05.846Z"
   },
   {
    "duration": 23,
    "start_time": "2022-08-22T12:50:06.296Z"
   },
   {
    "duration": 6,
    "start_time": "2022-08-22T12:50:08.376Z"
   },
   {
    "duration": 5,
    "start_time": "2022-08-22T12:50:14.432Z"
   },
   {
    "duration": 5,
    "start_time": "2022-08-22T12:50:15.098Z"
   },
   {
    "duration": 6,
    "start_time": "2022-08-22T12:50:15.846Z"
   },
   {
    "duration": 261,
    "start_time": "2022-08-22T12:50:16.273Z"
   },
   {
    "duration": 317,
    "start_time": "2022-08-22T12:50:18.344Z"
   },
   {
    "duration": 239,
    "start_time": "2022-08-22T12:50:21.294Z"
   },
   {
    "duration": 207,
    "start_time": "2022-08-22T12:50:22.565Z"
   },
   {
    "duration": 209,
    "start_time": "2022-08-22T12:50:23.045Z"
   },
   {
    "duration": 2260,
    "start_time": "2022-08-22T12:50:25.975Z"
   },
   {
    "duration": 317,
    "start_time": "2022-08-22T12:50:28.237Z"
   },
   {
    "duration": 16888,
    "start_time": "2022-08-22T12:50:49.161Z"
   },
   {
    "duration": 16554,
    "start_time": "2022-08-22T12:52:56.486Z"
   },
   {
    "duration": 211,
    "start_time": "2022-08-22T13:17:23.518Z"
   },
   {
    "duration": 241,
    "start_time": "2022-08-22T13:17:57.925Z"
   },
   {
    "duration": 328,
    "start_time": "2022-08-22T13:18:08.959Z"
   },
   {
    "duration": 512,
    "start_time": "2022-08-22T13:18:25.049Z"
   },
   {
    "duration": 341,
    "start_time": "2022-08-22T13:18:45.117Z"
   },
   {
    "duration": 499,
    "start_time": "2022-08-22T13:19:27.353Z"
   },
   {
    "duration": 337,
    "start_time": "2022-08-22T13:19:43.666Z"
   },
   {
    "duration": 383,
    "start_time": "2022-08-22T13:21:17.838Z"
   },
   {
    "duration": 442,
    "start_time": "2022-08-22T13:21:44.532Z"
   },
   {
    "duration": 324,
    "start_time": "2022-08-22T13:22:50.291Z"
   },
   {
    "duration": 346,
    "start_time": "2022-08-22T13:26:54.669Z"
   },
   {
    "duration": 323,
    "start_time": "2022-08-22T13:27:01.947Z"
   },
   {
    "duration": 5,
    "start_time": "2022-08-22T13:33:47.557Z"
   },
   {
    "duration": 221,
    "start_time": "2022-08-22T17:03:50.359Z"
   },
   {
    "duration": 215,
    "start_time": "2022-08-22T17:04:37.478Z"
   },
   {
    "duration": 170,
    "start_time": "2022-08-22T17:05:04.117Z"
   },
   {
    "duration": 159,
    "start_time": "2022-08-22T17:05:38.485Z"
   },
   {
    "duration": 251,
    "start_time": "2022-08-22T17:05:50.797Z"
   },
   {
    "duration": 162,
    "start_time": "2022-08-22T17:05:56.269Z"
   },
   {
    "duration": 203,
    "start_time": "2022-08-22T17:06:00.519Z"
   },
   {
    "duration": 176,
    "start_time": "2022-08-22T17:10:54.865Z"
   },
   {
    "duration": 145,
    "start_time": "2022-08-22T17:11:36.841Z"
   },
   {
    "duration": 18,
    "start_time": "2022-08-22T17:12:25.225Z"
   },
   {
    "duration": 15,
    "start_time": "2022-08-22T17:12:58.006Z"
   },
   {
    "duration": 147,
    "start_time": "2022-08-22T17:13:43.824Z"
   },
   {
    "duration": 11,
    "start_time": "2022-08-22T17:24:09.940Z"
   },
   {
    "duration": 13,
    "start_time": "2022-08-22T17:24:19.096Z"
   },
   {
    "duration": 11,
    "start_time": "2022-08-22T17:24:55.982Z"
   },
   {
    "duration": 16,
    "start_time": "2022-08-22T17:25:10.261Z"
   },
   {
    "duration": 23,
    "start_time": "2022-08-22T17:25:38.342Z"
   },
   {
    "duration": 47,
    "start_time": "2022-08-22T17:26:08.481Z"
   },
   {
    "duration": 19,
    "start_time": "2022-08-22T17:26:21.762Z"
   },
   {
    "duration": 196,
    "start_time": "2022-08-22T17:27:18.242Z"
   },
   {
    "duration": 138,
    "start_time": "2022-08-22T17:30:19.912Z"
   },
   {
    "duration": 225,
    "start_time": "2022-08-22T17:31:40.390Z"
   },
   {
    "duration": 215,
    "start_time": "2022-08-22T17:33:33.210Z"
   },
   {
    "duration": 258,
    "start_time": "2022-08-22T17:35:16.502Z"
   },
   {
    "duration": 238,
    "start_time": "2022-08-22T17:35:42.225Z"
   },
   {
    "duration": 991,
    "start_time": "2022-08-22T17:36:51.512Z"
   },
   {
    "duration": 178,
    "start_time": "2022-08-22T17:38:19.306Z"
   },
   {
    "duration": 177,
    "start_time": "2022-08-22T17:38:38.507Z"
   },
   {
    "duration": 187,
    "start_time": "2022-08-22T17:39:27.506Z"
   },
   {
    "duration": 154,
    "start_time": "2022-08-22T17:41:38.110Z"
   },
   {
    "duration": 14,
    "start_time": "2022-08-22T17:42:31.663Z"
   },
   {
    "duration": 188,
    "start_time": "2022-08-22T17:42:51.105Z"
   },
   {
    "duration": 303,
    "start_time": "2022-08-22T17:43:16.223Z"
   },
   {
    "duration": 324,
    "start_time": "2022-08-22T17:43:34.820Z"
   },
   {
    "duration": 160,
    "start_time": "2022-08-22T17:44:39.704Z"
   },
   {
    "duration": 147,
    "start_time": "2022-08-22T17:45:12.543Z"
   },
   {
    "duration": 205,
    "start_time": "2022-08-22T17:46:59.751Z"
   },
   {
    "duration": 190,
    "start_time": "2022-08-22T17:47:13.541Z"
   },
   {
    "duration": 167,
    "start_time": "2022-08-22T17:47:21.106Z"
   },
   {
    "duration": 170,
    "start_time": "2022-08-22T17:50:42.424Z"
   },
   {
    "duration": 174,
    "start_time": "2022-08-22T17:52:08.301Z"
   },
   {
    "duration": 180,
    "start_time": "2022-08-22T17:53:02.065Z"
   },
   {
    "duration": 61,
    "start_time": "2022-08-23T10:18:03.612Z"
   },
   {
    "duration": 1814,
    "start_time": "2022-08-23T10:18:10.680Z"
   },
   {
    "duration": 24,
    "start_time": "2022-08-23T10:18:12.496Z"
   },
   {
    "duration": 24,
    "start_time": "2022-08-23T10:18:12.522Z"
   },
   {
    "duration": 96,
    "start_time": "2022-08-23T10:18:12.548Z"
   },
   {
    "duration": 20,
    "start_time": "2022-08-23T10:18:12.647Z"
   },
   {
    "duration": 10,
    "start_time": "2022-08-23T10:18:12.668Z"
   },
   {
    "duration": 47,
    "start_time": "2022-08-23T10:18:12.680Z"
   },
   {
    "duration": 7,
    "start_time": "2022-08-23T10:18:12.729Z"
   },
   {
    "duration": 12,
    "start_time": "2022-08-23T10:18:12.738Z"
   },
   {
    "duration": 8,
    "start_time": "2022-08-23T10:18:12.752Z"
   },
   {
    "duration": 9,
    "start_time": "2022-08-23T10:18:12.762Z"
   },
   {
    "duration": 69,
    "start_time": "2022-08-23T10:18:12.774Z"
   },
   {
    "duration": 9,
    "start_time": "2022-08-23T10:18:12.844Z"
   },
   {
    "duration": 12,
    "start_time": "2022-08-23T10:18:12.856Z"
   },
   {
    "duration": 34,
    "start_time": "2022-08-23T10:18:12.870Z"
   },
   {
    "duration": 7,
    "start_time": "2022-08-23T10:18:12.906Z"
   },
   {
    "duration": 15,
    "start_time": "2022-08-23T10:18:12.915Z"
   },
   {
    "duration": 7,
    "start_time": "2022-08-23T10:18:12.932Z"
   },
   {
    "duration": 9,
    "start_time": "2022-08-23T10:18:12.940Z"
   },
   {
    "duration": 270,
    "start_time": "2022-08-23T10:18:12.950Z"
   },
   {
    "duration": 300,
    "start_time": "2022-08-23T10:18:13.222Z"
   },
   {
    "duration": 223,
    "start_time": "2022-08-23T10:18:13.524Z"
   },
   {
    "duration": 217,
    "start_time": "2022-08-23T10:18:13.749Z"
   },
   {
    "duration": 248,
    "start_time": "2022-08-23T10:18:13.968Z"
   },
   {
    "duration": 2296,
    "start_time": "2022-08-23T10:18:14.218Z"
   },
   {
    "duration": 314,
    "start_time": "2022-08-23T10:18:16.517Z"
   },
   {
    "duration": 16341,
    "start_time": "2022-08-23T10:18:16.833Z"
   },
   {
    "duration": 241,
    "start_time": "2022-08-23T10:18:33.176Z"
   },
   {
    "duration": 8898,
    "start_time": "2022-08-23T10:18:33.418Z"
   },
   {
    "duration": 49507,
    "start_time": "2022-08-23T10:18:42.318Z"
   },
   {
    "duration": 0,
    "start_time": "2022-08-23T10:19:31.828Z"
   },
   {
    "duration": 0,
    "start_time": "2022-08-23T10:19:31.830Z"
   },
   {
    "duration": 0,
    "start_time": "2022-08-23T10:19:31.831Z"
   },
   {
    "duration": 0,
    "start_time": "2022-08-23T10:19:31.832Z"
   },
   {
    "duration": 0,
    "start_time": "2022-08-23T10:19:31.833Z"
   },
   {
    "duration": 0,
    "start_time": "2022-08-23T10:19:31.834Z"
   },
   {
    "duration": 0,
    "start_time": "2022-08-23T10:19:31.836Z"
   },
   {
    "duration": 0,
    "start_time": "2022-08-23T10:19:31.837Z"
   },
   {
    "duration": 0,
    "start_time": "2022-08-23T10:19:31.838Z"
   },
   {
    "duration": 0,
    "start_time": "2022-08-23T10:19:31.840Z"
   },
   {
    "duration": 0,
    "start_time": "2022-08-23T10:19:31.841Z"
   },
   {
    "duration": 0,
    "start_time": "2022-08-23T10:19:31.842Z"
   },
   {
    "duration": 0,
    "start_time": "2022-08-23T10:19:31.843Z"
   },
   {
    "duration": 0,
    "start_time": "2022-08-23T10:19:31.844Z"
   },
   {
    "duration": 0,
    "start_time": "2022-08-23T10:19:31.847Z"
   },
   {
    "duration": 0,
    "start_time": "2022-08-23T10:19:31.848Z"
   },
   {
    "duration": 13,
    "start_time": "2022-08-23T10:19:35.715Z"
   },
   {
    "duration": 12,
    "start_time": "2022-08-23T10:20:34.468Z"
   },
   {
    "duration": 57,
    "start_time": "2022-08-23T10:23:53.066Z"
   },
   {
    "duration": 8,
    "start_time": "2022-08-23T10:24:11.514Z"
   },
   {
    "duration": 14,
    "start_time": "2022-08-23T10:24:35.707Z"
   },
   {
    "duration": 16,
    "start_time": "2022-08-23T10:26:14.077Z"
   },
   {
    "duration": 19,
    "start_time": "2022-08-23T10:26:40.887Z"
   },
   {
    "duration": 16,
    "start_time": "2022-08-23T10:28:11.635Z"
   },
   {
    "duration": 14,
    "start_time": "2022-08-23T10:29:23.870Z"
   },
   {
    "duration": 13,
    "start_time": "2022-08-23T10:30:00.146Z"
   },
   {
    "duration": 14,
    "start_time": "2022-08-23T10:30:09.362Z"
   },
   {
    "duration": 13,
    "start_time": "2022-08-23T10:30:41.520Z"
   },
   {
    "duration": 3,
    "start_time": "2022-08-23T10:44:56.521Z"
   },
   {
    "duration": 15,
    "start_time": "2022-08-23T10:46:41.504Z"
   },
   {
    "duration": 19,
    "start_time": "2022-08-23T10:47:18.564Z"
   },
   {
    "duration": 21,
    "start_time": "2022-08-23T10:47:53.241Z"
   },
   {
    "duration": 18,
    "start_time": "2022-08-23T10:49:53.544Z"
   },
   {
    "duration": 10,
    "start_time": "2022-08-23T10:50:40.858Z"
   },
   {
    "duration": 9,
    "start_time": "2022-08-23T10:51:34.613Z"
   },
   {
    "duration": 4,
    "start_time": "2022-08-23T10:51:46.262Z"
   },
   {
    "duration": 19,
    "start_time": "2022-08-23T10:55:25.045Z"
   },
   {
    "duration": 26,
    "start_time": "2022-08-23T10:55:44.331Z"
   },
   {
    "duration": 9,
    "start_time": "2022-08-23T10:56:14.534Z"
   },
   {
    "duration": 11,
    "start_time": "2022-08-23T10:56:21.005Z"
   },
   {
    "duration": 24,
    "start_time": "2022-08-23T10:56:53.719Z"
   },
   {
    "duration": 22,
    "start_time": "2022-08-23T10:57:49.447Z"
   },
   {
    "duration": 10,
    "start_time": "2022-08-23T11:00:48.836Z"
   },
   {
    "duration": 10,
    "start_time": "2022-08-23T11:01:11.796Z"
   },
   {
    "duration": 8,
    "start_time": "2022-08-23T11:01:55.845Z"
   },
   {
    "duration": 9,
    "start_time": "2022-08-23T11:02:22.820Z"
   },
   {
    "duration": 18,
    "start_time": "2022-08-23T11:10:12.744Z"
   },
   {
    "duration": 11,
    "start_time": "2022-08-23T11:10:37.625Z"
   },
   {
    "duration": 6,
    "start_time": "2022-08-23T11:10:43.291Z"
   },
   {
    "duration": 7,
    "start_time": "2022-08-23T11:11:21.370Z"
   },
   {
    "duration": 97,
    "start_time": "2022-08-23T11:11:48.531Z"
   },
   {
    "duration": 1143,
    "start_time": "2022-08-23T11:12:39.514Z"
   },
   {
    "duration": 8,
    "start_time": "2022-08-23T11:13:12.089Z"
   },
   {
    "duration": 67,
    "start_time": "2022-08-23T11:15:44.829Z"
   },
   {
    "duration": 62,
    "start_time": "2022-08-23T11:16:08.107Z"
   },
   {
    "duration": 159,
    "start_time": "2022-08-23T11:16:13.718Z"
   },
   {
    "duration": 6,
    "start_time": "2022-08-23T11:16:48.563Z"
   },
   {
    "duration": 8,
    "start_time": "2022-08-23T11:16:51.508Z"
   },
   {
    "duration": 12,
    "start_time": "2022-08-23T11:17:26.668Z"
   },
   {
    "duration": 12,
    "start_time": "2022-08-23T11:18:30.016Z"
   },
   {
    "duration": 11,
    "start_time": "2022-08-23T11:19:42.472Z"
   },
   {
    "duration": 46,
    "start_time": "2022-08-23T11:21:09.852Z"
   },
   {
    "duration": 23,
    "start_time": "2022-08-23T11:23:22.398Z"
   },
   {
    "duration": 18,
    "start_time": "2022-08-23T11:23:32.485Z"
   },
   {
    "duration": 23,
    "start_time": "2022-08-23T11:29:50.337Z"
   },
   {
    "duration": 4075,
    "start_time": "2022-08-23T11:45:08.062Z"
   },
   {
    "duration": 85288,
    "start_time": "2022-08-23T11:45:34.485Z"
   },
   {
    "duration": 76,
    "start_time": "2022-08-23T11:47:08.862Z"
   },
   {
    "duration": 55,
    "start_time": "2022-08-23T11:47:16.307Z"
   },
   {
    "duration": 22,
    "start_time": "2022-08-23T11:47:22.688Z"
   },
   {
    "duration": 21,
    "start_time": "2022-08-23T11:48:35.355Z"
   },
   {
    "duration": 48,
    "start_time": "2022-08-23T11:49:38.599Z"
   },
   {
    "duration": 21,
    "start_time": "2022-08-23T11:50:02.977Z"
   },
   {
    "duration": 75,
    "start_time": "2022-08-23T11:51:07.754Z"
   },
   {
    "duration": 153,
    "start_time": "2022-08-23T11:51:14.018Z"
   },
   {
    "duration": 268,
    "start_time": "2022-08-23T11:52:26.450Z"
   },
   {
    "duration": 229,
    "start_time": "2022-08-23T11:52:37.873Z"
   },
   {
    "duration": 25,
    "start_time": "2022-08-23T11:53:39.975Z"
   },
   {
    "duration": 1054,
    "start_time": "2022-08-23T11:54:23.228Z"
   },
   {
    "duration": 1143,
    "start_time": "2022-08-23T11:54:43.588Z"
   },
   {
    "duration": 20,
    "start_time": "2022-08-23T11:55:11.886Z"
   },
   {
    "duration": 1025,
    "start_time": "2022-08-23T11:55:21.244Z"
   },
   {
    "duration": 23,
    "start_time": "2022-08-23T11:55:55.820Z"
   },
   {
    "duration": 875,
    "start_time": "2022-08-23T11:56:38.795Z"
   },
   {
    "duration": 22,
    "start_time": "2022-08-23T11:56:57.738Z"
   },
   {
    "duration": 22,
    "start_time": "2022-08-23T11:57:13.950Z"
   },
   {
    "duration": 149,
    "start_time": "2022-08-23T12:00:29.801Z"
   },
   {
    "duration": 118,
    "start_time": "2022-08-23T12:00:56.765Z"
   },
   {
    "duration": 347,
    "start_time": "2022-08-23T12:01:18.991Z"
   },
   {
    "duration": 51,
    "start_time": "2022-08-23T13:57:12.329Z"
   },
   {
    "duration": 1889,
    "start_time": "2022-08-23T13:57:20.448Z"
   },
   {
    "duration": 30,
    "start_time": "2022-08-23T13:57:22.339Z"
   },
   {
    "duration": 25,
    "start_time": "2022-08-23T13:57:23.408Z"
   },
   {
    "duration": 83,
    "start_time": "2022-08-23T13:57:24.377Z"
   },
   {
    "duration": 31,
    "start_time": "2022-08-23T13:57:25.078Z"
   },
   {
    "duration": 11,
    "start_time": "2022-08-23T13:57:25.809Z"
   },
   {
    "duration": 26,
    "start_time": "2022-08-23T13:57:26.714Z"
   },
   {
    "duration": 9,
    "start_time": "2022-08-23T13:57:27.249Z"
   },
   {
    "duration": 14,
    "start_time": "2022-08-23T13:57:28.621Z"
   },
   {
    "duration": 7,
    "start_time": "2022-08-23T13:57:30.039Z"
   },
   {
    "duration": 21,
    "start_time": "2022-08-23T13:57:30.288Z"
   },
   {
    "duration": 61,
    "start_time": "2022-08-23T13:57:30.488Z"
   },
   {
    "duration": 10,
    "start_time": "2022-08-23T13:57:31.689Z"
   },
   {
    "duration": 8,
    "start_time": "2022-08-23T13:57:32.359Z"
   },
   {
    "duration": 27,
    "start_time": "2022-08-23T13:57:32.839Z"
   },
   {
    "duration": 9,
    "start_time": "2022-08-23T13:57:33.897Z"
   },
   {
    "duration": 5,
    "start_time": "2022-08-23T13:57:34.368Z"
   },
   {
    "duration": 5,
    "start_time": "2022-08-23T13:57:35.337Z"
   },
   {
    "duration": 5,
    "start_time": "2022-08-23T13:57:35.639Z"
   },
   {
    "duration": 234,
    "start_time": "2022-08-23T13:57:35.944Z"
   },
   {
    "duration": 303,
    "start_time": "2022-08-23T13:57:36.449Z"
   },
   {
    "duration": 20,
    "start_time": "2022-08-23T13:57:50.609Z"
   },
   {
    "duration": 75652,
    "start_time": "2022-08-23T13:59:38.288Z"
   },
   {
    "duration": 7303,
    "start_time": "2022-08-23T14:01:13.972Z"
   },
   {
    "duration": 13343,
    "start_time": "2022-08-23T14:01:24.281Z"
   },
   {
    "duration": 0,
    "start_time": "2022-08-23T14:03:39.928Z"
   },
   {
    "duration": 0,
    "start_time": "2022-08-23T14:03:39.929Z"
   },
   {
    "duration": 0,
    "start_time": "2022-08-23T14:03:39.930Z"
   },
   {
    "duration": 1694,
    "start_time": "2022-08-23T14:03:43.091Z"
   },
   {
    "duration": 258,
    "start_time": "2022-08-23T14:04:24.778Z"
   },
   {
    "duration": 356,
    "start_time": "2022-08-23T14:04:32.704Z"
   },
   {
    "duration": 25,
    "start_time": "2022-08-23T14:06:37.214Z"
   },
   {
    "duration": 19,
    "start_time": "2022-08-23T14:08:02.428Z"
   },
   {
    "duration": 2639,
    "start_time": "2022-08-23T14:11:03.837Z"
   },
   {
    "duration": 1365,
    "start_time": "2022-08-23T14:11:43.630Z"
   },
   {
    "duration": 1612,
    "start_time": "2022-08-23T14:12:00.512Z"
   },
   {
    "duration": 3,
    "start_time": "2022-08-23T14:12:26.636Z"
   },
   {
    "duration": 40460,
    "start_time": "2022-08-23T14:13:08.076Z"
   },
   {
    "duration": 76272,
    "start_time": "2022-08-23T14:13:51.352Z"
   },
   {
    "duration": 8787,
    "start_time": "2022-08-23T14:20:54.158Z"
   },
   {
    "duration": 86450,
    "start_time": "2022-08-23T14:22:39.501Z"
   },
   {
    "duration": 17,
    "start_time": "2022-08-23T14:33:32.232Z"
   },
   {
    "duration": 167,
    "start_time": "2022-08-23T14:33:42.248Z"
   },
   {
    "duration": 166,
    "start_time": "2022-08-23T14:34:15.840Z"
   },
   {
    "duration": 165,
    "start_time": "2022-08-23T14:34:31.705Z"
   },
   {
    "duration": 184,
    "start_time": "2022-08-23T14:34:49.307Z"
   },
   {
    "duration": 215,
    "start_time": "2022-08-23T14:35:30.276Z"
   },
   {
    "duration": 157,
    "start_time": "2022-08-23T14:35:37.627Z"
   },
   {
    "duration": 170,
    "start_time": "2022-08-23T14:35:45.948Z"
   },
   {
    "duration": 159,
    "start_time": "2022-08-23T14:38:44.242Z"
   },
   {
    "duration": 48,
    "start_time": "2022-08-24T13:30:02.020Z"
   },
   {
    "duration": 1478,
    "start_time": "2022-08-24T13:30:06.907Z"
   },
   {
    "duration": 18,
    "start_time": "2022-08-24T13:30:12.667Z"
   },
   {
    "duration": 22,
    "start_time": "2022-08-24T13:30:13.630Z"
   },
   {
    "duration": 64,
    "start_time": "2022-08-24T13:30:15.679Z"
   },
   {
    "duration": 18,
    "start_time": "2022-08-24T13:30:18.995Z"
   },
   {
    "duration": 8,
    "start_time": "2022-08-24T13:30:19.916Z"
   },
   {
    "duration": 26,
    "start_time": "2022-08-24T13:30:21.269Z"
   },
   {
    "duration": 6,
    "start_time": "2022-08-24T13:30:21.660Z"
   },
   {
    "duration": 10,
    "start_time": "2022-08-24T13:30:22.300Z"
   },
   {
    "duration": 7,
    "start_time": "2022-08-24T13:30:22.496Z"
   },
   {
    "duration": 7,
    "start_time": "2022-08-24T13:30:22.747Z"
   },
   {
    "duration": 40,
    "start_time": "2022-08-24T13:30:22.948Z"
   },
   {
    "duration": 8,
    "start_time": "2022-08-24T13:30:24.035Z"
   },
   {
    "duration": 7,
    "start_time": "2022-08-24T13:30:25.859Z"
   },
   {
    "duration": 18,
    "start_time": "2022-08-24T13:30:26.267Z"
   },
   {
    "duration": 6,
    "start_time": "2022-08-24T13:30:27.647Z"
   },
   {
    "duration": 5,
    "start_time": "2022-08-24T13:30:28.469Z"
   },
   {
    "duration": 5,
    "start_time": "2022-08-24T13:30:28.748Z"
   },
   {
    "duration": 5,
    "start_time": "2022-08-24T13:30:29.189Z"
   },
   {
    "duration": 204,
    "start_time": "2022-08-24T13:30:29.788Z"
   },
   {
    "duration": 252,
    "start_time": "2022-08-24T13:30:32.188Z"
   },
   {
    "duration": 14216,
    "start_time": "2022-08-24T13:30:41.099Z"
   },
   {
    "duration": 17,
    "start_time": "2022-08-24T13:31:29.748Z"
   },
   {
    "duration": 7811,
    "start_time": "2022-08-24T13:34:20.779Z"
   },
   {
    "duration": 66669,
    "start_time": "2022-08-24T13:34:38.275Z"
   },
   {
    "duration": 9788,
    "start_time": "2022-08-24T13:36:03.618Z"
   },
   {
    "duration": 336,
    "start_time": "2022-08-24T13:37:30.780Z"
   },
   {
    "duration": 171,
    "start_time": "2022-08-24T13:37:34.619Z"
   },
   {
    "duration": 294,
    "start_time": "2022-08-24T13:37:37.587Z"
   },
   {
    "duration": 707,
    "start_time": "2022-08-24T13:37:40.979Z"
   },
   {
    "duration": 80,
    "start_time": "2022-08-24T13:39:25.943Z"
   },
   {
    "duration": 191,
    "start_time": "2022-08-24T13:39:32.507Z"
   },
   {
    "duration": 189,
    "start_time": "2022-08-24T13:39:39.324Z"
   },
   {
    "duration": 213,
    "start_time": "2022-08-24T13:39:48.228Z"
   },
   {
    "duration": 193,
    "start_time": "2022-08-24T13:40:09.188Z"
   },
   {
    "duration": 229,
    "start_time": "2022-08-24T13:40:15.989Z"
   },
   {
    "duration": 208,
    "start_time": "2022-08-24T13:40:21.909Z"
   },
   {
    "duration": 221,
    "start_time": "2022-08-24T13:40:26.499Z"
   },
   {
    "duration": 300,
    "start_time": "2022-08-24T13:40:34.188Z"
   },
   {
    "duration": 256,
    "start_time": "2022-08-24T13:40:39.596Z"
   },
   {
    "duration": 242,
    "start_time": "2022-08-24T13:40:49.868Z"
   },
   {
    "duration": 208,
    "start_time": "2022-08-24T13:40:54.508Z"
   },
   {
    "duration": 208,
    "start_time": "2022-08-24T13:41:49.388Z"
   },
   {
    "duration": 200,
    "start_time": "2022-08-24T13:41:58.970Z"
   },
   {
    "duration": 262,
    "start_time": "2022-08-24T13:42:11.690Z"
   },
   {
    "duration": 14808,
    "start_time": "2022-08-24T13:43:45.068Z"
   },
   {
    "duration": 4350,
    "start_time": "2022-08-24T13:44:57.072Z"
   },
   {
    "duration": 4879,
    "start_time": "2022-08-24T13:45:22.742Z"
   },
   {
    "duration": 79,
    "start_time": "2022-08-24T13:49:08.641Z"
   },
   {
    "duration": 83,
    "start_time": "2022-08-24T13:49:14.016Z"
   },
   {
    "duration": 1334,
    "start_time": "2022-08-24T13:49:19.721Z"
   },
   {
    "duration": 1187,
    "start_time": "2022-08-24T13:49:35.560Z"
   },
   {
    "duration": 923,
    "start_time": "2022-08-24T13:50:14.559Z"
   },
   {
    "duration": 1501,
    "start_time": "2022-08-24T13:50:44.040Z"
   },
   {
    "duration": 80,
    "start_time": "2022-08-24T13:51:28.572Z"
   },
   {
    "duration": 18588,
    "start_time": "2022-08-24T13:51:32.732Z"
   },
   {
    "duration": 73991,
    "start_time": "2022-08-24T13:53:17.226Z"
   },
   {
    "duration": 74428,
    "start_time": "2022-08-24T13:55:10.379Z"
   },
   {
    "duration": 69654,
    "start_time": "2022-08-24T13:56:24.809Z"
   },
   {
    "duration": 70766,
    "start_time": "2022-08-24T13:58:25.165Z"
   },
   {
    "duration": 353,
    "start_time": "2022-08-24T14:07:47.588Z"
   },
   {
    "duration": 339,
    "start_time": "2022-08-24T14:08:32.976Z"
   },
   {
    "duration": 324,
    "start_time": "2022-08-24T14:08:43.786Z"
   },
   {
    "duration": 352,
    "start_time": "2022-08-24T14:09:37.225Z"
   },
   {
    "duration": 311,
    "start_time": "2022-08-24T14:09:59.016Z"
   },
   {
    "duration": 334,
    "start_time": "2022-08-24T14:10:25.266Z"
   },
   {
    "duration": 376,
    "start_time": "2022-08-24T14:10:32.945Z"
   },
   {
    "duration": 317,
    "start_time": "2022-08-24T14:11:43.065Z"
   },
   {
    "duration": 356,
    "start_time": "2022-08-24T14:12:01.665Z"
   },
   {
    "duration": 789,
    "start_time": "2022-08-24T14:13:01.265Z"
   },
   {
    "duration": 323,
    "start_time": "2022-08-24T14:13:26.257Z"
   },
   {
    "duration": 296,
    "start_time": "2022-08-24T14:13:31.976Z"
   },
   {
    "duration": 302,
    "start_time": "2022-08-24T14:13:44.656Z"
   },
   {
    "duration": 377,
    "start_time": "2022-08-24T14:13:51.736Z"
   },
   {
    "duration": 272,
    "start_time": "2022-08-24T14:14:05.585Z"
   },
   {
    "duration": 342,
    "start_time": "2022-08-24T14:14:30.865Z"
   },
   {
    "duration": 355,
    "start_time": "2022-08-24T14:14:55.336Z"
   },
   {
    "duration": 1923,
    "start_time": "2022-08-24T14:15:21.261Z"
   },
   {
    "duration": 270,
    "start_time": "2022-08-24T14:16:57.417Z"
   },
   {
    "duration": 42,
    "start_time": "2022-08-24T14:17:26.217Z"
   },
   {
    "duration": 8,
    "start_time": "2022-08-24T14:17:39.177Z"
   },
   {
    "duration": 282,
    "start_time": "2022-08-24T14:17:54.884Z"
   },
   {
    "duration": 198,
    "start_time": "2022-08-24T14:21:00.699Z"
   },
   {
    "duration": 209,
    "start_time": "2022-08-24T14:21:06.671Z"
   },
   {
    "duration": 65684,
    "start_time": "2022-08-24T14:28:47.837Z"
   },
   {
    "duration": 5,
    "start_time": "2022-08-24T14:32:41.600Z"
   },
   {
    "duration": 150,
    "start_time": "2022-08-24T14:36:36.666Z"
   },
   {
    "duration": 202,
    "start_time": "2022-08-24T14:36:39.468Z"
   },
   {
    "duration": 148,
    "start_time": "2022-08-24T14:36:42.790Z"
   },
   {
    "duration": 152,
    "start_time": "2022-08-24T14:36:44.675Z"
   },
   {
    "duration": 127,
    "start_time": "2022-08-24T14:36:53.866Z"
   },
   {
    "duration": 143,
    "start_time": "2022-08-24T14:37:01.386Z"
   },
   {
    "duration": 161,
    "start_time": "2022-08-24T14:37:05.106Z"
   },
   {
    "duration": 145,
    "start_time": "2022-08-24T14:37:07.708Z"
   },
   {
    "duration": 18,
    "start_time": "2022-08-24T14:37:16.746Z"
   },
   {
    "duration": 139,
    "start_time": "2022-08-24T14:37:24.427Z"
   },
   {
    "duration": 1462,
    "start_time": "2022-08-24T15:35:38.374Z"
   },
   {
    "duration": 20,
    "start_time": "2022-08-24T15:35:39.838Z"
   },
   {
    "duration": 23,
    "start_time": "2022-08-24T15:35:39.860Z"
   },
   {
    "duration": 89,
    "start_time": "2022-08-24T15:35:39.885Z"
   },
   {
    "duration": 30,
    "start_time": "2022-08-24T15:35:39.976Z"
   },
   {
    "duration": 10,
    "start_time": "2022-08-24T15:35:40.007Z"
   },
   {
    "duration": 47,
    "start_time": "2022-08-24T15:35:40.018Z"
   },
   {
    "duration": 6,
    "start_time": "2022-08-24T15:35:40.067Z"
   },
   {
    "duration": 19,
    "start_time": "2022-08-24T15:35:40.074Z"
   },
   {
    "duration": 12,
    "start_time": "2022-08-24T15:35:40.096Z"
   },
   {
    "duration": 6,
    "start_time": "2022-08-24T15:35:40.110Z"
   },
   {
    "duration": 45,
    "start_time": "2022-08-24T15:35:40.118Z"
   },
   {
    "duration": 8,
    "start_time": "2022-08-24T15:35:40.164Z"
   },
   {
    "duration": 8,
    "start_time": "2022-08-24T15:35:40.174Z"
   },
   {
    "duration": 18,
    "start_time": "2022-08-24T15:35:40.203Z"
   },
   {
    "duration": 12,
    "start_time": "2022-08-24T15:35:40.223Z"
   },
   {
    "duration": 22,
    "start_time": "2022-08-24T15:35:40.237Z"
   },
   {
    "duration": 11,
    "start_time": "2022-08-24T15:35:40.261Z"
   },
   {
    "duration": 5,
    "start_time": "2022-08-24T15:35:40.274Z"
   },
   {
    "duration": 262,
    "start_time": "2022-08-24T15:35:40.281Z"
   },
   {
    "duration": 305,
    "start_time": "2022-08-24T15:35:40.545Z"
   },
   {
    "duration": 17,
    "start_time": "2022-08-24T15:35:40.852Z"
   },
   {
    "duration": 241,
    "start_time": "2022-08-24T15:35:40.871Z"
   },
   {
    "duration": 254,
    "start_time": "2022-08-24T15:35:41.114Z"
   },
   {
    "duration": 235,
    "start_time": "2022-08-24T15:35:41.370Z"
   },
   {
    "duration": 331,
    "start_time": "2022-08-24T15:35:41.607Z"
   },
   {
    "duration": 224,
    "start_time": "2022-08-24T15:35:41.940Z"
   },
   {
    "duration": 5009,
    "start_time": "2022-08-24T15:35:42.168Z"
   },
   {
    "duration": 259,
    "start_time": "2022-08-24T15:35:47.178Z"
   },
   {
    "duration": 1689,
    "start_time": "2022-08-24T15:35:47.440Z"
   },
   {
    "duration": 81557,
    "start_time": "2022-08-24T15:35:49.131Z"
   },
   {
    "duration": 76596,
    "start_time": "2022-08-24T15:37:10.690Z"
   },
   {
    "duration": 11298,
    "start_time": "2022-08-24T15:38:27.288Z"
   },
   {
    "duration": 416,
    "start_time": "2022-08-24T15:38:38.588Z"
   },
   {
    "duration": 244,
    "start_time": "2022-08-24T15:38:39.008Z"
   },
   {
    "duration": 352,
    "start_time": "2022-08-24T15:38:39.254Z"
   },
   {
    "duration": 840,
    "start_time": "2022-08-24T15:38:39.608Z"
   },
   {
    "duration": 5,
    "start_time": "2022-08-24T15:38:40.450Z"
   },
   {
    "duration": 195,
    "start_time": "2022-08-24T15:38:40.456Z"
   },
   {
    "duration": 192,
    "start_time": "2022-08-24T15:38:40.653Z"
   },
   {
    "duration": 178,
    "start_time": "2022-08-24T15:38:40.847Z"
   },
   {
    "duration": 181,
    "start_time": "2022-08-24T15:38:41.027Z"
   },
   {
    "duration": 165,
    "start_time": "2022-08-24T15:38:41.210Z"
   },
   {
    "duration": 124,
    "start_time": "2022-08-24T15:38:41.377Z"
   },
   {
    "duration": 0,
    "start_time": "2022-08-24T15:38:41.502Z"
   },
   {
    "duration": 0,
    "start_time": "2022-08-24T15:38:41.504Z"
   },
   {
    "duration": 0,
    "start_time": "2022-08-24T15:38:41.505Z"
   },
   {
    "duration": 0,
    "start_time": "2022-08-24T15:38:41.506Z"
   },
   {
    "duration": 0,
    "start_time": "2022-08-24T15:38:41.507Z"
   },
   {
    "duration": 0,
    "start_time": "2022-08-24T15:38:41.508Z"
   },
   {
    "duration": 1403,
    "start_time": "2022-08-24T16:00:08.549Z"
   },
   {
    "duration": 22,
    "start_time": "2022-08-24T16:00:09.954Z"
   },
   {
    "duration": 41,
    "start_time": "2022-08-24T16:00:09.979Z"
   },
   {
    "duration": 80,
    "start_time": "2022-08-24T16:00:10.023Z"
   },
   {
    "duration": 20,
    "start_time": "2022-08-24T16:00:10.105Z"
   },
   {
    "duration": 10,
    "start_time": "2022-08-24T16:00:10.127Z"
   },
   {
    "duration": 27,
    "start_time": "2022-08-24T16:00:10.139Z"
   },
   {
    "duration": 36,
    "start_time": "2022-08-24T16:00:10.168Z"
   },
   {
    "duration": 11,
    "start_time": "2022-08-24T16:00:10.205Z"
   },
   {
    "duration": 8,
    "start_time": "2022-08-24T16:00:10.219Z"
   },
   {
    "duration": 7,
    "start_time": "2022-08-24T16:00:10.229Z"
   },
   {
    "duration": 78,
    "start_time": "2022-08-24T16:00:10.238Z"
   },
   {
    "duration": 9,
    "start_time": "2022-08-24T16:00:10.318Z"
   },
   {
    "duration": 9,
    "start_time": "2022-08-24T16:00:10.329Z"
   },
   {
    "duration": 25,
    "start_time": "2022-08-24T16:00:10.340Z"
   },
   {
    "duration": 6,
    "start_time": "2022-08-24T16:00:10.367Z"
   },
   {
    "duration": 28,
    "start_time": "2022-08-24T16:00:10.375Z"
   },
   {
    "duration": 6,
    "start_time": "2022-08-24T16:00:10.405Z"
   },
   {
    "duration": 7,
    "start_time": "2022-08-24T16:00:10.413Z"
   },
   {
    "duration": 257,
    "start_time": "2022-08-24T16:00:10.422Z"
   },
   {
    "duration": 288,
    "start_time": "2022-08-24T16:00:10.681Z"
   },
   {
    "duration": 18,
    "start_time": "2022-08-24T16:00:10.970Z"
   },
   {
    "duration": 247,
    "start_time": "2022-08-24T16:00:10.990Z"
   },
   {
    "duration": 234,
    "start_time": "2022-08-24T16:00:11.239Z"
   },
   {
    "duration": 229,
    "start_time": "2022-08-24T16:00:11.475Z"
   },
   {
    "duration": 353,
    "start_time": "2022-08-24T16:00:11.706Z"
   },
   {
    "duration": 245,
    "start_time": "2022-08-24T16:00:12.061Z"
   },
   {
    "duration": 4958,
    "start_time": "2022-08-24T16:00:12.310Z"
   },
   {
    "duration": 247,
    "start_time": "2022-08-24T16:00:17.269Z"
   },
   {
    "duration": 1765,
    "start_time": "2022-08-24T16:00:17.518Z"
   },
   {
    "duration": 81159,
    "start_time": "2022-08-24T16:00:19.286Z"
   },
   {
    "duration": 75285,
    "start_time": "2022-08-24T16:01:40.448Z"
   },
   {
    "duration": 10978,
    "start_time": "2022-08-24T16:02:55.735Z"
   },
   {
    "duration": 414,
    "start_time": "2022-08-24T16:03:06.715Z"
   },
   {
    "duration": 210,
    "start_time": "2022-08-24T16:03:07.130Z"
   },
   {
    "duration": 335,
    "start_time": "2022-08-24T16:03:07.342Z"
   },
   {
    "duration": 829,
    "start_time": "2022-08-24T16:03:07.679Z"
   },
   {
    "duration": 6,
    "start_time": "2022-08-24T16:03:08.510Z"
   },
   {
    "duration": 188,
    "start_time": "2022-08-24T16:03:08.517Z"
   },
   {
    "duration": 220,
    "start_time": "2022-08-24T16:03:08.707Z"
   },
   {
    "duration": 217,
    "start_time": "2022-08-24T16:03:08.929Z"
   },
   {
    "duration": 174,
    "start_time": "2022-08-24T16:03:09.148Z"
   },
   {
    "duration": 159,
    "start_time": "2022-08-24T16:03:09.324Z"
   },
   {
    "duration": 168,
    "start_time": "2022-08-24T16:03:09.484Z"
   },
   {
    "duration": 171,
    "start_time": "2022-08-24T16:03:09.654Z"
   },
   {
    "duration": 178,
    "start_time": "2022-08-24T16:03:09.827Z"
   },
   {
    "duration": 21,
    "start_time": "2022-08-24T16:03:10.006Z"
   },
   {
    "duration": 167,
    "start_time": "2022-08-24T16:03:10.028Z"
   },
   {
    "duration": 3639,
    "start_time": "2022-08-25T11:51:30.954Z"
   },
   {
    "duration": 11,
    "start_time": "2022-08-25T11:52:50.293Z"
   },
   {
    "duration": 75,
    "start_time": "2022-08-25T11:53:36.840Z"
   },
   {
    "duration": 17,
    "start_time": "2022-08-25T11:54:14.845Z"
   },
   {
    "duration": 84,
    "start_time": "2022-08-25T12:21:10.304Z"
   },
   {
    "duration": 1473,
    "start_time": "2022-08-25T12:21:31.023Z"
   },
   {
    "duration": 1255,
    "start_time": "2022-08-25T12:23:12.011Z"
   },
   {
    "duration": 1365,
    "start_time": "2022-08-25T12:23:46.347Z"
   },
   {
    "duration": 1423,
    "start_time": "2022-08-25T12:26:29.193Z"
   },
   {
    "duration": 1418,
    "start_time": "2022-08-25T12:26:51.720Z"
   },
   {
    "duration": 122,
    "start_time": "2022-08-25T12:44:07.731Z"
   },
   {
    "duration": 105,
    "start_time": "2022-08-25T12:44:20.446Z"
   },
   {
    "duration": 44,
    "start_time": "2022-08-26T11:14:11.025Z"
   },
   {
    "duration": 3305,
    "start_time": "2022-08-26T11:14:20.179Z"
   },
   {
    "duration": 52,
    "start_time": "2022-08-26T11:14:29.345Z"
   },
   {
    "duration": 13,
    "start_time": "2022-08-26T11:14:34.030Z"
   },
   {
    "duration": 1284,
    "start_time": "2022-08-26T11:14:39.124Z"
   },
   {
    "duration": 1372,
    "start_time": "2022-08-26T11:14:41.123Z"
   },
   {
    "duration": 18,
    "start_time": "2022-08-26T11:14:42.747Z"
   },
   {
    "duration": 15,
    "start_time": "2022-08-26T11:14:45.266Z"
   },
   {
    "duration": 9,
    "start_time": "2022-08-26T11:14:47.528Z"
   },
   {
    "duration": 28,
    "start_time": "2022-08-26T11:14:48.947Z"
   },
   {
    "duration": 7,
    "start_time": "2022-08-26T11:14:55.265Z"
   },
   {
    "duration": 11,
    "start_time": "2022-08-26T11:14:56.425Z"
   },
   {
    "duration": 5,
    "start_time": "2022-08-26T11:14:56.686Z"
   },
   {
    "duration": 7,
    "start_time": "2022-08-26T11:14:56.897Z"
   },
   {
    "duration": 587,
    "start_time": "2022-08-26T11:14:57.834Z"
   },
   {
    "duration": 348,
    "start_time": "2022-08-26T11:16:09.986Z"
   },
   {
    "duration": 454,
    "start_time": "2022-08-26T11:17:54.274Z"
   },
   {
    "duration": 309,
    "start_time": "2022-08-26T11:18:17.635Z"
   },
   {
    "duration": 594,
    "start_time": "2022-08-26T11:19:05.090Z"
   },
   {
    "duration": 644,
    "start_time": "2022-08-26T11:19:48.086Z"
   },
   {
    "duration": 4797,
    "start_time": "2022-08-26T11:20:08.149Z"
   },
   {
    "duration": 42,
    "start_time": "2022-08-26T11:20:44.269Z"
   },
   {
    "duration": 7,
    "start_time": "2022-08-26T11:21:01.349Z"
   },
   {
    "duration": 6,
    "start_time": "2022-08-26T11:21:15.191Z"
   },
   {
    "duration": 18,
    "start_time": "2022-08-26T11:21:17.471Z"
   },
   {
    "duration": 23,
    "start_time": "2022-08-26T11:26:53.530Z"
   },
   {
    "duration": 20,
    "start_time": "2022-08-26T11:27:40.440Z"
   },
   {
    "duration": 6,
    "start_time": "2022-08-26T11:28:56.440Z"
   },
   {
    "duration": 7,
    "start_time": "2022-08-26T11:29:38.289Z"
   },
   {
    "duration": 6,
    "start_time": "2022-08-26T11:29:44.001Z"
   },
   {
    "duration": 6,
    "start_time": "2022-08-26T11:29:48.241Z"
   },
   {
    "duration": 7,
    "start_time": "2022-08-26T11:29:59.049Z"
   },
   {
    "duration": 7,
    "start_time": "2022-08-26T11:30:18.043Z"
   },
   {
    "duration": 6,
    "start_time": "2022-08-26T11:30:20.881Z"
   },
   {
    "duration": 393,
    "start_time": "2022-08-26T11:30:48.201Z"
   },
   {
    "duration": 247,
    "start_time": "2022-08-26T11:31:01.737Z"
   },
   {
    "duration": 183,
    "start_time": "2022-08-26T11:31:55.167Z"
   },
   {
    "duration": 216,
    "start_time": "2022-08-26T11:32:01.445Z"
   },
   {
    "duration": 188,
    "start_time": "2022-08-26T11:57:03.641Z"
   },
   {
    "duration": 193,
    "start_time": "2022-08-26T11:57:07.460Z"
   },
   {
    "duration": 302,
    "start_time": "2022-08-26T11:57:10.148Z"
   },
   {
    "duration": 49,
    "start_time": "2022-08-26T13:42:40.632Z"
   },
   {
    "duration": 3134,
    "start_time": "2022-08-26T13:42:47.657Z"
   },
   {
    "duration": 50,
    "start_time": "2022-08-26T13:42:50.792Z"
   },
   {
    "duration": 10,
    "start_time": "2022-08-26T13:42:50.843Z"
   },
   {
    "duration": 1175,
    "start_time": "2022-08-26T13:42:50.854Z"
   },
   {
    "duration": 1481,
    "start_time": "2022-08-26T13:42:52.030Z"
   },
   {
    "duration": 30,
    "start_time": "2022-08-26T13:42:53.513Z"
   },
   {
    "duration": 25,
    "start_time": "2022-08-26T13:42:53.546Z"
   },
   {
    "duration": 40,
    "start_time": "2022-08-26T13:42:53.572Z"
   },
   {
    "duration": 9,
    "start_time": "2022-08-26T13:42:53.614Z"
   },
   {
    "duration": 45,
    "start_time": "2022-08-26T13:42:53.627Z"
   },
   {
    "duration": 6,
    "start_time": "2022-08-26T13:42:53.674Z"
   },
   {
    "duration": 36,
    "start_time": "2022-08-26T13:42:53.681Z"
   },
   {
    "duration": 6,
    "start_time": "2022-08-26T13:42:53.718Z"
   },
   {
    "duration": 10,
    "start_time": "2022-08-26T13:42:53.725Z"
   },
   {
    "duration": 1110,
    "start_time": "2022-08-26T13:42:53.736Z"
   },
   {
    "duration": 0,
    "start_time": "2022-08-26T13:42:54.849Z"
   },
   {
    "duration": 0,
    "start_time": "2022-08-26T13:42:54.850Z"
   },
   {
    "duration": 0,
    "start_time": "2022-08-26T13:42:54.851Z"
   },
   {
    "duration": 0,
    "start_time": "2022-08-26T13:42:54.852Z"
   },
   {
    "duration": 0,
    "start_time": "2022-08-26T13:42:54.853Z"
   },
   {
    "duration": 0,
    "start_time": "2022-08-26T13:42:54.854Z"
   },
   {
    "duration": 0,
    "start_time": "2022-08-26T13:42:54.855Z"
   },
   {
    "duration": 0,
    "start_time": "2022-08-26T13:42:54.856Z"
   },
   {
    "duration": 0,
    "start_time": "2022-08-26T13:42:54.858Z"
   },
   {
    "duration": 0,
    "start_time": "2022-08-26T13:42:54.859Z"
   },
   {
    "duration": 0,
    "start_time": "2022-08-26T13:42:54.860Z"
   },
   {
    "duration": 0,
    "start_time": "2022-08-26T13:42:54.860Z"
   },
   {
    "duration": 0,
    "start_time": "2022-08-26T13:42:54.861Z"
   },
   {
    "duration": 0,
    "start_time": "2022-08-26T13:42:54.863Z"
   },
   {
    "duration": 0,
    "start_time": "2022-08-26T13:42:54.863Z"
   },
   {
    "duration": 0,
    "start_time": "2022-08-26T13:42:54.864Z"
   },
   {
    "duration": 0,
    "start_time": "2022-08-26T13:42:54.865Z"
   },
   {
    "duration": 0,
    "start_time": "2022-08-26T13:42:54.866Z"
   },
   {
    "duration": 0,
    "start_time": "2022-08-26T13:42:54.867Z"
   },
   {
    "duration": 0,
    "start_time": "2022-08-26T13:42:54.868Z"
   },
   {
    "duration": 0,
    "start_time": "2022-08-26T13:42:54.869Z"
   },
   {
    "duration": 0,
    "start_time": "2022-08-26T13:42:54.870Z"
   },
   {
    "duration": 0,
    "start_time": "2022-08-26T13:42:54.871Z"
   },
   {
    "duration": 0,
    "start_time": "2022-08-26T13:42:54.871Z"
   },
   {
    "duration": 0,
    "start_time": "2022-08-26T13:42:54.872Z"
   },
   {
    "duration": 0,
    "start_time": "2022-08-26T13:42:54.873Z"
   },
   {
    "duration": 0,
    "start_time": "2022-08-26T13:42:54.875Z"
   },
   {
    "duration": 0,
    "start_time": "2022-08-26T13:42:54.876Z"
   },
   {
    "duration": 0,
    "start_time": "2022-08-26T13:42:54.877Z"
   },
   {
    "duration": 0,
    "start_time": "2022-08-26T13:42:54.878Z"
   },
   {
    "duration": 0,
    "start_time": "2022-08-26T13:42:54.879Z"
   },
   {
    "duration": 0,
    "start_time": "2022-08-26T13:42:54.880Z"
   },
   {
    "duration": 0,
    "start_time": "2022-08-26T13:42:54.881Z"
   },
   {
    "duration": 0,
    "start_time": "2022-08-26T13:42:54.882Z"
   },
   {
    "duration": 0,
    "start_time": "2022-08-26T13:42:54.884Z"
   },
   {
    "duration": 0,
    "start_time": "2022-08-26T13:42:54.885Z"
   },
   {
    "duration": 0,
    "start_time": "2022-08-26T13:42:54.911Z"
   },
   {
    "duration": 0,
    "start_time": "2022-08-26T13:42:54.913Z"
   },
   {
    "duration": 0,
    "start_time": "2022-08-26T13:42:54.914Z"
   },
   {
    "duration": 0,
    "start_time": "2022-08-26T13:42:54.915Z"
   },
   {
    "duration": 2267,
    "start_time": "2022-08-26T13:43:44.744Z"
   },
   {
    "duration": 14,
    "start_time": "2022-08-26T13:43:47.696Z"
   },
   {
    "duration": 10,
    "start_time": "2022-08-26T13:43:49.072Z"
   },
   {
    "duration": 1150,
    "start_time": "2022-08-26T13:43:50.257Z"
   },
   {
    "duration": 1291,
    "start_time": "2022-08-26T13:43:51.410Z"
   },
   {
    "duration": 20,
    "start_time": "2022-08-26T13:43:52.714Z"
   },
   {
    "duration": 29,
    "start_time": "2022-08-26T13:43:52.736Z"
   },
   {
    "duration": 33,
    "start_time": "2022-08-26T13:43:52.767Z"
   },
   {
    "duration": 18,
    "start_time": "2022-08-26T13:43:52.802Z"
   },
   {
    "duration": 43,
    "start_time": "2022-08-26T13:43:52.822Z"
   },
   {
    "duration": 10,
    "start_time": "2022-08-26T13:43:53.856Z"
   },
   {
    "duration": 11,
    "start_time": "2022-08-26T13:43:55.136Z"
   },
   {
    "duration": 7,
    "start_time": "2022-08-26T13:43:55.832Z"
   },
   {
    "duration": 8,
    "start_time": "2022-08-26T13:43:56.124Z"
   },
   {
    "duration": 851,
    "start_time": "2022-08-26T13:43:56.783Z"
   },
   {
    "duration": 951,
    "start_time": "2022-08-26T13:44:47.104Z"
   },
   {
    "duration": 27,
    "start_time": "2022-08-26T13:45:34.632Z"
   },
   {
    "duration": 1248,
    "start_time": "2022-08-26T13:45:46.910Z"
   },
   {
    "duration": 1384,
    "start_time": "2022-08-26T13:46:16.150Z"
   },
   {
    "duration": 5,
    "start_time": "2022-08-26T13:46:43.670Z"
   },
   {
    "duration": 42,
    "start_time": "2022-08-26T13:46:53.150Z"
   },
   {
    "duration": 8,
    "start_time": "2022-08-26T13:46:59.870Z"
   },
   {
    "duration": 7,
    "start_time": "2022-08-26T13:47:02.542Z"
   },
   {
    "duration": 15,
    "start_time": "2022-08-26T13:47:04.582Z"
   },
   {
    "duration": 5,
    "start_time": "2022-08-26T13:47:17.236Z"
   },
   {
    "duration": 6,
    "start_time": "2022-08-26T13:47:17.461Z"
   },
   {
    "duration": 6,
    "start_time": "2022-08-26T13:47:17.590Z"
   },
   {
    "duration": 5,
    "start_time": "2022-08-26T13:47:18.221Z"
   },
   {
    "duration": 283,
    "start_time": "2022-08-26T13:47:18.631Z"
   },
   {
    "duration": 260,
    "start_time": "2022-08-26T13:47:18.916Z"
   },
   {
    "duration": 15,
    "start_time": "2022-08-26T13:47:19.177Z"
   },
   {
    "duration": 216,
    "start_time": "2022-08-26T13:47:26.630Z"
   },
   {
    "duration": 179,
    "start_time": "2022-08-26T13:47:28.869Z"
   },
   {
    "duration": 200,
    "start_time": "2022-08-26T13:47:29.050Z"
   },
   {
    "duration": 178,
    "start_time": "2022-08-26T13:47:29.252Z"
   },
   {
    "duration": 260,
    "start_time": "2022-08-26T13:47:29.432Z"
   },
   {
    "duration": 202,
    "start_time": "2022-08-26T13:47:29.694Z"
   },
   {
    "duration": 193,
    "start_time": "2022-08-26T13:47:29.898Z"
   },
   {
    "duration": 189,
    "start_time": "2022-08-26T13:47:30.093Z"
   },
   {
    "duration": 194,
    "start_time": "2022-08-26T13:47:30.283Z"
   },
   {
    "duration": 210,
    "start_time": "2022-08-26T13:47:30.479Z"
   },
   {
    "duration": 190,
    "start_time": "2022-08-26T13:47:30.808Z"
   },
   {
    "duration": 401,
    "start_time": "2022-08-26T13:47:31.042Z"
   },
   {
    "duration": 222,
    "start_time": "2022-08-26T13:47:31.445Z"
   },
   {
    "duration": 222,
    "start_time": "2022-08-26T13:47:31.668Z"
   },
   {
    "duration": 206,
    "start_time": "2022-08-26T13:47:32.341Z"
   },
   {
    "duration": 194,
    "start_time": "2022-08-26T13:47:33.542Z"
   },
   {
    "duration": 259,
    "start_time": "2022-08-26T13:47:38.705Z"
   },
   {
    "duration": 343,
    "start_time": "2022-08-26T13:47:40.271Z"
   },
   {
    "duration": 4,
    "start_time": "2022-08-26T13:47:41.542Z"
   },
   {
    "duration": 167,
    "start_time": "2022-08-26T13:47:55.150Z"
   },
   {
    "duration": 5,
    "start_time": "2022-08-26T13:48:01.341Z"
   },
   {
    "duration": 4,
    "start_time": "2022-08-26T13:48:18.350Z"
   },
   {
    "duration": 181,
    "start_time": "2022-08-26T13:48:48.868Z"
   },
   {
    "duration": 4,
    "start_time": "2022-08-26T13:49:13.030Z"
   },
   {
    "duration": 155,
    "start_time": "2022-08-26T13:49:41.950Z"
   },
   {
    "duration": 5,
    "start_time": "2022-08-26T13:50:07.294Z"
   },
   {
    "duration": 175,
    "start_time": "2022-08-26T13:50:21.107Z"
   },
   {
    "duration": 5,
    "start_time": "2022-08-26T13:51:03.494Z"
   },
   {
    "duration": 162,
    "start_time": "2022-08-26T13:51:43.894Z"
   },
   {
    "duration": 166,
    "start_time": "2022-08-26T13:52:38.207Z"
   },
   {
    "duration": 182,
    "start_time": "2022-08-26T13:52:43.974Z"
   },
   {
    "duration": 171,
    "start_time": "2022-08-26T13:52:46.566Z"
   },
   {
    "duration": 81,
    "start_time": "2022-08-26T13:53:49.305Z"
   },
   {
    "duration": 22,
    "start_time": "2022-08-26T13:54:26.651Z"
   },
   {
    "duration": 134,
    "start_time": "2022-08-26T13:54:33.474Z"
   },
   {
    "duration": 64,
    "start_time": "2022-08-26T14:02:00.384Z"
   },
   {
    "duration": 20,
    "start_time": "2022-08-26T14:04:27.551Z"
   },
   {
    "duration": 41,
    "start_time": "2022-08-26T14:04:56.625Z"
   },
   {
    "duration": 3387,
    "start_time": "2022-08-26T15:08:54.678Z"
   },
   {
    "duration": 57,
    "start_time": "2022-08-26T15:08:58.068Z"
   },
   {
    "duration": 10,
    "start_time": "2022-08-26T15:08:58.127Z"
   },
   {
    "duration": 1396,
    "start_time": "2022-08-26T15:08:58.140Z"
   },
   {
    "duration": 1481,
    "start_time": "2022-08-26T15:08:59.539Z"
   },
   {
    "duration": 20,
    "start_time": "2022-08-26T15:09:01.022Z"
   },
   {
    "duration": 16,
    "start_time": "2022-08-26T15:09:01.044Z"
   },
   {
    "duration": 47,
    "start_time": "2022-08-26T15:09:01.062Z"
   },
   {
    "duration": 10,
    "start_time": "2022-08-26T15:09:01.110Z"
   },
   {
    "duration": 30,
    "start_time": "2022-08-26T15:09:01.123Z"
   },
   {
    "duration": 10,
    "start_time": "2022-08-26T15:09:01.155Z"
   },
   {
    "duration": 14,
    "start_time": "2022-08-26T15:09:01.167Z"
   },
   {
    "duration": 24,
    "start_time": "2022-08-26T15:09:01.183Z"
   },
   {
    "duration": 21,
    "start_time": "2022-08-26T15:09:01.209Z"
   },
   {
    "duration": 59,
    "start_time": "2022-08-26T15:09:01.233Z"
   },
   {
    "duration": 11,
    "start_time": "2022-08-26T15:09:01.293Z"
   },
   {
    "duration": 15,
    "start_time": "2022-08-26T15:09:01.306Z"
   },
   {
    "duration": 34,
    "start_time": "2022-08-26T15:09:01.323Z"
   },
   {
    "duration": 7,
    "start_time": "2022-08-26T15:09:01.358Z"
   },
   {
    "duration": 13,
    "start_time": "2022-08-26T15:09:01.366Z"
   },
   {
    "duration": 7,
    "start_time": "2022-08-26T15:09:01.380Z"
   },
   {
    "duration": 15,
    "start_time": "2022-08-26T15:09:01.389Z"
   },
   {
    "duration": 394,
    "start_time": "2022-08-26T15:09:01.406Z"
   },
   {
    "duration": 265,
    "start_time": "2022-08-26T15:09:01.803Z"
   },
   {
    "duration": 17,
    "start_time": "2022-08-26T15:09:02.070Z"
   },
   {
    "duration": 258,
    "start_time": "2022-08-26T15:09:02.089Z"
   },
   {
    "duration": 240,
    "start_time": "2022-08-26T15:09:02.349Z"
   },
   {
    "duration": 242,
    "start_time": "2022-08-26T15:09:02.593Z"
   },
   {
    "duration": 196,
    "start_time": "2022-08-26T15:09:02.837Z"
   },
   {
    "duration": 229,
    "start_time": "2022-08-26T15:09:03.035Z"
   },
   {
    "duration": 242,
    "start_time": "2022-08-26T15:09:03.265Z"
   },
   {
    "duration": 237,
    "start_time": "2022-08-26T15:09:03.509Z"
   },
   {
    "duration": 234,
    "start_time": "2022-08-26T15:09:03.748Z"
   },
   {
    "duration": 220,
    "start_time": "2022-08-26T15:09:03.984Z"
   },
   {
    "duration": 256,
    "start_time": "2022-08-26T15:09:04.206Z"
   },
   {
    "duration": 243,
    "start_time": "2022-08-26T15:09:04.464Z"
   },
   {
    "duration": 459,
    "start_time": "2022-08-26T15:09:04.709Z"
   },
   {
    "duration": 248,
    "start_time": "2022-08-26T15:09:05.170Z"
   },
   {
    "duration": 250,
    "start_time": "2022-08-26T15:09:05.420Z"
   },
   {
    "duration": 230,
    "start_time": "2022-08-26T15:09:05.672Z"
   },
   {
    "duration": 250,
    "start_time": "2022-08-26T15:09:05.904Z"
   },
   {
    "duration": 332,
    "start_time": "2022-08-26T15:09:06.156Z"
   },
   {
    "duration": 417,
    "start_time": "2022-08-26T15:09:06.490Z"
   },
   {
    "duration": 6,
    "start_time": "2022-08-26T15:09:06.909Z"
   },
   {
    "duration": 220,
    "start_time": "2022-08-26T15:09:06.916Z"
   },
   {
    "duration": 5,
    "start_time": "2022-08-26T15:09:07.138Z"
   },
   {
    "duration": 233,
    "start_time": "2022-08-26T15:09:07.145Z"
   },
   {
    "duration": 5,
    "start_time": "2022-08-26T15:09:07.380Z"
   },
   {
    "duration": 219,
    "start_time": "2022-08-26T15:09:07.387Z"
   },
   {
    "duration": 5,
    "start_time": "2022-08-26T15:09:07.608Z"
   },
   {
    "duration": 224,
    "start_time": "2022-08-26T15:09:07.614Z"
   },
   {
    "duration": 5,
    "start_time": "2022-08-26T15:09:07.841Z"
   },
   {
    "duration": 210,
    "start_time": "2022-08-26T15:09:07.848Z"
   },
   {
    "duration": 224,
    "start_time": "2022-08-26T15:09:08.060Z"
   },
   {
    "duration": 220,
    "start_time": "2022-08-26T15:09:08.285Z"
   },
   {
    "duration": 82,
    "start_time": "2022-08-26T15:09:08.507Z"
   },
   {
    "duration": 0,
    "start_time": "2022-08-26T15:09:08.591Z"
   },
   {
    "duration": 0,
    "start_time": "2022-08-26T15:09:08.593Z"
   },
   {
    "duration": 0,
    "start_time": "2022-08-26T15:09:08.594Z"
   },
   {
    "duration": 245,
    "start_time": "2022-08-26T15:12:48.968Z"
   },
   {
    "duration": 24,
    "start_time": "2022-08-26T15:12:49.485Z"
   },
   {
    "duration": 149,
    "start_time": "2022-08-26T15:12:50.139Z"
   }
  ],
  "kernelspec": {
   "display_name": "Python 3 (ipykernel)",
   "language": "python",
   "name": "python3"
  },
  "language_info": {
   "codemirror_mode": {
    "name": "ipython",
    "version": 3
   },
   "file_extension": ".py",
   "mimetype": "text/x-python",
   "name": "python",
   "nbconvert_exporter": "python",
   "pygments_lexer": "ipython3",
   "version": "3.9.13"
  },
  "toc": {
   "base_numbering": 1,
   "nav_menu": {},
   "number_sections": true,
   "sideBar": true,
   "skip_h1_title": true,
   "title_cell": "Table of Contents",
   "title_sidebar": "Contents",
   "toc_cell": false,
   "toc_position": {
    "height": "calc(100% - 180px)",
    "left": "10px",
    "top": "150px",
    "width": "313.188px"
   },
   "toc_section_display": true,
   "toc_window_display": true
  }
 },
 "nbformat": 4,
 "nbformat_minor": 2
}
