{
 "cells": [
  {
   "cell_type": "markdown",
   "id": "c81daeeb",
   "metadata": {
    "deletable": false,
    "id": "c81daeeb"
   },
   "source": [
    "# Проект \"Предобработка данных\""
   ]
  },
  {
   "cell_type": "markdown",
   "id": "5634dca3",
   "metadata": {},
   "source": [
    "# Исследование надежности заемщиков"
   ]
  },
  {
   "cell_type": "markdown",
   "id": "862df67c",
   "metadata": {},
   "source": [
    "#### Описание проекта:\n",
    "#### Заказчик — кредитный отдел банка. Нужно разобраться, влияет ли семейное положение и количество детей клиента на факт погашения кредита в срок. Входные данные от банка — статистика о платёжеспособности клиентов.\n",
    "#### Результаты исследования будут учтены при построении модели кредитного скоринга — специальной системы, которая оценивает способность потенциального заёмщика вернуть кредит банку."
   ]
  },
  {
   "cell_type": "markdown",
   "id": "744d7639",
   "metadata": {
    "deletable": false,
    "id": "744d7639"
   },
   "source": [
    "## Откройте таблицу и изучите общую информацию о данных"
   ]
  },
  {
   "cell_type": "markdown",
   "id": "e7a14c31",
   "metadata": {
    "deletable": false,
    "id": "e7a14c31"
   },
   "source": [
    "**Задание 1. Импортируйте библиотеку pandas. Считайте данные из csv-файла в датафрейм и сохраните в переменную `data`. Путь к файлу:**\n",
    "\n",
    "`/datasets/data.csv`"
   ]
  },
  {
   "cell_type": "code",
   "execution_count": 1,
   "id": "7bcf75c9",
   "metadata": {
    "deletable": false,
    "id": "7bcf75c9"
   },
   "outputs": [],
   "source": [
    "import pandas as pd\n",
    "\n",
    "try:\n",
    "    data = pd.read_csv('/datasets/data.csv')\n",
    "except:\n",
    "    data = pd.read_csv('https://code.s3.yandex.net/datasets/data.csv')"
   ]
  },
  {
   "cell_type": "markdown",
   "id": "b8038fe3",
   "metadata": {
    "deletable": false,
    "id": "b8038fe3"
   },
   "source": [
    "**Задание 2. Выведите первые 20 строчек датафрейма `data` на экран.**"
   ]
  },
  {
   "cell_type": "code",
   "execution_count": 2,
   "id": "2a7cab99",
   "metadata": {
    "deletable": false,
    "id": "2a7cab99",
    "outputId": "1a8f3ef2-d323-4ec2-ddf7-89670b5944c4"
   },
   "outputs": [
    {
     "data": {
      "text/html": [
       "<div>\n",
       "<style scoped>\n",
       "    .dataframe tbody tr th:only-of-type {\n",
       "        vertical-align: middle;\n",
       "    }\n",
       "\n",
       "    .dataframe tbody tr th {\n",
       "        vertical-align: top;\n",
       "    }\n",
       "\n",
       "    .dataframe thead th {\n",
       "        text-align: right;\n",
       "    }\n",
       "</style>\n",
       "<table border=\"1\" class=\"dataframe\">\n",
       "  <thead>\n",
       "    <tr style=\"text-align: right;\">\n",
       "      <th></th>\n",
       "      <th>children</th>\n",
       "      <th>days_employed</th>\n",
       "      <th>dob_years</th>\n",
       "      <th>education</th>\n",
       "      <th>education_id</th>\n",
       "      <th>family_status</th>\n",
       "      <th>family_status_id</th>\n",
       "      <th>gender</th>\n",
       "      <th>income_type</th>\n",
       "      <th>debt</th>\n",
       "      <th>total_income</th>\n",
       "      <th>purpose</th>\n",
       "    </tr>\n",
       "  </thead>\n",
       "  <tbody>\n",
       "    <tr>\n",
       "      <th>0</th>\n",
       "      <td>1</td>\n",
       "      <td>-8437.673028</td>\n",
       "      <td>42</td>\n",
       "      <td>высшее</td>\n",
       "      <td>0</td>\n",
       "      <td>женат / замужем</td>\n",
       "      <td>0</td>\n",
       "      <td>F</td>\n",
       "      <td>сотрудник</td>\n",
       "      <td>0</td>\n",
       "      <td>253875.639453</td>\n",
       "      <td>покупка жилья</td>\n",
       "    </tr>\n",
       "    <tr>\n",
       "      <th>1</th>\n",
       "      <td>1</td>\n",
       "      <td>-4024.803754</td>\n",
       "      <td>36</td>\n",
       "      <td>среднее</td>\n",
       "      <td>1</td>\n",
       "      <td>женат / замужем</td>\n",
       "      <td>0</td>\n",
       "      <td>F</td>\n",
       "      <td>сотрудник</td>\n",
       "      <td>0</td>\n",
       "      <td>112080.014102</td>\n",
       "      <td>приобретение автомобиля</td>\n",
       "    </tr>\n",
       "    <tr>\n",
       "      <th>2</th>\n",
       "      <td>0</td>\n",
       "      <td>-5623.422610</td>\n",
       "      <td>33</td>\n",
       "      <td>Среднее</td>\n",
       "      <td>1</td>\n",
       "      <td>женат / замужем</td>\n",
       "      <td>0</td>\n",
       "      <td>M</td>\n",
       "      <td>сотрудник</td>\n",
       "      <td>0</td>\n",
       "      <td>145885.952297</td>\n",
       "      <td>покупка жилья</td>\n",
       "    </tr>\n",
       "    <tr>\n",
       "      <th>3</th>\n",
       "      <td>3</td>\n",
       "      <td>-4124.747207</td>\n",
       "      <td>32</td>\n",
       "      <td>среднее</td>\n",
       "      <td>1</td>\n",
       "      <td>женат / замужем</td>\n",
       "      <td>0</td>\n",
       "      <td>M</td>\n",
       "      <td>сотрудник</td>\n",
       "      <td>0</td>\n",
       "      <td>267628.550329</td>\n",
       "      <td>дополнительное образование</td>\n",
       "    </tr>\n",
       "    <tr>\n",
       "      <th>4</th>\n",
       "      <td>0</td>\n",
       "      <td>340266.072047</td>\n",
       "      <td>53</td>\n",
       "      <td>среднее</td>\n",
       "      <td>1</td>\n",
       "      <td>гражданский брак</td>\n",
       "      <td>1</td>\n",
       "      <td>F</td>\n",
       "      <td>пенсионер</td>\n",
       "      <td>0</td>\n",
       "      <td>158616.077870</td>\n",
       "      <td>сыграть свадьбу</td>\n",
       "    </tr>\n",
       "    <tr>\n",
       "      <th>5</th>\n",
       "      <td>0</td>\n",
       "      <td>-926.185831</td>\n",
       "      <td>27</td>\n",
       "      <td>высшее</td>\n",
       "      <td>0</td>\n",
       "      <td>гражданский брак</td>\n",
       "      <td>1</td>\n",
       "      <td>M</td>\n",
       "      <td>компаньон</td>\n",
       "      <td>0</td>\n",
       "      <td>255763.565419</td>\n",
       "      <td>покупка жилья</td>\n",
       "    </tr>\n",
       "    <tr>\n",
       "      <th>6</th>\n",
       "      <td>0</td>\n",
       "      <td>-2879.202052</td>\n",
       "      <td>43</td>\n",
       "      <td>высшее</td>\n",
       "      <td>0</td>\n",
       "      <td>женат / замужем</td>\n",
       "      <td>0</td>\n",
       "      <td>F</td>\n",
       "      <td>компаньон</td>\n",
       "      <td>0</td>\n",
       "      <td>240525.971920</td>\n",
       "      <td>операции с жильем</td>\n",
       "    </tr>\n",
       "    <tr>\n",
       "      <th>7</th>\n",
       "      <td>0</td>\n",
       "      <td>-152.779569</td>\n",
       "      <td>50</td>\n",
       "      <td>СРЕДНЕЕ</td>\n",
       "      <td>1</td>\n",
       "      <td>женат / замужем</td>\n",
       "      <td>0</td>\n",
       "      <td>M</td>\n",
       "      <td>сотрудник</td>\n",
       "      <td>0</td>\n",
       "      <td>135823.934197</td>\n",
       "      <td>образование</td>\n",
       "    </tr>\n",
       "    <tr>\n",
       "      <th>8</th>\n",
       "      <td>2</td>\n",
       "      <td>-6929.865299</td>\n",
       "      <td>35</td>\n",
       "      <td>ВЫСШЕЕ</td>\n",
       "      <td>0</td>\n",
       "      <td>гражданский брак</td>\n",
       "      <td>1</td>\n",
       "      <td>F</td>\n",
       "      <td>сотрудник</td>\n",
       "      <td>0</td>\n",
       "      <td>95856.832424</td>\n",
       "      <td>на проведение свадьбы</td>\n",
       "    </tr>\n",
       "    <tr>\n",
       "      <th>9</th>\n",
       "      <td>0</td>\n",
       "      <td>-2188.756445</td>\n",
       "      <td>41</td>\n",
       "      <td>среднее</td>\n",
       "      <td>1</td>\n",
       "      <td>женат / замужем</td>\n",
       "      <td>0</td>\n",
       "      <td>M</td>\n",
       "      <td>сотрудник</td>\n",
       "      <td>0</td>\n",
       "      <td>144425.938277</td>\n",
       "      <td>покупка жилья для семьи</td>\n",
       "    </tr>\n",
       "    <tr>\n",
       "      <th>10</th>\n",
       "      <td>2</td>\n",
       "      <td>-4171.483647</td>\n",
       "      <td>36</td>\n",
       "      <td>высшее</td>\n",
       "      <td>0</td>\n",
       "      <td>женат / замужем</td>\n",
       "      <td>0</td>\n",
       "      <td>M</td>\n",
       "      <td>компаньон</td>\n",
       "      <td>0</td>\n",
       "      <td>113943.491460</td>\n",
       "      <td>покупка недвижимости</td>\n",
       "    </tr>\n",
       "    <tr>\n",
       "      <th>11</th>\n",
       "      <td>0</td>\n",
       "      <td>-792.701887</td>\n",
       "      <td>40</td>\n",
       "      <td>среднее</td>\n",
       "      <td>1</td>\n",
       "      <td>женат / замужем</td>\n",
       "      <td>0</td>\n",
       "      <td>F</td>\n",
       "      <td>сотрудник</td>\n",
       "      <td>0</td>\n",
       "      <td>77069.234271</td>\n",
       "      <td>покупка коммерческой недвижимости</td>\n",
       "    </tr>\n",
       "    <tr>\n",
       "      <th>12</th>\n",
       "      <td>0</td>\n",
       "      <td>NaN</td>\n",
       "      <td>65</td>\n",
       "      <td>среднее</td>\n",
       "      <td>1</td>\n",
       "      <td>гражданский брак</td>\n",
       "      <td>1</td>\n",
       "      <td>M</td>\n",
       "      <td>пенсионер</td>\n",
       "      <td>0</td>\n",
       "      <td>NaN</td>\n",
       "      <td>сыграть свадьбу</td>\n",
       "    </tr>\n",
       "    <tr>\n",
       "      <th>13</th>\n",
       "      <td>0</td>\n",
       "      <td>-1846.641941</td>\n",
       "      <td>54</td>\n",
       "      <td>неоконченное высшее</td>\n",
       "      <td>2</td>\n",
       "      <td>женат / замужем</td>\n",
       "      <td>0</td>\n",
       "      <td>F</td>\n",
       "      <td>сотрудник</td>\n",
       "      <td>0</td>\n",
       "      <td>130458.228857</td>\n",
       "      <td>приобретение автомобиля</td>\n",
       "    </tr>\n",
       "    <tr>\n",
       "      <th>14</th>\n",
       "      <td>0</td>\n",
       "      <td>-1844.956182</td>\n",
       "      <td>56</td>\n",
       "      <td>высшее</td>\n",
       "      <td>0</td>\n",
       "      <td>гражданский брак</td>\n",
       "      <td>1</td>\n",
       "      <td>F</td>\n",
       "      <td>компаньон</td>\n",
       "      <td>1</td>\n",
       "      <td>165127.911772</td>\n",
       "      <td>покупка жилой недвижимости</td>\n",
       "    </tr>\n",
       "    <tr>\n",
       "      <th>15</th>\n",
       "      <td>1</td>\n",
       "      <td>-972.364419</td>\n",
       "      <td>26</td>\n",
       "      <td>среднее</td>\n",
       "      <td>1</td>\n",
       "      <td>женат / замужем</td>\n",
       "      <td>0</td>\n",
       "      <td>F</td>\n",
       "      <td>сотрудник</td>\n",
       "      <td>0</td>\n",
       "      <td>116820.904450</td>\n",
       "      <td>строительство собственной недвижимости</td>\n",
       "    </tr>\n",
       "    <tr>\n",
       "      <th>16</th>\n",
       "      <td>0</td>\n",
       "      <td>-1719.934226</td>\n",
       "      <td>35</td>\n",
       "      <td>среднее</td>\n",
       "      <td>1</td>\n",
       "      <td>женат / замужем</td>\n",
       "      <td>0</td>\n",
       "      <td>F</td>\n",
       "      <td>сотрудник</td>\n",
       "      <td>0</td>\n",
       "      <td>289202.704229</td>\n",
       "      <td>недвижимость</td>\n",
       "    </tr>\n",
       "    <tr>\n",
       "      <th>17</th>\n",
       "      <td>0</td>\n",
       "      <td>-2369.999720</td>\n",
       "      <td>33</td>\n",
       "      <td>высшее</td>\n",
       "      <td>0</td>\n",
       "      <td>гражданский брак</td>\n",
       "      <td>1</td>\n",
       "      <td>M</td>\n",
       "      <td>сотрудник</td>\n",
       "      <td>0</td>\n",
       "      <td>90410.586745</td>\n",
       "      <td>строительство недвижимости</td>\n",
       "    </tr>\n",
       "    <tr>\n",
       "      <th>18</th>\n",
       "      <td>0</td>\n",
       "      <td>400281.136913</td>\n",
       "      <td>53</td>\n",
       "      <td>среднее</td>\n",
       "      <td>1</td>\n",
       "      <td>вдовец / вдова</td>\n",
       "      <td>2</td>\n",
       "      <td>F</td>\n",
       "      <td>пенсионер</td>\n",
       "      <td>0</td>\n",
       "      <td>56823.777243</td>\n",
       "      <td>на покупку подержанного автомобиля</td>\n",
       "    </tr>\n",
       "    <tr>\n",
       "      <th>19</th>\n",
       "      <td>0</td>\n",
       "      <td>-10038.818549</td>\n",
       "      <td>48</td>\n",
       "      <td>СРЕДНЕЕ</td>\n",
       "      <td>1</td>\n",
       "      <td>в разводе</td>\n",
       "      <td>3</td>\n",
       "      <td>F</td>\n",
       "      <td>сотрудник</td>\n",
       "      <td>0</td>\n",
       "      <td>242831.107982</td>\n",
       "      <td>на покупку своего автомобиля</td>\n",
       "    </tr>\n",
       "  </tbody>\n",
       "</table>\n",
       "</div>"
      ],
      "text/plain": [
       "    children  days_employed  dob_years            education  education_id  \\\n",
       "0          1   -8437.673028         42               высшее             0   \n",
       "1          1   -4024.803754         36              среднее             1   \n",
       "2          0   -5623.422610         33              Среднее             1   \n",
       "3          3   -4124.747207         32              среднее             1   \n",
       "4          0  340266.072047         53              среднее             1   \n",
       "5          0    -926.185831         27               высшее             0   \n",
       "6          0   -2879.202052         43               высшее             0   \n",
       "7          0    -152.779569         50              СРЕДНЕЕ             1   \n",
       "8          2   -6929.865299         35               ВЫСШЕЕ             0   \n",
       "9          0   -2188.756445         41              среднее             1   \n",
       "10         2   -4171.483647         36               высшее             0   \n",
       "11         0    -792.701887         40              среднее             1   \n",
       "12         0            NaN         65              среднее             1   \n",
       "13         0   -1846.641941         54  неоконченное высшее             2   \n",
       "14         0   -1844.956182         56               высшее             0   \n",
       "15         1    -972.364419         26              среднее             1   \n",
       "16         0   -1719.934226         35              среднее             1   \n",
       "17         0   -2369.999720         33               высшее             0   \n",
       "18         0  400281.136913         53              среднее             1   \n",
       "19         0  -10038.818549         48              СРЕДНЕЕ             1   \n",
       "\n",
       "       family_status  family_status_id gender income_type  debt  \\\n",
       "0    женат / замужем                 0      F   сотрудник     0   \n",
       "1    женат / замужем                 0      F   сотрудник     0   \n",
       "2    женат / замужем                 0      M   сотрудник     0   \n",
       "3    женат / замужем                 0      M   сотрудник     0   \n",
       "4   гражданский брак                 1      F   пенсионер     0   \n",
       "5   гражданский брак                 1      M   компаньон     0   \n",
       "6    женат / замужем                 0      F   компаньон     0   \n",
       "7    женат / замужем                 0      M   сотрудник     0   \n",
       "8   гражданский брак                 1      F   сотрудник     0   \n",
       "9    женат / замужем                 0      M   сотрудник     0   \n",
       "10   женат / замужем                 0      M   компаньон     0   \n",
       "11   женат / замужем                 0      F   сотрудник     0   \n",
       "12  гражданский брак                 1      M   пенсионер     0   \n",
       "13   женат / замужем                 0      F   сотрудник     0   \n",
       "14  гражданский брак                 1      F   компаньон     1   \n",
       "15   женат / замужем                 0      F   сотрудник     0   \n",
       "16   женат / замужем                 0      F   сотрудник     0   \n",
       "17  гражданский брак                 1      M   сотрудник     0   \n",
       "18    вдовец / вдова                 2      F   пенсионер     0   \n",
       "19         в разводе                 3      F   сотрудник     0   \n",
       "\n",
       "     total_income                                 purpose  \n",
       "0   253875.639453                           покупка жилья  \n",
       "1   112080.014102                 приобретение автомобиля  \n",
       "2   145885.952297                           покупка жилья  \n",
       "3   267628.550329              дополнительное образование  \n",
       "4   158616.077870                         сыграть свадьбу  \n",
       "5   255763.565419                           покупка жилья  \n",
       "6   240525.971920                       операции с жильем  \n",
       "7   135823.934197                             образование  \n",
       "8    95856.832424                   на проведение свадьбы  \n",
       "9   144425.938277                 покупка жилья для семьи  \n",
       "10  113943.491460                    покупка недвижимости  \n",
       "11   77069.234271       покупка коммерческой недвижимости  \n",
       "12            NaN                         сыграть свадьбу  \n",
       "13  130458.228857                 приобретение автомобиля  \n",
       "14  165127.911772              покупка жилой недвижимости  \n",
       "15  116820.904450  строительство собственной недвижимости  \n",
       "16  289202.704229                            недвижимость  \n",
       "17   90410.586745              строительство недвижимости  \n",
       "18   56823.777243      на покупку подержанного автомобиля  \n",
       "19  242831.107982            на покупку своего автомобиля  "
      ]
     },
     "execution_count": 2,
     "metadata": {},
     "output_type": "execute_result"
    }
   ],
   "source": [
    "data.head(20)"
   ]
  },
  {
   "cell_type": "markdown",
   "id": "1c12e233",
   "metadata": {
    "deletable": false,
    "id": "1c12e233"
   },
   "source": [
    "**Задание 3. Выведите основную информацию о датафрейме с помощью метода `info()`.**"
   ]
  },
  {
   "cell_type": "code",
   "execution_count": 3,
   "id": "2b757bca",
   "metadata": {
    "deletable": false,
    "id": "2b757bca",
    "outputId": "15376089-8dad-46c9-b520-c05248d43158"
   },
   "outputs": [
    {
     "name": "stdout",
     "output_type": "stream",
     "text": [
      "<class 'pandas.core.frame.DataFrame'>\n",
      "RangeIndex: 21525 entries, 0 to 21524\n",
      "Data columns (total 12 columns):\n",
      " #   Column            Non-Null Count  Dtype  \n",
      "---  ------            --------------  -----  \n",
      " 0   children          21525 non-null  int64  \n",
      " 1   days_employed     19351 non-null  float64\n",
      " 2   dob_years         21525 non-null  int64  \n",
      " 3   education         21525 non-null  object \n",
      " 4   education_id      21525 non-null  int64  \n",
      " 5   family_status     21525 non-null  object \n",
      " 6   family_status_id  21525 non-null  int64  \n",
      " 7   gender            21525 non-null  object \n",
      " 8   income_type       21525 non-null  object \n",
      " 9   debt              21525 non-null  int64  \n",
      " 10  total_income      19351 non-null  float64\n",
      " 11  purpose           21525 non-null  object \n",
      "dtypes: float64(2), int64(5), object(5)\n",
      "memory usage: 2.0+ MB\n"
     ]
    }
   ],
   "source": [
    "data.info()"
   ]
  },
  {
   "cell_type": "markdown",
   "id": "333ec665",
   "metadata": {
    "deletable": false,
    "id": "333ec665"
   },
   "source": [
    "## Предобработка данных"
   ]
  },
  {
   "cell_type": "markdown",
   "id": "02d92d53",
   "metadata": {
    "deletable": false,
    "id": "02d92d53"
   },
   "source": [
    "### Удаление пропусков"
   ]
  },
  {
   "cell_type": "markdown",
   "id": "cd84967c",
   "metadata": {
    "deletable": false,
    "id": "cd84967c"
   },
   "source": [
    "**Задание 4. Выведите количество пропущенных значений для каждого столбца. Используйте комбинацию двух методов.**"
   ]
  },
  {
   "cell_type": "code",
   "execution_count": 4,
   "id": "7f9b2309",
   "metadata": {
    "deletable": false,
    "id": "7f9b2309",
    "outputId": "81f4d817-781c-465c-ed15-91ce4446810d"
   },
   "outputs": [
    {
     "data": {
      "text/plain": [
       "children               0\n",
       "days_employed       2174\n",
       "dob_years              0\n",
       "education              0\n",
       "education_id           0\n",
       "family_status          0\n",
       "family_status_id       0\n",
       "gender                 0\n",
       "income_type            0\n",
       "debt                   0\n",
       "total_income        2174\n",
       "purpose                0\n",
       "dtype: int64"
      ]
     },
     "execution_count": 4,
     "metadata": {},
     "output_type": "execute_result"
    }
   ],
   "source": [
    "data.isna().sum()"
   ]
  },
  {
   "cell_type": "markdown",
   "id": "db86e27b",
   "metadata": {
    "deletable": false,
    "id": "db86e27b"
   },
   "source": [
    "**Задание 5. В двух столбцах есть пропущенные значения. Один из них — `days_employed`. Пропуски в этом столбце вы обработаете на следующем этапе. Другой столбец с пропущенными значениями — `total_income` — хранит данные о доходах. На сумму дохода сильнее всего влияет тип занятости, поэтому заполнить пропуски в этом столбце нужно медианным значением по каждому типу из столбца `income_type`. Например, у человека с типом занятости `сотрудник` пропуск в столбце `total_income` должен быть заполнен медианным доходом среди всех записей с тем же типом.**"
   ]
  },
  {
   "cell_type": "code",
   "execution_count": 5,
   "id": "42006a93",
   "metadata": {
    "deletable": false,
    "id": "42006a93"
   },
   "outputs": [],
   "source": [
    "for t in data['income_type'].unique():\n",
    "    data.loc[(data['income_type'] == t) & (data['total_income'].isna()), 'total_income'] = \\\n",
    "    data.loc[(data['income_type'] == t), 'total_income'].median()"
   ]
  },
  {
   "cell_type": "markdown",
   "id": "89da5ece",
   "metadata": {
    "deletable": false,
    "id": "89da5ece"
   },
   "source": [
    "### Обработка аномальных значений"
   ]
  },
  {
   "cell_type": "markdown",
   "id": "57964554",
   "metadata": {
    "deletable": false,
    "id": "57964554"
   },
   "source": [
    "**Задание 6. В данных могут встречаться артефакты (аномалии) — значения, которые не отражают действительность и появились по какой-то ошибке. таким артефактом будет отрицательное количество дней трудового стажа в столбце `days_employed`. Для реальных данных это нормально. Обработайте значения в этом столбце: замените все отрицательные значения положительными с помощью метода `abs()`.**"
   ]
  },
  {
   "cell_type": "code",
   "execution_count": 6,
   "id": "f6f055bf",
   "metadata": {
    "deletable": false,
    "id": "f6f055bf"
   },
   "outputs": [],
   "source": [
    "data['days_employed'] = data['days_employed'].abs()"
   ]
  },
  {
   "cell_type": "markdown",
   "id": "6107dd2f",
   "metadata": {
    "deletable": false,
    "id": "6107dd2f"
   },
   "source": [
    "**Задание 7. Для каждого типа занятости выведите медианное значение трудового стажа `days_employed` в днях.**"
   ]
  },
  {
   "cell_type": "code",
   "execution_count": 7,
   "id": "85a5faf6",
   "metadata": {
    "deletable": false,
    "id": "85a5faf6",
    "outputId": "801ef80e-522b-4668-f34e-565af7432bcf"
   },
   "outputs": [
    {
     "data": {
      "text/plain": [
       "income_type\n",
       "безработный        366413.652744\n",
       "в декрете            3296.759962\n",
       "госслужащий          2689.368353\n",
       "компаньон            1547.382223\n",
       "пенсионер          365213.306266\n",
       "предприниматель       520.848083\n",
       "сотрудник            1574.202821\n",
       "студент               578.751554\n",
       "Name: days_employed, dtype: float64"
      ]
     },
     "execution_count": 7,
     "metadata": {},
     "output_type": "execute_result"
    }
   ],
   "source": [
    "data.groupby('income_type')['days_employed'].agg('median')"
   ]
  },
  {
   "cell_type": "markdown",
   "id": "38d1a030",
   "metadata": {
    "deletable": false,
    "id": "38d1a030"
   },
   "source": [
    "У двух типов (безработные и пенсионеры) получатся аномально большие значения. Исправить такие значения сложно, поэтому оставьте их как есть. Тем более этот столбец не понадобится вам для исследования."
   ]
  },
  {
   "cell_type": "markdown",
   "id": "d8a9f147",
   "metadata": {
    "deletable": false,
    "id": "d8a9f147"
   },
   "source": [
    "**Задание 8. Выведите перечень уникальных значений столбца `children`.**"
   ]
  },
  {
   "cell_type": "code",
   "execution_count": 8,
   "id": "ef5056eb",
   "metadata": {
    "deletable": false,
    "id": "ef5056eb",
    "outputId": "6975b15c-7f95-4697-d16d-a0c79b657b03"
   },
   "outputs": [
    {
     "data": {
      "text/plain": [
       "array([ 1,  0,  3,  2, -1,  4, 20,  5])"
      ]
     },
     "execution_count": 8,
     "metadata": {},
     "output_type": "execute_result"
    }
   ],
   "source": [
    "data['children'].unique()"
   ]
  },
  {
   "cell_type": "markdown",
   "id": "40b9ebf2",
   "metadata": {
    "deletable": false,
    "id": "40b9ebf2"
   },
   "source": [
    "**Задание 9. В столбце `children` есть два аномальных значения. Удалите строки, в которых встречаются такие аномальные значения из датафрейма `data`.**"
   ]
  },
  {
   "cell_type": "code",
   "execution_count": 9,
   "id": "3ff9801d",
   "metadata": {
    "deletable": false,
    "id": "3ff9801d"
   },
   "outputs": [],
   "source": [
    "data = data[(data['children'] != -1) & (data['children'] != 20)]"
   ]
  },
  {
   "cell_type": "markdown",
   "id": "bbc4d0ce",
   "metadata": {
    "deletable": false,
    "id": "bbc4d0ce"
   },
   "source": [
    "**Задание 10. Ещё раз выведите перечень уникальных значений столбца `children`, чтобы убедиться, что артефакты удалены.**"
   ]
  },
  {
   "cell_type": "code",
   "execution_count": 10,
   "id": "ad4fa8b7",
   "metadata": {
    "deletable": false,
    "id": "ad4fa8b7",
    "outputId": "b2097101-d49d-44d9-901b-32a65c9463d1"
   },
   "outputs": [
    {
     "data": {
      "text/plain": [
       "array([1, 0, 3, 2, 4, 5])"
      ]
     },
     "execution_count": 10,
     "metadata": {},
     "output_type": "execute_result"
    }
   ],
   "source": [
    "data['children'].unique()"
   ]
  },
  {
   "cell_type": "markdown",
   "id": "75440b63",
   "metadata": {
    "deletable": false,
    "id": "75440b63"
   },
   "source": [
    "### Удаление пропусков (продолжение)"
   ]
  },
  {
   "cell_type": "markdown",
   "id": "f4ea573f",
   "metadata": {
    "deletable": false,
    "id": "f4ea573f"
   },
   "source": [
    "**Задание 11. Заполните пропуски в столбце `days_employed` медианными значениями по каждого типа занятости `income_type`.**"
   ]
  },
  {
   "cell_type": "code",
   "execution_count": 11,
   "id": "af6b1a7e",
   "metadata": {
    "deletable": false,
    "id": "af6b1a7e"
   },
   "outputs": [],
   "source": [
    "for t in data['income_type'].unique():\n",
    "    data.loc[(data['income_type'] == t) & (data['days_employed'].isna()), 'days_employed'] = \\\n",
    "    data.loc[(data['income_type'] == t), 'days_employed'].median()"
   ]
  },
  {
   "cell_type": "markdown",
   "id": "2753f40d",
   "metadata": {
    "deletable": false,
    "id": "2753f40d"
   },
   "source": [
    "**Задание 12. Убедитесь, что все пропуски заполнены. Проверьте себя и ещё раз выведите количество пропущенных значений для каждого столбца с помощью двух методов.**"
   ]
  },
  {
   "cell_type": "code",
   "execution_count": 12,
   "id": "55f78bc2",
   "metadata": {
    "deletable": false,
    "id": "55f78bc2",
    "outputId": "8da1e4e1-358e-4e87-98c9-f261bce0a7b2"
   },
   "outputs": [
    {
     "data": {
      "text/plain": [
       "children            0\n",
       "days_employed       0\n",
       "dob_years           0\n",
       "education           0\n",
       "education_id        0\n",
       "family_status       0\n",
       "family_status_id    0\n",
       "gender              0\n",
       "income_type         0\n",
       "debt                0\n",
       "total_income        0\n",
       "purpose             0\n",
       "dtype: int64"
      ]
     },
     "execution_count": 12,
     "metadata": {},
     "output_type": "execute_result"
    }
   ],
   "source": [
    "data.isna().sum()"
   ]
  },
  {
   "cell_type": "markdown",
   "id": "ddc81e43",
   "metadata": {
    "deletable": false,
    "id": "ddc81e43"
   },
   "source": [
    "### Изменение типов данных"
   ]
  },
  {
   "cell_type": "markdown",
   "id": "42d19d24",
   "metadata": {
    "deletable": false,
    "id": "42d19d24"
   },
   "source": [
    "**Задание 13. Замените вещественный тип данных в столбце `total_income` на целочисленный с помощью метода `astype()`.**"
   ]
  },
  {
   "cell_type": "code",
   "execution_count": 13,
   "id": "920b65ad",
   "metadata": {
    "deletable": false,
    "id": "920b65ad"
   },
   "outputs": [],
   "source": [
    "data['total_income'] = data['total_income'].astype(int)"
   ]
  },
  {
   "cell_type": "markdown",
   "id": "80c420ba",
   "metadata": {
    "deletable": false,
    "id": "80c420ba"
   },
   "source": [
    "### Обработка дубликатов"
   ]
  },
  {
   "cell_type": "markdown",
   "id": "dc587695",
   "metadata": {
    "deletable": false,
    "id": "dc587695"
   },
   "source": [
    "**Задание 14. Выведите на экран количество строк-дубликатов в данных. Если такие строки присутствуют, удалите их.**"
   ]
  },
  {
   "cell_type": "code",
   "execution_count": 14,
   "id": "3ee445e4",
   "metadata": {
    "deletable": false,
    "id": "3ee445e4",
    "outputId": "9684deba-1934-42d1-99e1-cda61740f822"
   },
   "outputs": [
    {
     "data": {
      "text/plain": [
       "54"
      ]
     },
     "execution_count": 14,
     "metadata": {},
     "output_type": "execute_result"
    }
   ],
   "source": [
    "data.duplicated().sum()"
   ]
  },
  {
   "cell_type": "code",
   "execution_count": 15,
   "id": "8575fe05",
   "metadata": {
    "deletable": false,
    "id": "8575fe05"
   },
   "outputs": [],
   "source": [
    "data = data.drop_duplicates()"
   ]
  },
  {
   "cell_type": "markdown",
   "id": "9771a76c",
   "metadata": {
    "deletable": false,
    "id": "9771a76c"
   },
   "source": [
    "**Задание 15. Обработайте неявные дубликаты в столбце `education`. В этом столбце есть одни и те же значения, но записанные по-разному: с использованием заглавных и строчных букв. Приведите их к нижнему регистру. Проверьте остальные столбцы.**"
   ]
  },
  {
   "cell_type": "code",
   "execution_count": 16,
   "id": "a9f8e2bf",
   "metadata": {
    "deletable": false,
    "id": "a9f8e2bf"
   },
   "outputs": [],
   "source": [
    "data['education'] = data['education'].str.lower()"
   ]
  },
  {
   "cell_type": "markdown",
   "id": "9904cf55",
   "metadata": {
    "deletable": false,
    "id": "9904cf55"
   },
   "source": [
    "### Категоризация данных"
   ]
  },
  {
   "cell_type": "markdown",
   "id": "72fcc8a2",
   "metadata": {
    "deletable": false,
    "id": "72fcc8a2"
   },
   "source": [
    "**Задание 16. На основании диапазонов, указанных ниже, создайте в датафрейме `data` столбец `total_income_category` с категориями:**\n",
    "\n",
    "- 0–30000 — `'E'`;\n",
    "- 30001–50000 — `'D'`;\n",
    "- 50001–200000 — `'C'`;\n",
    "- 200001–1000000 — `'B'`;\n",
    "- 1000001 и выше — `'A'`.\n",
    "\n",
    "\n",
    "**Например, кредитополучателю с доходом 25000 нужно назначить категорию `'E'`, а клиенту, получающему 235000, — `'B'`. Используйте собственную функцию с именем `categorize_income()` и метод `apply()`.**"
   ]
  },
  {
   "cell_type": "code",
   "execution_count": 17,
   "id": "e1771346",
   "metadata": {
    "deletable": false,
    "id": "e1771346"
   },
   "outputs": [],
   "source": [
    "def categorize_income(income):\n",
    "    try:\n",
    "        if 0 <= income <= 30000:\n",
    "            return 'E'\n",
    "        elif 30001 <= income <= 50000:\n",
    "            return 'D'\n",
    "        elif 50001 <= income <= 200000:\n",
    "            return 'C'\n",
    "        elif 200001 <= income <= 1000000:\n",
    "            return 'B'\n",
    "        elif income >= 1000001:\n",
    "            return 'A'\n",
    "    except:\n",
    "        pass"
   ]
  },
  {
   "cell_type": "code",
   "execution_count": 18,
   "id": "d5f3586d",
   "metadata": {
    "deletable": false,
    "id": "d5f3586d"
   },
   "outputs": [],
   "source": [
    "data['total_income_category'] = data['total_income'].apply(categorize_income)"
   ]
  },
  {
   "cell_type": "markdown",
   "id": "dde49b5c",
   "metadata": {
    "deletable": false,
    "id": "dde49b5c"
   },
   "source": [
    "**Задание 17. Выведите на экран перечень уникальных целей взятия кредита из столбца `purpose`.**"
   ]
  },
  {
   "cell_type": "code",
   "execution_count": 19,
   "id": "f67ce9b3",
   "metadata": {
    "deletable": false,
    "id": "f67ce9b3",
    "outputId": "673c12d9-7d7e-4ae0-9812-c622c89dd244"
   },
   "outputs": [
    {
     "data": {
      "text/plain": [
       "array(['покупка жилья', 'приобретение автомобиля',\n",
       "       'дополнительное образование', 'сыграть свадьбу',\n",
       "       'операции с жильем', 'образование', 'на проведение свадьбы',\n",
       "       'покупка жилья для семьи', 'покупка недвижимости',\n",
       "       'покупка коммерческой недвижимости', 'покупка жилой недвижимости',\n",
       "       'строительство собственной недвижимости', 'недвижимость',\n",
       "       'строительство недвижимости', 'на покупку подержанного автомобиля',\n",
       "       'на покупку своего автомобиля',\n",
       "       'операции с коммерческой недвижимостью',\n",
       "       'строительство жилой недвижимости', 'жилье',\n",
       "       'операции со своей недвижимостью', 'автомобили',\n",
       "       'заняться образованием', 'сделка с подержанным автомобилем',\n",
       "       'получение образования', 'автомобиль', 'свадьба',\n",
       "       'получение дополнительного образования', 'покупка своего жилья',\n",
       "       'операции с недвижимостью', 'получение высшего образования',\n",
       "       'свой автомобиль', 'сделка с автомобилем',\n",
       "       'профильное образование', 'высшее образование',\n",
       "       'покупка жилья для сдачи', 'на покупку автомобиля', 'ремонт жилью',\n",
       "       'заняться высшим образованием'], dtype=object)"
      ]
     },
     "execution_count": 19,
     "metadata": {},
     "output_type": "execute_result"
    }
   ],
   "source": [
    "data['purpose'].unique()"
   ]
  },
  {
   "cell_type": "markdown",
   "id": "85d0aef0",
   "metadata": {
    "deletable": false,
    "id": "85d0aef0"
   },
   "source": [
    "**Задание 18. Создайте функцию, которая на основании данных из столбца `purpose` сформирует новый столбец `purpose_category`, в который войдут следующие категории:**\n",
    "\n",
    "- `'операции с автомобилем'`,\n",
    "- `'операции с недвижимостью'`,\n",
    "- `'проведение свадьбы'`,\n",
    "- `'получение образования'`.\n",
    "\n",
    "**Например, если в столбце `purpose` находится подстрока `'на покупку автомобиля'`, то в столбце `purpose_category` должна появиться строка `'операции с автомобилем'`.**\n",
    "\n",
    "**Используйте собственную функцию с именем `categorize_purpose()` и метод `apply()`. Изучите данные в столбце `purpose` и определите, какие подстроки помогут вам правильно определить категорию.**"
   ]
  },
  {
   "cell_type": "code",
   "execution_count": 20,
   "id": "e149fab4",
   "metadata": {
    "deletable": false,
    "id": "e149fab4"
   },
   "outputs": [],
   "source": [
    "def categorize_purpose(row):\n",
    "    try:\n",
    "        if 'автом' in row:\n",
    "            return 'операции с автомобилем'\n",
    "        elif 'жил' in row or 'недвиж' in row:\n",
    "            return 'операции с недвижимостью'\n",
    "        elif 'свад' in row:\n",
    "            return 'проведение свадьбы'\n",
    "        elif 'образов' in row:\n",
    "            return 'получение образования'\n",
    "    except:\n",
    "        return 'нет категории'"
   ]
  },
  {
   "cell_type": "code",
   "execution_count": 21,
   "id": "bf36e69b",
   "metadata": {
    "deletable": false,
    "id": "bf36e69b"
   },
   "outputs": [],
   "source": [
    "data['purpose_category'] = data['purpose'].apply(categorize_purpose)"
   ]
  },
  {
   "cell_type": "markdown",
   "id": "09b242bf",
   "metadata": {
    "deletable": false,
    "editable": false,
    "id": "09b242bf"
   },
   "source": [
    "## Исследуйте данные и ответьте на вопросы"
   ]
  },
  {
   "cell_type": "markdown",
   "id": "c5d66278",
   "metadata": {
    "deletable": false,
    "editable": false,
    "id": "c5d66278"
   },
   "source": [
    "**Задание 19. Есть ли зависимость между количеством детей и возвратом кредита в срок?**"
   ]
  },
  {
   "cell_type": "code",
   "execution_count": 22,
   "id": "2cacfc4a",
   "metadata": {
    "id": "2cacfc4a"
   },
   "outputs": [],
   "source": [
    "#определяем функцию, делящию заёмщиков на категории по количеству детей, применяем try/except на случай некорректных значений:\n",
    "\n",
    "def categorize_children(children):\n",
    "    try:\n",
    "        if children == 0:\n",
    "            return '0'\n",
    "        elif children == 1:\n",
    "            return '1'\n",
    "        elif children == 2:\n",
    "            return '2'\n",
    "        elif children == 3:\n",
    "            return '3'\n",
    "        elif children >= 4:\n",
    "            return '4+'\n",
    "    except:\n",
    "        pass\n"
   ]
  },
  {
   "cell_type": "code",
   "execution_count": 23,
   "id": "bb0678c0",
   "metadata": {},
   "outputs": [
    {
     "name": "stdout",
     "output_type": "stream",
     "text": [
      "children_category\n",
      "2     9.45\n",
      "1     9.23\n",
      "3     8.18\n",
      "4+    8.00\n",
      "0     7.54\n",
      "Name: debt, dtype: float64\n"
     ]
    }
   ],
   "source": [
    "#применяем функцию к столбцу с количеством детей, создаём новый столбец с категориями:\n",
    "\n",
    "data['children_category'] = data['children'].apply(categorize_children)\n",
    "\n",
    "#группируем данные по количеству детей заёмщиков, находим среднее значение столбца 'debt' в процентах для каждой категории:\n",
    "\n",
    "data_grouped = data.groupby('children_category')['debt'].mean().round(4).sort_values(ascending=False) * 100\n",
    "\n",
    "#выводим результат:\n",
    "\n",
    "print(data_grouped)"
   ]
  },
  {
   "cell_type": "markdown",
   "id": "a223fc7f",
   "metadata": {},
   "source": [
    "Исследование показывает наличие зависимости между количеством детей заёмщика и возвратом кредита в срок. Из переменной data_grouped мы видим, что процент просроченных кредитов больше всего у категории заёмщиков с двумя детьми - 9.45 %, меньше всего у категории заёмщиков без детей - 7.54 %."
   ]
  },
  {
   "cell_type": "markdown",
   "id": "3a6b99ec",
   "metadata": {
    "deletable": false,
    "id": "3a6b99ec"
   },
   "source": [
    " "
   ]
  },
  {
   "cell_type": "markdown",
   "id": "97be82ca",
   "metadata": {
    "deletable": false,
    "editable": false,
    "id": "97be82ca"
   },
   "source": [
    "**Задание 20. Есть ли зависимость между семейным положением и возвратом кредита в срок?**"
   ]
  },
  {
   "cell_type": "code",
   "execution_count": 24,
   "id": "dc3f7ee8",
   "metadata": {
    "id": "dc3f7ee8"
   },
   "outputs": [
    {
     "name": "stdout",
     "output_type": "stream",
     "text": [
      "family_status\n",
      "Не женат / не замужем    9.76\n",
      "гражданский брак         9.29\n",
      "женат / замужем          7.56\n",
      "в разводе                7.06\n",
      "вдовец / вдова           6.62\n",
      "Name: debt, dtype: float64\n"
     ]
    }
   ],
   "source": [
    "#группируем данные по семейному положению заёмщиков, находим среднее значение столбца 'debt' в процентах для каждой категории:\n",
    "\n",
    "data_grouped = data.groupby('family_status')['debt'].mean().round(4).sort_values(ascending=False) * 100\n",
    "\n",
    "#выводим результат:\n",
    "\n",
    "print(data_grouped)"
   ]
  },
  {
   "cell_type": "markdown",
   "id": "1cef7837",
   "metadata": {
    "deletable": false,
    "id": "1cef7837"
   },
   "source": [
    "Исследование показывает наличие зависимости между семейным положением заёмщика и возвратом кредита в срок. Из переменной data_grouped мы видим, что процент просроченных кредитов больше всего у не женатых (не замужних) заёмщиков - 9.76 %, меньше всего у вдовцов (вдов) - 6.62 %."
   ]
  },
  {
   "cell_type": "markdown",
   "id": "1e8b2fca",
   "metadata": {
    "deletable": false,
    "editable": false,
    "id": "1e8b2fca"
   },
   "source": [
    "**Задание 21. Есть ли зависимость между уровнем дохода и возвратом кредита в срок?**"
   ]
  },
  {
   "cell_type": "code",
   "execution_count": 25,
   "id": "cd7e3720",
   "metadata": {
    "id": "cd7e3720"
   },
   "outputs": [
    {
     "name": "stdout",
     "output_type": "stream",
     "text": [
      "total_income_category\n",
      "E    9.09\n",
      "C    8.49\n",
      "A    8.00\n",
      "B    7.06\n",
      "D    6.02\n",
      "Name: debt, dtype: float64\n"
     ]
    }
   ],
   "source": [
    "#группируем данные по доходу заёмщиков, находим среднее значение столбца 'debt' в процентах для каждой категории:\n",
    "\n",
    "data_grouped = data.groupby('total_income_category')['debt'].mean().round(4).sort_values(ascending=False) * 100\n",
    "\n",
    "#выводим результат:\n",
    "\n",
    "print(data_grouped)"
   ]
  },
  {
   "cell_type": "markdown",
   "id": "e8593def",
   "metadata": {
    "deletable": false,
    "id": "e8593def"
   },
   "source": [
    "Исследование показывает наличие зависимости между уровнем дохода заёмщика и возвратом кредита в срок. Из переменной data_grouped мы видим, что процент просроченных кредитов больше всего у заёмщиков категории 'E' (0 – 30000) - 9.09 %, меньше всего у категории 'D' (30001 – 50000) - 6.02 %."
   ]
  },
  {
   "cell_type": "markdown",
   "id": "99ecbd1f",
   "metadata": {
    "deletable": false,
    "editable": false,
    "id": "99ecbd1f"
   },
   "source": [
    "**Задание 22. Как разные цели кредита влияют на его возврат в срок?**"
   ]
  },
  {
   "cell_type": "code",
   "execution_count": 26,
   "id": "2b687290",
   "metadata": {
    "id": "2b687290"
   },
   "outputs": [
    {
     "name": "stdout",
     "output_type": "stream",
     "text": [
      "purpose_category\n",
      "операции с автомобилем      9.34\n",
      "получение образования       9.25\n",
      "проведение свадьбы          7.87\n",
      "операции с недвижимостью    7.25\n",
      "Name: debt, dtype: float64\n"
     ]
    }
   ],
   "source": [
    "#группируем данные по цели кредита, находим среднее значение столбца 'debt' в процентах для каждой категории:\n",
    "\n",
    "data_grouped = data.groupby('purpose_category')['debt'].mean().round(4).sort_values(ascending=False) * 100\n",
    "\n",
    "#выводим результат:\n",
    "\n",
    "print(data_grouped)"
   ]
  },
  {
   "cell_type": "markdown",
   "id": "b4bb2ce6",
   "metadata": {
    "deletable": false,
    "id": "b4bb2ce6"
   },
   "source": [
    "Исследование показывает наличие зависимости между целью кредита и его возвратом в срок. Из переменной data_grouped мы видим, что процент просроченных кредитов больше всего у заёмщиков, взявших кредит на операции с автомобилем - 9.34 %, меньше всего у категории заёмщиков, взявших кредит на операции с недвижимостью - 7.25 %."
   ]
  },
  {
   "cell_type": "markdown",
   "id": "09c3ac4c",
   "metadata": {
    "deletable": false,
    "editable": false,
    "id": "09c3ac4c"
   },
   "source": [
    "**Задание 23. Приведите возможные причины появления пропусков в исходных данных.**"
   ]
  },
  {
   "cell_type": "markdown",
   "id": "9da2ceda",
   "metadata": {
    "deletable": false,
    "id": "9da2ceda"
   },
   "source": [
    "Пропуски в исходных данных могут иметь три вида причин: полностью случайные (не зависят ни от каких переменных), случайные (зависят от значений в данных, но не от значения собственного столбца) и неслучайные (зависят в т.ч. от значения собственного столбца).\n",
    "В нашем случае пропуски имеются в столбцах days_employed и total_income. Следует обратить внимание на то, что пропуски находятся в одних и тех же строках. Из чего можно сделать вывод о том, что у них может быть общая причина и она относится к категории неслучайных. Возможно, некоторым заёмщикам досталась некорректная анкета. Также ошибка могла произойти при занесении данных в базу. Вариант с сознательным незаполнением заёмщиками данных значений маловероятен, т.к. в такой строке пропуски не обязательно были бы в двух столбцах одновременно."
   ]
  },
  {
   "cell_type": "markdown",
   "id": "7b0487d6",
   "metadata": {
    "deletable": false,
    "editable": false,
    "id": "7b0487d6"
   },
   "source": [
    "**Задание 24. Объясните, почему заполнить пропуски медианным значением — лучшее решение для количественных переменных.**"
   ]
  },
  {
   "cell_type": "markdown",
   "id": "7ecf2b8e",
   "metadata": {
    "deletable": false,
    "id": "7ecf2b8e"
   },
   "source": [
    "Пропуски в количетвенных переменных предпочтительнее заполнять медианным значением, т.к., в отличие от среднего значения, такой метод устойчив к аномалиям в данных и даёт более объективный результат."
   ]
  },
  {
   "cell_type": "markdown",
   "id": "6db5255a",
   "metadata": {
    "deletable": false,
    "editable": false,
    "id": "6db5255a"
   },
   "source": [
    "## Общий вывод."
   ]
  },
  {
   "cell_type": "markdown",
   "id": "bad65432",
   "metadata": {
    "id": "bad65432"
   },
   "source": [
    "Проведенное исследования показало наличие зависимости возврата кредита в срок сразу от нескольких факторов, таких как количество детей заёмщика, его семейное положение, уровень дохода и цель кредита. Для каждой зависимости приведена доля просроченных кредитов в процентах в порядке убывания для каждой категории заёмщиков. Клиент с наибольшей вероятностью просрочки имеет двоих детей, доход от 0 до 30000, не женат (не замужем), берет кредит на операции с автомобилем. Клиент с наименьшей вероятностью просрочки не имеет детей, доход от 30001 до 500000, вдовец (вдова), берет кредит на операции с недвижимостью. "
   ]
  }
 ],
 "metadata": {
  "ExecuteTimeLog": [
   {
    "duration": 48,
    "start_time": "2022-07-27T11:04:55.020Z"
   },
   {
    "duration": 475,
    "start_time": "2022-07-27T11:05:12.766Z"
   },
   {
    "duration": 21,
    "start_time": "2022-07-27T11:05:13.243Z"
   },
   {
    "duration": 12,
    "start_time": "2022-07-27T11:05:13.265Z"
   },
   {
    "duration": 8,
    "start_time": "2022-07-27T11:05:13.279Z"
   },
   {
    "duration": 30,
    "start_time": "2022-07-27T11:05:13.288Z"
   },
   {
    "duration": 3,
    "start_time": "2022-07-27T11:05:13.319Z"
   },
   {
    "duration": 29,
    "start_time": "2022-07-27T11:05:13.324Z"
   },
   {
    "duration": 5,
    "start_time": "2022-07-27T11:05:13.354Z"
   },
   {
    "duration": 8,
    "start_time": "2022-07-27T11:05:13.361Z"
   },
   {
    "duration": 8,
    "start_time": "2022-07-27T11:05:13.372Z"
   },
   {
    "duration": 33,
    "start_time": "2022-07-27T11:05:13.381Z"
   },
   {
    "duration": 9,
    "start_time": "2022-07-27T11:05:13.415Z"
   },
   {
    "duration": 3,
    "start_time": "2022-07-27T11:05:13.426Z"
   },
   {
    "duration": 17,
    "start_time": "2022-07-27T11:05:13.452Z"
   },
   {
    "duration": 15,
    "start_time": "2022-07-27T11:05:13.471Z"
   },
   {
    "duration": 11,
    "start_time": "2022-07-27T11:05:13.487Z"
   },
   {
    "duration": 5,
    "start_time": "2022-07-27T11:05:13.499Z"
   },
   {
    "duration": 13,
    "start_time": "2022-07-27T11:05:13.506Z"
   },
   {
    "duration": 32,
    "start_time": "2022-07-27T11:05:13.520Z"
   },
   {
    "duration": 3,
    "start_time": "2022-07-27T11:05:13.554Z"
   },
   {
    "duration": 11,
    "start_time": "2022-07-27T11:05:13.558Z"
   },
   {
    "duration": 6,
    "start_time": "2022-07-27T11:05:13.571Z"
   },
   {
    "duration": 4,
    "start_time": "2022-07-27T11:05:13.579Z"
   },
   {
    "duration": 9,
    "start_time": "2022-07-27T11:05:13.584Z"
   },
   {
    "duration": 5,
    "start_time": "2022-07-27T11:05:13.594Z"
   },
   {
    "duration": 12,
    "start_time": "2022-07-27T11:28:18.169Z"
   },
   {
    "duration": 10,
    "start_time": "2022-07-27T11:34:18.475Z"
   },
   {
    "duration": 11,
    "start_time": "2022-07-27T11:34:20.675Z"
   },
   {
    "duration": 11,
    "start_time": "2022-07-27T11:35:46.340Z"
   },
   {
    "duration": 13,
    "start_time": "2022-07-27T11:36:51.512Z"
   },
   {
    "duration": 70,
    "start_time": "2022-07-27T11:37:29.276Z"
   },
   {
    "duration": 16,
    "start_time": "2022-07-27T11:37:34.476Z"
   },
   {
    "duration": 13,
    "start_time": "2022-07-27T11:38:07.073Z"
   },
   {
    "duration": 16,
    "start_time": "2022-07-27T11:38:13.880Z"
   },
   {
    "duration": 11,
    "start_time": "2022-07-27T11:38:18.825Z"
   },
   {
    "duration": 22,
    "start_time": "2022-07-27T11:39:14.923Z"
   },
   {
    "duration": 11,
    "start_time": "2022-07-27T11:39:19.798Z"
   },
   {
    "duration": 11,
    "start_time": "2022-07-27T11:41:12.139Z"
   },
   {
    "duration": 11,
    "start_time": "2022-07-27T11:41:41.496Z"
   },
   {
    "duration": 103,
    "start_time": "2022-07-27T11:44:54.931Z"
   },
   {
    "duration": 252,
    "start_time": "2022-07-27T11:44:58.138Z"
   },
   {
    "duration": 12,
    "start_time": "2022-07-27T11:45:06.609Z"
   },
   {
    "duration": 11,
    "start_time": "2022-07-27T11:45:53.697Z"
   },
   {
    "duration": 12,
    "start_time": "2022-07-27T11:46:09.892Z"
   },
   {
    "duration": 76,
    "start_time": "2022-07-27T11:46:23.978Z"
   },
   {
    "duration": 11,
    "start_time": "2022-07-27T11:46:27.897Z"
   },
   {
    "duration": 10,
    "start_time": "2022-07-27T11:46:44.094Z"
   },
   {
    "duration": 14,
    "start_time": "2022-07-27T11:47:18.291Z"
   },
   {
    "duration": 12,
    "start_time": "2022-07-27T11:49:49.629Z"
   },
   {
    "duration": 12,
    "start_time": "2022-07-27T11:50:51.728Z"
   },
   {
    "duration": 16,
    "start_time": "2022-07-27T11:51:31.884Z"
   },
   {
    "duration": 12,
    "start_time": "2022-07-27T11:53:34.568Z"
   },
   {
    "duration": 11,
    "start_time": "2022-07-27T12:10:42.036Z"
   },
   {
    "duration": 7,
    "start_time": "2022-07-27T12:11:07.624Z"
   },
   {
    "duration": 11,
    "start_time": "2022-07-27T12:13:59.478Z"
   },
   {
    "duration": 11,
    "start_time": "2022-07-27T12:14:09.735Z"
   },
   {
    "duration": 7,
    "start_time": "2022-07-27T12:30:32.103Z"
   },
   {
    "duration": 13,
    "start_time": "2022-07-27T12:40:30.766Z"
   },
   {
    "duration": 3,
    "start_time": "2022-07-27T12:40:33.653Z"
   },
   {
    "duration": 47,
    "start_time": "2022-07-27T15:11:19.570Z"
   },
   {
    "duration": 729,
    "start_time": "2022-07-27T15:11:34.424Z"
   },
   {
    "duration": 21,
    "start_time": "2022-07-27T15:11:35.155Z"
   },
   {
    "duration": 15,
    "start_time": "2022-07-27T15:11:35.177Z"
   },
   {
    "duration": 9,
    "start_time": "2022-07-27T15:11:35.194Z"
   },
   {
    "duration": 41,
    "start_time": "2022-07-27T15:11:35.205Z"
   },
   {
    "duration": 3,
    "start_time": "2022-07-27T15:11:35.248Z"
   },
   {
    "duration": 11,
    "start_time": "2022-07-27T15:11:35.253Z"
   },
   {
    "duration": 6,
    "start_time": "2022-07-27T15:11:35.266Z"
   },
   {
    "duration": 15,
    "start_time": "2022-07-27T15:11:35.274Z"
   },
   {
    "duration": 8,
    "start_time": "2022-07-27T15:11:35.290Z"
   },
   {
    "duration": 49,
    "start_time": "2022-07-27T15:11:35.299Z"
   },
   {
    "duration": 9,
    "start_time": "2022-07-27T15:11:35.350Z"
   },
   {
    "duration": 9,
    "start_time": "2022-07-27T15:11:35.361Z"
   },
   {
    "duration": 23,
    "start_time": "2022-07-27T15:11:35.372Z"
   },
   {
    "duration": 17,
    "start_time": "2022-07-27T15:11:35.397Z"
   },
   {
    "duration": 28,
    "start_time": "2022-07-27T15:11:35.415Z"
   },
   {
    "duration": 12,
    "start_time": "2022-07-27T15:11:35.445Z"
   },
   {
    "duration": 15,
    "start_time": "2022-07-27T15:11:35.459Z"
   },
   {
    "duration": 13,
    "start_time": "2022-07-27T15:11:35.476Z"
   },
   {
    "duration": 9,
    "start_time": "2022-07-27T15:11:35.491Z"
   },
   {
    "duration": 14,
    "start_time": "2022-07-27T15:11:35.501Z"
   },
   {
    "duration": 6,
    "start_time": "2022-07-27T15:11:35.516Z"
   },
   {
    "duration": 15,
    "start_time": "2022-07-27T15:11:35.524Z"
   },
   {
    "duration": 7,
    "start_time": "2022-07-27T15:11:35.540Z"
   },
   {
    "duration": 6,
    "start_time": "2022-07-27T15:11:35.549Z"
   },
   {
    "duration": 9,
    "start_time": "2022-07-27T15:11:35.557Z"
   },
   {
    "duration": 6,
    "start_time": "2022-07-27T15:11:42.783Z"
   },
   {
    "duration": 8,
    "start_time": "2022-07-27T15:12:15.670Z"
   },
   {
    "duration": 21,
    "start_time": "2022-07-27T15:28:15.161Z"
   },
   {
    "duration": 17,
    "start_time": "2022-07-27T15:28:45.225Z"
   },
   {
    "duration": 9,
    "start_time": "2022-07-27T15:57:54.439Z"
   },
   {
    "duration": 6,
    "start_time": "2022-07-27T15:58:20.927Z"
   },
   {
    "duration": 71,
    "start_time": "2022-07-27T15:59:16.824Z"
   },
   {
    "duration": 15,
    "start_time": "2022-07-27T15:59:40.164Z"
   },
   {
    "duration": 484,
    "start_time": "2022-07-27T16:05:59.745Z"
   },
   {
    "duration": 24,
    "start_time": "2022-07-27T16:06:00.231Z"
   },
   {
    "duration": 69,
    "start_time": "2022-07-27T16:06:00.257Z"
   },
   {
    "duration": 0,
    "start_time": "2022-07-27T16:06:00.337Z"
   },
   {
    "duration": 0,
    "start_time": "2022-07-27T16:06:00.338Z"
   },
   {
    "duration": 0,
    "start_time": "2022-07-27T16:06:00.339Z"
   },
   {
    "duration": 0,
    "start_time": "2022-07-27T16:06:00.340Z"
   },
   {
    "duration": 0,
    "start_time": "2022-07-27T16:06:00.341Z"
   },
   {
    "duration": 0,
    "start_time": "2022-07-27T16:06:00.342Z"
   },
   {
    "duration": 0,
    "start_time": "2022-07-27T16:06:00.343Z"
   },
   {
    "duration": 0,
    "start_time": "2022-07-27T16:06:00.345Z"
   },
   {
    "duration": 0,
    "start_time": "2022-07-27T16:06:00.346Z"
   },
   {
    "duration": 0,
    "start_time": "2022-07-27T16:06:00.348Z"
   },
   {
    "duration": 0,
    "start_time": "2022-07-27T16:06:00.348Z"
   },
   {
    "duration": 0,
    "start_time": "2022-07-27T16:06:00.350Z"
   },
   {
    "duration": 0,
    "start_time": "2022-07-27T16:06:00.350Z"
   },
   {
    "duration": 0,
    "start_time": "2022-07-27T16:06:00.351Z"
   },
   {
    "duration": 0,
    "start_time": "2022-07-27T16:06:00.353Z"
   },
   {
    "duration": 0,
    "start_time": "2022-07-27T16:06:00.354Z"
   },
   {
    "duration": 0,
    "start_time": "2022-07-27T16:06:00.355Z"
   },
   {
    "duration": 0,
    "start_time": "2022-07-27T16:06:00.356Z"
   },
   {
    "duration": 0,
    "start_time": "2022-07-27T16:06:00.357Z"
   },
   {
    "duration": 0,
    "start_time": "2022-07-27T16:06:00.358Z"
   },
   {
    "duration": 0,
    "start_time": "2022-07-27T16:06:00.359Z"
   },
   {
    "duration": 0,
    "start_time": "2022-07-27T16:06:00.360Z"
   },
   {
    "duration": 0,
    "start_time": "2022-07-27T16:06:00.361Z"
   },
   {
    "duration": 7,
    "start_time": "2022-07-27T16:06:27.776Z"
   },
   {
    "duration": 6,
    "start_time": "2022-07-27T16:06:38.696Z"
   },
   {
    "duration": 5,
    "start_time": "2022-07-27T16:06:51.157Z"
   },
   {
    "duration": 15,
    "start_time": "2022-07-27T16:07:52.630Z"
   },
   {
    "duration": 4,
    "start_time": "2022-07-27T16:11:30.063Z"
   },
   {
    "duration": 12,
    "start_time": "2022-07-27T16:11:55.626Z"
   },
   {
    "duration": 14,
    "start_time": "2022-07-27T16:13:00.184Z"
   },
   {
    "duration": 454,
    "start_time": "2022-07-27T17:08:42.946Z"
   },
   {
    "duration": 22,
    "start_time": "2022-07-27T17:08:43.402Z"
   },
   {
    "duration": 15,
    "start_time": "2022-07-27T17:08:43.426Z"
   },
   {
    "duration": 10,
    "start_time": "2022-07-27T17:08:43.443Z"
   },
   {
    "duration": 34,
    "start_time": "2022-07-27T17:08:43.455Z"
   },
   {
    "duration": 3,
    "start_time": "2022-07-27T17:08:43.491Z"
   },
   {
    "duration": 15,
    "start_time": "2022-07-27T17:08:43.496Z"
   },
   {
    "duration": 24,
    "start_time": "2022-07-27T17:08:43.512Z"
   },
   {
    "duration": 10,
    "start_time": "2022-07-27T17:08:43.537Z"
   },
   {
    "duration": 4,
    "start_time": "2022-07-27T17:08:43.549Z"
   },
   {
    "duration": 40,
    "start_time": "2022-07-27T17:08:43.555Z"
   },
   {
    "duration": 10,
    "start_time": "2022-07-27T17:08:43.596Z"
   },
   {
    "duration": 4,
    "start_time": "2022-07-27T17:08:43.607Z"
   },
   {
    "duration": 37,
    "start_time": "2022-07-27T17:08:43.612Z"
   },
   {
    "duration": 16,
    "start_time": "2022-07-27T17:08:43.651Z"
   },
   {
    "duration": 11,
    "start_time": "2022-07-27T17:08:43.668Z"
   },
   {
    "duration": 7,
    "start_time": "2022-07-27T17:08:43.680Z"
   },
   {
    "duration": 13,
    "start_time": "2022-07-27T17:08:43.689Z"
   },
   {
    "duration": 6,
    "start_time": "2022-07-27T17:08:43.704Z"
   },
   {
    "duration": 26,
    "start_time": "2022-07-27T17:08:43.711Z"
   },
   {
    "duration": 10,
    "start_time": "2022-07-27T17:08:43.739Z"
   },
   {
    "duration": 3,
    "start_time": "2022-07-27T17:08:43.751Z"
   },
   {
    "duration": 14,
    "start_time": "2022-07-27T17:08:43.755Z"
   },
   {
    "duration": 10,
    "start_time": "2022-07-27T17:08:43.770Z"
   },
   {
    "duration": 6,
    "start_time": "2022-07-27T17:08:43.781Z"
   },
   {
    "duration": 11,
    "start_time": "2022-07-27T17:08:43.789Z"
   },
   {
    "duration": 478,
    "start_time": "2022-07-27T17:47:28.334Z"
   },
   {
    "duration": 23,
    "start_time": "2022-07-27T17:47:28.814Z"
   },
   {
    "duration": 20,
    "start_time": "2022-07-27T17:47:28.839Z"
   },
   {
    "duration": 13,
    "start_time": "2022-07-27T17:47:28.862Z"
   },
   {
    "duration": 83,
    "start_time": "2022-07-27T17:47:28.877Z"
   },
   {
    "duration": 4,
    "start_time": "2022-07-27T17:47:28.963Z"
   },
   {
    "duration": 18,
    "start_time": "2022-07-27T17:47:28.969Z"
   },
   {
    "duration": 5,
    "start_time": "2022-07-27T17:47:28.990Z"
   },
   {
    "duration": 18,
    "start_time": "2022-07-27T17:47:28.998Z"
   },
   {
    "duration": 6,
    "start_time": "2022-07-27T17:47:29.036Z"
   },
   {
    "duration": 35,
    "start_time": "2022-07-27T17:47:29.043Z"
   },
   {
    "duration": 11,
    "start_time": "2022-07-27T17:47:29.079Z"
   },
   {
    "duration": 5,
    "start_time": "2022-07-27T17:47:29.092Z"
   },
   {
    "duration": 48,
    "start_time": "2022-07-27T17:47:29.098Z"
   },
   {
    "duration": 16,
    "start_time": "2022-07-27T17:47:29.148Z"
   },
   {
    "duration": 10,
    "start_time": "2022-07-27T17:47:29.166Z"
   },
   {
    "duration": 6,
    "start_time": "2022-07-27T17:47:29.178Z"
   },
   {
    "duration": 11,
    "start_time": "2022-07-27T17:47:29.186Z"
   },
   {
    "duration": 5,
    "start_time": "2022-07-27T17:47:29.199Z"
   },
   {
    "duration": 32,
    "start_time": "2022-07-27T17:47:29.206Z"
   },
   {
    "duration": 13,
    "start_time": "2022-07-27T17:47:29.240Z"
   },
   {
    "duration": 6,
    "start_time": "2022-07-27T17:47:29.254Z"
   },
   {
    "duration": 14,
    "start_time": "2022-07-27T17:47:29.261Z"
   },
   {
    "duration": 7,
    "start_time": "2022-07-27T17:47:29.277Z"
   },
   {
    "duration": 8,
    "start_time": "2022-07-27T17:47:29.286Z"
   },
   {
    "duration": 8,
    "start_time": "2022-07-27T17:47:29.295Z"
   },
   {
    "duration": 468,
    "start_time": "2022-07-27T18:07:57.851Z"
   },
   {
    "duration": 23,
    "start_time": "2022-07-27T18:07:58.321Z"
   },
   {
    "duration": 14,
    "start_time": "2022-07-27T18:07:58.345Z"
   },
   {
    "duration": 9,
    "start_time": "2022-07-27T18:07:58.360Z"
   },
   {
    "duration": 30,
    "start_time": "2022-07-27T18:07:58.371Z"
   },
   {
    "duration": 3,
    "start_time": "2022-07-27T18:07:58.403Z"
   },
   {
    "duration": 10,
    "start_time": "2022-07-27T18:07:58.407Z"
   },
   {
    "duration": 4,
    "start_time": "2022-07-27T18:07:58.419Z"
   },
   {
    "duration": 7,
    "start_time": "2022-07-27T18:07:58.424Z"
   },
   {
    "duration": 4,
    "start_time": "2022-07-27T18:07:58.461Z"
   },
   {
    "duration": 34,
    "start_time": "2022-07-27T18:07:58.467Z"
   },
   {
    "duration": 11,
    "start_time": "2022-07-27T18:07:58.502Z"
   },
   {
    "duration": 4,
    "start_time": "2022-07-27T18:07:58.514Z"
   },
   {
    "duration": 41,
    "start_time": "2022-07-27T18:07:58.520Z"
   },
   {
    "duration": 15,
    "start_time": "2022-07-27T18:07:58.563Z"
   },
   {
    "duration": 12,
    "start_time": "2022-07-27T18:07:58.580Z"
   },
   {
    "duration": 6,
    "start_time": "2022-07-27T18:07:58.594Z"
   },
   {
    "duration": 13,
    "start_time": "2022-07-27T18:07:58.601Z"
   },
   {
    "duration": 6,
    "start_time": "2022-07-27T18:07:58.616Z"
   },
   {
    "duration": 4,
    "start_time": "2022-07-27T18:07:58.624Z"
   },
   {
    "duration": 38,
    "start_time": "2022-07-27T18:07:58.630Z"
   },
   {
    "duration": 5,
    "start_time": "2022-07-27T18:07:58.670Z"
   },
   {
    "duration": 15,
    "start_time": "2022-07-27T18:07:58.677Z"
   },
   {
    "duration": 10,
    "start_time": "2022-07-27T18:07:58.693Z"
   },
   {
    "duration": 20,
    "start_time": "2022-07-27T18:07:58.704Z"
   },
   {
    "duration": 8,
    "start_time": "2022-07-27T18:07:58.726Z"
   },
   {
    "duration": 612,
    "start_time": "2022-07-28T12:23:07.045Z"
   },
   {
    "duration": 31,
    "start_time": "2022-07-28T12:23:07.659Z"
   },
   {
    "duration": 19,
    "start_time": "2022-07-28T12:23:07.693Z"
   },
   {
    "duration": 10,
    "start_time": "2022-07-28T12:23:07.714Z"
   },
   {
    "duration": 36,
    "start_time": "2022-07-28T12:23:07.726Z"
   },
   {
    "duration": 4,
    "start_time": "2022-07-28T12:23:07.763Z"
   },
   {
    "duration": 11,
    "start_time": "2022-07-28T12:23:07.769Z"
   },
   {
    "duration": 24,
    "start_time": "2022-07-28T12:23:07.781Z"
   },
   {
    "duration": 14,
    "start_time": "2022-07-28T12:23:07.807Z"
   },
   {
    "duration": 5,
    "start_time": "2022-07-28T12:23:07.823Z"
   },
   {
    "duration": 34,
    "start_time": "2022-07-28T12:23:07.830Z"
   },
   {
    "duration": 10,
    "start_time": "2022-07-28T12:23:07.866Z"
   },
   {
    "duration": 30,
    "start_time": "2022-07-28T12:23:07.877Z"
   },
   {
    "duration": 20,
    "start_time": "2022-07-28T12:23:07.910Z"
   },
   {
    "duration": 17,
    "start_time": "2022-07-28T12:23:07.931Z"
   },
   {
    "duration": 14,
    "start_time": "2022-07-28T12:23:07.949Z"
   },
   {
    "duration": 5,
    "start_time": "2022-07-28T12:23:07.965Z"
   },
   {
    "duration": 39,
    "start_time": "2022-07-28T12:23:07.972Z"
   },
   {
    "duration": 14,
    "start_time": "2022-07-28T12:23:08.013Z"
   },
   {
    "duration": 5,
    "start_time": "2022-07-28T12:23:08.029Z"
   },
   {
    "duration": 17,
    "start_time": "2022-07-28T12:23:08.036Z"
   },
   {
    "duration": 4,
    "start_time": "2022-07-28T12:23:08.055Z"
   },
   {
    "duration": 15,
    "start_time": "2022-07-28T12:23:08.060Z"
   },
   {
    "duration": 28,
    "start_time": "2022-07-28T12:23:08.077Z"
   },
   {
    "duration": 9,
    "start_time": "2022-07-28T12:23:08.107Z"
   },
   {
    "duration": 8,
    "start_time": "2022-07-28T12:23:08.118Z"
   },
   {
    "duration": 487,
    "start_time": "2022-07-28T12:26:38.897Z"
   },
   {
    "duration": 24,
    "start_time": "2022-07-28T12:26:39.385Z"
   },
   {
    "duration": 56,
    "start_time": "2022-07-28T12:26:39.411Z"
   },
   {
    "duration": 20,
    "start_time": "2022-07-28T12:26:39.470Z"
   },
   {
    "duration": 56,
    "start_time": "2022-07-28T12:26:39.493Z"
   },
   {
    "duration": 4,
    "start_time": "2022-07-28T12:26:39.551Z"
   },
   {
    "duration": 25,
    "start_time": "2022-07-28T12:26:39.557Z"
   },
   {
    "duration": 9,
    "start_time": "2022-07-28T12:26:39.584Z"
   },
   {
    "duration": 14,
    "start_time": "2022-07-28T12:26:39.595Z"
   },
   {
    "duration": 12,
    "start_time": "2022-07-28T12:26:39.611Z"
   },
   {
    "duration": 56,
    "start_time": "2022-07-28T12:26:39.625Z"
   },
   {
    "duration": 19,
    "start_time": "2022-07-28T12:26:39.683Z"
   },
   {
    "duration": 4,
    "start_time": "2022-07-28T12:26:39.704Z"
   },
   {
    "duration": 31,
    "start_time": "2022-07-28T12:26:39.710Z"
   },
   {
    "duration": 17,
    "start_time": "2022-07-28T12:26:39.742Z"
   },
   {
    "duration": 10,
    "start_time": "2022-07-28T12:26:39.761Z"
   },
   {
    "duration": 7,
    "start_time": "2022-07-28T12:26:39.772Z"
   },
   {
    "duration": 24,
    "start_time": "2022-07-28T12:26:39.781Z"
   },
   {
    "duration": 7,
    "start_time": "2022-07-28T12:26:39.806Z"
   },
   {
    "duration": 4,
    "start_time": "2022-07-28T12:26:39.815Z"
   },
   {
    "duration": 12,
    "start_time": "2022-07-28T12:26:39.821Z"
   },
   {
    "duration": 6,
    "start_time": "2022-07-28T12:26:39.835Z"
   },
   {
    "duration": 14,
    "start_time": "2022-07-28T12:26:39.842Z"
   },
   {
    "duration": 9,
    "start_time": "2022-07-28T12:26:39.858Z"
   },
   {
    "duration": 9,
    "start_time": "2022-07-28T12:26:39.902Z"
   },
   {
    "duration": 12,
    "start_time": "2022-07-28T12:26:39.913Z"
   },
   {
    "duration": 81,
    "start_time": "2022-07-28T12:26:39.927Z"
   },
   {
    "duration": 523,
    "start_time": "2022-07-28T15:35:58.375Z"
   },
   {
    "duration": 24,
    "start_time": "2022-07-28T15:35:58.900Z"
   },
   {
    "duration": 16,
    "start_time": "2022-07-28T15:35:58.926Z"
   },
   {
    "duration": 12,
    "start_time": "2022-07-28T15:35:58.944Z"
   },
   {
    "duration": 63,
    "start_time": "2022-07-28T15:35:58.958Z"
   },
   {
    "duration": 4,
    "start_time": "2022-07-28T15:35:59.023Z"
   },
   {
    "duration": 11,
    "start_time": "2022-07-28T15:35:59.028Z"
   },
   {
    "duration": 4,
    "start_time": "2022-07-28T15:35:59.041Z"
   },
   {
    "duration": 10,
    "start_time": "2022-07-28T15:35:59.047Z"
   },
   {
    "duration": 5,
    "start_time": "2022-07-28T15:35:59.058Z"
   },
   {
    "duration": 74,
    "start_time": "2022-07-28T15:35:59.064Z"
   },
   {
    "duration": 10,
    "start_time": "2022-07-28T15:35:59.140Z"
   },
   {
    "duration": 4,
    "start_time": "2022-07-28T15:35:59.151Z"
   },
   {
    "duration": 22,
    "start_time": "2022-07-28T15:35:59.158Z"
   },
   {
    "duration": 41,
    "start_time": "2022-07-28T15:35:59.181Z"
   },
   {
    "duration": 13,
    "start_time": "2022-07-28T15:35:59.224Z"
   },
   {
    "duration": 4,
    "start_time": "2022-07-28T15:35:59.239Z"
   },
   {
    "duration": 12,
    "start_time": "2022-07-28T15:35:59.244Z"
   },
   {
    "duration": 9,
    "start_time": "2022-07-28T15:35:59.258Z"
   },
   {
    "duration": 3,
    "start_time": "2022-07-28T15:35:59.269Z"
   },
   {
    "duration": 48,
    "start_time": "2022-07-28T15:35:59.274Z"
   },
   {
    "duration": 6,
    "start_time": "2022-07-28T15:35:59.325Z"
   },
   {
    "duration": 14,
    "start_time": "2022-07-28T15:35:59.333Z"
   },
   {
    "duration": 8,
    "start_time": "2022-07-28T15:35:59.349Z"
   },
   {
    "duration": 11,
    "start_time": "2022-07-28T15:35:59.359Z"
   },
   {
    "duration": 10,
    "start_time": "2022-07-28T15:35:59.371Z"
   }
  ],
  "celltoolbar": "Необработанный формат ячейки",
  "colab": {
   "name": "dpp_template_part2.ipynb",
   "provenance": []
  },
  "kernelspec": {
   "display_name": "Python 3 (ipykernel)",
   "language": "python",
   "name": "python3"
  },
  "language_info": {
   "codemirror_mode": {
    "name": "ipython",
    "version": 3
   },
   "file_extension": ".py",
   "mimetype": "text/x-python",
   "name": "python",
   "nbconvert_exporter": "python",
   "pygments_lexer": "ipython3",
   "version": "3.9.13"
  },
  "toc": {
   "base_numbering": 1,
   "nav_menu": {},
   "number_sections": true,
   "sideBar": true,
   "skip_h1_title": true,
   "title_cell": "Table of Contents",
   "title_sidebar": "Contents",
   "toc_cell": false,
   "toc_position": {},
   "toc_section_display": true,
   "toc_window_display": false
  }
 },
 "nbformat": 4,
 "nbformat_minor": 5
}
