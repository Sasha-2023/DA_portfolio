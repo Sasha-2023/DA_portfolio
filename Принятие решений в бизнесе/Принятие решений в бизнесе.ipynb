{
 "cells": [
  {
   "cell_type": "markdown",
   "metadata": {},
   "source": [
    "# Проект \"Принятие решений в бизнесе\"\n",
    "\n",
    "#### Рассматриваются бизнес-показатели крупного интернет магазина и гипотезы по их улучшению. Необходимо приоритезировать гипотезы и проанализировать результаты A/B-теста.\n",
    "\n",
    "#### Предоставлены данные о имеющихся гипотезах и результатах A/B-теста."
   ]
  },
  {
   "cell_type": "markdown",
   "metadata": {},
   "source": [
    "1 Приоритезируем гипотезы."
   ]
  },
  {
   "cell_type": "code",
   "execution_count": 1,
   "metadata": {},
   "outputs": [],
   "source": [
    "# импортируем библиотеки\n",
    "\n",
    "import pandas as pd\n",
    "import scipy.stats as stats\n",
    "import datetime as dt\n",
    "import numpy as np\n",
    "import matplotlib.pyplot as plt"
   ]
  },
  {
   "cell_type": "code",
   "execution_count": 2,
   "metadata": {},
   "outputs": [
    {
     "name": "stdout",
     "output_type": "stream",
     "text": [
      "                                                                                                     Hypothesis  \\\n",
      "0            Добавить два новых канала привлечения трафика, что позволит привлекать на 30% больше пользователей   \n",
      "1                                     Запустить собственную службу доставки, что сократит срок доставки заказов   \n",
      "2  Добавить блоки рекомендаций товаров на сайт интернет магазина, чтобы повысить конверсию и средний чек заказа   \n",
      "3           Изменить структура категорий, что увеличит конверсию, т.к. пользователи быстрее найдут нужный товар   \n",
      "4                              Изменить цвет фона главной страницы, чтобы увеличить вовлеченность пользователей   \n",
      "5                      Добавить страницу отзывов клиентов о магазине, что позволит увеличить количество заказов   \n",
      "6          Показать на главной странице баннеры с актуальными акциями и распродажами, чтобы увеличить конверсию   \n",
      "7              Добавить форму подписки на все основные страницы, чтобы собрать базу клиентов для email-рассылок   \n",
      "8                                                       Запустить акцию, дающую скидку на товар в день рождения   \n",
      "\n",
      "   Reach  Impact  Confidence  Efforts  \n",
      "0      3      10           8        6  \n",
      "1      2       5           4       10  \n",
      "2      8       3           7        3  \n",
      "3      8       3           3        8  \n",
      "4      3       1           1        1  \n",
      "5      3       2           2        3  \n",
      "6      5       3           8        3  \n",
      "7     10       7           8        5  \n",
      "8      1       9           9        5  \n"
     ]
    }
   ],
   "source": [
    "# читаем csv-файл\n",
    "\n",
    "data = pd.read_csv('/datasets/hypothesis.csv', sep=',')\n",
    "\n",
    "pd.options.display.max_colwidth = 110\n",
    "print(data.head(10))"
   ]
  },
  {
   "cell_type": "code",
   "execution_count": 3,
   "metadata": {},
   "outputs": [],
   "source": [
    "# приводим названия столбцов к нижнему регистру\n",
    "\n",
    "data.columns = data.columns.str.lower()"
   ]
  },
  {
   "cell_type": "code",
   "execution_count": 4,
   "metadata": {},
   "outputs": [
    {
     "name": "stdout",
     "output_type": "stream",
     "text": [
      "                                                                                                     hypothesis  \\\n",
      "8                                                       Запустить акцию, дающую скидку на товар в день рождения   \n",
      "0            Добавить два новых канала привлечения трафика, что позволит привлекать на 30% больше пользователей   \n",
      "7              Добавить форму подписки на все основные страницы, чтобы собрать базу клиентов для email-рассылок   \n",
      "6          Показать на главной странице баннеры с актуальными акциями и распродажами, чтобы увеличить конверсию   \n",
      "2  Добавить блоки рекомендаций товаров на сайт интернет магазина, чтобы повысить конверсию и средний чек заказа   \n",
      "1                                     Запустить собственную службу доставки, что сократит срок доставки заказов   \n",
      "5                      Добавить страницу отзывов клиентов о магазине, что позволит увеличить количество заказов   \n",
      "3           Изменить структура категорий, что увеличит конверсию, т.к. пользователи быстрее найдут нужный товар   \n",
      "4                              Изменить цвет фона главной страницы, чтобы увеличить вовлеченность пользователей   \n",
      "\n",
      "     ICE  \n",
      "8  16.20  \n",
      "0  13.33  \n",
      "7  11.20  \n",
      "6   8.00  \n",
      "2   7.00  \n",
      "1   2.00  \n",
      "5   1.33  \n",
      "3   1.12  \n",
      "4   1.00  \n"
     ]
    }
   ],
   "source": [
    "# применяем метод ICE\n",
    "\n",
    "data['ICE'] = data['impact'] * data['confidence'] / data['efforts']\n",
    "data['ICE'] = data['ICE'].round(2)\n",
    "print(data[['hypothesis', 'ICE']].sort_values(by='ICE', ascending=False))"
   ]
  },
  {
   "cell_type": "markdown",
   "metadata": {},
   "source": [
    "По данным метода ICE лидирует гипотеза 'Запустить акцию, дающую скидку на товар в день рождения'. В первой тройке гипотезы 'Добавить два новых канала привлечения трафика, что позволит привлекать на 30% больше пользователей' и 'Добавить форму подписки на все основные страницы, чтобы собрать базу клиентов для email-рассылок'."
   ]
  },
  {
   "cell_type": "code",
   "execution_count": 5,
   "metadata": {},
   "outputs": [
    {
     "name": "stdout",
     "output_type": "stream",
     "text": [
      "                                                                                                     hypothesis  \\\n",
      "7              Добавить форму подписки на все основные страницы, чтобы собрать базу клиентов для email-рассылок   \n",
      "2  Добавить блоки рекомендаций товаров на сайт интернет магазина, чтобы повысить конверсию и средний чек заказа   \n",
      "0            Добавить два новых канала привлечения трафика, что позволит привлекать на 30% больше пользователей   \n",
      "6          Показать на главной странице баннеры с актуальными акциями и распродажами, чтобы увеличить конверсию   \n",
      "8                                                       Запустить акцию, дающую скидку на товар в день рождения   \n",
      "3           Изменить структура категорий, что увеличит конверсию, т.к. пользователи быстрее найдут нужный товар   \n",
      "1                                     Запустить собственную службу доставки, что сократит срок доставки заказов   \n",
      "5                      Добавить страницу отзывов клиентов о магазине, что позволит увеличить количество заказов   \n",
      "4                              Изменить цвет фона главной страницы, чтобы увеличить вовлеченность пользователей   \n",
      "\n",
      "    RICE  \n",
      "7  112.0  \n",
      "2   56.0  \n",
      "0   40.0  \n",
      "6   40.0  \n",
      "8   16.2  \n",
      "3    9.0  \n",
      "1    4.0  \n",
      "5    4.0  \n",
      "4    3.0  \n"
     ]
    }
   ],
   "source": [
    "# применяем метод RICE\n",
    "\n",
    "data['RICE'] = data['reach'] * data['impact'] * data['confidence'] / data['efforts']\n",
    "\n",
    "print(data[['hypothesis', 'RICE']].sort_values(by='RICE', ascending=False))"
   ]
  },
  {
   "cell_type": "markdown",
   "metadata": {},
   "source": [
    "По данным метода RICE лидирует гипотеза с номером 7 ('Добавить форму подписки на все основные страницы, чтобы собрать базу клиентов для email-рассылок'). В первой тройке гипотезы 2 и 0. 8-я только на четвертом месте. Так получилось из за того, что охват для 7-й гипотезы равен 10, что существенно выше, чем у других."
   ]
  },
  {
   "cell_type": "markdown",
   "metadata": {},
   "source": [
    "2 Анализируем результаты A/B-теста."
   ]
  },
  {
   "cell_type": "code",
   "execution_count": 6,
   "metadata": {},
   "outputs": [
    {
     "name": "stdout",
     "output_type": "stream",
     "text": [
      "   transactionId   visitorId        date  revenue group\n",
      "0     3667963787  3312258926  2019-08-15     1650     B\n",
      "1     2804400009  3642806036  2019-08-15      730     B\n",
      "2     2961555356  4069496402  2019-08-15      400     A\n",
      "3     3797467345  1196621759  2019-08-15     9759     B\n",
      "4     2282983706  2322279887  2019-08-15     2308     B\n",
      "------------------------------\n",
      "         date group  visitors\n",
      "0  2019-08-01     A       719\n",
      "1  2019-08-02     A       619\n",
      "2  2019-08-03     A       507\n",
      "3  2019-08-04     A       717\n",
      "4  2019-08-05     A       756\n"
     ]
    }
   ],
   "source": [
    "# читаем csv-файлы\n",
    "\n",
    "orders = pd.read_csv('/datasets/orders.csv', sep=',')\n",
    "visitors = pd.read_csv('/datasets/visitors.csv', sep=',')\n",
    "\n",
    "print(orders.head(5))\n",
    "print('------------------------------')\n",
    "print(visitors.head(5))"
   ]
  },
  {
   "cell_type": "code",
   "execution_count": 47,
   "metadata": {},
   "outputs": [
    {
     "name": "stdout",
     "output_type": "stream",
     "text": [
      "<class 'pandas.core.frame.DataFrame'>\n",
      "RangeIndex: 1197 entries, 0 to 1196\n",
      "Data columns (total 5 columns):\n",
      " #   Column         Non-Null Count  Dtype \n",
      "---  ------         --------------  ----- \n",
      " 0   transactionid  1197 non-null   int64 \n",
      " 1   visitorid      1197 non-null   int64 \n",
      " 2   date           1197 non-null   object\n",
      " 3   revenue        1197 non-null   int64 \n",
      " 4   group          1197 non-null   object\n",
      "dtypes: int64(3), object(2)\n",
      "memory usage: 46.9+ KB\n",
      "<class 'pandas.core.frame.DataFrame'>\n",
      "RangeIndex: 62 entries, 0 to 61\n",
      "Data columns (total 3 columns):\n",
      " #   Column    Non-Null Count  Dtype \n",
      "---  ------    --------------  ----- \n",
      " 0   date      62 non-null     object\n",
      " 1   group     62 non-null     object\n",
      " 2   visitors  62 non-null     int64 \n",
      "dtypes: int64(1), object(2)\n",
      "memory usage: 1.6+ KB\n"
     ]
    }
   ],
   "source": [
    "# изучим данные на наличие пропусков\n",
    "orders.info()\n",
    "visitors.info()"
   ]
  },
  {
   "cell_type": "code",
   "execution_count": 46,
   "metadata": {},
   "outputs": [
    {
     "name": "stdout",
     "output_type": "stream",
     "text": [
      "Дубликатов в orders: 0\n",
      "Дубликатов в visitors: 0\n"
     ]
    }
   ],
   "source": [
    "# проверим наличие дубликатов в данных\n",
    "print('Дубликатов в orders:', orders.duplicated().sum())\n",
    "print('Дубликатов в visitors:', visitors.duplicated().sum())"
   ]
  },
  {
   "cell_type": "markdown",
   "metadata": {},
   "source": [
    "Данные не содержат пропусков и дубликатов."
   ]
  },
  {
   "cell_type": "code",
   "execution_count": 58,
   "metadata": {},
   "outputs": [
    {
     "name": "stdout",
     "output_type": "stream",
     "text": [
      "transactionid    503\n",
      "visitorid        503\n",
      "date             503\n",
      "revenue          503\n",
      "group            503\n",
      "dtype: int64\n",
      "transactionid    528\n",
      "visitorid        528\n",
      "date             528\n",
      "revenue          528\n",
      "group            528\n",
      "dtype: int64\n"
     ]
    },
    {
     "data": {
      "text/html": [
       "<div>\n",
       "<style scoped>\n",
       "    .dataframe tbody tr th:only-of-type {\n",
       "        vertical-align: middle;\n",
       "    }\n",
       "\n",
       "    .dataframe tbody tr th {\n",
       "        vertical-align: top;\n",
       "    }\n",
       "\n",
       "    .dataframe thead th {\n",
       "        text-align: right;\n",
       "    }\n",
       "</style>\n",
       "<table border=\"1\" class=\"dataframe\">\n",
       "  <thead>\n",
       "    <tr style=\"text-align: right;\">\n",
       "      <th></th>\n",
       "      <th>transactionid</th>\n",
       "      <th>visitorid</th>\n",
       "      <th>date</th>\n",
       "      <th>revenue</th>\n",
       "      <th>group</th>\n",
       "    </tr>\n",
       "  </thead>\n",
       "  <tbody>\n",
       "    <tr>\n",
       "      <th>0</th>\n",
       "      <td>2961555356</td>\n",
       "      <td>4069496402</td>\n",
       "      <td>2019-08-15</td>\n",
       "      <td>400</td>\n",
       "      <td>A</td>\n",
       "    </tr>\n",
       "    <tr>\n",
       "      <th>1</th>\n",
       "      <td>2626614568</td>\n",
       "      <td>78758296</td>\n",
       "      <td>2019-08-15</td>\n",
       "      <td>1044</td>\n",
       "      <td>A</td>\n",
       "    </tr>\n",
       "    <tr>\n",
       "      <th>2</th>\n",
       "      <td>1576988021</td>\n",
       "      <td>295230930</td>\n",
       "      <td>2019-08-15</td>\n",
       "      <td>13710</td>\n",
       "      <td>A</td>\n",
       "    </tr>\n",
       "    <tr>\n",
       "      <th>3</th>\n",
       "      <td>3649131742</td>\n",
       "      <td>879864040</td>\n",
       "      <td>2019-08-15</td>\n",
       "      <td>4008</td>\n",
       "      <td>A</td>\n",
       "    </tr>\n",
       "    <tr>\n",
       "      <th>4</th>\n",
       "      <td>2809384911</td>\n",
       "      <td>3213223594</td>\n",
       "      <td>2019-08-15</td>\n",
       "      <td>7370</td>\n",
       "      <td>A</td>\n",
       "    </tr>\n",
       "    <tr>\n",
       "      <th>...</th>\n",
       "      <td>...</td>\n",
       "      <td>...</td>\n",
       "      <td>...</td>\n",
       "      <td>...</td>\n",
       "      <td>...</td>\n",
       "    </tr>\n",
       "    <tr>\n",
       "      <th>1026</th>\n",
       "      <td>2116724386</td>\n",
       "      <td>2146711261</td>\n",
       "      <td>2019-08-14</td>\n",
       "      <td>15380</td>\n",
       "      <td>B</td>\n",
       "    </tr>\n",
       "    <tr>\n",
       "      <th>1027</th>\n",
       "      <td>38478481</td>\n",
       "      <td>1197745035</td>\n",
       "      <td>2019-08-14</td>\n",
       "      <td>8600</td>\n",
       "      <td>B</td>\n",
       "    </tr>\n",
       "    <tr>\n",
       "      <th>1028</th>\n",
       "      <td>3592955527</td>\n",
       "      <td>608641596</td>\n",
       "      <td>2019-08-14</td>\n",
       "      <td>16490</td>\n",
       "      <td>B</td>\n",
       "    </tr>\n",
       "    <tr>\n",
       "      <th>1029</th>\n",
       "      <td>2662137336</td>\n",
       "      <td>3733762160</td>\n",
       "      <td>2019-08-14</td>\n",
       "      <td>6490</td>\n",
       "      <td>B</td>\n",
       "    </tr>\n",
       "    <tr>\n",
       "      <th>1030</th>\n",
       "      <td>3936777065</td>\n",
       "      <td>2108080724</td>\n",
       "      <td>2019-08-15</td>\n",
       "      <td>202740</td>\n",
       "      <td>B</td>\n",
       "    </tr>\n",
       "  </tbody>\n",
       "</table>\n",
       "<p>1031 rows × 5 columns</p>\n",
       "</div>"
      ],
      "text/plain": [
       "      transactionid   visitorid        date  revenue group\n",
       "0        2961555356  4069496402  2019-08-15      400     A\n",
       "1        2626614568    78758296  2019-08-15     1044     A\n",
       "2        1576988021   295230930  2019-08-15    13710     A\n",
       "3        3649131742   879864040  2019-08-15     4008     A\n",
       "4        2809384911  3213223594  2019-08-15     7370     A\n",
       "...             ...         ...         ...      ...   ...\n",
       "1026     2116724386  2146711261  2019-08-14    15380     B\n",
       "1027       38478481  1197745035  2019-08-14     8600     B\n",
       "1028     3592955527   608641596  2019-08-14    16490     B\n",
       "1029     2662137336  3733762160  2019-08-14     6490     B\n",
       "1030     3936777065  2108080724  2019-08-15   202740     B\n",
       "\n",
       "[1031 rows x 5 columns]"
      ]
     },
     "metadata": {},
     "output_type": "display_data"
    },
    {
     "name": "stdout",
     "output_type": "stream",
     "text": [
      "<class 'pandas.core.frame.DataFrame'>\n",
      "RangeIndex: 1031 entries, 0 to 1030\n",
      "Data columns (total 5 columns):\n",
      " #   Column         Non-Null Count  Dtype \n",
      "---  ------         --------------  ----- \n",
      " 0   transactionid  1031 non-null   int64 \n",
      " 1   visitorid      1031 non-null   int64 \n",
      " 2   date           1031 non-null   object\n",
      " 3   revenue        1031 non-null   int64 \n",
      " 4   group          1031 non-null   object\n",
      "dtypes: int64(3), object(2)\n",
      "memory usage: 40.4+ KB\n"
     ]
    }
   ],
   "source": [
    "# сохраним данные о пользователях, вошедших в группу A и B, в отдельные датафреймы,\n",
    "# затем объединим их в один датафрейм и удалим дубликаты по столбцу visitorid:\n",
    " \n",
    "A = orders[orders['group'] == 'A']\n",
    "B = orders[orders['group'] == 'B']\n",
    "orders_fixed = pd.concat([A, B]).drop_duplicates(subset = 'visitorid').reset_index(drop=True)\n",
    "print(orders_fixed[orders_fixed['group'] == 'A'].count())\n",
    "print(orders_fixed[orders_fixed['group'] == 'B'].count())\n",
    "display(orders_fixed)\n",
    "orders_fixed.info()"
   ]
  },
  {
   "cell_type": "code",
   "execution_count": 7,
   "metadata": {},
   "outputs": [],
   "source": [
    "# приводим названия столбцов к нижнему регистру\n",
    "\n",
    "orders.columns = orders.columns.str.lower()\n",
    "visitors.columns = visitors.columns.str.lower()"
   ]
  },
  {
   "cell_type": "code",
   "execution_count": 8,
   "metadata": {},
   "outputs": [],
   "source": [
    "# создаем массив уникальных пар значений дат и групп теста\n",
    "\n",
    "datesGroups = orders[['date','group']].drop_duplicates()"
   ]
  },
  {
   "cell_type": "code",
   "execution_count": 9,
   "metadata": {},
   "outputs": [],
   "source": [
    "# cоберём агрегированные кумулятивные по дням данные о заказах\n",
    "\n",
    "ordersAggregated = datesGroups.apply(lambda x: orders[np.logical_and(orders['date'] <= x['date'], orders['group'] == x['group'])]\\\n",
    ".agg({'date' : 'max', 'group' : 'max', 'transactionid' : 'nunique', 'visitorid' : 'nunique', 'revenue' : 'sum'}), axis=1).sort_values(by=['date','group']) "
   ]
  },
  {
   "cell_type": "code",
   "execution_count": 10,
   "metadata": {},
   "outputs": [],
   "source": [
    "# получим агрегированные кумулятивные по дням данные о посетителях интернет-магазина\n",
    "\n",
    "visitorsAggregated = datesGroups.apply(lambda x: visitors[np.logical_and(visitors['date'] <= x['date'], visitors['group'] == x['group'])]\n",
    ".agg({'date' : 'max', 'group' : 'max', 'visitors' : 'sum'}), axis=1).sort_values(by=['date','group'])"
   ]
  },
  {
   "cell_type": "code",
   "execution_count": 11,
   "metadata": {},
   "outputs": [
    {
     "name": "stdout",
     "output_type": "stream",
     "text": [
      "         date group  orders  buyers  revenue  visitors\n",
      "0  2019-08-01     A      24      20   148579       719\n",
      "1  2019-08-01     B      21      20   101217       713\n",
      "2  2019-08-02     A      44      38   242401      1338\n",
      "3  2019-08-02     B      45      43   266748      1294\n",
      "4  2019-08-03     A      68      62   354874      1845\n"
     ]
    }
   ],
   "source": [
    "# объединяем кумулятивные данные в одной таблице и присваиваем ее столбцам понятные названия\n",
    "\n",
    "cumulativeData = ordersAggregated.merge(visitorsAggregated, left_on=['date', 'group'], right_on=['date', 'group'])\n",
    "cumulativeData.columns = ['date', 'group', 'orders', 'buyers', 'revenue', 'visitors']\n",
    "\n",
    "print(cumulativeData.head(5)) "
   ]
  },
  {
   "cell_type": "markdown",
   "metadata": {},
   "source": [
    "Построим графики кумулятивной выручки по дням и группам A/B-тестирования."
   ]
  },
  {
   "cell_type": "code",
   "execution_count": 12,
   "metadata": {},
   "outputs": [],
   "source": [
    "# датафрейм с кумулятивным количеством заказов и кумулятивной выручкой по дням в группе А\n",
    "cumulativeRevenueA = cumulativeData[cumulativeData['group']=='A'][['date','revenue', 'orders']]\n",
    "\n",
    "# датафрейм с кумулятивным количеством заказов и кумулятивной выручкой по дням в группе B\n",
    "cumulativeRevenueB = cumulativeData[cumulativeData['group']=='B'][['date','revenue', 'orders']]"
   ]
  },
  {
   "cell_type": "code",
   "execution_count": 49,
   "metadata": {},
   "outputs": [
    {
     "data": {
      "text/plain": [
       "<matplotlib.legend.Legend at 0x7fa5cab7bd60>"
      ]
     },
     "execution_count": 49,
     "metadata": {},
     "output_type": "execute_result"
    },
    {
     "data": {
      "image/png": "[encoded data removed]",
      "text/plain": [
       "<Figure size 1440x720 with 1 Axes>"
      ]
     },
     "metadata": {
      "needs_background": "light"
     },
     "output_type": "display_data"
    }
   ],
   "source": [
    "# Задаем параметры графика\n",
    "\n",
    "plt.rcParams['figure.figsize'] = [20, 10]\n",
    "plt.rcParams['font.size'] = '12'\n",
    "\n",
    "# Строим график выручки группы А\n",
    "plt.plot(cumulativeRevenueA['date'], cumulativeRevenueA['revenue'], label='A')\n",
    "\n",
    "# Строим график выручки группы B\n",
    "plt.plot(cumulativeRevenueB['date'], cumulativeRevenueB['revenue'], label='B')\n",
    "\n",
    "plt.title('Кумулятивная выручка по дням')\n",
    "plt.xlabel('Дата')\n",
    "plt.ylabel('Выручка')\n",
    "plt.xticks(rotation = 45)\n",
    "plt.legend()"
   ]
  },
  {
   "cell_type": "markdown",
   "metadata": {},
   "source": [
    "Выручка группы А равномерно увеличивается в течение всего теста. Графики выручки группы В резко растет 18-го мая. Это может свидетельствовать об резком увеличении числа заказов, либо о появлении очень дорогих заказов в эту дату."
   ]
  },
  {
   "cell_type": "markdown",
   "metadata": {},
   "source": [
    "Построим графики среднего чека по группам."
   ]
  },
  {
   "cell_type": "code",
   "execution_count": 51,
   "metadata": {},
   "outputs": [
    {
     "data": {
      "image/png": "[encoded data removed]",
      "text/plain": [
       "<Figure size 1440x720 with 1 Axes>"
      ]
     },
     "metadata": {
      "needs_background": "light"
     },
     "output_type": "display_data"
    }
   ],
   "source": [
    "plt.rcParams['figure.figsize'] = [20, 10]\n",
    "plt.rcParams['font.size'] = '12'\n",
    "\n",
    "plt.plot(cumulativeRevenueA['date'], cumulativeRevenueA['revenue']/cumulativeRevenueA['orders'], label='A')\n",
    "plt.plot(cumulativeRevenueB['date'], cumulativeRevenueB['revenue']/cumulativeRevenueB['orders'], label='B')\n",
    "plt.title('Средний чек по дням')\n",
    "plt.xlabel('Дата')\n",
    "plt.ylabel('Средний чек')\n",
    "plt.xticks(rotation = 45)\n",
    "plt.legend()\n",
    "plt.show()"
   ]
  },
  {
   "cell_type": "markdown",
   "metadata": {},
   "source": [
    "Средний чек становится стабильным ближе к концу теста. Для группы В видна та же аномалия, что и на графике куммулятивной выручки. Если мы видим ее на графике среднего чека, значит дело не в количестве заказов, а в их цене."
   ]
  },
  {
   "cell_type": "markdown",
   "metadata": {},
   "source": [
    "Построим график относительного различия для среднего чека."
   ]
  },
  {
   "cell_type": "code",
   "execution_count": 52,
   "metadata": {},
   "outputs": [
    {
     "data": {
      "image/png": "[encoded data removed]",
      "text/plain": [
       "<Figure size 1440x720 with 1 Axes>"
      ]
     },
     "metadata": {
      "needs_background": "light"
     },
     "output_type": "display_data"
    }
   ],
   "source": [
    "plt.rcParams['figure.figsize'] = [20, 10]\n",
    "plt.rcParams['font.size'] = '12'\n",
    "\n",
    "# собираем данные в одном датафрейме\n",
    "mergedCumulativeRevenue = cumulativeRevenueA.merge(cumulativeRevenueB, left_on='date', right_on='date', how='left', suffixes=['A', 'B'])\n",
    "\n",
    "# cтроим отношение средних чеков\n",
    "plt.plot(mergedCumulativeRevenue['date'], (mergedCumulativeRevenue['revenueB']/mergedCumulativeRevenue['ordersB'])/(mergedCumulativeRevenue['revenueA']/mergedCumulativeRevenue['ordersA'])-1)\n",
    "\n",
    "# добавляем ось X\n",
    "plt.axhline(y=0, color='black', linestyle='--')\n",
    "plt.title('Относительное различие для среднего чека по дням')\n",
    "plt.xlabel('Дата')\n",
    "plt.ylabel('Относительное различие')\n",
    "plt.xticks(rotation = 45)\n",
    "plt.show()"
   ]
  },
  {
   "cell_type": "markdown",
   "metadata": {},
   "source": [
    "Если бы не выброс, описанный ранее, график стабилизировался бы около нулевого уровня во второй половине наблюдаемого периода."
   ]
  },
  {
   "cell_type": "markdown",
   "metadata": {},
   "source": [
    "Аналогично проанализируем график кумулятивной конверсии."
   ]
  },
  {
   "cell_type": "code",
   "execution_count": 53,
   "metadata": {},
   "outputs": [
    {
     "data": {
      "text/plain": [
       "<matplotlib.legend.Legend at 0x7fa5cb510af0>"
      ]
     },
     "execution_count": 53,
     "metadata": {},
     "output_type": "execute_result"
    },
    {
     "data": {
      "image/png": "[encoded data removed]",
      "text/plain": [
       "<Figure size 1440x720 with 1 Axes>"
      ]
     },
     "metadata": {
      "needs_background": "light"
     },
     "output_type": "display_data"
    }
   ],
   "source": [
    "# считаем кумулятивную конверсию\n",
    "cumulativeData['conversion'] = cumulativeData['orders']/cumulativeData['visitors']\n",
    "\n",
    "# отделяем данные по группе A\n",
    "cumulativeDataA = cumulativeData[cumulativeData['group']=='A']\n",
    "\n",
    "# отделяем данные по группе B\n",
    "cumulativeDataB = cumulativeData[cumulativeData['group']=='B']\n",
    "\n",
    "# строим графики\n",
    "plt.plot(cumulativeDataA['date'], cumulativeDataA['conversion'], label='A')\n",
    "plt.plot(cumulativeDataB['date'], cumulativeDataB['conversion'], label='B')\n",
    "plt.title('Кумулятивная конверсия по дням')\n",
    "plt.xlabel('Дата')\n",
    "plt.ylabel('Кумулятивная конверсия')\n",
    "plt.xticks(rotation = 45)\n",
    "plt.legend()"
   ]
  },
  {
   "cell_type": "markdown",
   "metadata": {},
   "source": [
    "После нестабильности в начале периода графики перескекаются, после чего конверсия группы В уходит вверх и стабилизируется, конверсия А падает и стабилизируется."
   ]
  },
  {
   "cell_type": "markdown",
   "metadata": {},
   "source": [
    "Построим график относительного различия кумулятивных конверсий."
   ]
  },
  {
   "cell_type": "code",
   "execution_count": 54,
   "metadata": {},
   "outputs": [
    {
     "data": {
      "text/plain": [
       "<matplotlib.lines.Line2D at 0x7fa5caa5ecd0>"
      ]
     },
     "execution_count": 54,
     "metadata": {},
     "output_type": "execute_result"
    },
    {
     "data": {
      "image/png": "[encoded data removed]",
      "text/plain": [
       "<Figure size 1440x720 with 1 Axes>"
      ]
     },
     "metadata": {
      "needs_background": "light"
     },
     "output_type": "display_data"
    }
   ],
   "source": [
    "mergedCumulativeConversions = cumulativeDataA[['date','conversion']].merge(cumulativeDataB[['date','conversion']], left_on='date', right_on='date', how='left', suffixes=['A', 'B'])\n",
    "\n",
    "plt.plot(mergedCumulativeConversions['date'], mergedCumulativeConversions['conversionB']/mergedCumulativeConversions['conversionA']-1, label=\"Относительный прирост конверсии группы B относительно группы A\")\n",
    "plt.title('Относительное различие кумулятивных конверсий')\n",
    "plt.xlabel('Дата')\n",
    "plt.ylabel('Относительное различие')\n",
    "plt.xticks(rotation = 45)\n",
    "plt.legend()\n",
    "\n",
    "plt.axhline(y=0, color='black', linestyle='--')\n",
    "plt.axhline(y=-0.1, color='grey', linestyle='--')"
   ]
  },
  {
   "cell_type": "markdown",
   "metadata": {},
   "source": [
    "В начале наблюдаемого периода конверсия группы В проигрывала группе А, затем опередила ее и стабилизировалась."
   ]
  },
  {
   "cell_type": "markdown",
   "metadata": {},
   "source": [
    "Построим точечную диаграмму числа заказов на одного пользователя."
   ]
  },
  {
   "cell_type": "code",
   "execution_count": null,
   "metadata": {},
   "outputs": [],
   "source": [
    "# группируем заказы по пользователям\n",
    "ordersByUsers = (\n",
    "    orders.groupby('visitorid', as_index=False)\n",
    "    .agg({'transactionid': 'nunique'})\n",
    ")\n",
    "\n",
    "ordersByUsers.columns = ['visitorid', 'orders']\n",
    "\n",
    "x_values = pd.Series(range(0,len(ordersByUsers)))\n",
    "\n",
    "# строим график\n",
    "plt.rcParams['font.size'] = '12'\n",
    "plt.scatter(x_values, ordersByUsers['orders'])\n",
    "plt.title('Число заказов на одного пользователя')\n",
    "plt.xlabel('Количество пользователей')\n",
    "plt.ylabel('Число заказов')"
   ]
  },
  {
   "cell_type": "markdown",
   "metadata": {},
   "source": [
    "Большого количества пользователей с больше чем одним заказом не наблюдается. Но их точная доля не ясна — непонятно, считать их аномалиями или нет."
   ]
  },
  {
   "cell_type": "markdown",
   "metadata": {},
   "source": [
    "Посчитаем 95-й и 99-й перцентили количества заказов на одного пользователя."
   ]
  },
  {
   "cell_type": "code",
   "execution_count": 19,
   "metadata": {},
   "outputs": [
    {
     "name": "stdout",
     "output_type": "stream",
     "text": [
      "[2. 4.]\n"
     ]
    }
   ],
   "source": [
    "print(np.percentile(ordersByUsers['orders'], [95, 99])) "
   ]
  },
  {
   "cell_type": "markdown",
   "metadata": {},
   "source": [
    "Не более 5% пользователей оформляли больше 2-х заказов. И только 1% пользователей заказывал более 4-х раз.\n",
    "Выберем 4 заказа на одного пользователя за верхнюю границу числа заказов, и отсеим аномальных пользователей по ней."
   ]
  },
  {
   "cell_type": "markdown",
   "metadata": {},
   "source": [
    "Построим точечный график стоимости заказов."
   ]
  },
  {
   "cell_type": "code",
   "execution_count": 44,
   "metadata": {},
   "outputs": [
    {
     "data": {
      "text/plain": [
       "Text(0, 0.5, 'Стоимость')"
      ]
     },
     "execution_count": 44,
     "metadata": {},
     "output_type": "execute_result"
    },
    {
     "data": {
      "image/png": "[encoded data removed]",
      "text/plain": [
       "<Figure size 1440x720 with 1 Axes>"
      ]
     },
     "metadata": {
      "needs_background": "light"
     },
     "output_type": "display_data"
    }
   ],
   "source": [
    "x_values = pd.Series(range(0, len(orders['revenue'])))\n",
    "\n",
    "plt.scatter(x_values, orders['revenue']) \n",
    "plt.title('Стоимость заказов')\n",
    "plt.xlabel('Количество')\n",
    "plt.ylabel('Стоимость')"
   ]
  },
  {
   "cell_type": "markdown",
   "metadata": {},
   "source": [
    "Наблюдается несколько выделяющихся заказов и один сверхдорогой. Им может быть обусловлен выброс на графиках выручки и среднего чека."
   ]
  },
  {
   "cell_type": "markdown",
   "metadata": {},
   "source": [
    "Посчитаем 95-й и 99-й перцентили стоимиости заказов."
   ]
  },
  {
   "cell_type": "code",
   "execution_count": 21,
   "metadata": {},
   "outputs": [
    {
     "name": "stdout",
     "output_type": "stream",
     "text": [
      "[28000.  58233.2]\n"
     ]
    }
   ],
   "source": [
    "print(np.percentile(orders['revenue'], [95, 99])) "
   ]
  },
  {
   "cell_type": "markdown",
   "metadata": {},
   "source": [
    "Не более 5% заказов дороже 28 000 рублей и не более 1% дороже 58 233.2 рублей. Примем 50 000 р за верхнюю границу."
   ]
  },
  {
   "cell_type": "markdown",
   "metadata": {},
   "source": [
    "Посчитаем статистическую значимость различий в среднем числе заказов на пользователя и среднем чеке между группами по «сырым» данным — без удаления аномальных пользователей.\n",
    "Сформулируем гипотезы. Нулевая: различий в среднем количестве заказов между группами нет. Альтернативная: различия в среднем  количестве заказов между группами есть."
   ]
  },
  {
   "cell_type": "code",
   "execution_count": 22,
   "metadata": {},
   "outputs": [],
   "source": [
    "# подготовим данные\n",
    "\n",
    "#visitors['date'] = visitors['date'].map(lambda x: dt.datetime.strptime(x, '%Y-%m-%d'))\n",
    "#orders['date'] = orders['date'].map(lambda x: dt.datetime.strptime(x, '%Y-%m-%d'))    \n",
    "    \n",
    "visitorsADaily = visitors[visitors['group'] == 'A'][['date', 'visitors']]\n",
    "visitorsADaily.columns = ['date', 'visitorsPerDateA']\n",
    "\n",
    "visitorsACummulative = visitorsADaily.apply(\n",
    "    lambda x: visitorsADaily[visitorsADaily['date'] <= x['date']].agg(\n",
    "        {'date': 'max', 'visitorsPerDateA': 'sum'}\n",
    "    ),\n",
    "    axis=1,\n",
    ")\n",
    "visitorsACummulative.columns = ['date', 'visitorsCummulativeA']\n",
    "\n",
    "visitorsBDaily = visitors[visitors['group'] == 'B'][['date', 'visitors']]\n",
    "visitorsBDaily.columns = ['date', 'visitorsPerDateB']\n",
    "\n",
    "visitorsBCummulative = visitorsBDaily.apply(\n",
    "    lambda x: visitorsBDaily[visitorsBDaily['date'] <= x['date']].agg(\n",
    "        {'date': 'max', 'visitorsPerDateB': 'sum'}\n",
    "    ),\n",
    "    axis=1,\n",
    ")\n",
    "visitorsBCummulative.columns = ['date', 'visitorsCummulativeB']\n",
    "\n",
    "ordersADaily = (\n",
    "    orders[orders['group'] == 'A'][['date', 'transactionid', 'visitorid', 'revenue']]\n",
    "    .groupby('date', as_index=False)\n",
    "    .agg({'transactionid': pd.Series.nunique, 'revenue': 'sum'})\n",
    ")\n",
    "ordersADaily.columns = ['date', 'ordersPerDateA', 'revenuePerDateA']\n",
    "\n",
    "ordersACummulative = ordersADaily.apply(\n",
    "    lambda x: ordersADaily[ordersADaily['date'] <= x['date']].agg(\n",
    "        {'date': 'max', 'ordersPerDateA': 'sum', 'revenuePerDateA': 'sum'}\n",
    "    ),\n",
    "    axis=1,\n",
    ").sort_values(by=['date'])\n",
    "ordersACummulative.columns = [\n",
    "    'date',\n",
    "    'ordersCummulativeA',\n",
    "    'revenueCummulativeA',\n",
    "]\n",
    "\n",
    "ordersBDaily = (\n",
    "    orders[orders['group'] == 'B'][['date', 'transactionid', 'visitorid', 'revenue']]\n",
    "    .groupby('date', as_index=False)\n",
    "    .agg({'transactionid': pd.Series.nunique, 'revenue': 'sum'})\n",
    ")\n",
    "ordersBDaily.columns = ['date', 'ordersPerDateB', 'revenuePerDateB']\n",
    "\n",
    "ordersBCummulative = ordersBDaily.apply(\n",
    "    lambda x: ordersBDaily[ordersBDaily['date'] <= x['date']].agg(\n",
    "        {'date': 'max', 'ordersPerDateB': 'sum', 'revenuePerDateB': 'sum'}\n",
    "    ),\n",
    "    axis=1,\n",
    ").sort_values(by=['date'])\n",
    "ordersBCummulative.columns = [\n",
    "    'date',\n",
    "    'ordersCummulativeB',\n",
    "    'revenueCummulativeB',\n",
    "]\n",
    "\n",
    "data = (\n",
    "    ordersADaily.merge(\n",
    "        ordersBDaily, left_on='date', right_on='date', how='left'\n",
    "    )\n",
    "    .merge(ordersACummulative, left_on='date', right_on='date', how='left')\n",
    "    .merge(ordersBCummulative, left_on='date', right_on='date', how='left')\n",
    "    .merge(visitorsADaily, left_on='date', right_on='date', how='left')\n",
    "    .merge(visitorsBDaily, left_on='date', right_on='date', how='left')\n",
    "    .merge(visitorsACummulative, left_on='date', right_on='date', how='left')\n",
    "    .merge(visitorsBCummulative, left_on='date', right_on='date', how='left')\n",
    ")"
   ]
  },
  {
   "cell_type": "markdown",
   "metadata": {},
   "source": [
    "Посчитаем статистическую значимость различия в среднем количестве заказов между группами.\n",
    "Создадим переменные ordersByUsersA и ordersByUsersB со столбцами 'visitorid', 'orders'. В них для пользователей, которые заказывали хотя бы 1 раз, укажем число совершённых заказов."
   ]
  },
  {
   "cell_type": "code",
   "execution_count": 23,
   "metadata": {},
   "outputs": [],
   "source": [
    "ordersByUsersA = (\n",
    "    orders[orders['group'] == 'A']\n",
    "    .groupby('visitorid', as_index=False)\n",
    "    .agg({'transactionid': pd.Series.nunique})\n",
    ")\n",
    "ordersByUsersA.columns = ['visitorid', 'orders']\n",
    "\n",
    "ordersByUsersB = (\n",
    "    orders[orders['group'] == 'B']\n",
    "    .groupby('visitorid', as_index=False)\n",
    "    .agg({'transactionid': pd.Series.nunique})\n",
    ")\n",
    "ordersByUsersB.columns = ['visitorid', 'orders'] "
   ]
  },
  {
   "cell_type": "markdown",
   "metadata": {},
   "source": [
    "Объявим переменные sampleA и sampleB, в которых пользователям из разных групп будет соответствовать количество заказов. Тем, кто ничего не заказал, будут соответствовать нули."
   ]
  },
  {
   "cell_type": "code",
   "execution_count": 24,
   "metadata": {},
   "outputs": [],
   "source": [
    "sampleA = pd.concat([ordersByUsersA['orders'],pd.Series(0, index=np.arange(data['visitorsPerDateA'].sum() - len(ordersByUsersA['orders'])), name='orders')],axis=0)\n",
    "\n",
    "sampleB = pd.concat([ordersByUsersB['orders'],pd.Series(0, index=np.arange(data['visitorsPerDateB'].sum() - len(ordersByUsersB['orders'])), name='orders')],axis=0) "
   ]
  },
  {
   "cell_type": "markdown",
   "metadata": {},
   "source": [
    "Применим критерий и отформатируем p-value, округлив его до трёх знаков после запятой."
   ]
  },
  {
   "cell_type": "code",
   "execution_count": 25,
   "metadata": {},
   "outputs": [
    {
     "name": "stdout",
     "output_type": "stream",
     "text": [
      "P-value 0.017\n",
      "Относительное различие в среднем среднем числе заказов 0.138\n"
     ]
    }
   ],
   "source": [
    "ordersByUsersA = (\n",
    "    orders[orders['group'] == 'A']\n",
    "    .groupby('visitorid', as_index=False)\n",
    "    .agg({'transactionid': pd.Series.nunique})\n",
    ")\n",
    "ordersByUsersA.columns = ['visitorid', 'orders']\n",
    "\n",
    "ordersByUsersB = (\n",
    "    orders[orders['group'] == 'B']\n",
    "    .groupby('visitorid', as_index=False)\n",
    "    .agg({'transactionid': pd.Series.nunique})\n",
    ")\n",
    "ordersByUsersB.columns = ['visitorid', 'orders']\n",
    "\n",
    "sampleA = pd.concat(\n",
    "    [\n",
    "        ordersByUsersA['orders'],\n",
    "        pd.Series(\n",
    "            0,\n",
    "            index=np.arange(\n",
    "                data['visitorsPerDateA'].sum() - len(ordersByUsersA['orders'])\n",
    "            ),\n",
    "            name='orders',\n",
    "        ),\n",
    "    ],\n",
    "    axis=0,\n",
    ")\n",
    "\n",
    "sampleB = pd.concat(\n",
    "    [\n",
    "        ordersByUsersB['orders'],\n",
    "        pd.Series(\n",
    "            0,\n",
    "            index=np.arange(\n",
    "                data['visitorsPerDateB'].sum() - len(ordersByUsersB['orders'])\n",
    "            ),\n",
    "            name='orders',\n",
    "        ),\n",
    "    ],\n",
    "    axis=0,\n",
    ")\n",
    "\n",
    "print('P-value', \"{0:.3f}\".format(stats.mannwhitneyu(sampleA, sampleB)[1]))\n",
    "\n",
    "print('Относительное различие в среднем среднем числе заказов', \"{0:.3f}\".format(sampleB.mean() / sampleA.mean() - 1))"
   ]
  },
  {
   "cell_type": "markdown",
   "metadata": {},
   "source": [
    "По необработанным данным в среднем числе заказов групп A и B имеются существенные различия.\n",
    "P-value = 0.017, меньше 0.05. Значит, нулевую гипотезу о том, что статистически значимых различий в среднем числе заказов между группами нет, следует отвергнуть. Относительный выигрыш группы B равен 13.8%."
   ]
  },
  {
   "cell_type": "markdown",
   "metadata": {},
   "source": [
    "Теперь проверим статистическую значимость различий в среднем чеке между сегментами. Нулевая гипотеза: различий в среднем чеке между группами нет. Альтернативная гипотеза: различия в среднем чеке между группами есть."
   ]
  },
  {
   "cell_type": "code",
   "execution_count": 26,
   "metadata": {},
   "outputs": [
    {
     "name": "stdout",
     "output_type": "stream",
     "text": [
      "P-value 0.729\n",
      "Относительное различие в среднем чеке 0.259\n"
     ]
    }
   ],
   "source": [
    "print('P-value', '{0:.3f}'.format(stats.mannwhitneyu(orders[orders['group']=='A']['revenue'], orders[orders['group']=='B']['revenue'])[1]))\n",
    "print('Относительное различие в среднем чеке', '{0:.3f}'.format(orders[orders['group']=='B']['revenue'].mean()/orders[orders['group']=='A']['revenue'].mean()-1)) "
   ]
  },
  {
   "cell_type": "markdown",
   "metadata": {},
   "source": [
    "P-value больше 0.05. Значит, причин отвергать нулевую гипотезу и считать, что в среднем чеке есть различия, нет. При этом, относительное различие в среднем чеке можем признать полученным случайным образом."
   ]
  },
  {
   "cell_type": "markdown",
   "metadata": {},
   "source": [
    "Примем за аномальных пользователей тех, кто совершил более 4-х заказов или совершил заказ дороже 50 000 рублей. Сделаем срезы пользователей с числом заказов больше 4 — usersWithManyOrders и пользователей, совершивших заказы дороже 50 000 — usersWithExpensiveOrders. Объединим их в таблице abnormalUsers."
   ]
  },
  {
   "cell_type": "markdown",
   "metadata": {},
   "source": [
    "Узнаем, сколько всего аномальных пользователей."
   ]
  },
  {
   "cell_type": "code",
   "execution_count": 27,
   "metadata": {},
   "outputs": [
    {
     "name": "stdout",
     "output_type": "stream",
     "text": [
      "1099     148427295\n",
      "1137     759473111\n",
      "949      887908475\n",
      "744      888512513\n",
      "1103    1164614297\n",
      "Name: visitorid, dtype: int64\n",
      "21\n"
     ]
    }
   ],
   "source": [
    "max_orders = 4\n",
    "max_revenue = 50000\n",
    "\n",
    "usersWithManyOrders = pd.concat(\n",
    "    [\n",
    "        ordersByUsersA[ordersByUsersA['orders'] > max_orders]['visitorid'],\n",
    "        ordersByUsersB[ordersByUsersB['orders'] > max_orders]['visitorid'],\n",
    "    ],\n",
    "    axis=0,\n",
    ")\n",
    "usersWithExpensiveOrders = orders[orders['revenue'] > max_revenue]['visitorid']\n",
    "abnormalUsers = (\n",
    "    pd.concat([usersWithManyOrders, usersWithExpensiveOrders], axis=0)\n",
    "    .drop_duplicates()\n",
    "    .sort_values()\n",
    ")\n",
    "print(abnormalUsers.head(5))\n",
    "print(abnormalUsers.shape[0])"
   ]
  },
  {
   "cell_type": "markdown",
   "metadata": {},
   "source": [
    "86 аномальных пользователей. Узнаем, как их действия повлияли на результаты теста. Посчитаем статистическую значимость различий в среднем количестве заказов между группами теста по очищенным данным. Сформулируем гипотезы. Нулевая: различий в среднем количестве заказов между группами нет. Альтернативная: различия в среднем количестве заказов между группами есть. Подготовим выборки количества заказов по пользователям по группам теста."
   ]
  },
  {
   "cell_type": "code",
   "execution_count": 28,
   "metadata": {},
   "outputs": [],
   "source": [
    "sampleAFiltered = pd.concat(\n",
    "    [\n",
    "        ordersByUsersA[\n",
    "            np.logical_not(ordersByUsersA['visitorid'].isin(abnormalUsers))\n",
    "        ]['orders'],\n",
    "        pd.Series(\n",
    "            0,\n",
    "            index=np.arange(\n",
    "                data['visitorsPerDateA'].sum() - len(ordersByUsersA['orders'])\n",
    "            ),\n",
    "            name='orders',\n",
    "        ),\n",
    "    ],\n",
    "    axis=0,\n",
    ")\n",
    "\n",
    "sampleBFiltered = pd.concat(\n",
    "    [\n",
    "        ordersByUsersB[\n",
    "            np.logical_not(ordersByUsersB['visitorid'].isin(abnormalUsers))\n",
    "        ]['orders'],\n",
    "        pd.Series(\n",
    "            0,\n",
    "            index=np.arange(\n",
    "                data['visitorsPerDateB'].sum() - len(ordersByUsersB['orders'])\n",
    "            ),\n",
    "            name='orders',\n",
    "        ),\n",
    "    ],\n",
    "    axis=0,\n",
    ") "
   ]
  },
  {
   "cell_type": "markdown",
   "metadata": {},
   "source": [
    "Применим статистический критерий Манна-Уитни к полученным выборкам."
   ]
  },
  {
   "cell_type": "code",
   "execution_count": 59,
   "metadata": {},
   "outputs": [
    {
     "name": "stdout",
     "output_type": "stream",
     "text": [
      "P-value 0.012\n",
      "Относительное различие в среднем среднем числе заказов 0.160\n"
     ]
    }
   ],
   "source": [
    "print('P-value','{0:.3f}'.format(stats.mannwhitneyu(sampleAFiltered, sampleBFiltered)[1]))\n",
    "print('Относительное различие в среднем среднем числе заказов', '{0:.3f}'.format(sampleBFiltered.mean()/sampleAFiltered.mean()-1)) "
   ]
  },
  {
   "cell_type": "markdown",
   "metadata": {},
   "source": [
    "Результаты по среднему количеству заказов существенно не изменились. Найдем соответствующие значения по среднему чеку."
   ]
  },
  {
   "cell_type": "markdown",
   "metadata": {},
   "source": [
    "Посчитаем статистическую значимость различий в среднем чеке между группами теста по очищенным данным. Сформулируем гипотезы. Нулевая: различий в среднем чеке между группами нет. Альтернативная: различия в среднем чеке между группами есть."
   ]
  },
  {
   "cell_type": "code",
   "execution_count": 31,
   "metadata": {},
   "outputs": [
    {
     "name": "stdout",
     "output_type": "stream",
     "text": [
      "P-value 0.715\n",
      "Относительное различие в среднем среднем чеке 0.032\n"
     ]
    }
   ],
   "source": [
    "print('P-value',\n",
    "    '{0:.3f}'.format(\n",
    "        stats.mannwhitneyu(\n",
    "            orders[\n",
    "                np.logical_and(\n",
    "                    orders['group'] == 'A',\n",
    "                    np.logical_not(orders['visitorid'].isin(abnormalUsers)),\n",
    "                )\n",
    "            ]['revenue'],\n",
    "            orders[\n",
    "                np.logical_and(\n",
    "                    orders['group'] == 'B',\n",
    "                    np.logical_not(orders['visitorid'].isin(abnormalUsers)),\n",
    "                )\n",
    "            ]['revenue'],\n",
    "        )[1]\n",
    "    )\n",
    ")\n",
    "\n",
    "print('Относительное различие в среднем среднем чеке',\n",
    "    \"{0:.3f}\".format(\n",
    "        orders[\n",
    "            np.logical_and(\n",
    "                orders['group'] == 'B',\n",
    "                np.logical_not(orders['visitorid'].isin(abnormalUsers)),\n",
    "            )\n",
    "        ]['revenue'].mean()\n",
    "        / orders[\n",
    "            np.logical_and(\n",
    "                orders['group'] == 'A',\n",
    "                np.logical_not(orders['visitorid'].isin(abnormalUsers)),\n",
    "            )\n",
    "        ]['revenue'].mean()\n",
    "        - 1\n",
    "    )\n",
    ") \n"
   ]
  },
  {
   "cell_type": "markdown",
   "metadata": {},
   "source": [
    "P-value практически не изменилось."
   ]
  },
  {
   "cell_type": "markdown",
   "metadata": {},
   "source": [
    "Имеющиеся факты:\n",
    "1)Присутствуют статистически значимые различия по среднему количеству заказов между группами и по необработанным данным, и по данным после фильтрации аномалий;\n",
    "2)Нет статистически значимого различия по среднему чеку между группами ни по необработанным данным, ни по данным после фильтрации аномалий;\n",
    "3)График различия конверсии между группами показывает, что результаты группы А хуже результатов группы В. Тенденции к улучшению не наблюдается.\n",
    "4)График различия среднего чека показывает, что, за вычетом выброса 18-го мая, результаты групп практически идентичны.\n",
    "\n",
    "Исходя из обнаруженных фактов, тест следует признать успешным и остановить. При отсутствии разницы в среднем чеке, группа В выигрывает у группы А по среднему количеству заказов."
   ]
  }
 ],
 "metadata": {
  "ExecuteTimeLog": [
   {
    "duration": 843,
    "start_time": "2022-11-20T17:13:26.762Z"
   },
   {
    "duration": 68,
    "start_time": "2022-11-20T17:13:28.914Z"
   },
   {
    "duration": 1347,
    "start_time": "2022-11-20T17:13:30.072Z"
   },
   {
    "duration": 26,
    "start_time": "2022-11-20T17:13:42.604Z"
   },
   {
    "duration": 1211,
    "start_time": "2022-11-20T17:13:43.843Z"
   },
   {
    "duration": 31,
    "start_time": "2022-11-20T17:14:16.562Z"
   },
   {
    "duration": 4,
    "start_time": "2022-11-20T17:16:51.184Z"
   },
   {
    "duration": 11,
    "start_time": "2022-11-20T17:16:54.417Z"
   },
   {
    "duration": 800,
    "start_time": "2022-11-20T17:21:21.911Z"
   },
   {
    "duration": 30,
    "start_time": "2022-11-20T17:21:22.713Z"
   },
   {
    "duration": 17,
    "start_time": "2022-11-20T17:21:22.745Z"
   },
   {
    "duration": 21,
    "start_time": "2022-11-20T17:21:22.764Z"
   },
   {
    "duration": 27,
    "start_time": "2022-11-20T17:21:22.787Z"
   },
   {
    "duration": 28,
    "start_time": "2022-11-20T17:23:40.130Z"
   },
   {
    "duration": 30,
    "start_time": "2022-11-20T17:29:03.009Z"
   },
   {
    "duration": 29,
    "start_time": "2022-11-20T17:29:12.720Z"
   },
   {
    "duration": 49,
    "start_time": "2022-11-21T16:58:57.192Z"
   },
   {
    "duration": 907,
    "start_time": "2022-11-21T16:59:09.130Z"
   },
   {
    "duration": 70,
    "start_time": "2022-11-21T16:59:10.039Z"
   },
   {
    "duration": 4,
    "start_time": "2022-11-21T16:59:10.111Z"
   },
   {
    "duration": 18,
    "start_time": "2022-11-21T16:59:10.117Z"
   },
   {
    "duration": 18,
    "start_time": "2022-11-21T16:59:10.137Z"
   },
   {
    "duration": 204,
    "start_time": "2022-11-21T16:59:10.157Z"
   },
   {
    "duration": 72,
    "start_time": "2022-11-21T16:59:30.561Z"
   },
   {
    "duration": 70,
    "start_time": "2022-11-21T17:00:16.385Z"
   },
   {
    "duration": 1178,
    "start_time": "2022-11-21T18:08:11.342Z"
   },
   {
    "duration": 79,
    "start_time": "2022-11-21T18:08:12.522Z"
   },
   {
    "duration": 3,
    "start_time": "2022-11-21T18:08:12.604Z"
   },
   {
    "duration": 26,
    "start_time": "2022-11-21T18:08:12.609Z"
   },
   {
    "duration": 13,
    "start_time": "2022-11-21T18:08:12.638Z"
   },
   {
    "duration": 66,
    "start_time": "2022-11-21T18:08:12.653Z"
   },
   {
    "duration": 5,
    "start_time": "2022-11-21T18:08:12.720Z"
   },
   {
    "duration": 108,
    "start_time": "2022-11-21T18:08:12.727Z"
   },
   {
    "duration": 0,
    "start_time": "2022-11-21T18:08:12.837Z"
   },
   {
    "duration": 0,
    "start_time": "2022-11-21T18:08:12.838Z"
   },
   {
    "duration": 0,
    "start_time": "2022-11-21T18:08:12.839Z"
   },
   {
    "duration": 0,
    "start_time": "2022-11-21T18:08:12.840Z"
   },
   {
    "duration": 1208,
    "start_time": "2022-11-22T14:12:14.794Z"
   },
   {
    "duration": 100,
    "start_time": "2022-11-22T14:12:16.005Z"
   },
   {
    "duration": 7,
    "start_time": "2022-11-22T14:12:16.107Z"
   },
   {
    "duration": 1106,
    "start_time": "2022-11-22T14:12:16.116Z"
   },
   {
    "duration": 0,
    "start_time": "2022-11-22T14:12:17.224Z"
   },
   {
    "duration": 0,
    "start_time": "2022-11-22T14:12:17.225Z"
   },
   {
    "duration": 0,
    "start_time": "2022-11-22T14:12:17.227Z"
   },
   {
    "duration": 0,
    "start_time": "2022-11-22T14:12:17.228Z"
   },
   {
    "duration": 0,
    "start_time": "2022-11-22T14:12:17.229Z"
   },
   {
    "duration": 0,
    "start_time": "2022-11-22T14:12:17.230Z"
   },
   {
    "duration": 0,
    "start_time": "2022-11-22T14:12:17.231Z"
   },
   {
    "duration": 0,
    "start_time": "2022-11-22T14:12:17.233Z"
   },
   {
    "duration": 1081,
    "start_time": "2022-11-22T14:12:54.393Z"
   },
   {
    "duration": 90,
    "start_time": "2022-11-22T14:12:55.476Z"
   },
   {
    "duration": 4,
    "start_time": "2022-11-22T14:12:55.568Z"
   },
   {
    "duration": 16,
    "start_time": "2022-11-22T14:12:55.575Z"
   },
   {
    "duration": 10,
    "start_time": "2022-11-22T14:12:55.593Z"
   },
   {
    "duration": 148,
    "start_time": "2022-11-22T14:12:55.605Z"
   },
   {
    "duration": 8,
    "start_time": "2022-11-22T14:12:55.754Z"
   },
   {
    "duration": 144,
    "start_time": "2022-11-22T14:12:55.764Z"
   },
   {
    "duration": 0,
    "start_time": "2022-11-22T14:12:55.910Z"
   },
   {
    "duration": 0,
    "start_time": "2022-11-22T14:12:55.911Z"
   },
   {
    "duration": 0,
    "start_time": "2022-11-22T14:12:55.913Z"
   },
   {
    "duration": 1,
    "start_time": "2022-11-22T14:12:55.914Z"
   },
   {
    "duration": 1117,
    "start_time": "2022-11-22T14:14:32.554Z"
   },
   {
    "duration": 97,
    "start_time": "2022-11-22T14:14:33.672Z"
   },
   {
    "duration": 3,
    "start_time": "2022-11-22T14:14:33.771Z"
   },
   {
    "duration": 19,
    "start_time": "2022-11-22T14:14:33.775Z"
   },
   {
    "duration": 9,
    "start_time": "2022-11-22T14:14:33.796Z"
   },
   {
    "duration": 58,
    "start_time": "2022-11-22T14:14:33.807Z"
   },
   {
    "duration": 6,
    "start_time": "2022-11-22T14:14:33.867Z"
   },
   {
    "duration": 123,
    "start_time": "2022-11-22T14:14:33.874Z"
   },
   {
    "duration": 0,
    "start_time": "2022-11-22T14:14:33.999Z"
   },
   {
    "duration": 0,
    "start_time": "2022-11-22T14:14:34.001Z"
   },
   {
    "duration": 0,
    "start_time": "2022-11-22T14:14:34.002Z"
   },
   {
    "duration": 0,
    "start_time": "2022-11-22T14:14:34.003Z"
   },
   {
    "duration": 1171,
    "start_time": "2022-11-22T14:15:58.593Z"
   },
   {
    "duration": 67,
    "start_time": "2022-11-22T14:15:59.766Z"
   },
   {
    "duration": 4,
    "start_time": "2022-11-22T14:15:59.835Z"
   },
   {
    "duration": 13,
    "start_time": "2022-11-22T14:15:59.854Z"
   },
   {
    "duration": 9,
    "start_time": "2022-11-22T14:15:59.868Z"
   },
   {
    "duration": 65,
    "start_time": "2022-11-22T14:15:59.879Z"
   },
   {
    "duration": 6,
    "start_time": "2022-11-22T14:15:59.946Z"
   },
   {
    "duration": 178,
    "start_time": "2022-11-22T14:15:59.954Z"
   },
   {
    "duration": 0,
    "start_time": "2022-11-22T14:16:00.134Z"
   },
   {
    "duration": 0,
    "start_time": "2022-11-22T14:16:00.136Z"
   },
   {
    "duration": 0,
    "start_time": "2022-11-22T14:16:00.137Z"
   },
   {
    "duration": 0,
    "start_time": "2022-11-22T14:16:00.138Z"
   },
   {
    "duration": 1193,
    "start_time": "2022-11-22T14:18:25.956Z"
   },
   {
    "duration": 91,
    "start_time": "2022-11-22T14:18:27.152Z"
   },
   {
    "duration": 3,
    "start_time": "2022-11-22T14:18:27.245Z"
   },
   {
    "duration": 15,
    "start_time": "2022-11-22T14:18:27.250Z"
   },
   {
    "duration": 9,
    "start_time": "2022-11-22T14:18:27.267Z"
   },
   {
    "duration": 57,
    "start_time": "2022-11-22T14:18:27.277Z"
   },
   {
    "duration": 116,
    "start_time": "2022-11-22T14:18:27.336Z"
   },
   {
    "duration": 1,
    "start_time": "2022-11-22T14:18:27.454Z"
   },
   {
    "duration": 0,
    "start_time": "2022-11-22T14:18:27.456Z"
   },
   {
    "duration": 0,
    "start_time": "2022-11-22T14:18:27.457Z"
   },
   {
    "duration": 1,
    "start_time": "2022-11-22T14:18:27.458Z"
   },
   {
    "duration": 0,
    "start_time": "2022-11-22T14:18:27.459Z"
   },
   {
    "duration": 0,
    "start_time": "2022-11-22T14:18:27.461Z"
   },
   {
    "duration": 0,
    "start_time": "2022-11-22T14:20:44.567Z"
   },
   {
    "duration": 0,
    "start_time": "2022-11-22T14:20:44.568Z"
   },
   {
    "duration": 0,
    "start_time": "2022-11-22T14:20:44.570Z"
   },
   {
    "duration": 0,
    "start_time": "2022-11-22T14:20:44.572Z"
   },
   {
    "duration": 0,
    "start_time": "2022-11-22T14:20:44.574Z"
   },
   {
    "duration": 0,
    "start_time": "2022-11-22T14:20:44.575Z"
   },
   {
    "duration": 0,
    "start_time": "2022-11-22T14:20:44.579Z"
   },
   {
    "duration": 0,
    "start_time": "2022-11-22T14:20:44.582Z"
   },
   {
    "duration": 0,
    "start_time": "2022-11-22T14:20:44.583Z"
   },
   {
    "duration": 0,
    "start_time": "2022-11-22T14:20:44.586Z"
   },
   {
    "duration": 0,
    "start_time": "2022-11-22T14:20:44.588Z"
   },
   {
    "duration": 0,
    "start_time": "2022-11-22T14:20:44.590Z"
   },
   {
    "duration": 0,
    "start_time": "2022-11-22T14:20:44.591Z"
   },
   {
    "duration": 1207,
    "start_time": "2022-11-22T14:20:54.033Z"
   },
   {
    "duration": 88,
    "start_time": "2022-11-22T14:20:55.243Z"
   },
   {
    "duration": 3,
    "start_time": "2022-11-22T14:20:55.333Z"
   },
   {
    "duration": 17,
    "start_time": "2022-11-22T14:20:55.339Z"
   },
   {
    "duration": 11,
    "start_time": "2022-11-22T14:20:55.359Z"
   },
   {
    "duration": 60,
    "start_time": "2022-11-22T14:20:55.371Z"
   },
   {
    "duration": 106,
    "start_time": "2022-11-22T14:20:55.433Z"
   },
   {
    "duration": 0,
    "start_time": "2022-11-22T14:20:55.542Z"
   },
   {
    "duration": 0,
    "start_time": "2022-11-22T14:20:55.543Z"
   },
   {
    "duration": 1,
    "start_time": "2022-11-22T14:20:55.544Z"
   },
   {
    "duration": 0,
    "start_time": "2022-11-22T14:20:55.546Z"
   },
   {
    "duration": 0,
    "start_time": "2022-11-22T14:20:55.547Z"
   },
   {
    "duration": 0,
    "start_time": "2022-11-22T14:20:55.548Z"
   },
   {
    "duration": 6,
    "start_time": "2022-11-22T14:21:05.113Z"
   },
   {
    "duration": 7,
    "start_time": "2022-11-22T14:21:07.435Z"
   },
   {
    "duration": 184,
    "start_time": "2022-11-22T14:21:09.473Z"
   },
   {
    "duration": 143,
    "start_time": "2022-11-22T14:21:10.955Z"
   },
   {
    "duration": 16,
    "start_time": "2022-11-22T14:21:12.153Z"
   },
   {
    "duration": 9,
    "start_time": "2022-11-22T14:21:25.314Z"
   },
   {
    "duration": 307,
    "start_time": "2022-11-22T14:21:26.153Z"
   },
   {
    "duration": 285,
    "start_time": "2022-11-22T14:27:26.711Z"
   },
   {
    "duration": 4,
    "start_time": "2022-11-22T14:27:37.716Z"
   },
   {
    "duration": 282,
    "start_time": "2022-11-22T14:27:48.757Z"
   },
   {
    "duration": 275,
    "start_time": "2022-11-22T14:27:57.309Z"
   },
   {
    "duration": 273,
    "start_time": "2022-11-22T14:54:22.971Z"
   },
   {
    "duration": 1304,
    "start_time": "2022-11-23T10:05:56.390Z"
   },
   {
    "duration": 136,
    "start_time": "2022-11-23T10:05:57.696Z"
   },
   {
    "duration": 3,
    "start_time": "2022-11-23T10:05:57.834Z"
   },
   {
    "duration": 16,
    "start_time": "2022-11-23T10:05:57.839Z"
   },
   {
    "duration": 12,
    "start_time": "2022-11-23T10:05:57.857Z"
   },
   {
    "duration": 137,
    "start_time": "2022-11-23T10:05:57.870Z"
   },
   {
    "duration": 3,
    "start_time": "2022-11-23T10:05:58.008Z"
   },
   {
    "duration": 8,
    "start_time": "2022-11-23T10:05:58.013Z"
   },
   {
    "duration": 165,
    "start_time": "2022-11-23T10:05:58.023Z"
   },
   {
    "duration": 117,
    "start_time": "2022-11-23T10:05:58.189Z"
   },
   {
    "duration": 9,
    "start_time": "2022-11-23T10:05:58.307Z"
   },
   {
    "duration": 10,
    "start_time": "2022-11-23T10:05:58.318Z"
   },
   {
    "duration": 281,
    "start_time": "2022-11-23T10:05:58.329Z"
   },
   {
    "duration": 250,
    "start_time": "2022-11-23T10:05:58.612Z"
   },
   {
    "duration": 400,
    "start_time": "2022-11-23T10:05:58.864Z"
   },
   {
    "duration": 268,
    "start_time": "2022-11-23T10:32:42.147Z"
   },
   {
    "duration": 222,
    "start_time": "2022-11-23T10:36:59.223Z"
   },
   {
    "duration": 89,
    "start_time": "2022-11-23T11:03:23.666Z"
   },
   {
    "duration": 122,
    "start_time": "2022-11-23T11:09:40.402Z"
   },
   {
    "duration": 4,
    "start_time": "2022-11-23T11:11:55.701Z"
   },
   {
    "duration": 4,
    "start_time": "2022-11-23T11:12:41.073Z"
   },
   {
    "duration": 162,
    "start_time": "2022-11-23T11:20:28.471Z"
   },
   {
    "duration": 1361,
    "start_time": "2022-11-23T11:54:44.107Z"
   },
   {
    "duration": 5,
    "start_time": "2022-11-23T11:55:59.095Z"
   },
   {
    "duration": 318,
    "start_time": "2022-11-23T12:42:34.579Z"
   },
   {
    "duration": 289,
    "start_time": "2022-11-23T12:43:45.969Z"
   },
   {
    "duration": 94,
    "start_time": "2022-11-23T12:44:00.645Z"
   },
   {
    "duration": 99,
    "start_time": "2022-11-23T12:46:08.350Z"
   },
   {
    "duration": 198,
    "start_time": "2022-11-23T12:47:02.618Z"
   },
   {
    "duration": 86,
    "start_time": "2022-11-23T12:48:39.827Z"
   },
   {
    "duration": 100,
    "start_time": "2022-11-23T12:49:05.035Z"
   },
   {
    "duration": 125,
    "start_time": "2022-11-23T12:50:10.823Z"
   },
   {
    "duration": 360,
    "start_time": "2022-11-23T12:50:42.820Z"
   },
   {
    "duration": 204,
    "start_time": "2022-11-23T12:52:05.490Z"
   },
   {
    "duration": 17,
    "start_time": "2022-11-23T12:53:51.583Z"
   },
   {
    "duration": 140,
    "start_time": "2022-11-23T12:54:50.778Z"
   },
   {
    "duration": 9,
    "start_time": "2022-11-23T12:55:49.012Z"
   },
   {
    "duration": 22,
    "start_time": "2022-11-23T12:57:29.608Z"
   },
   {
    "duration": 144,
    "start_time": "2022-11-23T12:59:01.642Z"
   },
   {
    "duration": 11,
    "start_time": "2022-11-23T13:00:04.739Z"
   },
   {
    "duration": 1156,
    "start_time": "2022-11-24T14:53:51.949Z"
   },
   {
    "duration": 131,
    "start_time": "2022-11-24T14:53:53.107Z"
   },
   {
    "duration": 4,
    "start_time": "2022-11-24T14:53:53.239Z"
   },
   {
    "duration": 18,
    "start_time": "2022-11-24T14:53:53.245Z"
   },
   {
    "duration": 10,
    "start_time": "2022-11-24T14:53:53.266Z"
   },
   {
    "duration": 142,
    "start_time": "2022-11-24T14:53:53.277Z"
   },
   {
    "duration": 3,
    "start_time": "2022-11-24T14:53:53.421Z"
   },
   {
    "duration": 7,
    "start_time": "2022-11-24T14:53:53.426Z"
   },
   {
    "duration": 151,
    "start_time": "2022-11-24T14:53:53.434Z"
   },
   {
    "duration": 136,
    "start_time": "2022-11-24T14:53:53.587Z"
   },
   {
    "duration": 8,
    "start_time": "2022-11-24T14:53:53.726Z"
   },
   {
    "duration": 17,
    "start_time": "2022-11-24T14:53:53.736Z"
   },
   {
    "duration": 409,
    "start_time": "2022-11-24T14:53:53.754Z"
   },
   {
    "duration": 292,
    "start_time": "2022-11-24T14:53:54.167Z"
   },
   {
    "duration": 449,
    "start_time": "2022-11-24T14:53:54.460Z"
   },
   {
    "duration": 365,
    "start_time": "2022-11-24T14:53:54.911Z"
   },
   {
    "duration": 282,
    "start_time": "2022-11-24T14:53:55.278Z"
   },
   {
    "duration": 135,
    "start_time": "2022-11-24T14:53:55.562Z"
   },
   {
    "duration": 4,
    "start_time": "2022-11-24T14:53:55.700Z"
   },
   {
    "duration": 121,
    "start_time": "2022-11-24T14:53:55.706Z"
   },
   {
    "duration": 4,
    "start_time": "2022-11-24T14:53:55.828Z"
   },
   {
    "duration": 220,
    "start_time": "2022-11-24T14:53:55.834Z"
   },
   {
    "duration": 129,
    "start_time": "2022-11-24T14:53:56.056Z"
   },
   {
    "duration": 10,
    "start_time": "2022-11-24T14:53:56.187Z"
   },
   {
    "duration": 160,
    "start_time": "2022-11-24T14:53:56.199Z"
   },
   {
    "duration": 9,
    "start_time": "2022-11-24T14:53:56.361Z"
   },
   {
    "duration": 492,
    "start_time": "2022-11-24T14:54:37.469Z"
   },
   {
    "duration": 635,
    "start_time": "2022-11-24T14:55:04.822Z"
   },
   {
    "duration": 205,
    "start_time": "2022-11-24T14:55:46.470Z"
   },
   {
    "duration": 225,
    "start_time": "2022-11-24T14:56:40.225Z"
   },
   {
    "duration": 259,
    "start_time": "2022-11-24T15:00:42.366Z"
   },
   {
    "duration": 258,
    "start_time": "2022-11-24T15:00:50.294Z"
   },
   {
    "duration": 279,
    "start_time": "2022-11-24T15:01:02.167Z"
   },
   {
    "duration": 240,
    "start_time": "2022-11-24T15:01:19.238Z"
   },
   {
    "duration": 273,
    "start_time": "2022-11-24T15:01:30.449Z"
   },
   {
    "duration": 297,
    "start_time": "2022-11-24T15:01:46.203Z"
   },
   {
    "duration": 303,
    "start_time": "2022-11-24T15:12:34.886Z"
   },
   {
    "duration": 356,
    "start_time": "2022-11-24T15:12:42.694Z"
   },
   {
    "duration": 285,
    "start_time": "2022-11-24T15:12:52.945Z"
   },
   {
    "duration": 303,
    "start_time": "2022-11-24T15:13:06.060Z"
   },
   {
    "duration": 300,
    "start_time": "2022-11-24T15:14:37.563Z"
   },
   {
    "duration": 285,
    "start_time": "2022-11-24T15:14:58.021Z"
   },
   {
    "duration": 283,
    "start_time": "2022-11-24T15:16:11.348Z"
   },
   {
    "duration": 295,
    "start_time": "2022-11-24T15:16:28.374Z"
   },
   {
    "duration": 267,
    "start_time": "2022-11-24T15:22:04.121Z"
   },
   {
    "duration": 947,
    "start_time": "2022-11-24T15:59:22.443Z"
   },
   {
    "duration": 77,
    "start_time": "2022-11-24T15:59:23.392Z"
   },
   {
    "duration": 2,
    "start_time": "2022-11-24T15:59:23.470Z"
   },
   {
    "duration": 11,
    "start_time": "2022-11-24T15:59:23.474Z"
   },
   {
    "duration": 8,
    "start_time": "2022-11-24T15:59:23.486Z"
   },
   {
    "duration": 59,
    "start_time": "2022-11-24T15:59:23.495Z"
   },
   {
    "duration": 3,
    "start_time": "2022-11-24T15:59:23.555Z"
   },
   {
    "duration": 10,
    "start_time": "2022-11-24T15:59:23.559Z"
   },
   {
    "duration": 150,
    "start_time": "2022-11-24T15:59:23.570Z"
   },
   {
    "duration": 112,
    "start_time": "2022-11-24T15:59:23.722Z"
   },
   {
    "duration": 8,
    "start_time": "2022-11-24T15:59:23.836Z"
   },
   {
    "duration": 11,
    "start_time": "2022-11-24T15:59:23.846Z"
   },
   {
    "duration": 328,
    "start_time": "2022-11-24T15:59:23.858Z"
   },
   {
    "duration": 293,
    "start_time": "2022-11-24T15:59:24.187Z"
   },
   {
    "duration": 447,
    "start_time": "2022-11-24T15:59:24.482Z"
   },
   {
    "duration": 348,
    "start_time": "2022-11-24T15:59:24.930Z"
   },
   {
    "duration": 305,
    "start_time": "2022-11-24T15:59:25.279Z"
   },
   {
    "duration": 181,
    "start_time": "2022-11-24T15:59:25.586Z"
   },
   {
    "duration": 4,
    "start_time": "2022-11-24T15:59:25.769Z"
   },
   {
    "duration": 203,
    "start_time": "2022-11-24T15:59:25.774Z"
   },
   {
    "duration": 4,
    "start_time": "2022-11-24T15:59:25.979Z"
   },
   {
    "duration": 232,
    "start_time": "2022-11-24T15:59:25.984Z"
   },
   {
    "duration": 123,
    "start_time": "2022-11-24T15:59:26.218Z"
   },
   {
    "duration": 6,
    "start_time": "2022-11-24T15:59:26.342Z"
   },
   {
    "duration": 141,
    "start_time": "2022-11-24T15:59:26.350Z"
   },
   {
    "duration": 13,
    "start_time": "2022-11-24T15:59:26.492Z"
   },
   {
    "duration": 483,
    "start_time": "2022-11-24T16:01:05.128Z"
   },
   {
    "duration": 192,
    "start_time": "2022-11-24T16:01:36.300Z"
   },
   {
    "duration": 226,
    "start_time": "2022-11-24T16:01:49.540Z"
   },
   {
    "duration": 205,
    "start_time": "2022-11-24T16:02:53.515Z"
   },
   {
    "duration": 149,
    "start_time": "2022-11-24T16:03:34.941Z"
   },
   {
    "duration": 274,
    "start_time": "2022-11-24T16:05:17.717Z"
   },
   {
    "duration": 497,
    "start_time": "2022-11-24T16:05:40.004Z"
   },
   {
    "duration": 988,
    "start_time": "2022-11-24T16:05:48.003Z"
   },
   {
    "duration": 86,
    "start_time": "2022-11-24T16:05:48.993Z"
   },
   {
    "duration": 4,
    "start_time": "2022-11-24T16:05:49.081Z"
   },
   {
    "duration": 39,
    "start_time": "2022-11-24T16:05:49.087Z"
   },
   {
    "duration": 24,
    "start_time": "2022-11-24T16:05:49.128Z"
   },
   {
    "duration": 87,
    "start_time": "2022-11-24T16:05:49.154Z"
   },
   {
    "duration": 4,
    "start_time": "2022-11-24T16:05:49.243Z"
   },
   {
    "duration": 33,
    "start_time": "2022-11-24T16:05:49.249Z"
   },
   {
    "duration": 176,
    "start_time": "2022-11-24T16:05:49.284Z"
   },
   {
    "duration": 118,
    "start_time": "2022-11-24T16:05:49.462Z"
   },
   {
    "duration": 18,
    "start_time": "2022-11-24T16:05:49.582Z"
   },
   {
    "duration": 21,
    "start_time": "2022-11-24T16:05:49.602Z"
   },
   {
    "duration": 316,
    "start_time": "2022-11-24T16:05:49.625Z"
   },
   {
    "duration": 325,
    "start_time": "2022-11-24T16:05:49.943Z"
   },
   {
    "duration": 462,
    "start_time": "2022-11-24T16:05:50.270Z"
   },
   {
    "duration": 352,
    "start_time": "2022-11-24T16:05:50.734Z"
   },
   {
    "duration": 310,
    "start_time": "2022-11-24T16:05:51.088Z"
   },
   {
    "duration": 152,
    "start_time": "2022-11-24T16:05:51.400Z"
   },
   {
    "duration": 5,
    "start_time": "2022-11-24T16:05:51.553Z"
   },
   {
    "duration": 169,
    "start_time": "2022-11-24T16:05:51.559Z"
   },
   {
    "duration": 4,
    "start_time": "2022-11-24T16:05:51.730Z"
   },
   {
    "duration": 298,
    "start_time": "2022-11-24T16:05:51.736Z"
   },
   {
    "duration": 0,
    "start_time": "2022-11-24T16:05:52.036Z"
   },
   {
    "duration": 0,
    "start_time": "2022-11-24T16:05:52.037Z"
   },
   {
    "duration": 0,
    "start_time": "2022-11-24T16:05:52.038Z"
   },
   {
    "duration": 0,
    "start_time": "2022-11-24T16:05:52.039Z"
   },
   {
    "duration": 161,
    "start_time": "2022-11-24T16:06:43.117Z"
   },
   {
    "duration": 196,
    "start_time": "2022-11-24T16:06:56.975Z"
   },
   {
    "duration": 224,
    "start_time": "2022-11-24T16:07:06.932Z"
   },
   {
    "duration": 141,
    "start_time": "2022-11-24T16:08:08.331Z"
   },
   {
    "duration": 220,
    "start_time": "2022-11-24T16:08:24.493Z"
   },
   {
    "duration": 194,
    "start_time": "2022-11-24T16:08:38.188Z"
   },
   {
    "duration": 1046,
    "start_time": "2022-11-24T17:51:48.576Z"
   },
   {
    "duration": 76,
    "start_time": "2022-11-24T17:51:49.625Z"
   },
   {
    "duration": 3,
    "start_time": "2022-11-24T17:51:49.703Z"
   },
   {
    "duration": 10,
    "start_time": "2022-11-24T17:51:49.708Z"
   },
   {
    "duration": 7,
    "start_time": "2022-11-24T17:51:49.721Z"
   },
   {
    "duration": 62,
    "start_time": "2022-11-24T17:51:49.730Z"
   },
   {
    "duration": 4,
    "start_time": "2022-11-24T17:51:49.793Z"
   },
   {
    "duration": 9,
    "start_time": "2022-11-24T17:51:49.798Z"
   },
   {
    "duration": 155,
    "start_time": "2022-11-24T17:51:49.809Z"
   },
   {
    "duration": 117,
    "start_time": "2022-11-24T17:51:49.966Z"
   },
   {
    "duration": 19,
    "start_time": "2022-11-24T17:51:50.086Z"
   },
   {
    "duration": 13,
    "start_time": "2022-11-24T17:51:50.107Z"
   },
   {
    "duration": 339,
    "start_time": "2022-11-24T17:51:50.121Z"
   },
   {
    "duration": 291,
    "start_time": "2022-11-24T17:51:50.462Z"
   },
   {
    "duration": 372,
    "start_time": "2022-11-24T17:51:50.755Z"
   },
   {
    "duration": 313,
    "start_time": "2022-11-24T17:51:51.129Z"
   },
   {
    "duration": 362,
    "start_time": "2022-11-24T17:51:51.444Z"
   },
   {
    "duration": 163,
    "start_time": "2022-11-24T17:51:51.808Z"
   },
   {
    "duration": 5,
    "start_time": "2022-11-24T17:51:51.973Z"
   },
   {
    "duration": 176,
    "start_time": "2022-11-24T17:51:51.979Z"
   },
   {
    "duration": 4,
    "start_time": "2022-11-24T17:51:52.157Z"
   },
   {
    "duration": 198,
    "start_time": "2022-11-24T17:51:52.163Z"
   },
   {
    "duration": 125,
    "start_time": "2022-11-24T17:51:52.363Z"
   },
   {
    "duration": 5,
    "start_time": "2022-11-24T17:51:52.497Z"
   },
   {
    "duration": 146,
    "start_time": "2022-11-24T17:51:52.504Z"
   },
   {
    "duration": 8,
    "start_time": "2022-11-24T17:51:52.652Z"
   },
   {
    "duration": 178,
    "start_time": "2022-11-24T18:03:30.179Z"
   },
   {
    "duration": 156,
    "start_time": "2022-11-24T18:03:49.746Z"
   },
   {
    "duration": 5,
    "start_time": "2022-11-24T18:12:48.219Z"
   },
   {
    "duration": 165,
    "start_time": "2022-11-24T18:12:51.963Z"
   },
   {
    "duration": 117,
    "start_time": "2022-11-24T18:43:16.634Z"
   },
   {
    "duration": 258,
    "start_time": "2022-11-24T18:43:18.596Z"
   },
   {
    "duration": 6,
    "start_time": "2022-11-24T18:43:25.010Z"
   },
   {
    "duration": 132,
    "start_time": "2022-11-24T18:43:26.718Z"
   },
   {
    "duration": 10,
    "start_time": "2022-11-24T18:43:29.480Z"
   },
   {
    "duration": 49,
    "start_time": "2022-11-26T13:00:54.896Z"
   },
   {
    "duration": 1246,
    "start_time": "2022-11-26T13:01:18.702Z"
   },
   {
    "duration": 128,
    "start_time": "2022-11-26T13:01:19.951Z"
   },
   {
    "duration": 3,
    "start_time": "2022-11-26T13:01:20.080Z"
   },
   {
    "duration": 32,
    "start_time": "2022-11-26T13:01:20.086Z"
   },
   {
    "duration": 27,
    "start_time": "2022-11-26T13:01:20.120Z"
   },
   {
    "duration": 144,
    "start_time": "2022-11-26T13:01:20.149Z"
   },
   {
    "duration": 4,
    "start_time": "2022-11-26T13:01:20.295Z"
   },
   {
    "duration": 32,
    "start_time": "2022-11-26T13:01:20.300Z"
   },
   {
    "duration": 177,
    "start_time": "2022-11-26T13:01:20.334Z"
   },
   {
    "duration": 125,
    "start_time": "2022-11-26T13:01:20.515Z"
   },
   {
    "duration": 10,
    "start_time": "2022-11-26T13:01:20.641Z"
   },
   {
    "duration": 16,
    "start_time": "2022-11-26T13:01:20.652Z"
   },
   {
    "duration": 369,
    "start_time": "2022-11-26T13:01:20.669Z"
   },
   {
    "duration": 328,
    "start_time": "2022-11-26T13:01:21.041Z"
   },
   {
    "duration": 473,
    "start_time": "2022-11-26T13:01:21.371Z"
   },
   {
    "duration": 367,
    "start_time": "2022-11-26T13:01:21.846Z"
   },
   {
    "duration": 421,
    "start_time": "2022-11-26T13:01:22.216Z"
   },
   {
    "duration": 175,
    "start_time": "2022-11-26T13:01:22.639Z"
   },
   {
    "duration": 4,
    "start_time": "2022-11-26T13:01:22.816Z"
   },
   {
    "duration": 206,
    "start_time": "2022-11-26T13:01:22.822Z"
   },
   {
    "duration": 5,
    "start_time": "2022-11-26T13:01:23.030Z"
   },
   {
    "duration": 223,
    "start_time": "2022-11-26T13:01:23.037Z"
   },
   {
    "duration": 144,
    "start_time": "2022-11-26T13:01:23.262Z"
   },
   {
    "duration": 5,
    "start_time": "2022-11-26T13:01:23.408Z"
   },
   {
    "duration": 168,
    "start_time": "2022-11-26T13:01:23.415Z"
   },
   {
    "duration": 17,
    "start_time": "2022-11-26T13:01:23.585Z"
   },
   {
    "duration": 978,
    "start_time": "2022-11-26T13:24:13.285Z"
   },
   {
    "duration": 10,
    "start_time": "2022-11-26T13:24:37.715Z"
   },
   {
    "duration": 11,
    "start_time": "2022-11-26T13:30:45.130Z"
   },
   {
    "duration": 22,
    "start_time": "2022-11-26T13:30:50.610Z"
   },
   {
    "duration": 15,
    "start_time": "2022-11-26T13:31:18.857Z"
   },
   {
    "duration": 10,
    "start_time": "2022-11-26T14:06:33.781Z"
   },
   {
    "duration": 8,
    "start_time": "2022-11-26T14:06:38.462Z"
   },
   {
    "duration": 23,
    "start_time": "2022-11-26T14:06:44.851Z"
   },
   {
    "duration": 16,
    "start_time": "2022-11-26T14:07:49.450Z"
   },
   {
    "duration": 47,
    "start_time": "2022-11-27T12:20:31.262Z"
   },
   {
    "duration": 1166,
    "start_time": "2022-11-27T12:20:41.700Z"
   },
   {
    "duration": 138,
    "start_time": "2022-11-27T12:20:42.868Z"
   },
   {
    "duration": 3,
    "start_time": "2022-11-27T12:20:43.008Z"
   },
   {
    "duration": 22,
    "start_time": "2022-11-27T12:20:43.012Z"
   },
   {
    "duration": 8,
    "start_time": "2022-11-27T12:20:43.036Z"
   },
   {
    "duration": 133,
    "start_time": "2022-11-27T12:20:43.046Z"
   },
   {
    "duration": 4,
    "start_time": "2022-11-27T12:20:43.180Z"
   },
   {
    "duration": 16,
    "start_time": "2022-11-27T12:20:43.185Z"
   },
   {
    "duration": 151,
    "start_time": "2022-11-27T12:20:43.203Z"
   },
   {
    "duration": 118,
    "start_time": "2022-11-27T12:20:43.356Z"
   },
   {
    "duration": 8,
    "start_time": "2022-11-27T12:20:43.475Z"
   },
   {
    "duration": 11,
    "start_time": "2022-11-27T12:20:43.485Z"
   },
   {
    "duration": 311,
    "start_time": "2022-11-27T12:20:43.497Z"
   },
   {
    "duration": 286,
    "start_time": "2022-11-27T12:20:43.809Z"
   },
   {
    "duration": 429,
    "start_time": "2022-11-27T12:20:44.096Z"
   },
   {
    "duration": 380,
    "start_time": "2022-11-27T12:20:44.527Z"
   },
   {
    "duration": 447,
    "start_time": "2022-11-27T12:20:44.909Z"
   },
   {
    "duration": 199,
    "start_time": "2022-11-27T12:20:45.358Z"
   },
   {
    "duration": 6,
    "start_time": "2022-11-27T12:20:45.559Z"
   },
   {
    "duration": 189,
    "start_time": "2022-11-27T12:20:45.567Z"
   },
   {
    "duration": 4,
    "start_time": "2022-11-27T12:20:45.758Z"
   },
   {
    "duration": 208,
    "start_time": "2022-11-27T12:20:45.764Z"
   },
   {
    "duration": 142,
    "start_time": "2022-11-27T12:20:45.974Z"
   },
   {
    "duration": 5,
    "start_time": "2022-11-27T12:20:46.118Z"
   },
   {
    "duration": 157,
    "start_time": "2022-11-27T12:20:46.125Z"
   },
   {
    "duration": 9,
    "start_time": "2022-11-27T12:20:46.284Z"
   },
   {
    "duration": 9,
    "start_time": "2022-11-27T12:20:46.295Z"
   },
   {
    "duration": 8,
    "start_time": "2022-11-27T12:20:46.307Z"
   },
   {
    "duration": 41,
    "start_time": "2022-11-27T12:20:46.317Z"
   },
   {
    "duration": 14,
    "start_time": "2022-11-27T12:20:46.360Z"
   },
   {
    "duration": 33,
    "start_time": "2022-11-27T12:22:17.468Z"
   },
   {
    "duration": 72,
    "start_time": "2022-11-27T12:22:54.902Z"
   },
   {
    "duration": 1252,
    "start_time": "2022-11-27T12:23:44.407Z"
   },
   {
    "duration": 1085,
    "start_time": "2022-11-27T12:24:41.917Z"
   },
   {
    "duration": 1111,
    "start_time": "2022-11-27T12:24:58.061Z"
   },
   {
    "duration": 3,
    "start_time": "2022-11-27T12:25:37.527Z"
   },
   {
    "duration": 30,
    "start_time": "2022-11-27T12:25:38.392Z"
   },
   {
    "duration": 3,
    "start_time": "2022-11-27T12:25:41.348Z"
   },
   {
    "duration": 9,
    "start_time": "2022-11-27T12:25:45.077Z"
   },
   {
    "duration": 9,
    "start_time": "2022-11-27T12:26:36.520Z"
   },
   {
    "duration": 64,
    "start_time": "2022-11-27T12:26:51.014Z"
   },
   {
    "duration": 127,
    "start_time": "2022-11-27T12:29:57.498Z"
   },
   {
    "duration": 2490,
    "start_time": "2022-11-27T13:35:05.018Z"
   },
   {
    "duration": 1041,
    "start_time": "2022-11-27T13:35:26.921Z"
   },
   {
    "duration": 62,
    "start_time": "2022-11-27T13:35:27.963Z"
   },
   {
    "duration": 6,
    "start_time": "2022-11-27T13:35:28.026Z"
   },
   {
    "duration": 21,
    "start_time": "2022-11-27T13:35:28.033Z"
   },
   {
    "duration": 9,
    "start_time": "2022-11-27T13:35:28.055Z"
   },
   {
    "duration": 58,
    "start_time": "2022-11-27T13:35:28.065Z"
   },
   {
    "duration": 3,
    "start_time": "2022-11-27T13:35:28.125Z"
   },
   {
    "duration": 8,
    "start_time": "2022-11-27T13:35:28.129Z"
   },
   {
    "duration": 150,
    "start_time": "2022-11-27T13:35:28.138Z"
   },
   {
    "duration": 119,
    "start_time": "2022-11-27T13:35:28.290Z"
   },
   {
    "duration": 9,
    "start_time": "2022-11-27T13:35:28.411Z"
   },
   {
    "duration": 13,
    "start_time": "2022-11-27T13:35:28.421Z"
   },
   {
    "duration": 323,
    "start_time": "2022-11-27T13:35:28.436Z"
   },
   {
    "duration": 296,
    "start_time": "2022-11-27T13:35:28.761Z"
   },
   {
    "duration": 384,
    "start_time": "2022-11-27T13:35:29.058Z"
   },
   {
    "duration": 328,
    "start_time": "2022-11-27T13:35:29.443Z"
   },
   {
    "duration": 391,
    "start_time": "2022-11-27T13:35:29.772Z"
   },
   {
    "duration": 164,
    "start_time": "2022-11-27T13:35:30.164Z"
   },
   {
    "duration": 4,
    "start_time": "2022-11-27T13:35:30.330Z"
   },
   {
    "duration": 186,
    "start_time": "2022-11-27T13:35:30.336Z"
   },
   {
    "duration": 4,
    "start_time": "2022-11-27T13:35:30.524Z"
   },
   {
    "duration": 200,
    "start_time": "2022-11-27T13:35:30.530Z"
   },
   {
    "duration": 126,
    "start_time": "2022-11-27T13:35:30.732Z"
   },
   {
    "duration": 5,
    "start_time": "2022-11-27T13:35:30.860Z"
   },
   {
    "duration": 164,
    "start_time": "2022-11-27T13:35:30.867Z"
   },
   {
    "duration": 9,
    "start_time": "2022-11-27T13:35:31.033Z"
   },
   {
    "duration": 10,
    "start_time": "2022-11-27T13:35:31.052Z"
   },
   {
    "duration": 8,
    "start_time": "2022-11-27T13:35:31.065Z"
   },
   {
    "duration": 26,
    "start_time": "2022-11-27T13:35:31.075Z"
   },
   {
    "duration": 12,
    "start_time": "2022-11-27T13:35:31.103Z"
   },
   {
    "duration": 139,
    "start_time": "2022-11-27T13:37:36.170Z"
   },
   {
    "duration": 10,
    "start_time": "2022-11-27T13:38:03.169Z"
   },
   {
    "duration": 68,
    "start_time": "2022-11-27T13:39:26.838Z"
   },
   {
    "duration": 57,
    "start_time": "2022-11-27T16:32:56.627Z"
   },
   {
    "duration": 1305,
    "start_time": "2022-11-27T16:33:04.580Z"
   },
   {
    "duration": 145,
    "start_time": "2022-11-27T16:33:05.887Z"
   },
   {
    "duration": 4,
    "start_time": "2022-11-27T16:33:06.034Z"
   },
   {
    "duration": 18,
    "start_time": "2022-11-27T16:33:06.040Z"
   },
   {
    "duration": 10,
    "start_time": "2022-11-27T16:33:06.061Z"
   },
   {
    "duration": 140,
    "start_time": "2022-11-27T16:33:06.073Z"
   },
   {
    "duration": 3,
    "start_time": "2022-11-27T16:33:06.215Z"
   },
   {
    "duration": 11,
    "start_time": "2022-11-27T16:33:06.220Z"
   },
   {
    "duration": 176,
    "start_time": "2022-11-27T16:33:06.233Z"
   },
   {
    "duration": 125,
    "start_time": "2022-11-27T16:33:06.412Z"
   },
   {
    "duration": 22,
    "start_time": "2022-11-27T16:33:06.538Z"
   },
   {
    "duration": 20,
    "start_time": "2022-11-27T16:33:06.562Z"
   },
   {
    "duration": 355,
    "start_time": "2022-11-27T16:33:06.584Z"
   },
   {
    "duration": 323,
    "start_time": "2022-11-27T16:33:06.940Z"
   },
   {
    "duration": 492,
    "start_time": "2022-11-27T16:33:07.264Z"
   },
   {
    "duration": 429,
    "start_time": "2022-11-27T16:33:07.758Z"
   },
   {
    "duration": 431,
    "start_time": "2022-11-27T16:33:08.189Z"
   },
   {
    "duration": 191,
    "start_time": "2022-11-27T16:33:08.621Z"
   },
   {
    "duration": 4,
    "start_time": "2022-11-27T16:33:08.814Z"
   },
   {
    "duration": 207,
    "start_time": "2022-11-27T16:33:08.819Z"
   },
   {
    "duration": 4,
    "start_time": "2022-11-27T16:33:09.028Z"
   },
   {
    "duration": 233,
    "start_time": "2022-11-27T16:33:09.033Z"
   },
   {
    "duration": 157,
    "start_time": "2022-11-27T16:33:09.269Z"
   },
   {
    "duration": 6,
    "start_time": "2022-11-27T16:33:09.428Z"
   },
   {
    "duration": 197,
    "start_time": "2022-11-27T16:33:09.435Z"
   },
   {
    "duration": 18,
    "start_time": "2022-11-27T16:33:09.634Z"
   },
   {
    "duration": 15,
    "start_time": "2022-11-27T16:33:09.655Z"
   },
   {
    "duration": 12,
    "start_time": "2022-11-27T16:33:09.674Z"
   },
   {
    "duration": 28,
    "start_time": "2022-11-27T16:33:09.688Z"
   },
   {
    "duration": 48,
    "start_time": "2022-11-27T16:33:09.718Z"
   },
   {
    "duration": 14,
    "start_time": "2022-11-27T16:49:48.226Z"
   },
   {
    "duration": 69,
    "start_time": "2022-11-27T16:52:47.334Z"
   },
   {
    "duration": 429,
    "start_time": "2022-11-27T16:59:20.223Z"
   },
   {
    "duration": 345,
    "start_time": "2022-11-27T16:59:34.066Z"
   },
   {
    "duration": 13,
    "start_time": "2022-11-27T16:59:57.197Z"
   },
   {
    "duration": 444,
    "start_time": "2022-11-27T17:02:44.427Z"
   },
   {
    "duration": 318,
    "start_time": "2022-11-27T17:05:06.896Z"
   },
   {
    "duration": 386,
    "start_time": "2022-11-27T17:09:25.502Z"
   },
   {
    "duration": 503,
    "start_time": "2022-11-27T17:09:45.346Z"
   },
   {
    "duration": 332,
    "start_time": "2022-11-27T17:11:19.308Z"
   },
   {
    "duration": 491,
    "start_time": "2022-11-27T17:12:31.416Z"
   },
   {
    "duration": 190,
    "start_time": "2022-11-27T17:14:17.939Z"
   },
   {
    "duration": 249,
    "start_time": "2022-11-27T17:15:16.854Z"
   },
   {
    "duration": 181,
    "start_time": "2022-11-27T17:15:39.476Z"
   },
   {
    "duration": 7,
    "start_time": "2022-11-27T17:28:43.202Z"
   },
   {
    "duration": 6,
    "start_time": "2022-11-27T17:29:05.586Z"
   },
   {
    "duration": 26,
    "start_time": "2022-11-27T17:29:09.946Z"
   },
   {
    "duration": 386,
    "start_time": "2022-11-27T17:53:32.199Z"
   },
   {
    "duration": 329,
    "start_time": "2022-11-27T17:53:49.527Z"
   },
   {
    "duration": 391,
    "start_time": "2022-11-27T17:54:06.359Z"
   },
   {
    "duration": 321,
    "start_time": "2022-11-27T17:54:23.560Z"
   },
   {
    "duration": 417,
    "start_time": "2022-11-27T17:54:41.561Z"
   },
   {
    "duration": 351,
    "start_time": "2022-11-27T17:54:52.761Z"
   },
   {
    "duration": 447,
    "start_time": "2022-11-27T17:55:14.248Z"
   },
   {
    "duration": 23,
    "start_time": "2022-11-27T18:03:58.284Z"
   },
   {
    "duration": 10,
    "start_time": "2022-11-27T18:05:37.254Z"
   },
   {
    "duration": 27,
    "start_time": "2022-11-27T18:10:13.303Z"
   },
   {
    "duration": 29,
    "start_time": "2022-11-27T18:18:56.067Z"
   },
   {
    "duration": 20,
    "start_time": "2022-11-27T18:25:32.285Z"
   }
  ],
  "kernelspec": {
   "display_name": "Python 3 (ipykernel)",
   "language": "python",
   "name": "python3"
  },
  "language_info": {
   "codemirror_mode": {
    "name": "ipython",
    "version": 3
   },
   "file_extension": ".py",
   "mimetype": "text/x-python",
   "name": "python",
   "nbconvert_exporter": "python",
   "pygments_lexer": "ipython3",
   "version": "3.9.13"
  },
  "toc": {
   "base_numbering": 1,
   "nav_menu": {},
   "number_sections": true,
   "sideBar": true,
   "skip_h1_title": true,
   "title_cell": "Table of Contents",
   "title_sidebar": "Contents",
   "toc_cell": false,
   "toc_position": {},
   "toc_section_display": true,
   "toc_window_display": false
  }
 },
 "nbformat": 4,
 "nbformat_minor": 2
}
